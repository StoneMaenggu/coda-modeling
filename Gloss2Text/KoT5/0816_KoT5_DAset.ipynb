{
  "cells": [
    {
      "cell_type": "markdown",
      "metadata": {
        "id": "N5_Fu4UyoO-Y"
      },
      "source": [
        "# KoT5-Base Basline Train - 4K\n",
        "- GKSL 4K\n",
        "- 모듈에서 불러오는 모델 적용\n",
        "\n",
        "https://github.com/paust-team/pko-t5"
      ]
    },
    {
      "cell_type": "markdown",
      "metadata": {
        "id": "-ryfD3YEGjdb"
      },
      "source": [
        "## 0. 라이브러리 및 데이터 불러오기"
      ]
    },
    {
      "cell_type": "code",
      "execution_count": 1,
      "metadata": {
        "id": "Jy7Ha3i5msBr"
      },
      "outputs": [],
      "source": [
        "import numpy as np\n",
        "import pandas as pd\n",
        "from torch.utils.data import Dataset, DataLoader\n",
        "import torch\n",
        "import torch.optim as optim"
      ]
    },
    {
      "cell_type": "code",
      "execution_count": 2,
      "metadata": {},
      "outputs": [],
      "source": [
        "if torch.cuda.is_available():\n",
        "    device = torch.device(\"cuda:0\")\n",
        "else:\n",
        "    device = torch.device('cpu')"
      ]
    },
    {
      "cell_type": "code",
      "execution_count": 3,
      "metadata": {
        "colab": {
          "base_uri": "https://localhost:8080/",
          "height": 317,
          "referenced_widgets": [
            "072b4fd9c8984f2b8835da10d683f967",
            "ddb8e7d4b2944055a123c4992633da93",
            "d95a8fec45d941a28f2ed3a864a7e747",
            "86947b0ef9c14c5296d1dca5acf4e106",
            "6206b5ce282f45b1bad6d6d5173ca894",
            "ca4a4879b3bf4f2bbed87cd5719ed2bd",
            "87208424c82640b38b1b42ad2e752be2",
            "4942d72f0e134a738bcbf85a03f96a5d",
            "fe84f9e528744db79914f1bf86334df0",
            "b92e0ed2d17745b9afc25b9b98fdf0e2",
            "82a48156c2fd40919be523de6d8595c8",
            "3ffc13b075ff413186bb8d06c2135024",
            "0c5d95907ad5475aa7b658f4bee8d6aa",
            "06aa5c90d2164b6f92d27f143900909f",
            "9522096ee9ed49c0a687a4bb493d303f",
            "dac7cec9b1e0468aa2cfb29427cc5f30",
            "f9eb6ac474964a2fbaff34b49b85af2f",
            "4763f891b4e54d10a15952cb6a1780ad",
            "6e22a6e479bc4ad5a2268876fd73115e",
            "4c85793d9574486ea87525d5eaed52c2",
            "47e644bbebc24d1daf1c1a2e5f71aa81",
            "3312fe08dfd140cab272d04d17cd7d80",
            "34975276bfe34b4e9e6b381ce12a8654",
            "abb958f3b9eb48aaa474e9bce7c6dce9",
            "bb7f4af21e0d4e85bd82651f9b7e1dbf",
            "72d4773f25704617806d9a5a4e8d90a2",
            "505c1cc538a349c0a72b9b965ef8c6bb",
            "83be7ac233d74d22b1498a1aa29bca44",
            "e55d42244e6243d592ac9483f42bcfa0",
            "580f32fbfc5d44f0995ff6a9db07ba32",
            "86e1d17b8459463c959c172dc11a9b12",
            "b5b58f39035940259ea3dd8b0b87d4ad",
            "583f1f462f1b4fdd80fe7dfe18df8d94",
            "882a4cf1356847d2b6ff50fbef243604",
            "cdea6c7699dd43c2bf87daa90fcc4728",
            "6aff1070c33f4816809a2c084b5a4611",
            "9c2ba9a442b34f5d89506aba2f12b4b8",
            "2a6c739714f246a7a547494df8b5115c",
            "2582e3f3f3bc49a2bafea5af68ebf81c",
            "fd6bd8edd5e946608955ef0900234dc3",
            "2eddfc790fb04290858044a2c9c658b9",
            "cc1010ee239047019dc7e17d0ddcac5c",
            "907465f8a3b44857bd454d23444c038e",
            "090c1cd0d7a146e0a1ff704deb8585fb",
            "9a8ffd4a1e6947eb8f83ffb58e7bcd5e",
            "e2a3f75817a249969ec071f3515bdf45",
            "0d873fce21914e0fbe0a35876fc8a363",
            "580d97baecfd4c528d20a45d3ba9852e",
            "1d8d6ee43a71443cb821eb846228f277",
            "4d02e22bb37f420fbcad7c3829da17e0",
            "7acb34ddf7354aa984698bc65c90ca3a",
            "f898c0248c534b9b8b43429e3ca9b3e2",
            "4401a8e311934e85a65c1c010aa93af1",
            "fddbfc997182457fbdbbce919408248c",
            "b7dded3df8c541a6924c8fb4b0105964",
            "349419dbb344484cbaa442d2d47c6f17",
            "75dceb963c574211b6651eb724912b16",
            "97d427efb630486ab1d86857757824b1",
            "094d79d85fc0479b88a64e875974e5a4",
            "c9bf5fc6f5a642d7b68bea75ad6775a2",
            "aa8af1d1710d46e184c52c75119e637f",
            "74e0f030c1134310a59e0fbdc4999602",
            "7ae9f61ef06d47b5ae51c989f3f89251",
            "0bc26163081a4369896c96394785a4b5",
            "591a6287591145478f96c4ca1e58ccd6",
            "4222ef32ca26439b90baaf44776ffb34"
          ]
        },
        "id": "XeZu4hU42nzQ",
        "outputId": "6e20dedb-901c-4e1a-824b-b7b259961c5b"
      },
      "outputs": [
        {
          "name": "stderr",
          "output_type": "stream",
          "text": [
            "/home/stonemaeng/anaconda3/envs/g2t/lib/python3.12/site-packages/tqdm/auto.py:21: TqdmWarning: IProgress not found. Please update jupyter and ipywidgets. See https://ipywidgets.readthedocs.io/en/stable/user_install.html\n",
            "  from .autonotebook import tqdm as notebook_tqdm\n",
            "/home/stonemaeng/anaconda3/envs/g2t/lib/python3.12/site-packages/huggingface_hub/file_download.py:1150: FutureWarning: `resume_download` is deprecated and will be removed in version 1.0.0. Downloads always resume when possible. If you want to force a new download, use `force_download=True`.\n",
            "  warnings.warn(\n"
          ]
        }
      ],
      "source": [
        "from transformers import T5ForConditionalGeneration, T5TokenizerFast\n",
        "\n",
        "# KoT5 모델과 토크나이저 로드\n",
        "model_name = 'paust/pko-t5-base'\n",
        "\n",
        "tokenizer = T5TokenizerFast.from_pretrained(model_name, force_download=True)\n",
        "model = T5ForConditionalGeneration.from_pretrained(model_name).to(device)"
      ]
    },
    {
      "cell_type": "code",
      "execution_count": 4,
      "metadata": {
        "colab": {
          "base_uri": "https://localhost:8080/"
        },
        "id": "kgM3uLHhlkiv",
        "outputId": "764e782d-c05e-4a65-e32f-ff2770ab494b"
      },
      "outputs": [
        {
          "name": "stdout",
          "output_type": "stream",
          "text": [
            "[985, 222, 3350, 222, 1293, 293, 222, 1759, 322, 2793, 1]\n"
          ]
        }
      ],
      "source": [
        "# 텍스트를 토큰화하여 입력 ID로 변환\n",
        "sentence = \"가장 가까운 위치로 검색해드리겠습니다\"\n",
        "encoded = tokenizer(sentence)\n",
        "input_ids = encoded[\"input_ids\"]\n",
        "print(input_ids)"
      ]
    },
    {
      "cell_type": "code",
      "execution_count": 5,
      "metadata": {
        "colab": {
          "base_uri": "https://localhost:8080/"
        },
        "id": "UEYorhZ3lpNe",
        "outputId": "5875214f-e110-44eb-ca9c-29b46183c1c5"
      },
      "outputs": [
        {
          "name": "stdout",
          "output_type": "stream",
          "text": [
            "Tokens: ['ê°Ģìŀ¥', 'Ġ', 'ê°Ģê¹Įìļ´', 'Ġ', 'ìľĦì¹ĺ', 'ë¡ľ', 'Ġ', 'ê²Ģìĥī', 'íķ´', 'ëĵľë¦¬ê²łìĬµëĭĪëĭ¤', '</s>']\n"
          ]
        }
      ],
      "source": [
        "# 만약 개별 토큰을 보고 싶다면, 이 경우에는 바이트로 처리되기 때문에 결과가 깨질 수 있음\n",
        "tokens = tokenizer.convert_ids_to_tokens(input_ids)\n",
        "print(\"Tokens:\", tokens)"
      ]
    },
    {
      "cell_type": "code",
      "execution_count": 6,
      "metadata": {
        "colab": {
          "base_uri": "https://localhost:8080/"
        },
        "id": "8OEo11vJlpIe",
        "outputId": "29bb3f41-2737-4fd9-cd2d-46ecee714bb5"
      },
      "outputs": [
        {
          "name": "stdout",
          "output_type": "stream",
          "text": [
            "Individual Decoded Tokens: ['가장', ' ', '가까운', ' ', '위치', '로', ' ', '검색', '해', '드리겠습니다', '</s>']\n"
          ]
        }
      ],
      "source": [
        "# 각 ID를 디코딩하여 개별 토큰이 어떤 텍스트를 나타내는지 확인\n",
        "individual_decoded_tokens = [tokenizer.decode([id]) for id in input_ids]\n",
        "print(\"Individual Decoded Tokens:\", individual_decoded_tokens)"
      ]
    },
    {
      "cell_type": "code",
      "execution_count": 7,
      "metadata": {
        "colab": {
          "base_uri": "https://localhost:8080/",
          "height": 36
        },
        "id": "rJ2DAjwxmX0W",
        "outputId": "6a7a4813-92c9-41e0-b048-a49f8596a44d"
      },
      "outputs": [
        {
          "data": {
            "text/plain": [
              "'가장 가까운 위치로 검색해드리겠습니다'"
            ]
          },
          "execution_count": 7,
          "metadata": {},
          "output_type": "execute_result"
        }
      ],
      "source": [
        "tokenizer.decode(encoded['input_ids'], skip_special_tokens=True)"
      ]
    },
    {
      "cell_type": "markdown",
      "metadata": {
        "id": "xneJf8ToiUUw"
      },
      "source": [
        "**한글깨짐 문제 **\n",
        "\n",
        "- 한글이 깨지는 것이 아니라, Byte-level BPE를 사용하여 text를 byte의 sequence로 처리하기에 다음과 같은 토큰들의 결과가 나오는 것\n",
        "- 해당 출력 토큰의 'input_ids' 값을 tokenizer.decode(string) 하면 해당 결과를 확인"
      ]
    },
    {
      "cell_type": "code",
      "execution_count": 8,
      "metadata": {
        "colab": {
          "base_uri": "https://localhost:8080/"
        },
        "id": "iyzFaKwlVA2p",
        "outputId": "6ccfca0a-69bf-4232-97a5-f53e75849d57"
      },
      "outputs": [
        {
          "data": {
            "text/plain": [
              "T5Config {\n",
              "  \"_name_or_path\": \"paust/pko-t5-base\",\n",
              "  \"architectures\": [\n",
              "    \"T5ForConditionalGeneration\"\n",
              "  ],\n",
              "  \"classifier_dropout\": 0.0,\n",
              "  \"d_ff\": 2048,\n",
              "  \"d_kv\": 64,\n",
              "  \"d_model\": 768,\n",
              "  \"decoder_start_token_id\": 0,\n",
              "  \"dense_act_fn\": \"gelu_new\",\n",
              "  \"dropout_rate\": 0.1,\n",
              "  \"eos_token_id\": 1,\n",
              "  \"feed_forward_proj\": \"gated-gelu\",\n",
              "  \"initializer_factor\": 1.0,\n",
              "  \"is_encoder_decoder\": true,\n",
              "  \"is_gated_act\": true,\n",
              "  \"layer_norm_epsilon\": 1e-06,\n",
              "  \"model_type\": \"t5\",\n",
              "  \"num_decoder_layers\": 12,\n",
              "  \"num_heads\": 12,\n",
              "  \"num_layers\": 12,\n",
              "  \"output_past\": true,\n",
              "  \"pad_token_id\": 0,\n",
              "  \"relative_attention_max_distance\": 128,\n",
              "  \"relative_attention_num_buckets\": 32,\n",
              "  \"tie_word_embeddings\": false,\n",
              "  \"torch_dtype\": \"float32\",\n",
              "  \"transformers_version\": \"4.38.2\",\n",
              "  \"use_cache\": true,\n",
              "  \"vocab_size\": 50358\n",
              "}"
            ]
          },
          "execution_count": 8,
          "metadata": {},
          "output_type": "execute_result"
        }
      ],
      "source": [
        "model.config"
      ]
    },
    {
      "cell_type": "code",
      "execution_count": 9,
      "metadata": {
        "colab": {
          "base_uri": "https://localhost:8080/"
        },
        "id": "zZwhrqvaVAve",
        "outputId": "0b9402f7-9c23-4424-ad7a-ecfc03f4e7e9"
      },
      "outputs": [
        {
          "data": {
            "text/plain": [
              "T5ForConditionalGeneration(\n",
              "  (shared): Embedding(50358, 768)\n",
              "  (encoder): T5Stack(\n",
              "    (embed_tokens): Embedding(50358, 768)\n",
              "    (block): ModuleList(\n",
              "      (0): T5Block(\n",
              "        (layer): ModuleList(\n",
              "          (0): T5LayerSelfAttention(\n",
              "            (SelfAttention): T5Attention(\n",
              "              (q): Linear(in_features=768, out_features=768, bias=False)\n",
              "              (k): Linear(in_features=768, out_features=768, bias=False)\n",
              "              (v): Linear(in_features=768, out_features=768, bias=False)\n",
              "              (o): Linear(in_features=768, out_features=768, bias=False)\n",
              "              (relative_attention_bias): Embedding(32, 12)\n",
              "            )\n",
              "            (layer_norm): T5LayerNorm()\n",
              "            (dropout): Dropout(p=0.1, inplace=False)\n",
              "          )\n",
              "          (1): T5LayerFF(\n",
              "            (DenseReluDense): T5DenseGatedActDense(\n",
              "              (wi_0): Linear(in_features=768, out_features=2048, bias=False)\n",
              "              (wi_1): Linear(in_features=768, out_features=2048, bias=False)\n",
              "              (wo): Linear(in_features=2048, out_features=768, bias=False)\n",
              "              (dropout): Dropout(p=0.1, inplace=False)\n",
              "              (act): NewGELUActivation()\n",
              "            )\n",
              "            (layer_norm): T5LayerNorm()\n",
              "            (dropout): Dropout(p=0.1, inplace=False)\n",
              "          )\n",
              "        )\n",
              "      )\n",
              "      (1-11): 11 x T5Block(\n",
              "        (layer): ModuleList(\n",
              "          (0): T5LayerSelfAttention(\n",
              "            (SelfAttention): T5Attention(\n",
              "              (q): Linear(in_features=768, out_features=768, bias=False)\n",
              "              (k): Linear(in_features=768, out_features=768, bias=False)\n",
              "              (v): Linear(in_features=768, out_features=768, bias=False)\n",
              "              (o): Linear(in_features=768, out_features=768, bias=False)\n",
              "            )\n",
              "            (layer_norm): T5LayerNorm()\n",
              "            (dropout): Dropout(p=0.1, inplace=False)\n",
              "          )\n",
              "          (1): T5LayerFF(\n",
              "            (DenseReluDense): T5DenseGatedActDense(\n",
              "              (wi_0): Linear(in_features=768, out_features=2048, bias=False)\n",
              "              (wi_1): Linear(in_features=768, out_features=2048, bias=False)\n",
              "              (wo): Linear(in_features=2048, out_features=768, bias=False)\n",
              "              (dropout): Dropout(p=0.1, inplace=False)\n",
              "              (act): NewGELUActivation()\n",
              "            )\n",
              "            (layer_norm): T5LayerNorm()\n",
              "            (dropout): Dropout(p=0.1, inplace=False)\n",
              "          )\n",
              "        )\n",
              "      )\n",
              "    )\n",
              "    (final_layer_norm): T5LayerNorm()\n",
              "    (dropout): Dropout(p=0.1, inplace=False)\n",
              "  )\n",
              "  (decoder): T5Stack(\n",
              "    (embed_tokens): Embedding(50358, 768)\n",
              "    (block): ModuleList(\n",
              "      (0): T5Block(\n",
              "        (layer): ModuleList(\n",
              "          (0): T5LayerSelfAttention(\n",
              "            (SelfAttention): T5Attention(\n",
              "              (q): Linear(in_features=768, out_features=768, bias=False)\n",
              "              (k): Linear(in_features=768, out_features=768, bias=False)\n",
              "              (v): Linear(in_features=768, out_features=768, bias=False)\n",
              "              (o): Linear(in_features=768, out_features=768, bias=False)\n",
              "              (relative_attention_bias): Embedding(32, 12)\n",
              "            )\n",
              "            (layer_norm): T5LayerNorm()\n",
              "            (dropout): Dropout(p=0.1, inplace=False)\n",
              "          )\n",
              "          (1): T5LayerCrossAttention(\n",
              "            (EncDecAttention): T5Attention(\n",
              "              (q): Linear(in_features=768, out_features=768, bias=False)\n",
              "              (k): Linear(in_features=768, out_features=768, bias=False)\n",
              "              (v): Linear(in_features=768, out_features=768, bias=False)\n",
              "              (o): Linear(in_features=768, out_features=768, bias=False)\n",
              "            )\n",
              "            (layer_norm): T5LayerNorm()\n",
              "            (dropout): Dropout(p=0.1, inplace=False)\n",
              "          )\n",
              "          (2): T5LayerFF(\n",
              "            (DenseReluDense): T5DenseGatedActDense(\n",
              "              (wi_0): Linear(in_features=768, out_features=2048, bias=False)\n",
              "              (wi_1): Linear(in_features=768, out_features=2048, bias=False)\n",
              "              (wo): Linear(in_features=2048, out_features=768, bias=False)\n",
              "              (dropout): Dropout(p=0.1, inplace=False)\n",
              "              (act): NewGELUActivation()\n",
              "            )\n",
              "            (layer_norm): T5LayerNorm()\n",
              "            (dropout): Dropout(p=0.1, inplace=False)\n",
              "          )\n",
              "        )\n",
              "      )\n",
              "      (1-11): 11 x T5Block(\n",
              "        (layer): ModuleList(\n",
              "          (0): T5LayerSelfAttention(\n",
              "            (SelfAttention): T5Attention(\n",
              "              (q): Linear(in_features=768, out_features=768, bias=False)\n",
              "              (k): Linear(in_features=768, out_features=768, bias=False)\n",
              "              (v): Linear(in_features=768, out_features=768, bias=False)\n",
              "              (o): Linear(in_features=768, out_features=768, bias=False)\n",
              "            )\n",
              "            (layer_norm): T5LayerNorm()\n",
              "            (dropout): Dropout(p=0.1, inplace=False)\n",
              "          )\n",
              "          (1): T5LayerCrossAttention(\n",
              "            (EncDecAttention): T5Attention(\n",
              "              (q): Linear(in_features=768, out_features=768, bias=False)\n",
              "              (k): Linear(in_features=768, out_features=768, bias=False)\n",
              "              (v): Linear(in_features=768, out_features=768, bias=False)\n",
              "              (o): Linear(in_features=768, out_features=768, bias=False)\n",
              "            )\n",
              "            (layer_norm): T5LayerNorm()\n",
              "            (dropout): Dropout(p=0.1, inplace=False)\n",
              "          )\n",
              "          (2): T5LayerFF(\n",
              "            (DenseReluDense): T5DenseGatedActDense(\n",
              "              (wi_0): Linear(in_features=768, out_features=2048, bias=False)\n",
              "              (wi_1): Linear(in_features=768, out_features=2048, bias=False)\n",
              "              (wo): Linear(in_features=2048, out_features=768, bias=False)\n",
              "              (dropout): Dropout(p=0.1, inplace=False)\n",
              "              (act): NewGELUActivation()\n",
              "            )\n",
              "            (layer_norm): T5LayerNorm()\n",
              "            (dropout): Dropout(p=0.1, inplace=False)\n",
              "          )\n",
              "        )\n",
              "      )\n",
              "    )\n",
              "    (final_layer_norm): T5LayerNorm()\n",
              "    (dropout): Dropout(p=0.1, inplace=False)\n",
              "  )\n",
              "  (lm_head): Linear(in_features=768, out_features=50358, bias=False)\n",
              ")"
            ]
          },
          "execution_count": 9,
          "metadata": {},
          "output_type": "execute_result"
        }
      ],
      "source": [
        "model"
      ]
    },
    {
      "cell_type": "markdown",
      "metadata": {
        "id": "QAEwynwH2X2H"
      },
      "source": [
        "### 데이터 불러오기"
      ]
    },
    {
      "cell_type": "code",
      "execution_count": 10,
      "metadata": {
        "colab": {
          "base_uri": "https://localhost:8080/",
          "height": 990
        },
        "id": "pVw5RoOvl3-j",
        "outputId": "4e41a690-b4b3-4ebf-c531-adf9d6880c45"
      },
      "outputs": [
        {
          "data": {
            "text/html": [
              "<div>\n",
              "<style scoped>\n",
              "    .dataframe tbody tr th:only-of-type {\n",
              "        vertical-align: middle;\n",
              "    }\n",
              "\n",
              "    .dataframe tbody tr th {\n",
              "        vertical-align: top;\n",
              "    }\n",
              "\n",
              "    .dataframe thead th {\n",
              "        text-align: right;\n",
              "    }\n",
              "</style>\n",
              "<table border=\"1\" class=\"dataframe\">\n",
              "  <thead>\n",
              "    <tr style=\"text-align: right;\">\n",
              "      <th></th>\n",
              "      <th>augmentation_method</th>\n",
              "      <th>idx</th>\n",
              "      <th>gloss</th>\n",
              "      <th>text</th>\n",
              "    </tr>\n",
              "  </thead>\n",
              "  <tbody>\n",
              "    <tr>\n",
              "      <th>0</th>\n",
              "      <td>SR</td>\n",
              "      <td>1</td>\n",
              "      <td>집 불</td>\n",
              "      <td>댁에 불이 났어요.</td>\n",
              "    </tr>\n",
              "    <tr>\n",
              "      <th>1</th>\n",
              "      <td>SR</td>\n",
              "      <td>2</td>\n",
              "      <td>집 불</td>\n",
              "      <td>주택에 불이 났어요.</td>\n",
              "    </tr>\n",
              "    <tr>\n",
              "      <th>2</th>\n",
              "      <td>SR</td>\n",
              "      <td>3</td>\n",
              "      <td>집 불</td>\n",
              "      <td>가옥에 불이 났어요.</td>\n",
              "    </tr>\n",
              "    <tr>\n",
              "      <th>3</th>\n",
              "      <td>SR</td>\n",
              "      <td>4</td>\n",
              "      <td>집 불</td>\n",
              "      <td>세대에 불이 났어요.</td>\n",
              "    </tr>\n",
              "    <tr>\n",
              "      <th>4</th>\n",
              "      <td>SR</td>\n",
              "      <td>5</td>\n",
              "      <td>도착 10분 전</td>\n",
              "      <td>10분 내로 당도합니다.</td>\n",
              "    </tr>\n",
              "    <tr>\n",
              "      <th>5</th>\n",
              "      <td>SR</td>\n",
              "      <td>6</td>\n",
              "      <td>도착 10분</td>\n",
              "      <td>10분 뒤에 당도합니다.</td>\n",
              "    </tr>\n",
              "    <tr>\n",
              "      <th>6</th>\n",
              "      <td>SR</td>\n",
              "      <td>7</td>\n",
              "      <td>도착 1시간 전</td>\n",
              "      <td>1시간 내로 당도합니다.</td>\n",
              "    </tr>\n",
              "    <tr>\n",
              "      <th>7</th>\n",
              "      <td>SR</td>\n",
              "      <td>8</td>\n",
              "      <td>도착 1시</td>\n",
              "      <td>1시에 당도합니다.</td>\n",
              "    </tr>\n",
              "    <tr>\n",
              "      <th>8</th>\n",
              "      <td>SR</td>\n",
              "      <td>9</td>\n",
              "      <td>1호 갈아타다 목적 곳곳</td>\n",
              "      <td>1호선 환승하는 위치는 어디인가요?</td>\n",
              "    </tr>\n",
              "    <tr>\n",
              "      <th>9</th>\n",
              "      <td>SR</td>\n",
              "      <td>10</td>\n",
              "      <td>1호 갈아타다 목적 곳곳</td>\n",
              "      <td>1호선 환승하는 장소는 어디인가요?</td>\n",
              "    </tr>\n",
              "    <tr>\n",
              "      <th>10</th>\n",
              "      <td>SR</td>\n",
              "      <td>11</td>\n",
              "      <td>1호 곳 무엇</td>\n",
              "      <td>1호선을 타는 위치는 어디인가요?</td>\n",
              "    </tr>\n",
              "    <tr>\n",
              "      <th>11</th>\n",
              "      <td>SR</td>\n",
              "      <td>12</td>\n",
              "      <td>1호 곳 무엇</td>\n",
              "      <td>1호선을 타는 장소은 어디인가요?</td>\n",
              "    </tr>\n",
              "    <tr>\n",
              "      <th>12</th>\n",
              "      <td>SR</td>\n",
              "      <td>13</td>\n",
              "      <td>2016 새롭다 날 시작</td>\n",
              "      <td>2016년, 새해가 출발한다</td>\n",
              "    </tr>\n",
              "    <tr>\n",
              "      <th>13</th>\n",
              "      <td>SR</td>\n",
              "      <td>14</td>\n",
              "      <td>도착 3시</td>\n",
              "      <td>3시에 당도합니다.</td>\n",
              "    </tr>\n",
              "    <tr>\n",
              "      <th>14</th>\n",
              "      <td>SR</td>\n",
              "      <td>15</td>\n",
              "      <td>8호 곳곳</td>\n",
              "      <td>8호선 타는 위치는 어디에 있나요?</td>\n",
              "    </tr>\n",
              "    <tr>\n",
              "      <th>15</th>\n",
              "      <td>SR</td>\n",
              "      <td>16</td>\n",
              "      <td>8호 곳곳</td>\n",
              "      <td>8호선 타는 장소는 어디에 있나요?</td>\n",
              "    </tr>\n",
              "    <tr>\n",
              "      <th>16</th>\n",
              "      <td>SR</td>\n",
              "      <td>17</td>\n",
              "      <td>9호 곳곳</td>\n",
              "      <td>9호선 타는 위치는 어디에 있나요?</td>\n",
              "    </tr>\n",
              "    <tr>\n",
              "      <th>17</th>\n",
              "      <td>SR</td>\n",
              "      <td>18</td>\n",
              "      <td>9호 곳곳</td>\n",
              "      <td>9호선 타는 장소는 어디에 있나요?</td>\n",
              "    </tr>\n",
              "    <tr>\n",
              "      <th>18</th>\n",
              "      <td>SR</td>\n",
              "      <td>19</td>\n",
              "      <td>9호 갈아타다 목적 곳곳</td>\n",
              "      <td>9호선 환승하는 위치는 어디인가요?</td>\n",
              "    </tr>\n",
              "    <tr>\n",
              "      <th>19</th>\n",
              "      <td>SR</td>\n",
              "      <td>20</td>\n",
              "      <td>9호 갈아타다 목적 곳곳</td>\n",
              "      <td>9호선 환승하는 장소는 어디인가요?</td>\n",
              "    </tr>\n",
              "    <tr>\n",
              "      <th>20</th>\n",
              "      <td>SR</td>\n",
              "      <td>21</td>\n",
              "      <td>정보  묻다  곳  가다  부탁</td>\n",
              "      <td>가까운 인솔 데스크를 이용해 주시기 바랍니다.</td>\n",
              "    </tr>\n",
              "    <tr>\n",
              "      <th>21</th>\n",
              "      <td>SR</td>\n",
              "      <td>22</td>\n",
              "      <td>제일  가깝다  곳  찾다  드리다</td>\n",
              "      <td>가장 가까운 위치로 검색해드리겠습니다.</td>\n",
              "    </tr>\n",
              "    <tr>\n",
              "      <th>22</th>\n",
              "      <td>SR</td>\n",
              "      <td>23</td>\n",
              "      <td>제일  가깝다  곳  찾다  드리다</td>\n",
              "      <td>가장 가까운 장소로 검색해드리겠습니다.</td>\n",
              "    </tr>\n",
              "    <tr>\n",
              "      <th>23</th>\n",
              "      <td>SR</td>\n",
              "      <td>24</td>\n",
              "      <td>제일  가깝다  곳  찾다  드리다</td>\n",
              "      <td>가장 가까운 처소로 검색해드리겠습니다.</td>\n",
              "    </tr>\n",
              "    <tr>\n",
              "      <th>24</th>\n",
              "      <td>SR</td>\n",
              "      <td>25</td>\n",
              "      <td>가다 빨리 방법</td>\n",
              "      <td>가장 빠른 길은 어디일까요?</td>\n",
              "    </tr>\n",
              "    <tr>\n",
              "      <th>25</th>\n",
              "      <td>SR</td>\n",
              "      <td>26</td>\n",
              "      <td>갈아타다 곳 맞다</td>\n",
              "      <td>갈아타는 위치가 맞습니다.</td>\n",
              "    </tr>\n",
              "    <tr>\n",
              "      <th>26</th>\n",
              "      <td>SR</td>\n",
              "      <td>27</td>\n",
              "      <td>갈아타다 곳 맞다</td>\n",
              "      <td>갈아타는 장소가 맞습니다.</td>\n",
              "    </tr>\n",
              "    <tr>\n",
              "      <th>27</th>\n",
              "      <td>SR</td>\n",
              "      <td>28</td>\n",
              "      <td>개 집 지키다 유명하다</td>\n",
              "      <td>개는 주택을 잘 지키는 동물로 알려져 있다</td>\n",
              "    </tr>\n",
              "    <tr>\n",
              "      <th>28</th>\n",
              "      <td>SR</td>\n",
              "      <td>29</td>\n",
              "      <td>개 집 지키다 유명하다</td>\n",
              "      <td>개는 가옥을 잘 지키는 동물로 알려져 있다</td>\n",
              "    </tr>\n",
              "    <tr>\n",
              "      <th>29</th>\n",
              "      <td>SR</td>\n",
              "      <td>30</td>\n",
              "      <td>건강 돌보다</td>\n",
              "      <td>기력을 돌보다</td>\n",
              "    </tr>\n",
              "  </tbody>\n",
              "</table>\n",
              "</div>"
            ],
            "text/plain": [
              "   augmentation_method  idx                gloss                       text\n",
              "0                   SR    1                  집 불                 댁에 불이 났어요.\n",
              "1                   SR    2                  집 불                주택에 불이 났어요.\n",
              "2                   SR    3                  집 불                가옥에 불이 났어요.\n",
              "3                   SR    4                  집 불                세대에 불이 났어요.\n",
              "4                   SR    5             도착 10분 전              10분 내로 당도합니다.\n",
              "5                   SR    6               도착 10분              10분 뒤에 당도합니다.\n",
              "6                   SR    7             도착 1시간 전              1시간 내로 당도합니다.\n",
              "7                   SR    8                도착 1시                 1시에 당도합니다.\n",
              "8                   SR    9        1호 갈아타다 목적 곳곳        1호선 환승하는 위치는 어디인가요?\n",
              "9                   SR   10        1호 갈아타다 목적 곳곳        1호선 환승하는 장소는 어디인가요?\n",
              "10                  SR   11              1호 곳 무엇         1호선을 타는 위치는 어디인가요?\n",
              "11                  SR   12              1호 곳 무엇         1호선을 타는 장소은 어디인가요?\n",
              "12                  SR   13        2016 새롭다 날 시작            2016년, 새해가 출발한다\n",
              "13                  SR   14                도착 3시                 3시에 당도합니다.\n",
              "14                  SR   15                8호 곳곳        8호선 타는 위치는 어디에 있나요?\n",
              "15                  SR   16                8호 곳곳        8호선 타는 장소는 어디에 있나요?\n",
              "16                  SR   17                9호 곳곳        9호선 타는 위치는 어디에 있나요?\n",
              "17                  SR   18                9호 곳곳        9호선 타는 장소는 어디에 있나요?\n",
              "18                  SR   19        9호 갈아타다 목적 곳곳        9호선 환승하는 위치는 어디인가요?\n",
              "19                  SR   20        9호 갈아타다 목적 곳곳        9호선 환승하는 장소는 어디인가요?\n",
              "20                  SR   21    정보  묻다  곳  가다  부탁  가까운 인솔 데스크를 이용해 주시기 바랍니다.\n",
              "21                  SR   22  제일  가깝다  곳  찾다  드리다      가장 가까운 위치로 검색해드리겠습니다.\n",
              "22                  SR   23  제일  가깝다  곳  찾다  드리다      가장 가까운 장소로 검색해드리겠습니다.\n",
              "23                  SR   24  제일  가깝다  곳  찾다  드리다      가장 가까운 처소로 검색해드리겠습니다.\n",
              "24                  SR   25             가다 빨리 방법            가장 빠른 길은 어디일까요?\n",
              "25                  SR   26            갈아타다 곳 맞다             갈아타는 위치가 맞습니다.\n",
              "26                  SR   27            갈아타다 곳 맞다             갈아타는 장소가 맞습니다.\n",
              "27                  SR   28         개 집 지키다 유명하다    개는 주택을 잘 지키는 동물로 알려져 있다\n",
              "28                  SR   29         개 집 지키다 유명하다    개는 가옥을 잘 지키는 동물로 알려져 있다\n",
              "29                  SR   30               건강 돌보다                    기력을 돌보다"
            ]
          },
          "execution_count": 10,
          "metadata": {},
          "output_type": "execute_result"
        }
      ],
      "source": [
        "df = pd.read_csv('https://raw.githubusercontent.com/AIRC-KETI/GKSL-dataset/main/dataset/GKSL13k_augmented.csv')\n",
        "df.columns = ['augmentation_method', 'idx', 'gloss', 'text']\n",
        "df.head(30)"
      ]
    },
    {
      "cell_type": "markdown",
      "metadata": {
        "id": "jHu_KhUYGnO2"
      },
      "source": [
        "## 1. 데이터 파악"
      ]
    },
    {
      "cell_type": "code",
      "execution_count": 11,
      "metadata": {
        "colab": {
          "base_uri": "https://localhost:8080/"
        },
        "id": "Dp9d8iid-_9c",
        "outputId": "bac816f9-5fcc-4191-aba3-48bf072e442b"
      },
      "outputs": [
        {
          "data": {
            "text/plain": [
              "(13047, 11345, 8451)"
            ]
          },
          "execution_count": 11,
          "metadata": {},
          "output_type": "execute_result"
        }
      ],
      "source": [
        "len(df), len(df.gloss.unique()), len(df.text.unique())"
      ]
    },
    {
      "cell_type": "code",
      "execution_count": 12,
      "metadata": {
        "colab": {
          "base_uri": "https://localhost:8080/"
        },
        "id": "vIBr4w0SGOhM",
        "outputId": "079b627f-3765-4e5e-ab52-de50e01b1b6d"
      },
      "outputs": [
        {
          "name": "stdout",
          "output_type": "stream",
          "text": [
            "SR : 899\n",
            "SP : 1494\n",
            "BR : 10654\n"
          ]
        }
      ],
      "source": [
        "for i in df.augmentation_method.unique():\n",
        "  print(i, ':', len(df[df.augmentation_method==i]))"
      ]
    },
    {
      "cell_type": "code",
      "execution_count": 13,
      "metadata": {
        "colab": {
          "base_uri": "https://localhost:8080/",
          "height": 381
        },
        "id": "4I4-O0U6Ykby",
        "outputId": "409854c1-36b4-42cb-b58c-ebd663035d34"
      },
      "outputs": [
        {
          "name": "stdout",
          "output_type": "stream",
          "text": [
            "0.6439028129071818\n"
          ]
        },
        {
          "name": "stderr",
          "output_type": "stream",
          "text": [
            "<>:2: SyntaxWarning: invalid escape sequence '\\?'\n",
            "<>:3: SyntaxWarning: invalid escape sequence '\\?'\n",
            "<>:2: SyntaxWarning: invalid escape sequence '\\?'\n",
            "<>:3: SyntaxWarning: invalid escape sequence '\\?'\n",
            "/tmp/ipykernel_14485/1118718847.py:2: SyntaxWarning: invalid escape sequence '\\?'\n",
            "  print(len(df[~df['text'].str.contains('\\?')])/len(df)) # 절반 이상 날라감\n",
            "/tmp/ipykernel_14485/1118718847.py:3: SyntaxWarning: invalid escape sequence '\\?'\n",
            "  df[~df['text'].str.contains('\\?')].head(10)\n"
          ]
        },
        {
          "data": {
            "text/html": [
              "<div>\n",
              "<style scoped>\n",
              "    .dataframe tbody tr th:only-of-type {\n",
              "        vertical-align: middle;\n",
              "    }\n",
              "\n",
              "    .dataframe tbody tr th {\n",
              "        vertical-align: top;\n",
              "    }\n",
              "\n",
              "    .dataframe thead th {\n",
              "        text-align: right;\n",
              "    }\n",
              "</style>\n",
              "<table border=\"1\" class=\"dataframe\">\n",
              "  <thead>\n",
              "    <tr style=\"text-align: right;\">\n",
              "      <th></th>\n",
              "      <th>augmentation_method</th>\n",
              "      <th>idx</th>\n",
              "      <th>gloss</th>\n",
              "      <th>text</th>\n",
              "    </tr>\n",
              "  </thead>\n",
              "  <tbody>\n",
              "    <tr>\n",
              "      <th>0</th>\n",
              "      <td>SR</td>\n",
              "      <td>1</td>\n",
              "      <td>집 불</td>\n",
              "      <td>댁에 불이 났어요.</td>\n",
              "    </tr>\n",
              "    <tr>\n",
              "      <th>1</th>\n",
              "      <td>SR</td>\n",
              "      <td>2</td>\n",
              "      <td>집 불</td>\n",
              "      <td>주택에 불이 났어요.</td>\n",
              "    </tr>\n",
              "    <tr>\n",
              "      <th>2</th>\n",
              "      <td>SR</td>\n",
              "      <td>3</td>\n",
              "      <td>집 불</td>\n",
              "      <td>가옥에 불이 났어요.</td>\n",
              "    </tr>\n",
              "    <tr>\n",
              "      <th>3</th>\n",
              "      <td>SR</td>\n",
              "      <td>4</td>\n",
              "      <td>집 불</td>\n",
              "      <td>세대에 불이 났어요.</td>\n",
              "    </tr>\n",
              "    <tr>\n",
              "      <th>4</th>\n",
              "      <td>SR</td>\n",
              "      <td>5</td>\n",
              "      <td>도착 10분 전</td>\n",
              "      <td>10분 내로 당도합니다.</td>\n",
              "    </tr>\n",
              "    <tr>\n",
              "      <th>5</th>\n",
              "      <td>SR</td>\n",
              "      <td>6</td>\n",
              "      <td>도착 10분</td>\n",
              "      <td>10분 뒤에 당도합니다.</td>\n",
              "    </tr>\n",
              "    <tr>\n",
              "      <th>6</th>\n",
              "      <td>SR</td>\n",
              "      <td>7</td>\n",
              "      <td>도착 1시간 전</td>\n",
              "      <td>1시간 내로 당도합니다.</td>\n",
              "    </tr>\n",
              "    <tr>\n",
              "      <th>7</th>\n",
              "      <td>SR</td>\n",
              "      <td>8</td>\n",
              "      <td>도착 1시</td>\n",
              "      <td>1시에 당도합니다.</td>\n",
              "    </tr>\n",
              "    <tr>\n",
              "      <th>12</th>\n",
              "      <td>SR</td>\n",
              "      <td>13</td>\n",
              "      <td>2016 새롭다 날 시작</td>\n",
              "      <td>2016년, 새해가 출발한다</td>\n",
              "    </tr>\n",
              "    <tr>\n",
              "      <th>13</th>\n",
              "      <td>SR</td>\n",
              "      <td>14</td>\n",
              "      <td>도착 3시</td>\n",
              "      <td>3시에 당도합니다.</td>\n",
              "    </tr>\n",
              "  </tbody>\n",
              "</table>\n",
              "</div>"
            ],
            "text/plain": [
              "   augmentation_method  idx          gloss             text\n",
              "0                   SR    1            집 불       댁에 불이 났어요.\n",
              "1                   SR    2            집 불      주택에 불이 났어요.\n",
              "2                   SR    3            집 불      가옥에 불이 났어요.\n",
              "3                   SR    4            집 불      세대에 불이 났어요.\n",
              "4                   SR    5       도착 10분 전    10분 내로 당도합니다.\n",
              "5                   SR    6         도착 10분    10분 뒤에 당도합니다.\n",
              "6                   SR    7       도착 1시간 전    1시간 내로 당도합니다.\n",
              "7                   SR    8          도착 1시       1시에 당도합니다.\n",
              "12                  SR   13  2016 새롭다 날 시작  2016년, 새해가 출발한다\n",
              "13                  SR   14          도착 3시       3시에 당도합니다."
            ]
          },
          "execution_count": 13,
          "metadata": {},
          "output_type": "execute_result"
        }
      ],
      "source": [
        "# '?'가 포함된 행 제거\n",
        "print(len(df[~df['text'].str.contains('\\?')])/len(df)) # 절반 이상 날라감\n",
        "df[~df['text'].str.contains('\\?')].head(10)"
      ]
    },
    {
      "cell_type": "markdown",
      "metadata": {
        "id": "1rpIcGTC5WhA"
      },
      "source": [
        "### 데이터 전처리"
      ]
    },
    {
      "cell_type": "code",
      "execution_count": 14,
      "metadata": {
        "colab": {
          "base_uri": "https://localhost:8080/",
          "height": 990
        },
        "id": "Gf5kwO2LG3r_",
        "outputId": "e58a2b99-5cb4-4754-8cbe-666341f9f76b"
      },
      "outputs": [
        {
          "name": "stderr",
          "output_type": "stream",
          "text": [
            "<>:1: SyntaxWarning: invalid escape sequence '\\?'\n",
            "<>:1: SyntaxWarning: invalid escape sequence '\\?'\n",
            "/tmp/ipykernel_14485/123297376.py:1: SyntaxWarning: invalid escape sequence '\\?'\n",
            "  df = df[~df['text'].str.contains('\\?')]\n"
          ]
        },
        {
          "data": {
            "text/html": [
              "<div>\n",
              "<style scoped>\n",
              "    .dataframe tbody tr th:only-of-type {\n",
              "        vertical-align: middle;\n",
              "    }\n",
              "\n",
              "    .dataframe tbody tr th {\n",
              "        vertical-align: top;\n",
              "    }\n",
              "\n",
              "    .dataframe thead th {\n",
              "        text-align: right;\n",
              "    }\n",
              "</style>\n",
              "<table border=\"1\" class=\"dataframe\">\n",
              "  <thead>\n",
              "    <tr style=\"text-align: right;\">\n",
              "      <th></th>\n",
              "      <th>gloss</th>\n",
              "      <th>text</th>\n",
              "    </tr>\n",
              "  </thead>\n",
              "  <tbody>\n",
              "    <tr>\n",
              "      <th>0</th>\n",
              "      <td>집 불</td>\n",
              "      <td>댁에 불이 났어요.</td>\n",
              "    </tr>\n",
              "    <tr>\n",
              "      <th>1</th>\n",
              "      <td>집 불</td>\n",
              "      <td>주택에 불이 났어요.</td>\n",
              "    </tr>\n",
              "    <tr>\n",
              "      <th>2</th>\n",
              "      <td>집 불</td>\n",
              "      <td>가옥에 불이 났어요.</td>\n",
              "    </tr>\n",
              "    <tr>\n",
              "      <th>3</th>\n",
              "      <td>집 불</td>\n",
              "      <td>세대에 불이 났어요.</td>\n",
              "    </tr>\n",
              "    <tr>\n",
              "      <th>4</th>\n",
              "      <td>도착 10분 전</td>\n",
              "      <td>10분 내로 당도합니다.</td>\n",
              "    </tr>\n",
              "    <tr>\n",
              "      <th>5</th>\n",
              "      <td>도착 10분</td>\n",
              "      <td>10분 뒤에 당도합니다.</td>\n",
              "    </tr>\n",
              "    <tr>\n",
              "      <th>6</th>\n",
              "      <td>도착 1시간 전</td>\n",
              "      <td>1시간 내로 당도합니다.</td>\n",
              "    </tr>\n",
              "    <tr>\n",
              "      <th>7</th>\n",
              "      <td>도착 1시</td>\n",
              "      <td>1시에 당도합니다.</td>\n",
              "    </tr>\n",
              "    <tr>\n",
              "      <th>12</th>\n",
              "      <td>2016 새롭다 날 시작</td>\n",
              "      <td>2016년, 새해가 출발한다</td>\n",
              "    </tr>\n",
              "    <tr>\n",
              "      <th>13</th>\n",
              "      <td>도착 3시</td>\n",
              "      <td>3시에 당도합니다.</td>\n",
              "    </tr>\n",
              "    <tr>\n",
              "      <th>20</th>\n",
              "      <td>정보  묻다  곳  가다  부탁</td>\n",
              "      <td>가까운 인솔 데스크를 이용해 주시기 바랍니다.</td>\n",
              "    </tr>\n",
              "    <tr>\n",
              "      <th>21</th>\n",
              "      <td>제일  가깝다  곳  찾다  드리다</td>\n",
              "      <td>가장 가까운 위치로 검색해드리겠습니다.</td>\n",
              "    </tr>\n",
              "    <tr>\n",
              "      <th>22</th>\n",
              "      <td>제일  가깝다  곳  찾다  드리다</td>\n",
              "      <td>가장 가까운 장소로 검색해드리겠습니다.</td>\n",
              "    </tr>\n",
              "    <tr>\n",
              "      <th>23</th>\n",
              "      <td>제일  가깝다  곳  찾다  드리다</td>\n",
              "      <td>가장 가까운 처소로 검색해드리겠습니다.</td>\n",
              "    </tr>\n",
              "    <tr>\n",
              "      <th>25</th>\n",
              "      <td>갈아타다 곳 맞다</td>\n",
              "      <td>갈아타는 위치가 맞습니다.</td>\n",
              "    </tr>\n",
              "    <tr>\n",
              "      <th>26</th>\n",
              "      <td>갈아타다 곳 맞다</td>\n",
              "      <td>갈아타는 장소가 맞습니다.</td>\n",
              "    </tr>\n",
              "    <tr>\n",
              "      <th>27</th>\n",
              "      <td>개 집 지키다 유명하다</td>\n",
              "      <td>개는 주택을 잘 지키는 동물로 알려져 있다</td>\n",
              "    </tr>\n",
              "    <tr>\n",
              "      <th>28</th>\n",
              "      <td>개 집 지키다 유명하다</td>\n",
              "      <td>개는 가옥을 잘 지키는 동물로 알려져 있다</td>\n",
              "    </tr>\n",
              "    <tr>\n",
              "      <th>29</th>\n",
              "      <td>건강 돌보다</td>\n",
              "      <td>기력을 돌보다</td>\n",
              "    </tr>\n",
              "    <tr>\n",
              "      <th>30</th>\n",
              "      <td>건강 위하다 운동 필요</td>\n",
              "      <td>기력을 위해 운동해야 한다</td>\n",
              "    </tr>\n",
              "    <tr>\n",
              "      <th>31</th>\n",
              "      <td>건강 위하다 운동 필요</td>\n",
              "      <td>건강을 위해 스포츠해야 한다</td>\n",
              "    </tr>\n",
              "    <tr>\n",
              "      <th>32</th>\n",
              "      <td>건강 위하다 운동 필요</td>\n",
              "      <td>건강을 위해 체육해야 한다</td>\n",
              "    </tr>\n",
              "    <tr>\n",
              "      <th>33</th>\n",
              "      <td>걷다 빠르다</td>\n",
              "      <td>보행이 빠르다</td>\n",
              "    </tr>\n",
              "    <tr>\n",
              "      <th>34</th>\n",
              "      <td>결과 무엇 너무 궁금하다</td>\n",
              "      <td>끝끝내 어떻게 되었는지 정말 궁금하다</td>\n",
              "    </tr>\n",
              "    <tr>\n",
              "      <th>35</th>\n",
              "      <td>결과 무엇 너무 궁금하다</td>\n",
              "      <td>최후가 어떻게 되었는지 정말 궁금하다</td>\n",
              "    </tr>\n",
              "    <tr>\n",
              "      <th>36</th>\n",
              "      <td>결과 무엇 너무 궁금하다</td>\n",
              "      <td>막바지가 어떻게 되었는지 정말 궁금하다</td>\n",
              "    </tr>\n",
              "    <tr>\n",
              "      <th>37</th>\n",
              "      <td>결과 무엇 너무 궁금하다</td>\n",
              "      <td>결국에 어떻게 되었는지 정말 궁금하다</td>\n",
              "    </tr>\n",
              "    <tr>\n",
              "      <th>38</th>\n",
              "      <td>결과 무엇 너무 궁금하다</td>\n",
              "      <td>마지막에 어떻게 되었는지 정말 궁금하다</td>\n",
              "    </tr>\n",
              "    <tr>\n",
              "      <th>39</th>\n",
              "      <td>결과 무엇 너무 궁금하다</td>\n",
              "      <td>결말이 어떻게 되었는지 정말 궁금하다</td>\n",
              "    </tr>\n",
              "    <tr>\n",
              "      <th>40</th>\n",
              "      <td>돈 계산 잘못하다</td>\n",
              "      <td>셈을 잘못하였습니다.</td>\n",
              "    </tr>\n",
              "  </tbody>\n",
              "</table>\n",
              "</div>"
            ],
            "text/plain": [
              "                  gloss                       text\n",
              "0                   집 불                 댁에 불이 났어요.\n",
              "1                   집 불                주택에 불이 났어요.\n",
              "2                   집 불                가옥에 불이 났어요.\n",
              "3                   집 불                세대에 불이 났어요.\n",
              "4              도착 10분 전              10분 내로 당도합니다.\n",
              "5                도착 10분              10분 뒤에 당도합니다.\n",
              "6              도착 1시간 전              1시간 내로 당도합니다.\n",
              "7                 도착 1시                 1시에 당도합니다.\n",
              "12        2016 새롭다 날 시작            2016년, 새해가 출발한다\n",
              "13                도착 3시                 3시에 당도합니다.\n",
              "20    정보  묻다  곳  가다  부탁  가까운 인솔 데스크를 이용해 주시기 바랍니다.\n",
              "21  제일  가깝다  곳  찾다  드리다      가장 가까운 위치로 검색해드리겠습니다.\n",
              "22  제일  가깝다  곳  찾다  드리다      가장 가까운 장소로 검색해드리겠습니다.\n",
              "23  제일  가깝다  곳  찾다  드리다      가장 가까운 처소로 검색해드리겠습니다.\n",
              "25            갈아타다 곳 맞다             갈아타는 위치가 맞습니다.\n",
              "26            갈아타다 곳 맞다             갈아타는 장소가 맞습니다.\n",
              "27         개 집 지키다 유명하다    개는 주택을 잘 지키는 동물로 알려져 있다\n",
              "28         개 집 지키다 유명하다    개는 가옥을 잘 지키는 동물로 알려져 있다\n",
              "29               건강 돌보다                    기력을 돌보다\n",
              "30         건강 위하다 운동 필요             기력을 위해 운동해야 한다\n",
              "31         건강 위하다 운동 필요            건강을 위해 스포츠해야 한다\n",
              "32         건강 위하다 운동 필요             건강을 위해 체육해야 한다\n",
              "33               걷다 빠르다                    보행이 빠르다\n",
              "34        결과 무엇 너무 궁금하다       끝끝내 어떻게 되었는지 정말 궁금하다\n",
              "35        결과 무엇 너무 궁금하다       최후가 어떻게 되었는지 정말 궁금하다\n",
              "36        결과 무엇 너무 궁금하다      막바지가 어떻게 되었는지 정말 궁금하다\n",
              "37        결과 무엇 너무 궁금하다       결국에 어떻게 되었는지 정말 궁금하다\n",
              "38        결과 무엇 너무 궁금하다      마지막에 어떻게 되었는지 정말 궁금하다\n",
              "39        결과 무엇 너무 궁금하다       결말이 어떻게 되었는지 정말 궁금하다\n",
              "40            돈 계산 잘못하다                셈을 잘못하였습니다."
            ]
          },
          "execution_count": 14,
          "metadata": {},
          "output_type": "execute_result"
        }
      ],
      "source": [
        "df = df[~df['text'].str.contains('\\?')]\n",
        "df = df[['gloss', 'text']]\n",
        "df.head(30)"
      ]
    },
    {
      "cell_type": "markdown",
      "metadata": {
        "id": "hHIQV8Ke5Y_4"
      },
      "source": [
        "### 문장 길이 시각화\n",
        "max_len 설정을 위함"
      ]
    },
    {
      "cell_type": "code",
      "execution_count": 15,
      "metadata": {
        "colab": {
          "base_uri": "https://localhost:8080/",
          "height": 607
        },
        "id": "9W_6FRnX5dw_",
        "outputId": "f1a5a3c1-e355-4a6b-913c-3e4cff41cdef"
      },
      "outputs": [
        {
          "data": {
            "image/png": "[encoded data removed]",
            "text/plain": [
              "<Figure size 1200x600 with 2 Axes>"
            ]
          },
          "metadata": {},
          "output_type": "display_data"
        }
      ],
      "source": [
        "import matplotlib.pyplot as plt\n",
        "\n",
        "# 각 문장의 토큰 길이를 KoBART 토크나이저로 계산 -> 서브워드 단어로 더 잘게 쪼개줌\n",
        "df['source_len'] = df['gloss'].apply(lambda x: len(tokenizer.encode(x, add_special_tokens=False)))\n",
        "df['target_len'] = df['text'].apply(lambda x: len(tokenizer.encode(x, add_special_tokens=False)))\n",
        "\n",
        "# 히스토그램을 그려서 분포 확인\n",
        "plt.figure(figsize=(12, 6))\n",
        "\n",
        "plt.subplot(1, 2, 1)\n",
        "plt.hist(df['source_len'], bins=30, color='blue', alpha=0.7)\n",
        "plt.title('Source Sentence Length Distribution')\n",
        "plt.xlabel('Sentence Length (tokens)')\n",
        "plt.ylabel('Frequency')\n",
        "\n",
        "plt.subplot(1, 2, 2)\n",
        "plt.hist(df['target_len'], bins=30, color='green', alpha=0.7)\n",
        "plt.title('Target Sentence Length Distribution')\n",
        "plt.xlabel('Sentence Length (tokens)')\n",
        "plt.ylabel('Frequency')\n",
        "\n",
        "plt.tight_layout()\n",
        "plt.show()"
      ]
    },
    {
      "cell_type": "code",
      "execution_count": 16,
      "metadata": {
        "colab": {
          "base_uri": "https://localhost:8080/"
        },
        "id": "-xJLp9NH6UxY",
        "outputId": "176d761f-a726-4301-9b14-b79c795cef50"
      },
      "outputs": [
        {
          "name": "stdout",
          "output_type": "stream",
          "text": [
            "Source Sentence Length Stats:\n",
            " count    8401.000000\n",
            "mean        8.338650\n",
            "std         3.941379\n",
            "min         1.000000\n",
            "25%         6.000000\n",
            "50%         8.000000\n",
            "75%        11.000000\n",
            "90%        13.000000\n",
            "95%        14.000000\n",
            "99%        20.000000\n",
            "max        47.000000\n",
            "Name: source_len, dtype: float64\n",
            "\n",
            "Target Sentence Length Stats:\n",
            " count    8401.000000\n",
            "mean        9.284847\n",
            "std         3.664686\n",
            "min         1.000000\n",
            "25%         6.000000\n",
            "50%         9.000000\n",
            "75%        11.000000\n",
            "90%        14.000000\n",
            "95%        16.000000\n",
            "99%        20.000000\n",
            "max        28.000000\n",
            "Name: target_len, dtype: float64\n"
          ]
        }
      ],
      "source": [
        "# 문장 길이 통계\n",
        "source_stats = df['source_len'].describe(percentiles=[.25, .5, .75, .9, .95, .99])\n",
        "target_stats = df['target_len'].describe(percentiles=[.25, .5, .75, .9, .95, .99])\n",
        "\n",
        "print(\"Source Sentence Length Stats:\\n\", source_stats)\n",
        "print(\"\\nTarget Sentence Length Stats:\\n\", target_stats)"
      ]
    },
    {
      "cell_type": "markdown",
      "metadata": {
        "id": "_53-BCoVHCJB"
      },
      "source": [
        "## 2. 데이터 로더 생성"
      ]
    },
    {
      "cell_type": "code",
      "execution_count": 17,
      "metadata": {
        "id": "g8PKY-9nHJ_1"
      },
      "outputs": [],
      "source": [
        "from torch.utils.data import Dataset, DataLoader\n",
        "\n",
        "class GlossDataset(Dataset):\n",
        "    def __init__(self, glosses, texts, tokenizer, max_length=16):\n",
        "        self.glosses = glosses\n",
        "        self.texts = texts\n",
        "        self.tokenizer = tokenizer\n",
        "        self.max_length = max_length\n",
        "\n",
        "    def __len__(self):\n",
        "        return len(self.glosses)\n",
        "\n",
        "    def __getitem__(self, idx):\n",
        "        gloss = self.glosses[idx]\n",
        "        text = self.texts[idx]\n",
        "\n",
        "        # 입력(글로스) 토큰화\n",
        "        inputs = self.tokenizer(gloss, return_tensors=\"pt\", max_length=self.max_length, padding=\"max_length\", truncation=True)\n",
        "\n",
        "        # 출력(텍스트) 토큰화\n",
        "        labels = self.tokenizer(text, return_tensors=\"pt\", max_length=self.max_length, padding=\"max_length\", truncation=True)\n",
        "\n",
        "        input_ids = inputs.input_ids.squeeze()\n",
        "        attention_mask = inputs.attention_mask.squeeze()\n",
        "        labels = labels.input_ids.squeeze()\n",
        "\n",
        "        return {\"input_ids\": input_ids, \"attention_mask\": attention_mask, \"labels\": labels}"
      ]
    },
    {
      "cell_type": "code",
      "execution_count": 18,
      "metadata": {
        "id": "CkQ7_nDlHrEi"
      },
      "outputs": [],
      "source": [
        "from sklearn.model_selection import train_test_split\n",
        "\n",
        "# 데이터셋 분할\n",
        "train_glosses, val_glosses, train_texts, val_texts = train_test_split(df['gloss'].tolist(), df['text'].tolist(), test_size=0.2, random_state=42)\n",
        "val_glosses, test_glosses, val_texts, test_texts = train_test_split(val_glosses, val_texts, test_size=0.5, random_state=42)\n",
        "\n",
        "# 데이터셋 생성\n",
        "train_dataset = GlossDataset(glosses=train_glosses, texts=train_texts, tokenizer=tokenizer)\n",
        "val_dataset = GlossDataset(glosses=val_glosses, texts=val_texts, tokenizer=tokenizer)\n",
        "test_dataset = GlossDataset(glosses=test_glosses, texts=test_texts, tokenizer=tokenizer)\n",
        "\n",
        "# 데이터로더 생성\n",
        "train_dataloader = DataLoader(train_dataset, batch_size=16, shuffle=True)\n",
        "val_dataloader = DataLoader(val_dataset, batch_size=16, shuffle=False)\n",
        "test_dataloader = DataLoader(test_dataset, batch_size=16, shuffle=False)"
      ]
    },
    {
      "cell_type": "code",
      "execution_count": 19,
      "metadata": {
        "colab": {
          "base_uri": "https://localhost:8080/"
        },
        "id": "5Ek080u-Itrp",
        "outputId": "5744540d-4cab-43fc-b2e1-d5f7c38aa838"
      },
      "outputs": [
        {
          "data": {
            "text/plain": [
              "{'input_ids': tensor([3074,  222, 6459, 2892,  267,  222, 1363,    1,    0,    0,    0,    0,\n",
              "            0,    0,    0,    0]),\n",
              " 'attention_mask': tensor([1, 1, 1, 1, 1, 1, 1, 1, 0, 0, 0, 0, 0, 0, 0, 0]),\n",
              " 'labels': tensor([ 3074,   291,   222,  6459, 11992,    15,     1,     0,     0,     0,\n",
              "             0,     0,     0,     0,     0,     0])}"
            ]
          },
          "execution_count": 19,
          "metadata": {},
          "output_type": "execute_result"
        }
      ],
      "source": [
        "train_dataset[0]"
      ]
    },
    {
      "cell_type": "markdown",
      "metadata": {
        "id": "XRuAcKP6HKZn"
      },
      "source": [
        "## 3. 모델 준비"
      ]
    },
    {
      "cell_type": "code",
      "execution_count": 20,
      "metadata": {
        "colab": {
          "base_uri": "https://localhost:8080/"
        },
        "id": "EoYAXvKVHMD1",
        "outputId": "7ea2d153-a5fe-4784-f897-36b1e1457425"
      },
      "outputs": [
        {
          "name": "stderr",
          "output_type": "stream",
          "text": [
            "/home/stonemaeng/anaconda3/envs/g2t/lib/python3.12/site-packages/transformers/optimization.py:429: FutureWarning: This implementation of AdamW is deprecated and will be removed in a future version. Use the PyTorch implementation torch.optim.AdamW instead, or set `no_deprecation_warning=True` to disable this warning\n",
            "  warnings.warn(\n"
          ]
        }
      ],
      "source": [
        "import torch\n",
        "from transformers import AdamW, get_linear_schedule_with_warmup\n",
        "\n",
        "# 옵티마이저와 손실 함수 설정\n",
        "optimizer = AdamW(model.parameters(), lr=2e-5)  # 학습률은 실험적으로 조정할 수 있음 1e-4, 1e-5\n",
        "loss_fn = torch.nn.CrossEntropyLoss()\n",
        "\n",
        "# 학습률 스케줄러 설정\n",
        "num_epochs = 100\n",
        "\n",
        "total_steps = len(train_dataloader) * num_epochs\n",
        "scheduler = get_linear_schedule_with_warmup(\n",
        "    optimizer,\n",
        "    num_warmup_steps=0,\n",
        "    num_training_steps=total_steps\n",
        ")"
      ]
    },
    {
      "cell_type": "markdown",
      "metadata": {
        "id": "ihTHBTUyHMYh"
      },
      "source": [
        "## 4. KoT5 학습\n"
      ]
    },
    {
      "cell_type": "code",
      "execution_count": 21,
      "metadata": {
        "id": "RlWy5Pn3UnDn"
      },
      "outputs": [],
      "source": [
        "# 체크포인트를 저장할 디렉토리 설정\n",
        "import os\n",
        "\n",
        "checkpoint_dir = './checkpoints'\n",
        "os.makedirs(checkpoint_dir, exist_ok=True)"
      ]
    },
    {
      "cell_type": "code",
      "execution_count": 22,
      "metadata": {
        "colab": {
          "background_save": true,
          "base_uri": "https://localhost:8080/"
        },
        "id": "fQUmP_HNHR7l",
        "outputId": "250ddf4c-8de5-4052-837a-d60b04bdd2e5"
      },
      "outputs": [
        {
          "name": "stdout",
          "output_type": "stream",
          "text": [
            "\n",
            "Starting epoch 1/100\n"
          ]
        },
        {
          "name": "stderr",
          "output_type": "stream",
          "text": [
            "Epoch 1/100: 100%|██████████| 420/420 [00:39<00:00, 10.75batch/s]\n",
            "Validation: 100%|██████████| 53/53 [00:01<00:00, 46.30batch/s]\n"
          ]
        },
        {
          "name": "stdout",
          "output_type": "stream",
          "text": [
            "Epoch 1/100, Loss: 4.9259, Validation Loss: 1.1121, BLEU: 5.5018\n",
            "Checkpoint saved to ./checkpoints/checkpoint_epoch_1.pt\n",
            "\n",
            "Starting epoch 2/100\n"
          ]
        },
        {
          "name": "stderr",
          "output_type": "stream",
          "text": [
            "Epoch 2/100: 100%|██████████| 420/420 [00:39<00:00, 10.74batch/s]\n",
            "Validation: 100%|██████████| 53/53 [00:01<00:00, 47.85batch/s]\n"
          ]
        },
        {
          "name": "stdout",
          "output_type": "stream",
          "text": [
            "Epoch 2/100, Loss: 1.1192, Validation Loss: 0.8131, BLEU: 13.8452\n",
            "Checkpoint saved to ./checkpoints/checkpoint_epoch_2.pt\n",
            "\n",
            "Starting epoch 3/100\n"
          ]
        },
        {
          "name": "stderr",
          "output_type": "stream",
          "text": [
            "Epoch 3/100: 100%|██████████| 420/420 [00:39<00:00, 10.64batch/s]\n",
            "Validation: 100%|██████████| 53/53 [00:01<00:00, 46.72batch/s]\n"
          ]
        },
        {
          "name": "stdout",
          "output_type": "stream",
          "text": [
            "Epoch 3/100, Loss: 0.8549, Validation Loss: 0.6566, BLEU: 23.2814\n",
            "Checkpoint saved to ./checkpoints/checkpoint_epoch_3.pt\n",
            "\n",
            "Starting epoch 4/100\n"
          ]
        },
        {
          "name": "stderr",
          "output_type": "stream",
          "text": [
            "Epoch 4/100: 100%|██████████| 420/420 [00:39<00:00, 10.62batch/s]\n",
            "Validation: 100%|██████████| 53/53 [00:01<00:00, 47.82batch/s]\n"
          ]
        },
        {
          "name": "stdout",
          "output_type": "stream",
          "text": [
            "Epoch 4/100, Loss: 0.6986, Validation Loss: 0.5521, BLEU: 33.8593\n",
            "Checkpoint saved to ./checkpoints/checkpoint_epoch_4.pt\n",
            "\n",
            "Starting epoch 5/100\n"
          ]
        },
        {
          "name": "stderr",
          "output_type": "stream",
          "text": [
            "Epoch 5/100: 100%|██████████| 420/420 [00:39<00:00, 10.60batch/s]\n",
            "Validation: 100%|██████████| 53/53 [00:01<00:00, 47.58batch/s]\n"
          ]
        },
        {
          "name": "stdout",
          "output_type": "stream",
          "text": [
            "Epoch 5/100, Loss: 0.5814, Validation Loss: 0.4775, BLEU: 40.4039\n",
            "Checkpoint saved to ./checkpoints/checkpoint_epoch_5.pt\n",
            "\n",
            "Starting epoch 6/100\n"
          ]
        },
        {
          "name": "stderr",
          "output_type": "stream",
          "text": [
            "Epoch 6/100: 100%|██████████| 420/420 [00:39<00:00, 10.70batch/s]\n",
            "Validation: 100%|██████████| 53/53 [00:01<00:00, 47.82batch/s]\n"
          ]
        },
        {
          "name": "stdout",
          "output_type": "stream",
          "text": [
            "Epoch 6/100, Loss: 0.4946, Validation Loss: 0.4239, BLEU: 46.7185\n",
            "Checkpoint saved to ./checkpoints/checkpoint_epoch_6.pt\n",
            "\n",
            "Starting epoch 7/100\n"
          ]
        },
        {
          "name": "stderr",
          "output_type": "stream",
          "text": [
            "Epoch 7/100: 100%|██████████| 420/420 [00:39<00:00, 10.67batch/s]\n",
            "Validation: 100%|██████████| 53/53 [00:01<00:00, 47.19batch/s]\n"
          ]
        },
        {
          "name": "stdout",
          "output_type": "stream",
          "text": [
            "Epoch 7/100, Loss: 0.4267, Validation Loss: 0.3843, BLEU: 52.2039\n",
            "Checkpoint saved to ./checkpoints/checkpoint_epoch_7.pt\n",
            "\n",
            "Starting epoch 8/100\n"
          ]
        },
        {
          "name": "stderr",
          "output_type": "stream",
          "text": [
            "Epoch 8/100: 100%|██████████| 420/420 [00:39<00:00, 10.61batch/s]\n",
            "Validation: 100%|██████████| 53/53 [00:01<00:00, 47.69batch/s]\n"
          ]
        },
        {
          "name": "stdout",
          "output_type": "stream",
          "text": [
            "Epoch 8/100, Loss: 0.3725, Validation Loss: 0.3538, BLEU: 56.5273\n",
            "Checkpoint saved to ./checkpoints/checkpoint_epoch_8.pt\n",
            "\n",
            "Starting epoch 9/100\n"
          ]
        },
        {
          "name": "stderr",
          "output_type": "stream",
          "text": [
            "Epoch 9/100: 100%|██████████| 420/420 [00:39<00:00, 10.69batch/s]\n",
            "Validation: 100%|██████████| 53/53 [00:01<00:00, 48.25batch/s]\n"
          ]
        },
        {
          "name": "stdout",
          "output_type": "stream",
          "text": [
            "Epoch 9/100, Loss: 0.3293, Validation Loss: 0.3307, BLEU: 58.7679\n",
            "Checkpoint saved to ./checkpoints/checkpoint_epoch_9.pt\n",
            "\n",
            "Starting epoch 10/100\n"
          ]
        },
        {
          "name": "stderr",
          "output_type": "stream",
          "text": [
            "Epoch 10/100: 100%|██████████| 420/420 [00:39<00:00, 10.64batch/s]\n",
            "Validation: 100%|██████████| 53/53 [00:01<00:00, 47.77batch/s]\n"
          ]
        },
        {
          "name": "stdout",
          "output_type": "stream",
          "text": [
            "Epoch 10/100, Loss: 0.2918, Validation Loss: 0.3120, BLEU: 62.3195\n",
            "Checkpoint saved to ./checkpoints/checkpoint_epoch_10.pt\n",
            "\n",
            "Starting epoch 11/100\n"
          ]
        },
        {
          "name": "stderr",
          "output_type": "stream",
          "text": [
            "Epoch 11/100: 100%|██████████| 420/420 [00:39<00:00, 10.59batch/s]\n",
            "Validation: 100%|██████████| 53/53 [00:01<00:00, 48.10batch/s]\n"
          ]
        },
        {
          "name": "stdout",
          "output_type": "stream",
          "text": [
            "Epoch 11/100, Loss: 0.2604, Validation Loss: 0.2969, BLEU: 63.9197\n",
            "Checkpoint saved to ./checkpoints/checkpoint_epoch_11.pt\n",
            "\n",
            "Starting epoch 12/100\n"
          ]
        },
        {
          "name": "stderr",
          "output_type": "stream",
          "text": [
            "Epoch 12/100: 100%|██████████| 420/420 [00:39<00:00, 10.70batch/s]\n",
            "Validation: 100%|██████████| 53/53 [00:01<00:00, 47.87batch/s]\n"
          ]
        },
        {
          "name": "stdout",
          "output_type": "stream",
          "text": [
            "Epoch 12/100, Loss: 0.2350, Validation Loss: 0.2846, BLEU: 65.8697\n",
            "Checkpoint saved to ./checkpoints/checkpoint_epoch_12.pt\n",
            "\n",
            "Starting epoch 13/100\n"
          ]
        },
        {
          "name": "stderr",
          "output_type": "stream",
          "text": [
            "Epoch 13/100: 100%|██████████| 420/420 [00:39<00:00, 10.68batch/s]\n",
            "Validation: 100%|██████████| 53/53 [00:01<00:00, 47.47batch/s]\n"
          ]
        },
        {
          "name": "stdout",
          "output_type": "stream",
          "text": [
            "Epoch 13/100, Loss: 0.2120, Validation Loss: 0.2765, BLEU: 67.3180\n",
            "Checkpoint saved to ./checkpoints/checkpoint_epoch_13.pt\n",
            "\n",
            "Starting epoch 14/100\n"
          ]
        },
        {
          "name": "stderr",
          "output_type": "stream",
          "text": [
            "Epoch 14/100: 100%|██████████| 420/420 [00:39<00:00, 10.61batch/s]\n",
            "Validation: 100%|██████████| 53/53 [00:01<00:00, 47.59batch/s]\n"
          ]
        },
        {
          "name": "stdout",
          "output_type": "stream",
          "text": [
            "Epoch 14/100, Loss: 0.1905, Validation Loss: 0.2670, BLEU: 68.6702\n",
            "Checkpoint saved to ./checkpoints/checkpoint_epoch_14.pt\n",
            "\n",
            "Starting epoch 15/100\n"
          ]
        },
        {
          "name": "stderr",
          "output_type": "stream",
          "text": [
            "Epoch 15/100: 100%|██████████| 420/420 [00:39<00:00, 10.67batch/s]\n",
            "Validation: 100%|██████████| 53/53 [00:01<00:00, 48.18batch/s]\n"
          ]
        },
        {
          "name": "stdout",
          "output_type": "stream",
          "text": [
            "Epoch 15/100, Loss: 0.1736, Validation Loss: 0.2626, BLEU: 70.1132\n",
            "Checkpoint saved to ./checkpoints/checkpoint_epoch_15.pt\n",
            "\n",
            "Starting epoch 16/100\n"
          ]
        },
        {
          "name": "stderr",
          "output_type": "stream",
          "text": [
            "Epoch 16/100: 100%|██████████| 420/420 [00:39<00:00, 10.68batch/s]\n",
            "Validation: 100%|██████████| 53/53 [00:01<00:00, 48.03batch/s]\n"
          ]
        },
        {
          "name": "stdout",
          "output_type": "stream",
          "text": [
            "Epoch 16/100, Loss: 0.1606, Validation Loss: 0.2525, BLEU: 70.9460\n",
            "Checkpoint saved to ./checkpoints/checkpoint_epoch_16.pt\n",
            "\n",
            "Starting epoch 17/100\n"
          ]
        },
        {
          "name": "stderr",
          "output_type": "stream",
          "text": [
            "Epoch 17/100: 100%|██████████| 420/420 [00:39<00:00, 10.61batch/s]\n",
            "Validation: 100%|██████████| 53/53 [00:01<00:00, 48.24batch/s]\n"
          ]
        },
        {
          "name": "stdout",
          "output_type": "stream",
          "text": [
            "Epoch 17/100, Loss: 0.1451, Validation Loss: 0.2531, BLEU: 70.8315\n",
            "Checkpoint saved to ./checkpoints/checkpoint_epoch_17.pt\n",
            "\n",
            "Starting epoch 18/100\n"
          ]
        },
        {
          "name": "stderr",
          "output_type": "stream",
          "text": [
            "Epoch 18/100: 100%|██████████| 420/420 [00:39<00:00, 10.70batch/s]\n",
            "Validation: 100%|██████████| 53/53 [00:01<00:00, 48.06batch/s]\n"
          ]
        },
        {
          "name": "stdout",
          "output_type": "stream",
          "text": [
            "Epoch 18/100, Loss: 0.1329, Validation Loss: 0.2470, BLEU: 72.4702\n",
            "Checkpoint saved to ./checkpoints/checkpoint_epoch_18.pt\n",
            "\n",
            "Starting epoch 19/100\n"
          ]
        },
        {
          "name": "stderr",
          "output_type": "stream",
          "text": [
            "Epoch 19/100: 100%|██████████| 420/420 [00:39<00:00, 10.67batch/s]\n",
            "Validation: 100%|██████████| 53/53 [00:01<00:00, 47.92batch/s]\n"
          ]
        },
        {
          "name": "stdout",
          "output_type": "stream",
          "text": [
            "Epoch 19/100, Loss: 0.1220, Validation Loss: 0.2474, BLEU: 72.3446\n",
            "Checkpoint saved to ./checkpoints/checkpoint_epoch_19.pt\n",
            "\n",
            "Starting epoch 20/100\n"
          ]
        },
        {
          "name": "stderr",
          "output_type": "stream",
          "text": [
            "Epoch 20/100: 100%|██████████| 420/420 [00:39<00:00, 10.61batch/s]\n",
            "Validation: 100%|██████████| 53/53 [00:01<00:00, 47.92batch/s]\n"
          ]
        },
        {
          "name": "stdout",
          "output_type": "stream",
          "text": [
            "Epoch 20/100, Loss: 0.1139, Validation Loss: 0.2449, BLEU: 73.0571\n",
            "Checkpoint saved to ./checkpoints/checkpoint_epoch_20.pt\n",
            "\n",
            "Starting epoch 21/100\n"
          ]
        },
        {
          "name": "stderr",
          "output_type": "stream",
          "text": [
            "Epoch 21/100: 100%|██████████| 420/420 [00:39<00:00, 10.68batch/s]\n",
            "Validation: 100%|██████████| 53/53 [00:01<00:00, 48.07batch/s]\n"
          ]
        },
        {
          "name": "stdout",
          "output_type": "stream",
          "text": [
            "Epoch 21/100, Loss: 0.1060, Validation Loss: 0.2420, BLEU: 73.5599\n",
            "Checkpoint saved to ./checkpoints/checkpoint_epoch_21.pt\n",
            "\n",
            "Starting epoch 22/100\n"
          ]
        },
        {
          "name": "stderr",
          "output_type": "stream",
          "text": [
            "Epoch 22/100: 100%|██████████| 420/420 [00:39<00:00, 10.67batch/s]\n",
            "Validation: 100%|██████████| 53/53 [00:01<00:00, 48.09batch/s]\n"
          ]
        },
        {
          "name": "stdout",
          "output_type": "stream",
          "text": [
            "Epoch 22/100, Loss: 0.0969, Validation Loss: 0.2433, BLEU: 73.6835\n",
            "Checkpoint saved to ./checkpoints/checkpoint_epoch_22.pt\n",
            "\n",
            "Starting epoch 23/100\n"
          ]
        },
        {
          "name": "stderr",
          "output_type": "stream",
          "text": [
            "Epoch 23/100: 100%|██████████| 420/420 [00:39<00:00, 10.59batch/s]\n",
            "Validation: 100%|██████████| 53/53 [00:01<00:00, 47.64batch/s]\n"
          ]
        },
        {
          "name": "stdout",
          "output_type": "stream",
          "text": [
            "Epoch 23/100, Loss: 0.0927, Validation Loss: 0.2404, BLEU: 74.6263\n",
            "Checkpoint saved to ./checkpoints/checkpoint_epoch_23.pt\n",
            "\n",
            "Starting epoch 24/100\n"
          ]
        },
        {
          "name": "stderr",
          "output_type": "stream",
          "text": [
            "Epoch 24/100: 100%|██████████| 420/420 [00:39<00:00, 10.67batch/s]\n",
            "Validation: 100%|██████████| 53/53 [00:01<00:00, 47.86batch/s]\n"
          ]
        },
        {
          "name": "stdout",
          "output_type": "stream",
          "text": [
            "Epoch 24/100, Loss: 0.0850, Validation Loss: 0.2448, BLEU: 74.5868\n",
            "Checkpoint saved to ./checkpoints/checkpoint_epoch_24.pt\n",
            "\n",
            "Starting epoch 25/100\n"
          ]
        },
        {
          "name": "stderr",
          "output_type": "stream",
          "text": [
            "Epoch 25/100: 100%|██████████| 420/420 [00:39<00:00, 10.68batch/s]\n",
            "Validation: 100%|██████████| 53/53 [00:01<00:00, 48.00batch/s]\n"
          ]
        },
        {
          "name": "stdout",
          "output_type": "stream",
          "text": [
            "Epoch 25/100, Loss: 0.0806, Validation Loss: 0.2440, BLEU: 74.7688\n",
            "Checkpoint saved to ./checkpoints/checkpoint_epoch_25.pt\n",
            "\n",
            "Starting epoch 26/100\n"
          ]
        },
        {
          "name": "stderr",
          "output_type": "stream",
          "text": [
            "Epoch 26/100: 100%|██████████| 420/420 [00:39<00:00, 10.59batch/s]\n",
            "Validation: 100%|██████████| 53/53 [00:01<00:00, 47.52batch/s]\n"
          ]
        },
        {
          "name": "stdout",
          "output_type": "stream",
          "text": [
            "Epoch 26/100, Loss: 0.0760, Validation Loss: 0.2442, BLEU: 75.3143\n",
            "Checkpoint saved to ./checkpoints/checkpoint_epoch_26.pt\n",
            "\n",
            "Starting epoch 27/100\n"
          ]
        },
        {
          "name": "stderr",
          "output_type": "stream",
          "text": [
            "Epoch 27/100: 100%|██████████| 420/420 [00:39<00:00, 10.69batch/s]\n",
            "Validation: 100%|██████████| 53/53 [00:01<00:00, 47.75batch/s]\n"
          ]
        },
        {
          "name": "stdout",
          "output_type": "stream",
          "text": [
            "Epoch 27/100, Loss: 0.0722, Validation Loss: 0.2426, BLEU: 75.7806\n",
            "Checkpoint saved to ./checkpoints/checkpoint_epoch_27.pt\n",
            "\n",
            "Starting epoch 28/100\n"
          ]
        },
        {
          "name": "stderr",
          "output_type": "stream",
          "text": [
            "Epoch 28/100: 100%|██████████| 420/420 [00:39<00:00, 10.65batch/s]\n",
            "Validation: 100%|██████████| 53/53 [00:01<00:00, 47.58batch/s]\n"
          ]
        },
        {
          "name": "stdout",
          "output_type": "stream",
          "text": [
            "Epoch 28/100, Loss: 0.0671, Validation Loss: 0.2445, BLEU: 75.3598\n",
            "Checkpoint saved to ./checkpoints/checkpoint_epoch_28.pt\n",
            "\n",
            "Starting epoch 29/100\n"
          ]
        },
        {
          "name": "stderr",
          "output_type": "stream",
          "text": [
            "Epoch 29/100: 100%|██████████| 420/420 [00:39<00:00, 10.60batch/s]\n",
            "Validation: 100%|██████████| 53/53 [00:01<00:00, 48.12batch/s]\n"
          ]
        },
        {
          "name": "stdout",
          "output_type": "stream",
          "text": [
            "Epoch 29/100, Loss: 0.0644, Validation Loss: 0.2459, BLEU: 75.7441\n",
            "Checkpoint saved to ./checkpoints/checkpoint_epoch_29.pt\n",
            "\n",
            "Starting epoch 30/100\n"
          ]
        },
        {
          "name": "stderr",
          "output_type": "stream",
          "text": [
            "Epoch 30/100: 100%|██████████| 420/420 [00:39<00:00, 10.68batch/s]\n",
            "Validation: 100%|██████████| 53/53 [00:01<00:00, 47.42batch/s]\n"
          ]
        },
        {
          "name": "stdout",
          "output_type": "stream",
          "text": [
            "Epoch 30/100, Loss: 0.0606, Validation Loss: 0.2501, BLEU: 75.5513\n",
            "Checkpoint saved to ./checkpoints/checkpoint_epoch_30.pt\n",
            "\n",
            "Starting epoch 31/100\n"
          ]
        },
        {
          "name": "stderr",
          "output_type": "stream",
          "text": [
            "Epoch 31/100: 100%|██████████| 420/420 [00:39<00:00, 10.65batch/s]\n",
            "Validation: 100%|██████████| 53/53 [00:01<00:00, 47.59batch/s]\n"
          ]
        },
        {
          "name": "stdout",
          "output_type": "stream",
          "text": [
            "Epoch 31/100, Loss: 0.0589, Validation Loss: 0.2495, BLEU: 75.9497\n",
            "Checkpoint saved to ./checkpoints/checkpoint_epoch_31.pt\n",
            "\n",
            "Starting epoch 32/100\n"
          ]
        },
        {
          "name": "stderr",
          "output_type": "stream",
          "text": [
            "Epoch 32/100: 100%|██████████| 420/420 [00:39<00:00, 10.60batch/s]\n",
            "Validation: 100%|██████████| 53/53 [00:01<00:00, 47.61batch/s]\n"
          ]
        },
        {
          "name": "stdout",
          "output_type": "stream",
          "text": [
            "Epoch 32/100, Loss: 0.0552, Validation Loss: 0.2515, BLEU: 75.8948\n",
            "Checkpoint saved to ./checkpoints/checkpoint_epoch_32.pt\n",
            "\n",
            "Starting epoch 33/100\n"
          ]
        },
        {
          "name": "stderr",
          "output_type": "stream",
          "text": [
            "Epoch 33/100: 100%|██████████| 420/420 [00:39<00:00, 10.67batch/s]\n",
            "Validation: 100%|██████████| 53/53 [00:01<00:00, 47.56batch/s]\n"
          ]
        },
        {
          "name": "stdout",
          "output_type": "stream",
          "text": [
            "Epoch 33/100, Loss: 0.0528, Validation Loss: 0.2531, BLEU: 76.5123\n",
            "Checkpoint saved to ./checkpoints/checkpoint_epoch_33.pt\n",
            "\n",
            "Starting epoch 34/100\n"
          ]
        },
        {
          "name": "stderr",
          "output_type": "stream",
          "text": [
            "Epoch 34/100: 100%|██████████| 420/420 [00:39<00:00, 10.63batch/s]\n",
            "Validation: 100%|██████████| 53/53 [00:01<00:00, 47.89batch/s]\n"
          ]
        },
        {
          "name": "stdout",
          "output_type": "stream",
          "text": [
            "Epoch 34/100, Loss: 0.0494, Validation Loss: 0.2534, BLEU: 76.0177\n",
            "Checkpoint saved to ./checkpoints/checkpoint_epoch_34.pt\n",
            "\n",
            "Starting epoch 35/100\n"
          ]
        },
        {
          "name": "stderr",
          "output_type": "stream",
          "text": [
            "Epoch 35/100: 100%|██████████| 420/420 [00:39<00:00, 10.61batch/s]\n",
            "Validation: 100%|██████████| 53/53 [00:01<00:00, 47.85batch/s]\n"
          ]
        },
        {
          "name": "stdout",
          "output_type": "stream",
          "text": [
            "Epoch 35/100, Loss: 0.0491, Validation Loss: 0.2565, BLEU: 75.9041\n",
            "Checkpoint saved to ./checkpoints/checkpoint_epoch_35.pt\n",
            "\n",
            "Starting epoch 36/100\n"
          ]
        },
        {
          "name": "stderr",
          "output_type": "stream",
          "text": [
            "Epoch 36/100: 100%|██████████| 420/420 [00:39<00:00, 10.65batch/s]\n",
            "Validation: 100%|██████████| 53/53 [00:01<00:00, 47.90batch/s]\n"
          ]
        },
        {
          "name": "stdout",
          "output_type": "stream",
          "text": [
            "Epoch 36/100, Loss: 0.0462, Validation Loss: 0.2560, BLEU: 76.0987\n",
            "Checkpoint saved to ./checkpoints/checkpoint_epoch_36.pt\n",
            "\n",
            "Starting epoch 37/100\n"
          ]
        },
        {
          "name": "stderr",
          "output_type": "stream",
          "text": [
            "Epoch 37/100: 100%|██████████| 420/420 [00:39<00:00, 10.67batch/s]\n",
            "Validation: 100%|██████████| 53/53 [00:01<00:00, 47.60batch/s]\n"
          ]
        },
        {
          "name": "stdout",
          "output_type": "stream",
          "text": [
            "Epoch 37/100, Loss: 0.0452, Validation Loss: 0.2607, BLEU: 76.4066\n",
            "Checkpoint saved to ./checkpoints/checkpoint_epoch_37.pt\n",
            "\n",
            "Starting epoch 38/100\n"
          ]
        },
        {
          "name": "stderr",
          "output_type": "stream",
          "text": [
            "Epoch 38/100: 100%|██████████| 420/420 [00:39<00:00, 10.60batch/s]\n",
            "Validation: 100%|██████████| 53/53 [00:01<00:00, 47.79batch/s]\n"
          ]
        },
        {
          "name": "stdout",
          "output_type": "stream",
          "text": [
            "Epoch 38/100, Loss: 0.0448, Validation Loss: 0.2601, BLEU: 75.8490\n",
            "Checkpoint saved to ./checkpoints/checkpoint_epoch_38.pt\n",
            "\n",
            "Starting epoch 39/100\n"
          ]
        },
        {
          "name": "stderr",
          "output_type": "stream",
          "text": [
            "Epoch 39/100: 100%|██████████| 420/420 [00:39<00:00, 10.69batch/s]\n",
            "Validation: 100%|██████████| 53/53 [00:01<00:00, 48.00batch/s]\n"
          ]
        },
        {
          "name": "stdout",
          "output_type": "stream",
          "text": [
            "Epoch 39/100, Loss: 0.0405, Validation Loss: 0.2600, BLEU: 76.8349\n",
            "Checkpoint saved to ./checkpoints/checkpoint_epoch_39.pt\n",
            "\n",
            "Starting epoch 40/100\n"
          ]
        },
        {
          "name": "stderr",
          "output_type": "stream",
          "text": [
            "Epoch 40/100: 100%|██████████| 420/420 [00:39<00:00, 10.66batch/s]\n",
            "Validation: 100%|██████████| 53/53 [00:01<00:00, 47.84batch/s]\n"
          ]
        },
        {
          "name": "stdout",
          "output_type": "stream",
          "text": [
            "Epoch 40/100, Loss: 0.0400, Validation Loss: 0.2619, BLEU: 76.1811\n",
            "Checkpoint saved to ./checkpoints/checkpoint_epoch_40.pt\n",
            "\n",
            "Starting epoch 41/100\n"
          ]
        },
        {
          "name": "stderr",
          "output_type": "stream",
          "text": [
            "Epoch 41/100: 100%|██████████| 420/420 [00:39<00:00, 10.60batch/s]\n",
            "Validation: 100%|██████████| 53/53 [00:01<00:00, 46.78batch/s]\n"
          ]
        },
        {
          "name": "stdout",
          "output_type": "stream",
          "text": [
            "Epoch 41/100, Loss: 0.0391, Validation Loss: 0.2705, BLEU: 75.8262\n",
            "Checkpoint saved to ./checkpoints/checkpoint_epoch_41.pt\n",
            "\n",
            "Starting epoch 42/100\n"
          ]
        },
        {
          "name": "stderr",
          "output_type": "stream",
          "text": [
            "Epoch 42/100: 100%|██████████| 420/420 [00:39<00:00, 10.69batch/s]\n",
            "Validation: 100%|██████████| 53/53 [00:01<00:00, 47.84batch/s]\n"
          ]
        },
        {
          "name": "stdout",
          "output_type": "stream",
          "text": [
            "Epoch 42/100, Loss: 0.0375, Validation Loss: 0.2675, BLEU: 75.9256\n",
            "Checkpoint saved to ./checkpoints/checkpoint_epoch_42.pt\n",
            "\n",
            "Starting epoch 43/100\n"
          ]
        },
        {
          "name": "stderr",
          "output_type": "stream",
          "text": [
            "Epoch 43/100: 100%|██████████| 420/420 [00:39<00:00, 10.76batch/s]\n",
            "Validation: 100%|██████████| 53/53 [00:01<00:00, 49.41batch/s]\n"
          ]
        },
        {
          "name": "stdout",
          "output_type": "stream",
          "text": [
            "Epoch 43/100, Loss: 0.0368, Validation Loss: 0.2665, BLEU: 76.3928\n",
            "Checkpoint saved to ./checkpoints/checkpoint_epoch_43.pt\n",
            "\n",
            "Starting epoch 44/100\n"
          ]
        },
        {
          "name": "stderr",
          "output_type": "stream",
          "text": [
            "Epoch 44/100: 100%|██████████| 420/420 [00:39<00:00, 10.60batch/s]\n",
            "Validation: 100%|██████████| 53/53 [00:01<00:00, 47.24batch/s]\n"
          ]
        },
        {
          "name": "stdout",
          "output_type": "stream",
          "text": [
            "Epoch 44/100, Loss: 0.0367, Validation Loss: 0.2652, BLEU: 76.1206\n",
            "Checkpoint saved to ./checkpoints/checkpoint_epoch_44.pt\n",
            "\n",
            "Starting epoch 45/100\n"
          ]
        },
        {
          "name": "stderr",
          "output_type": "stream",
          "text": [
            "Epoch 45/100: 100%|██████████| 420/420 [00:40<00:00, 10.50batch/s]\n",
            "Validation: 100%|██████████| 53/53 [00:01<00:00, 47.54batch/s]\n"
          ]
        },
        {
          "name": "stdout",
          "output_type": "stream",
          "text": [
            "Epoch 45/100, Loss: 0.0341, Validation Loss: 0.2659, BLEU: 76.6076\n",
            "Checkpoint saved to ./checkpoints/checkpoint_epoch_45.pt\n",
            "\n",
            "Starting epoch 46/100\n"
          ]
        },
        {
          "name": "stderr",
          "output_type": "stream",
          "text": [
            "Epoch 46/100: 100%|██████████| 420/420 [00:39<00:00, 10.60batch/s]\n",
            "Validation: 100%|██████████| 53/53 [00:01<00:00, 48.27batch/s]\n"
          ]
        },
        {
          "name": "stdout",
          "output_type": "stream",
          "text": [
            "Epoch 46/100, Loss: 0.0337, Validation Loss: 0.2702, BLEU: 76.1551\n",
            "Checkpoint saved to ./checkpoints/checkpoint_epoch_46.pt\n",
            "\n",
            "Starting epoch 47/100\n"
          ]
        },
        {
          "name": "stderr",
          "output_type": "stream",
          "text": [
            "Epoch 47/100: 100%|██████████| 420/420 [00:39<00:00, 10.58batch/s]\n",
            "Validation: 100%|██████████| 53/53 [00:01<00:00, 47.59batch/s]\n"
          ]
        },
        {
          "name": "stdout",
          "output_type": "stream",
          "text": [
            "Epoch 47/100, Loss: 0.0329, Validation Loss: 0.2705, BLEU: 76.4490\n",
            "Checkpoint saved to ./checkpoints/checkpoint_epoch_47.pt\n",
            "\n",
            "Starting epoch 48/100\n"
          ]
        },
        {
          "name": "stderr",
          "output_type": "stream",
          "text": [
            "Epoch 48/100: 100%|██████████| 420/420 [00:39<00:00, 10.66batch/s]\n",
            "Validation: 100%|██████████| 53/53 [00:01<00:00, 48.19batch/s]\n"
          ]
        },
        {
          "name": "stdout",
          "output_type": "stream",
          "text": [
            "Epoch 48/100, Loss: 0.0331, Validation Loss: 0.2706, BLEU: 75.9513\n",
            "Checkpoint saved to ./checkpoints/checkpoint_epoch_48.pt\n",
            "\n",
            "Starting epoch 49/100\n"
          ]
        },
        {
          "name": "stderr",
          "output_type": "stream",
          "text": [
            "Epoch 49/100: 100%|██████████| 420/420 [00:40<00:00, 10.47batch/s]\n",
            "Validation: 100%|██████████| 53/53 [00:01<00:00, 46.12batch/s]\n"
          ]
        },
        {
          "name": "stdout",
          "output_type": "stream",
          "text": [
            "Epoch 49/100, Loss: 0.0316, Validation Loss: 0.2702, BLEU: 76.4541\n",
            "Checkpoint saved to ./checkpoints/checkpoint_epoch_49.pt\n",
            "\n",
            "Starting epoch 50/100\n"
          ]
        },
        {
          "name": "stderr",
          "output_type": "stream",
          "text": [
            "Epoch 50/100: 100%|██████████| 420/420 [00:40<00:00, 10.37batch/s]\n",
            "Validation: 100%|██████████| 53/53 [00:01<00:00, 47.07batch/s]\n"
          ]
        },
        {
          "name": "stdout",
          "output_type": "stream",
          "text": [
            "Epoch 50/100, Loss: 0.0312, Validation Loss: 0.2742, BLEU: 75.8900\n",
            "Checkpoint saved to ./checkpoints/checkpoint_epoch_50.pt\n",
            "\n",
            "Starting epoch 51/100\n"
          ]
        },
        {
          "name": "stderr",
          "output_type": "stream",
          "text": [
            "Epoch 51/100: 100%|██████████| 420/420 [00:40<00:00, 10.45batch/s]\n",
            "Validation: 100%|██████████| 53/53 [00:01<00:00, 47.22batch/s]\n"
          ]
        },
        {
          "name": "stdout",
          "output_type": "stream",
          "text": [
            "Epoch 51/100, Loss: 0.0307, Validation Loss: 0.2755, BLEU: 75.9185\n",
            "Checkpoint saved to ./checkpoints/checkpoint_epoch_51.pt\n",
            "\n",
            "Starting epoch 52/100\n"
          ]
        },
        {
          "name": "stderr",
          "output_type": "stream",
          "text": [
            "Epoch 52/100: 100%|██████████| 420/420 [00:40<00:00, 10.44batch/s]\n",
            "Validation: 100%|██████████| 53/53 [00:01<00:00, 46.72batch/s]\n"
          ]
        },
        {
          "name": "stdout",
          "output_type": "stream",
          "text": [
            "Epoch 52/100, Loss: 0.0287, Validation Loss: 0.2779, BLEU: 76.2691\n",
            "Checkpoint saved to ./checkpoints/checkpoint_epoch_52.pt\n",
            "\n",
            "Starting epoch 53/100\n"
          ]
        },
        {
          "name": "stderr",
          "output_type": "stream",
          "text": [
            "Epoch 53/100: 100%|██████████| 420/420 [00:40<00:00, 10.35batch/s]\n",
            "Validation: 100%|██████████| 53/53 [00:01<00:00, 47.65batch/s]\n"
          ]
        },
        {
          "name": "stdout",
          "output_type": "stream",
          "text": [
            "Epoch 53/100, Loss: 0.0281, Validation Loss: 0.2782, BLEU: 76.5332\n",
            "Checkpoint saved to ./checkpoints/checkpoint_epoch_53.pt\n",
            "\n",
            "Starting epoch 54/100\n"
          ]
        },
        {
          "name": "stderr",
          "output_type": "stream",
          "text": [
            "Epoch 54/100: 100%|██████████| 420/420 [00:40<00:00, 10.42batch/s]\n",
            "Validation: 100%|██████████| 53/53 [00:01<00:00, 47.44batch/s]\n"
          ]
        },
        {
          "name": "stdout",
          "output_type": "stream",
          "text": [
            "Epoch 54/100, Loss: 0.0286, Validation Loss: 0.2761, BLEU: 76.3035\n",
            "Checkpoint saved to ./checkpoints/checkpoint_epoch_54.pt\n",
            "\n",
            "Starting epoch 55/100\n"
          ]
        },
        {
          "name": "stderr",
          "output_type": "stream",
          "text": [
            "Epoch 55/100: 100%|██████████| 420/420 [00:40<00:00, 10.42batch/s]\n",
            "Validation: 100%|██████████| 53/53 [00:01<00:00, 47.36batch/s]\n"
          ]
        },
        {
          "name": "stdout",
          "output_type": "stream",
          "text": [
            "Epoch 55/100, Loss: 0.0282, Validation Loss: 0.2775, BLEU: 76.6818\n",
            "Checkpoint saved to ./checkpoints/checkpoint_epoch_55.pt\n",
            "\n",
            "Starting epoch 56/100\n"
          ]
        },
        {
          "name": "stderr",
          "output_type": "stream",
          "text": [
            "Epoch 56/100: 100%|██████████| 420/420 [00:40<00:00, 10.48batch/s]\n",
            "Validation: 100%|██████████| 53/53 [00:01<00:00, 47.98batch/s]\n"
          ]
        },
        {
          "name": "stdout",
          "output_type": "stream",
          "text": [
            "Epoch 56/100, Loss: 0.0274, Validation Loss: 0.2789, BLEU: 76.2063\n",
            "Checkpoint saved to ./checkpoints/checkpoint_epoch_56.pt\n",
            "\n",
            "Starting epoch 57/100\n"
          ]
        },
        {
          "name": "stderr",
          "output_type": "stream",
          "text": [
            "Epoch 57/100: 100%|██████████| 420/420 [00:39<00:00, 10.68batch/s]\n",
            "Validation: 100%|██████████| 53/53 [00:01<00:00, 48.26batch/s]\n"
          ]
        },
        {
          "name": "stdout",
          "output_type": "stream",
          "text": [
            "Epoch 57/100, Loss: 0.0267, Validation Loss: 0.2810, BLEU: 76.1822\n",
            "Checkpoint saved to ./checkpoints/checkpoint_epoch_57.pt\n",
            "\n",
            "Starting epoch 58/100\n"
          ]
        },
        {
          "name": "stderr",
          "output_type": "stream",
          "text": [
            "Epoch 58/100: 100%|██████████| 420/420 [00:39<00:00, 10.68batch/s]\n",
            "Validation: 100%|██████████| 53/53 [00:01<00:00, 48.39batch/s]\n"
          ]
        },
        {
          "name": "stdout",
          "output_type": "stream",
          "text": [
            "Epoch 58/100, Loss: 0.0270, Validation Loss: 0.2811, BLEU: 76.0137\n",
            "Checkpoint saved to ./checkpoints/checkpoint_epoch_58.pt\n",
            "\n",
            "Starting epoch 59/100\n"
          ]
        },
        {
          "name": "stderr",
          "output_type": "stream",
          "text": [
            "Epoch 59/100: 100%|██████████| 420/420 [00:39<00:00, 10.62batch/s]\n",
            "Validation: 100%|██████████| 53/53 [00:01<00:00, 48.54batch/s]\n"
          ]
        },
        {
          "name": "stdout",
          "output_type": "stream",
          "text": [
            "Epoch 59/100, Loss: 0.0259, Validation Loss: 0.2830, BLEU: 76.1734\n",
            "Checkpoint saved to ./checkpoints/checkpoint_epoch_59.pt\n",
            "\n",
            "Starting epoch 60/100\n"
          ]
        },
        {
          "name": "stderr",
          "output_type": "stream",
          "text": [
            "Epoch 60/100: 100%|██████████| 420/420 [00:39<00:00, 10.70batch/s]\n",
            "Validation: 100%|██████████| 53/53 [00:01<00:00, 48.24batch/s]\n"
          ]
        },
        {
          "name": "stdout",
          "output_type": "stream",
          "text": [
            "Epoch 60/100, Loss: 0.0264, Validation Loss: 0.2829, BLEU: 75.9579\n",
            "Checkpoint saved to ./checkpoints/checkpoint_epoch_60.pt\n",
            "\n",
            "Starting epoch 61/100\n"
          ]
        },
        {
          "name": "stderr",
          "output_type": "stream",
          "text": [
            "Epoch 61/100: 100%|██████████| 420/420 [00:39<00:00, 10.69batch/s]\n",
            "Validation: 100%|██████████| 53/53 [00:01<00:00, 48.42batch/s]\n"
          ]
        },
        {
          "name": "stdout",
          "output_type": "stream",
          "text": [
            "Epoch 61/100, Loss: 0.0246, Validation Loss: 0.2838, BLEU: 76.0972\n",
            "Checkpoint saved to ./checkpoints/checkpoint_epoch_61.pt\n",
            "\n",
            "Starting epoch 62/100\n"
          ]
        },
        {
          "name": "stderr",
          "output_type": "stream",
          "text": [
            "Epoch 62/100: 100%|██████████| 420/420 [00:39<00:00, 10.59batch/s]\n",
            "Validation: 100%|██████████| 53/53 [00:01<00:00, 47.97batch/s]\n"
          ]
        },
        {
          "name": "stdout",
          "output_type": "stream",
          "text": [
            "Epoch 62/100, Loss: 0.0246, Validation Loss: 0.2863, BLEU: 76.3053\n",
            "Checkpoint saved to ./checkpoints/checkpoint_epoch_62.pt\n",
            "\n",
            "Starting epoch 63/100\n"
          ]
        },
        {
          "name": "stderr",
          "output_type": "stream",
          "text": [
            "Epoch 63/100: 100%|██████████| 420/420 [00:39<00:00, 10.70batch/s]\n",
            "Validation: 100%|██████████| 53/53 [00:01<00:00, 48.48batch/s]\n"
          ]
        },
        {
          "name": "stdout",
          "output_type": "stream",
          "text": [
            "Epoch 63/100, Loss: 0.0248, Validation Loss: 0.2837, BLEU: 76.3132\n",
            "Checkpoint saved to ./checkpoints/checkpoint_epoch_63.pt\n",
            "\n",
            "Starting epoch 64/100\n"
          ]
        },
        {
          "name": "stderr",
          "output_type": "stream",
          "text": [
            "Epoch 64/100: 100%|██████████| 420/420 [00:39<00:00, 10.68batch/s]\n",
            "Validation: 100%|██████████| 53/53 [00:01<00:00, 48.33batch/s]\n"
          ]
        },
        {
          "name": "stdout",
          "output_type": "stream",
          "text": [
            "Epoch 64/100, Loss: 0.0242, Validation Loss: 0.2856, BLEU: 76.5420\n",
            "Checkpoint saved to ./checkpoints/checkpoint_epoch_64.pt\n",
            "\n",
            "Starting epoch 65/100\n"
          ]
        },
        {
          "name": "stderr",
          "output_type": "stream",
          "text": [
            "Epoch 65/100: 100%|██████████| 420/420 [00:39<00:00, 10.63batch/s]\n",
            "Validation: 100%|██████████| 53/53 [00:01<00:00, 48.36batch/s]\n"
          ]
        },
        {
          "name": "stdout",
          "output_type": "stream",
          "text": [
            "Epoch 65/100, Loss: 0.0247, Validation Loss: 0.2832, BLEU: 76.5984\n",
            "Checkpoint saved to ./checkpoints/checkpoint_epoch_65.pt\n",
            "\n",
            "Starting epoch 66/100\n"
          ]
        },
        {
          "name": "stderr",
          "output_type": "stream",
          "text": [
            "Epoch 66/100: 100%|██████████| 420/420 [00:39<00:00, 10.71batch/s]\n",
            "Validation: 100%|██████████| 53/53 [00:01<00:00, 48.42batch/s]\n"
          ]
        },
        {
          "name": "stdout",
          "output_type": "stream",
          "text": [
            "Epoch 66/100, Loss: 0.0241, Validation Loss: 0.2840, BLEU: 76.2879\n",
            "Checkpoint saved to ./checkpoints/checkpoint_epoch_66.pt\n",
            "\n",
            "Starting epoch 67/100\n"
          ]
        },
        {
          "name": "stderr",
          "output_type": "stream",
          "text": [
            "Epoch 67/100: 100%|██████████| 420/420 [00:39<00:00, 10.70batch/s]\n",
            "Validation: 100%|██████████| 53/53 [00:01<00:00, 48.26batch/s]\n"
          ]
        },
        {
          "name": "stdout",
          "output_type": "stream",
          "text": [
            "Epoch 67/100, Loss: 0.0240, Validation Loss: 0.2864, BLEU: 75.9657\n",
            "Checkpoint saved to ./checkpoints/checkpoint_epoch_67.pt\n",
            "\n",
            "Starting epoch 68/100\n"
          ]
        },
        {
          "name": "stderr",
          "output_type": "stream",
          "text": [
            "Epoch 68/100: 100%|██████████| 420/420 [00:39<00:00, 10.64batch/s]\n",
            "Validation: 100%|██████████| 53/53 [00:01<00:00, 48.15batch/s]\n"
          ]
        },
        {
          "name": "stdout",
          "output_type": "stream",
          "text": [
            "Epoch 68/100, Loss: 0.0232, Validation Loss: 0.2850, BLEU: 75.8520\n",
            "Checkpoint saved to ./checkpoints/checkpoint_epoch_68.pt\n",
            "\n",
            "Starting epoch 69/100\n"
          ]
        },
        {
          "name": "stderr",
          "output_type": "stream",
          "text": [
            "Epoch 69/100: 100%|██████████| 420/420 [00:39<00:00, 10.72batch/s]\n",
            "Validation: 100%|██████████| 53/53 [00:01<00:00, 48.46batch/s]\n"
          ]
        },
        {
          "name": "stdout",
          "output_type": "stream",
          "text": [
            "Epoch 69/100, Loss: 0.0233, Validation Loss: 0.2874, BLEU: 76.0435\n",
            "Checkpoint saved to ./checkpoints/checkpoint_epoch_69.pt\n",
            "\n",
            "Starting epoch 70/100\n"
          ]
        },
        {
          "name": "stderr",
          "output_type": "stream",
          "text": [
            "Epoch 70/100: 100%|██████████| 420/420 [00:39<00:00, 10.71batch/s]\n",
            "Validation: 100%|██████████| 53/53 [00:01<00:00, 48.64batch/s]\n"
          ]
        },
        {
          "name": "stdout",
          "output_type": "stream",
          "text": [
            "Epoch 70/100, Loss: 0.0226, Validation Loss: 0.2893, BLEU: 75.9575\n",
            "Checkpoint saved to ./checkpoints/checkpoint_epoch_70.pt\n",
            "\n",
            "Starting epoch 71/100\n"
          ]
        },
        {
          "name": "stderr",
          "output_type": "stream",
          "text": [
            "Epoch 71/100: 100%|██████████| 420/420 [00:39<00:00, 10.65batch/s]\n",
            "Validation: 100%|██████████| 53/53 [00:01<00:00, 48.28batch/s]\n"
          ]
        },
        {
          "name": "stdout",
          "output_type": "stream",
          "text": [
            "Epoch 71/100, Loss: 0.0228, Validation Loss: 0.2904, BLEU: 75.9441\n",
            "Checkpoint saved to ./checkpoints/checkpoint_epoch_71.pt\n",
            "\n",
            "Starting epoch 72/100\n"
          ]
        },
        {
          "name": "stderr",
          "output_type": "stream",
          "text": [
            "Epoch 72/100: 100%|██████████| 420/420 [00:39<00:00, 10.73batch/s]\n",
            "Validation: 100%|██████████| 53/53 [00:01<00:00, 48.87batch/s]\n"
          ]
        },
        {
          "name": "stdout",
          "output_type": "stream",
          "text": [
            "Epoch 72/100, Loss: 0.0216, Validation Loss: 0.2904, BLEU: 76.0346\n",
            "Checkpoint saved to ./checkpoints/checkpoint_epoch_72.pt\n",
            "\n",
            "Starting epoch 73/100\n"
          ]
        },
        {
          "name": "stderr",
          "output_type": "stream",
          "text": [
            "Epoch 73/100: 100%|██████████| 420/420 [00:39<00:00, 10.73batch/s]\n",
            "Validation: 100%|██████████| 53/53 [00:01<00:00, 48.40batch/s]\n"
          ]
        },
        {
          "name": "stdout",
          "output_type": "stream",
          "text": [
            "Epoch 73/100, Loss: 0.0223, Validation Loss: 0.2902, BLEU: 76.4578\n",
            "Checkpoint saved to ./checkpoints/checkpoint_epoch_73.pt\n",
            "\n",
            "Starting epoch 74/100\n"
          ]
        },
        {
          "name": "stderr",
          "output_type": "stream",
          "text": [
            "Epoch 74/100: 100%|██████████| 420/420 [00:39<00:00, 10.65batch/s]\n",
            "Validation: 100%|██████████| 53/53 [00:01<00:00, 48.53batch/s]\n"
          ]
        },
        {
          "name": "stdout",
          "output_type": "stream",
          "text": [
            "Epoch 74/100, Loss: 0.0221, Validation Loss: 0.2910, BLEU: 75.9595\n",
            "Checkpoint saved to ./checkpoints/checkpoint_epoch_74.pt\n",
            "\n",
            "Starting epoch 75/100\n"
          ]
        },
        {
          "name": "stderr",
          "output_type": "stream",
          "text": [
            "Epoch 75/100: 100%|██████████| 420/420 [00:39<00:00, 10.71batch/s]\n",
            "Validation: 100%|██████████| 53/53 [00:01<00:00, 48.60batch/s]\n"
          ]
        },
        {
          "name": "stdout",
          "output_type": "stream",
          "text": [
            "Epoch 75/100, Loss: 0.0220, Validation Loss: 0.2912, BLEU: 76.0522\n",
            "Checkpoint saved to ./checkpoints/checkpoint_epoch_75.pt\n",
            "\n",
            "Starting epoch 76/100\n"
          ]
        },
        {
          "name": "stderr",
          "output_type": "stream",
          "text": [
            "Epoch 76/100: 100%|██████████| 420/420 [00:39<00:00, 10.72batch/s]\n",
            "Validation: 100%|██████████| 53/53 [00:01<00:00, 48.48batch/s]\n"
          ]
        },
        {
          "name": "stdout",
          "output_type": "stream",
          "text": [
            "Epoch 76/100, Loss: 0.0219, Validation Loss: 0.2898, BLEU: 76.1310\n",
            "Checkpoint saved to ./checkpoints/checkpoint_epoch_76.pt\n",
            "\n",
            "Starting epoch 77/100\n"
          ]
        },
        {
          "name": "stderr",
          "output_type": "stream",
          "text": [
            "Epoch 77/100: 100%|██████████| 420/420 [00:39<00:00, 10.65batch/s]\n",
            "Validation: 100%|██████████| 53/53 [00:01<00:00, 48.33batch/s]\n"
          ]
        },
        {
          "name": "stdout",
          "output_type": "stream",
          "text": [
            "Epoch 77/100, Loss: 0.0206, Validation Loss: 0.2932, BLEU: 76.2496\n",
            "Checkpoint saved to ./checkpoints/checkpoint_epoch_77.pt\n",
            "\n",
            "Starting epoch 78/100\n"
          ]
        },
        {
          "name": "stderr",
          "output_type": "stream",
          "text": [
            "Epoch 78/100: 100%|██████████| 420/420 [00:39<00:00, 10.71batch/s]\n",
            "Validation: 100%|██████████| 53/53 [00:01<00:00, 49.09batch/s]\n"
          ]
        },
        {
          "name": "stdout",
          "output_type": "stream",
          "text": [
            "Epoch 78/100, Loss: 0.0213, Validation Loss: 0.2915, BLEU: 76.3257\n",
            "Checkpoint saved to ./checkpoints/checkpoint_epoch_78.pt\n",
            "\n",
            "Starting epoch 79/100\n"
          ]
        },
        {
          "name": "stderr",
          "output_type": "stream",
          "text": [
            "Epoch 79/100: 100%|██████████| 420/420 [00:39<00:00, 10.71batch/s]\n",
            "Validation: 100%|██████████| 53/53 [00:01<00:00, 48.32batch/s]\n"
          ]
        },
        {
          "name": "stdout",
          "output_type": "stream",
          "text": [
            "Epoch 79/100, Loss: 0.0208, Validation Loss: 0.2913, BLEU: 76.3069\n",
            "Checkpoint saved to ./checkpoints/checkpoint_epoch_79.pt\n",
            "\n",
            "Starting epoch 80/100\n"
          ]
        },
        {
          "name": "stderr",
          "output_type": "stream",
          "text": [
            "Epoch 80/100: 100%|██████████| 420/420 [00:39<00:00, 10.65batch/s]\n",
            "Validation: 100%|██████████| 53/53 [00:01<00:00, 48.43batch/s]\n"
          ]
        },
        {
          "name": "stdout",
          "output_type": "stream",
          "text": [
            "Epoch 80/100, Loss: 0.0206, Validation Loss: 0.2940, BLEU: 76.2549\n",
            "Checkpoint saved to ./checkpoints/checkpoint_epoch_80.pt\n",
            "\n",
            "Starting epoch 81/100\n"
          ]
        },
        {
          "name": "stderr",
          "output_type": "stream",
          "text": [
            "Epoch 81/100: 100%|██████████| 420/420 [00:39<00:00, 10.72batch/s]\n",
            "Validation: 100%|██████████| 53/53 [00:01<00:00, 48.74batch/s]\n"
          ]
        },
        {
          "name": "stdout",
          "output_type": "stream",
          "text": [
            "Epoch 81/100, Loss: 0.0206, Validation Loss: 0.2953, BLEU: 76.1258\n",
            "Checkpoint saved to ./checkpoints/checkpoint_epoch_81.pt\n",
            "\n",
            "Starting epoch 82/100\n"
          ]
        },
        {
          "name": "stderr",
          "output_type": "stream",
          "text": [
            "Epoch 82/100: 100%|██████████| 420/420 [00:39<00:00, 10.73batch/s]\n",
            "Validation: 100%|██████████| 53/53 [00:01<00:00, 48.27batch/s]\n"
          ]
        },
        {
          "name": "stdout",
          "output_type": "stream",
          "text": [
            "Epoch 82/100, Loss: 0.0202, Validation Loss: 0.2970, BLEU: 76.1809\n",
            "Checkpoint saved to ./checkpoints/checkpoint_epoch_82.pt\n",
            "\n",
            "Starting epoch 83/100\n"
          ]
        },
        {
          "name": "stderr",
          "output_type": "stream",
          "text": [
            "Epoch 83/100: 100%|██████████| 420/420 [00:39<00:00, 10.65batch/s]\n",
            "Validation: 100%|██████████| 53/53 [00:01<00:00, 48.31batch/s]\n"
          ]
        },
        {
          "name": "stdout",
          "output_type": "stream",
          "text": [
            "Epoch 83/100, Loss: 0.0203, Validation Loss: 0.2966, BLEU: 76.4194\n",
            "Checkpoint saved to ./checkpoints/checkpoint_epoch_83.pt\n",
            "\n",
            "Starting epoch 84/100\n"
          ]
        },
        {
          "name": "stderr",
          "output_type": "stream",
          "text": [
            "Epoch 84/100: 100%|██████████| 420/420 [00:39<00:00, 10.73batch/s]\n",
            "Validation: 100%|██████████| 53/53 [00:01<00:00, 48.96batch/s]\n"
          ]
        },
        {
          "name": "stdout",
          "output_type": "stream",
          "text": [
            "Epoch 84/100, Loss: 0.0202, Validation Loss: 0.2972, BLEU: 76.1258\n",
            "Checkpoint saved to ./checkpoints/checkpoint_epoch_84.pt\n",
            "\n",
            "Starting epoch 85/100\n"
          ]
        },
        {
          "name": "stderr",
          "output_type": "stream",
          "text": [
            "Epoch 85/100: 100%|██████████| 420/420 [00:39<00:00, 10.70batch/s]\n",
            "Validation: 100%|██████████| 53/53 [00:01<00:00, 48.49batch/s]\n"
          ]
        },
        {
          "name": "stdout",
          "output_type": "stream",
          "text": [
            "Epoch 85/100, Loss: 0.0202, Validation Loss: 0.2980, BLEU: 75.9397\n",
            "Checkpoint saved to ./checkpoints/checkpoint_epoch_85.pt\n",
            "\n",
            "Starting epoch 86/100\n"
          ]
        },
        {
          "name": "stderr",
          "output_type": "stream",
          "text": [
            "Epoch 86/100: 100%|██████████| 420/420 [00:39<00:00, 10.63batch/s]\n",
            "Validation: 100%|██████████| 53/53 [00:01<00:00, 48.63batch/s]\n"
          ]
        },
        {
          "name": "stdout",
          "output_type": "stream",
          "text": [
            "Epoch 86/100, Loss: 0.0201, Validation Loss: 0.2975, BLEU: 76.0483\n",
            "Checkpoint saved to ./checkpoints/checkpoint_epoch_86.pt\n",
            "\n",
            "Starting epoch 87/100\n"
          ]
        },
        {
          "name": "stderr",
          "output_type": "stream",
          "text": [
            "Epoch 87/100: 100%|██████████| 420/420 [00:39<00:00, 10.72batch/s]\n",
            "Validation: 100%|██████████| 53/53 [00:01<00:00, 48.75batch/s]\n"
          ]
        },
        {
          "name": "stdout",
          "output_type": "stream",
          "text": [
            "Epoch 87/100, Loss: 0.0199, Validation Loss: 0.2976, BLEU: 75.8911\n",
            "Checkpoint saved to ./checkpoints/checkpoint_epoch_87.pt\n",
            "\n",
            "Starting epoch 88/100\n"
          ]
        },
        {
          "name": "stderr",
          "output_type": "stream",
          "text": [
            "Epoch 88/100: 100%|██████████| 420/420 [00:39<00:00, 10.72batch/s]\n",
            "Validation: 100%|██████████| 53/53 [00:01<00:00, 48.57batch/s]\n"
          ]
        },
        {
          "name": "stdout",
          "output_type": "stream",
          "text": [
            "Epoch 88/100, Loss: 0.0197, Validation Loss: 0.2976, BLEU: 76.1694\n",
            "Checkpoint saved to ./checkpoints/checkpoint_epoch_88.pt\n",
            "\n",
            "Starting epoch 89/100\n"
          ]
        },
        {
          "name": "stderr",
          "output_type": "stream",
          "text": [
            "Epoch 89/100: 100%|██████████| 420/420 [00:39<00:00, 10.65batch/s]\n",
            "Validation: 100%|██████████| 53/53 [00:01<00:00, 48.19batch/s]\n"
          ]
        },
        {
          "name": "stdout",
          "output_type": "stream",
          "text": [
            "Epoch 89/100, Loss: 0.0191, Validation Loss: 0.2994, BLEU: 76.4376\n",
            "Checkpoint saved to ./checkpoints/checkpoint_epoch_89.pt\n",
            "\n",
            "Starting epoch 90/100\n"
          ]
        },
        {
          "name": "stderr",
          "output_type": "stream",
          "text": [
            "Epoch 90/100: 100%|██████████| 420/420 [00:39<00:00, 10.74batch/s]\n",
            "Validation: 100%|██████████| 53/53 [00:01<00:00, 48.80batch/s]\n"
          ]
        },
        {
          "name": "stdout",
          "output_type": "stream",
          "text": [
            "Epoch 90/100, Loss: 0.0201, Validation Loss: 0.2985, BLEU: 76.4792\n",
            "Checkpoint saved to ./checkpoints/checkpoint_epoch_90.pt\n",
            "\n",
            "Starting epoch 91/100\n"
          ]
        },
        {
          "name": "stderr",
          "output_type": "stream",
          "text": [
            "Epoch 91/100: 100%|██████████| 420/420 [00:39<00:00, 10.71batch/s]\n",
            "Validation: 100%|██████████| 53/53 [00:01<00:00, 48.53batch/s]\n"
          ]
        },
        {
          "name": "stdout",
          "output_type": "stream",
          "text": [
            "Epoch 91/100, Loss: 0.0192, Validation Loss: 0.2988, BLEU: 76.5133\n",
            "Checkpoint saved to ./checkpoints/checkpoint_epoch_91.pt\n",
            "\n",
            "Starting epoch 92/100\n"
          ]
        },
        {
          "name": "stderr",
          "output_type": "stream",
          "text": [
            "Epoch 92/100: 100%|██████████| 420/420 [00:39<00:00, 10.65batch/s]\n",
            "Validation: 100%|██████████| 53/53 [00:01<00:00, 48.57batch/s]\n"
          ]
        },
        {
          "name": "stdout",
          "output_type": "stream",
          "text": [
            "Epoch 92/100, Loss: 0.0192, Validation Loss: 0.2990, BLEU: 76.5260\n",
            "Checkpoint saved to ./checkpoints/checkpoint_epoch_92.pt\n",
            "\n",
            "Starting epoch 93/100\n"
          ]
        },
        {
          "name": "stderr",
          "output_type": "stream",
          "text": [
            "Epoch 93/100: 100%|██████████| 420/420 [00:39<00:00, 10.65batch/s]\n",
            "Validation: 100%|██████████| 53/53 [00:01<00:00, 48.42batch/s]\n"
          ]
        },
        {
          "name": "stdout",
          "output_type": "stream",
          "text": [
            "Epoch 93/100, Loss: 0.0191, Validation Loss: 0.2997, BLEU: 76.4823\n",
            "Checkpoint saved to ./checkpoints/checkpoint_epoch_93.pt\n",
            "\n",
            "Starting epoch 94/100\n"
          ]
        },
        {
          "name": "stderr",
          "output_type": "stream",
          "text": [
            "Epoch 94/100: 100%|██████████| 420/420 [00:39<00:00, 10.64batch/s]\n",
            "Validation: 100%|██████████| 53/53 [00:01<00:00, 48.04batch/s]\n"
          ]
        },
        {
          "name": "stdout",
          "output_type": "stream",
          "text": [
            "Epoch 94/100, Loss: 0.0187, Validation Loss: 0.3002, BLEU: 76.5504\n",
            "Checkpoint saved to ./checkpoints/checkpoint_epoch_94.pt\n",
            "\n",
            "Starting epoch 95/100\n"
          ]
        },
        {
          "name": "stderr",
          "output_type": "stream",
          "text": [
            "Epoch 95/100: 100%|██████████| 420/420 [00:39<00:00, 10.59batch/s]\n",
            "Validation: 100%|██████████| 53/53 [00:01<00:00, 47.43batch/s]\n"
          ]
        },
        {
          "name": "stdout",
          "output_type": "stream",
          "text": [
            "Epoch 95/100, Loss: 0.0190, Validation Loss: 0.3000, BLEU: 76.3982\n",
            "Checkpoint saved to ./checkpoints/checkpoint_epoch_95.pt\n",
            "\n",
            "Starting epoch 96/100\n"
          ]
        },
        {
          "name": "stderr",
          "output_type": "stream",
          "text": [
            "Epoch 96/100: 100%|██████████| 420/420 [00:39<00:00, 10.67batch/s]\n",
            "Validation: 100%|██████████| 53/53 [00:01<00:00, 47.98batch/s]\n"
          ]
        },
        {
          "name": "stdout",
          "output_type": "stream",
          "text": [
            "Epoch 96/100, Loss: 0.0189, Validation Loss: 0.3001, BLEU: 76.4386\n",
            "Checkpoint saved to ./checkpoints/checkpoint_epoch_96.pt\n",
            "\n",
            "Starting epoch 97/100\n"
          ]
        },
        {
          "name": "stderr",
          "output_type": "stream",
          "text": [
            "Epoch 97/100: 100%|██████████| 420/420 [00:39<00:00, 10.66batch/s]\n",
            "Validation: 100%|██████████| 53/53 [00:01<00:00, 47.73batch/s]\n"
          ]
        },
        {
          "name": "stdout",
          "output_type": "stream",
          "text": [
            "Epoch 97/100, Loss: 0.0193, Validation Loss: 0.2998, BLEU: 76.4386\n",
            "Checkpoint saved to ./checkpoints/checkpoint_epoch_97.pt\n",
            "\n",
            "Starting epoch 98/100\n"
          ]
        },
        {
          "name": "stderr",
          "output_type": "stream",
          "text": [
            "Epoch 98/100: 100%|██████████| 420/420 [00:39<00:00, 10.59batch/s]\n",
            "Validation: 100%|██████████| 53/53 [00:01<00:00, 47.40batch/s]\n"
          ]
        },
        {
          "name": "stdout",
          "output_type": "stream",
          "text": [
            "Epoch 98/100, Loss: 0.0193, Validation Loss: 0.2997, BLEU: 76.3545\n",
            "Checkpoint saved to ./checkpoints/checkpoint_epoch_98.pt\n",
            "\n",
            "Starting epoch 99/100\n"
          ]
        },
        {
          "name": "stderr",
          "output_type": "stream",
          "text": [
            "Epoch 99/100: 100%|██████████| 420/420 [00:39<00:00, 10.66batch/s]\n",
            "Validation: 100%|██████████| 53/53 [00:01<00:00, 48.03batch/s]\n"
          ]
        },
        {
          "name": "stdout",
          "output_type": "stream",
          "text": [
            "Epoch 99/100, Loss: 0.0190, Validation Loss: 0.2996, BLEU: 76.4386\n",
            "Checkpoint saved to ./checkpoints/checkpoint_epoch_99.pt\n",
            "\n",
            "Starting epoch 100/100\n"
          ]
        },
        {
          "name": "stderr",
          "output_type": "stream",
          "text": [
            "Epoch 100/100: 100%|██████████| 420/420 [00:39<00:00, 10.65batch/s]\n",
            "Validation: 100%|██████████| 53/53 [00:01<00:00, 47.37batch/s]\n"
          ]
        },
        {
          "name": "stdout",
          "output_type": "stream",
          "text": [
            "Epoch 100/100, Loss: 0.0180, Validation Loss: 0.2997, BLEU: 76.4386\n",
            "Checkpoint saved to ./checkpoints/checkpoint_epoch_100.pt\n"
          ]
        }
      ],
      "source": [
        "import tqdm\n",
        "from tqdm import tqdm\n",
        "import sacrebleu\n",
        "\n",
        "# 손실 값을 저장할 리스트 초기화\n",
        "train_losses = []\n",
        "val_losses = []\n",
        "bleu_scores = []\n",
        "\n",
        "# 조기 종료 변수 설정\n",
        "# early_stopping_patience = 5  # 손실 개선이 없을 때 기다리는 에포크 수\n",
        "best_val_loss = float('inf')\n",
        "epochs_since_improvement = 0\n",
        "\n",
        "for epoch in range(num_epochs):\n",
        "    model.train()  # 학습 모드로 전환\n",
        "    total_loss = 0\n",
        "\n",
        "    print(f'\\nStarting epoch {epoch+1}/{num_epochs}')\n",
        "\n",
        "    # tqdm을 사용하여 배치 진행 상태 표시\n",
        "    for batch in tqdm(train_dataloader, desc=f'Epoch {epoch+1}/{num_epochs}', unit='batch'):\n",
        "        optimizer.zero_grad()  # 기울기 초기화\n",
        "\n",
        "        # 입력 데이터를 GPU로 이동\n",
        "        input_ids = batch['input_ids'].to(device)\n",
        "        attention_mask = batch['attention_mask'].to(device)\n",
        "        labels = batch['labels'].to(device)\n",
        "\n",
        "        # 모델에 데이터 전달\n",
        "        outputs = model(input_ids=input_ids, attention_mask=attention_mask, labels=labels)\n",
        "        loss = outputs.loss\n",
        "\n",
        "        loss.backward()  # 역전파\n",
        "        optimizer.step()  # 옵티마이저 스텝\n",
        "        scheduler.step()  # 학습률 스케줄러 스텝\n",
        "\n",
        "        total_loss += loss.item()\n",
        "\n",
        "    avg_loss = total_loss / len(train_dataloader)\n",
        "    train_losses.append(avg_loss)  # 훈련 손실 저장\n",
        "\n",
        "    # Epoch 종료 후 검증 데이터셋에서 성능 평가\n",
        "    model.eval()  # 평가 모드로 전환\n",
        "    total_val_loss = 0\n",
        "    predictions = []\n",
        "    references = []\n",
        "\n",
        "    with torch.no_grad():\n",
        "        # tqdm을 사용하여 검증 배치 진행 상태 표시\n",
        "        for batch in tqdm(val_dataloader, desc='Validation', unit='batch'):\n",
        "            # 입력 데이터를 GPU로 이동\n",
        "            input_ids = batch['input_ids'].to(device)\n",
        "            attention_mask = batch['attention_mask'].to(device)\n",
        "            labels = batch['labels'].to(device)\n",
        "\n",
        "            outputs = model(input_ids=input_ids, attention_mask=attention_mask, labels=labels)\n",
        "            loss = outputs.loss\n",
        "            total_val_loss += loss.item()\n",
        "\n",
        "            # 예측 결과 디코딩\n",
        "            decoded_preds = tokenizer.batch_decode(outputs.logits.argmax(dim=-1), skip_special_tokens=True)\n",
        "\n",
        "            # 실제 레이블 디코딩\n",
        "            decoded_labels = []\n",
        "            for label in labels:\n",
        "                label_ids = label[label != tokenizer.pad_token_id].tolist()\n",
        "                decoded_label = tokenizer.decode(label_ids, skip_special_tokens=True)\n",
        "                decoded_labels.append(decoded_label)\n",
        "\n",
        "            # 예측 결과와 참조 번역 수집\n",
        "            predictions.extend(decoded_preds)\n",
        "            references.extend(decoded_labels)\n",
        "\n",
        "    avg_val_loss = total_val_loss / len(val_dataloader)\n",
        "    val_losses.append(avg_val_loss)  # 검증 손실 저장\n",
        "\n",
        "    # BLEU 점수 계산\n",
        "    bleu_score = sacrebleu.corpus_bleu(predictions, [references])\n",
        "    bleu_scores.append(bleu_score.score)\n",
        "\n",
        "    print(f'Epoch {epoch+1}/{num_epochs}, Loss: {avg_loss:.4f}, Validation Loss: {avg_val_loss:.4f}, BLEU: {bleu_score.score:.4f}')\n",
        "\n",
        "    # 체크포인트 저장\n",
        "    checkpoint_path = os.path.join(checkpoint_dir, f'checkpoint_epoch_{epoch+1}.pt')\n",
        "    torch.save({\n",
        "        'epoch': epoch + 1,\n",
        "        'model_state_dict': model.state_dict(),\n",
        "        'optimizer_state_dict': optimizer.state_dict(),\n",
        "        'scheduler_state_dict': scheduler.state_dict(),\n",
        "        'loss': avg_loss,\n",
        "        'val_loss': avg_val_loss,\n",
        "        'bleu_score': bleu_score.score\n",
        "    }, checkpoint_path)\n",
        "\n",
        "    print(f'Checkpoint saved to {checkpoint_path}')\n"
      ]
    },
    {
      "cell_type": "code",
      "execution_count": 24,
      "metadata": {
        "id": "TgSCHh7ytJwE"
      },
      "outputs": [
        {
          "data": {
            "image/png": "[encoded data removed]",
            "text/plain": [
              "<Figure size 1200x600 with 1 Axes>"
            ]
          },
          "metadata": {},
          "output_type": "display_data"
        }
      ],
      "source": [
        "import matplotlib.pyplot as plt\n",
        "\n",
        "# 손실 값 시각화\n",
        "plt.figure(figsize=(12, 6))\n",
        "plt.plot(range(1, len(train_losses) + 1), train_losses, label='Training Loss', marker='o')\n",
        "plt.plot(range(1, len(val_losses) + 1), val_losses, label='Validation Loss', marker='o')\n",
        "plt.xlabel('Epoch')\n",
        "plt.ylabel('Loss')\n",
        "plt.title('Training and Validation Loss')\n",
        "plt.legend()\n",
        "plt.ylim([0, 1])\n",
        "plt.grid(True)\n",
        "plt.show()\n"
      ]
    },
    {
      "cell_type": "code",
      "execution_count": 25,
      "metadata": {},
      "outputs": [
        {
          "data": {
            "image/png": "[encoded data removed]",
            "text/plain": [
              "<Figure size 1200x600 with 1 Axes>"
            ]
          },
          "metadata": {},
          "output_type": "display_data"
        }
      ],
      "source": [
        "# BLEU 점수 시각화\n",
        "plt.figure(figsize=(12, 6))\n",
        "plt.plot(range(1, len(bleu_scores) + 1), bleu_scores, label='BLEU Score', marker='o', color='orange')\n",
        "plt.xlabel('Epoch')\n",
        "plt.ylabel('BLEU Score')\n",
        "plt.title('BLEU Score by Epoch')\n",
        "plt.legend()\n",
        "plt.grid(True)\n",
        "\n",
        "# 전체 시각화 출력\n",
        "plt.tight_layout()\n",
        "plt.show()"
      ]
    },
    {
      "cell_type": "markdown",
      "metadata": {
        "id": "FlokjiyXEZDu"
      },
      "source": [
        "## 5. test"
      ]
    },
    {
      "cell_type": "code",
      "execution_count": 33,
      "metadata": {},
      "outputs": [
        {
          "data": {
            "text/plain": [
              "(23, 39)"
            ]
          },
          "execution_count": 33,
          "metadata": {},
          "output_type": "execute_result"
        }
      ],
      "source": [
        "#train_losses\n",
        "(np.argmin(val_losses)+1, np.argmax(bleu_scores)+1)\n",
        "#"
      ]
    },
    {
      "cell_type": "code",
      "execution_count": 34,
      "metadata": {
        "id": "cFL0DW6IaInR"
      },
      "outputs": [
        {
          "name": "stderr",
          "output_type": "stream",
          "text": [
            "/tmp/ipykernel_14485/3575378228.py:3: FutureWarning: You are using `torch.load` with `weights_only=False` (the current default value), which uses the default pickle module implicitly. It is possible to construct malicious pickle data which will execute arbitrary code during unpickling (See https://github.com/pytorch/pytorch/blob/main/SECURITY.md#untrusted-models for more details). In a future release, the default value for `weights_only` will be flipped to `True`. This limits the functions that could be executed during unpickling. Arbitrary objects will no longer be allowed to be loaded via this mode unless they are explicitly allowlisted by the user via `torch.serialization.add_safe_globals`. We recommend you start setting `weights_only=True` for any use case where you don't have full control of the loaded file. Please open an issue on GitHub for any issues related to this experimental feature.\n",
            "  checkpoint = torch.load(checkpoint_path)\n"
          ]
        }
      ],
      "source": [
        "# 체크포인트 로드\n",
        "checkpoint_path = './checkpoints/checkpoint_epoch_39.pt'\n",
        "checkpoint = torch.load(checkpoint_path)\n",
        "model.load_state_dict(checkpoint['model_state_dict'])\n",
        "optimizer.load_state_dict(checkpoint['optimizer_state_dict'])\n",
        "scheduler.load_state_dict(checkpoint['scheduler_state_dict'])"
      ]
    },
    {
      "cell_type": "code",
      "execution_count": null,
      "metadata": {
        "colab": {
          "base_uri": "https://localhost:8080/"
        },
        "id": "FYU37C_HeFOm",
        "outputId": "18ffb9a7-728c-45fe-d8ab-09eee473c933"
      },
      "outputs": [
        {
          "data": {
            "text/plain": [
              "BartForConditionalGeneration(\n",
              "  (model): BartModel(\n",
              "    (shared): Embedding(30000, 768, padding_idx=3)\n",
              "    (encoder): BartEncoder(\n",
              "      (embed_tokens): BartScaledWordEmbedding(30000, 768, padding_idx=3)\n",
              "      (embed_positions): BartLearnedPositionalEmbedding(1028, 768)\n",
              "      (layers): ModuleList(\n",
              "        (0-5): 6 x BartEncoderLayer(\n",
              "          (self_attn): BartSdpaAttention(\n",
              "            (k_proj): Linear(in_features=768, out_features=768, bias=True)\n",
              "            (v_proj): Linear(in_features=768, out_features=768, bias=True)\n",
              "            (q_proj): Linear(in_features=768, out_features=768, bias=True)\n",
              "            (out_proj): Linear(in_features=768, out_features=768, bias=True)\n",
              "          )\n",
              "          (self_attn_layer_norm): LayerNorm((768,), eps=1e-05, elementwise_affine=True)\n",
              "          (activation_fn): GELUActivation()\n",
              "          (fc1): Linear(in_features=768, out_features=3072, bias=True)\n",
              "          (fc2): Linear(in_features=3072, out_features=768, bias=True)\n",
              "          (final_layer_norm): LayerNorm((768,), eps=1e-05, elementwise_affine=True)\n",
              "        )\n",
              "      )\n",
              "      (layernorm_embedding): LayerNorm((768,), eps=1e-05, elementwise_affine=True)\n",
              "    )\n",
              "    (decoder): BartDecoder(\n",
              "      (embed_tokens): BartScaledWordEmbedding(30000, 768, padding_idx=3)\n",
              "      (embed_positions): BartLearnedPositionalEmbedding(1028, 768)\n",
              "      (layers): ModuleList(\n",
              "        (0-5): 6 x BartDecoderLayer(\n",
              "          (self_attn): BartSdpaAttention(\n",
              "            (k_proj): Linear(in_features=768, out_features=768, bias=True)\n",
              "            (v_proj): Linear(in_features=768, out_features=768, bias=True)\n",
              "            (q_proj): Linear(in_features=768, out_features=768, bias=True)\n",
              "            (out_proj): Linear(in_features=768, out_features=768, bias=True)\n",
              "          )\n",
              "          (activation_fn): GELUActivation()\n",
              "          (self_attn_layer_norm): LayerNorm((768,), eps=1e-05, elementwise_affine=True)\n",
              "          (encoder_attn): BartSdpaAttention(\n",
              "            (k_proj): Linear(in_features=768, out_features=768, bias=True)\n",
              "            (v_proj): Linear(in_features=768, out_features=768, bias=True)\n",
              "            (q_proj): Linear(in_features=768, out_features=768, bias=True)\n",
              "            (out_proj): Linear(in_features=768, out_features=768, bias=True)\n",
              "          )\n",
              "          (encoder_attn_layer_norm): LayerNorm((768,), eps=1e-05, elementwise_affine=True)\n",
              "          (fc1): Linear(in_features=768, out_features=3072, bias=True)\n",
              "          (fc2): Linear(in_features=3072, out_features=768, bias=True)\n",
              "          (final_layer_norm): LayerNorm((768,), eps=1e-05, elementwise_affine=True)\n",
              "        )\n",
              "      )\n",
              "      (layernorm_embedding): LayerNorm((768,), eps=1e-05, elementwise_affine=True)\n",
              "    )\n",
              "  )\n",
              "  (lm_head): Linear(in_features=768, out_features=30000, bias=False)\n",
              ")"
            ]
          },
          "execution_count": 20,
          "metadata": {},
          "output_type": "execute_result"
        }
      ],
      "source": [
        "model"
      ]
    },
    {
      "cell_type": "code",
      "execution_count": 19,
      "metadata": {
        "colab": {
          "base_uri": "https://localhost:8080/"
        },
        "id": "RyhdE8nPMadp",
        "outputId": "d7344eb6-c164-4e8c-db19-bcee62e686b9"
      },
      "outputs": [
        {
          "name": "stderr",
          "output_type": "stream",
          "text": [
            "huggingface/tokenizers: The current process just got forked, after parallelism has already been used. Disabling parallelism to avoid deadlocks...\n",
            "To disable this warning, you can either:\n",
            "\t- Avoid using `tokenizers` before the fork if possible\n",
            "\t- Explicitly set the environment variable TOKENIZERS_PARALLELISM=(true | false)\n"
          ]
        },
        {
          "name": "stdout",
          "output_type": "stream",
          "text": [
            "Collecting sacrebleu\n",
            "  Downloading sacrebleu-2.4.2-py3-none-any.whl.metadata (58 kB)\n",
            "Collecting portalocker (from sacrebleu)\n",
            "  Downloading portalocker-2.10.1-py3-none-any.whl.metadata (8.5 kB)\n",
            "Requirement already satisfied: regex in /home/stonemaeng/anaconda3/envs/g2t/lib/python3.12/site-packages (from sacrebleu) (2024.7.24)\n",
            "Collecting tabulate>=0.8.9 (from sacrebleu)\n",
            "  Downloading tabulate-0.9.0-py3-none-any.whl.metadata (34 kB)\n",
            "Requirement already satisfied: numpy>=1.17 in /home/stonemaeng/anaconda3/envs/g2t/lib/python3.12/site-packages (from sacrebleu) (1.26.4)\n",
            "Collecting colorama (from sacrebleu)\n",
            "  Downloading colorama-0.4.6-py2.py3-none-any.whl.metadata (17 kB)\n",
            "Collecting lxml (from sacrebleu)\n",
            "  Downloading lxml-5.3.0-cp312-cp312-manylinux_2_28_x86_64.whl.metadata (3.8 kB)\n",
            "Downloading sacrebleu-2.4.2-py3-none-any.whl (106 kB)\n",
            "Downloading tabulate-0.9.0-py3-none-any.whl (35 kB)\n",
            "Downloading colorama-0.4.6-py2.py3-none-any.whl (25 kB)\n",
            "Downloading lxml-5.3.0-cp312-cp312-manylinux_2_28_x86_64.whl (4.9 MB)\n",
            "\u001b[2K   \u001b[38;2;114;156;31m━━━━━━━━━━━━━━━━━━━━━━━━━━━━━━━━━━━━━━━━\u001b[0m \u001b[32m4.9/4.9 MB\u001b[0m \u001b[31m3.9 MB/s\u001b[0m eta \u001b[36m0:00:00\u001b[0m[31m3.7 MB/s\u001b[0m eta \u001b[36m0:00:01\u001b[0m\n",
            "\u001b[?25hDownloading portalocker-2.10.1-py3-none-any.whl (18 kB)\n",
            "Installing collected packages: tabulate, portalocker, lxml, colorama, sacrebleu\n",
            "Successfully installed colorama-0.4.6 lxml-5.3.0 portalocker-2.10.1 sacrebleu-2.4.2 tabulate-0.9.0\n"
          ]
        }
      ],
      "source": [
        "!pip install sacrebleu"
      ]
    },
    {
      "cell_type": "code",
      "execution_count": 53,
      "metadata": {},
      "outputs": [
        {
          "name": "stderr",
          "output_type": "stream",
          "text": [
            "huggingface/tokenizers: The current process just got forked, after parallelism has already been used. Disabling parallelism to avoid deadlocks...\n",
            "To disable this warning, you can either:\n",
            "\t- Avoid using `tokenizers` before the fork if possible\n",
            "\t- Explicitly set the environment variable TOKENIZERS_PARALLELISM=(true | false)\n"
          ]
        },
        {
          "name": "stdout",
          "output_type": "stream",
          "text": [
            "Requirement already satisfied: nltk in /home/stonemaeng/anaconda3/envs/g2t/lib/python3.12/site-packages (3.8.1)\n",
            "Requirement already satisfied: click in /home/stonemaeng/anaconda3/envs/g2t/lib/python3.12/site-packages (from nltk) (8.1.7)\n",
            "Requirement already satisfied: joblib in /home/stonemaeng/anaconda3/envs/g2t/lib/python3.12/site-packages (from nltk) (1.4.2)\n",
            "Requirement already satisfied: regex>=2021.8.3 in /home/stonemaeng/anaconda3/envs/g2t/lib/python3.12/site-packages (from nltk) (2024.7.24)\n",
            "Requirement already satisfied: tqdm in /home/stonemaeng/anaconda3/envs/g2t/lib/python3.12/site-packages (from nltk) (4.66.5)\n"
          ]
        }
      ],
      "source": [
        "!pip install nltk"
      ]
    },
    {
      "cell_type": "code",
      "execution_count": 55,
      "metadata": {
        "colab": {
          "base_uri": "https://localhost:8080/"
        },
        "id": "R96j_doRHR3G",
        "outputId": "b32b9727-40ee-439e-a867-c184e99930e9"
      },
      "outputs": [
        {
          "name": "stderr",
          "output_type": "stream",
          "text": [
            "Evaluating:   0%|          | 0/53 [00:00<?, ?it/s]\n"
          ]
        },
        {
          "ename": "LookupError",
          "evalue": "\n**********************************************************************\n  Resource \u001b[93mwordnet\u001b[0m not found.\n  Please use the NLTK Downloader to obtain the resource:\n\n  \u001b[31m>>> import nltk\n  >>> nltk.download('wordnet')\n  \u001b[0m\n  For more information see: https://www.nltk.org/data.html\n\n  Attempted to load \u001b[93mcorpora/wordnet\u001b[0m\n\n  Searched in:\n    - '/home/stonemaeng/nltk_data'\n    - '/home/stonemaeng/anaconda3/envs/g2t/nltk_data'\n    - '/home/stonemaeng/anaconda3/envs/g2t/share/nltk_data'\n    - '/home/stonemaeng/anaconda3/envs/g2t/lib/nltk_data'\n    - '/usr/share/nltk_data'\n    - '/usr/local/share/nltk_data'\n    - '/usr/lib/nltk_data'\n    - '/usr/local/lib/nltk_data'\n**********************************************************************\n",
          "output_type": "error",
          "traceback": [
            "\u001b[0;31m---------------------------------------------------------------------------\u001b[0m",
            "\u001b[0;31mLookupError\u001b[0m                               Traceback (most recent call last)",
            "File \u001b[0;32m~/anaconda3/envs/g2t/lib/python3.12/site-packages/nltk/corpus/util.py:84\u001b[0m, in \u001b[0;36mLazyCorpusLoader.__load\u001b[0;34m(self)\u001b[0m\n\u001b[1;32m     83\u001b[0m \u001b[38;5;28;01mtry\u001b[39;00m:\n\u001b[0;32m---> 84\u001b[0m     root \u001b[38;5;241m=\u001b[39m \u001b[43mnltk\u001b[49m\u001b[38;5;241;43m.\u001b[39;49m\u001b[43mdata\u001b[49m\u001b[38;5;241;43m.\u001b[39;49m\u001b[43mfind\u001b[49m\u001b[43m(\u001b[49m\u001b[38;5;124;43mf\u001b[39;49m\u001b[38;5;124;43m\"\u001b[39;49m\u001b[38;5;132;43;01m{\u001b[39;49;00m\u001b[38;5;28;43mself\u001b[39;49m\u001b[38;5;241;43m.\u001b[39;49m\u001b[43msubdir\u001b[49m\u001b[38;5;132;43;01m}\u001b[39;49;00m\u001b[38;5;124;43m/\u001b[39;49m\u001b[38;5;132;43;01m{\u001b[39;49;00m\u001b[43mzip_name\u001b[49m\u001b[38;5;132;43;01m}\u001b[39;49;00m\u001b[38;5;124;43m\"\u001b[39;49m\u001b[43m)\u001b[49m\n\u001b[1;32m     85\u001b[0m \u001b[38;5;28;01mexcept\u001b[39;00m \u001b[38;5;167;01mLookupError\u001b[39;00m:\n",
            "File \u001b[0;32m~/anaconda3/envs/g2t/lib/python3.12/site-packages/nltk/data.py:583\u001b[0m, in \u001b[0;36mfind\u001b[0;34m(resource_name, paths)\u001b[0m\n\u001b[1;32m    582\u001b[0m resource_not_found \u001b[38;5;241m=\u001b[39m \u001b[38;5;124mf\u001b[39m\u001b[38;5;124m\"\u001b[39m\u001b[38;5;130;01m\\n\u001b[39;00m\u001b[38;5;132;01m{\u001b[39;00msep\u001b[38;5;132;01m}\u001b[39;00m\u001b[38;5;130;01m\\n\u001b[39;00m\u001b[38;5;132;01m{\u001b[39;00mmsg\u001b[38;5;132;01m}\u001b[39;00m\u001b[38;5;130;01m\\n\u001b[39;00m\u001b[38;5;132;01m{\u001b[39;00msep\u001b[38;5;132;01m}\u001b[39;00m\u001b[38;5;130;01m\\n\u001b[39;00m\u001b[38;5;124m\"\u001b[39m\n\u001b[0;32m--> 583\u001b[0m \u001b[38;5;28;01mraise\u001b[39;00m \u001b[38;5;167;01mLookupError\u001b[39;00m(resource_not_found)\n",
            "\u001b[0;31mLookupError\u001b[0m: \n**********************************************************************\n  Resource \u001b[93mwordnet\u001b[0m not found.\n  Please use the NLTK Downloader to obtain the resource:\n\n  \u001b[31m>>> import nltk\n  >>> nltk.download('wordnet')\n  \u001b[0m\n  For more information see: https://www.nltk.org/data.html\n\n  Attempted to load \u001b[93mcorpora/wordnet.zip/wordnet/\u001b[0m\n\n  Searched in:\n    - '/home/stonemaeng/nltk_data'\n    - '/home/stonemaeng/anaconda3/envs/g2t/nltk_data'\n    - '/home/stonemaeng/anaconda3/envs/g2t/share/nltk_data'\n    - '/home/stonemaeng/anaconda3/envs/g2t/lib/nltk_data'\n    - '/usr/share/nltk_data'\n    - '/usr/local/share/nltk_data'\n    - '/usr/lib/nltk_data'\n    - '/usr/local/lib/nltk_data'\n**********************************************************************\n",
            "\nDuring handling of the above exception, another exception occurred:\n",
            "\u001b[0;31mLookupError\u001b[0m                               Traceback (most recent call last)",
            "Cell \u001b[0;32mIn[55], line 57\u001b[0m\n\u001b[1;32m     55\u001b[0m         \u001b[38;5;66;03m# METEOR 점수 계산 (토큰화된 형태로 변환)\u001b[39;00m\n\u001b[1;32m     56\u001b[0m         \u001b[38;5;28;01mfor\u001b[39;00m pred, ref \u001b[38;5;129;01min\u001b[39;00m \u001b[38;5;28mzip\u001b[39m(decoded_preds, decoded_labels):\n\u001b[0;32m---> 57\u001b[0m             meteor_scores\u001b[38;5;241m.\u001b[39mappend(\u001b[43mmeteor_score\u001b[49m\u001b[43m(\u001b[49m\u001b[43m[\u001b[49m\u001b[43mref\u001b[49m\u001b[38;5;241;43m.\u001b[39;49m\u001b[43msplit\u001b[49m\u001b[43m(\u001b[49m\u001b[43m)\u001b[49m\u001b[43m]\u001b[49m\u001b[43m,\u001b[49m\u001b[43m \u001b[49m\u001b[43mpred\u001b[49m\u001b[38;5;241;43m.\u001b[39;49m\u001b[43msplit\u001b[49m\u001b[43m(\u001b[49m\u001b[43m)\u001b[49m\u001b[43m)\u001b[49m)\n\u001b[1;32m     59\u001b[0m \u001b[38;5;66;03m# BLEU 점수 계산\u001b[39;00m\n\u001b[1;32m     60\u001b[0m bleu_score \u001b[38;5;241m=\u001b[39m sacrebleu\u001b[38;5;241m.\u001b[39mcorpus_bleu(predictions, [references])\n",
            "File \u001b[0;32m~/anaconda3/envs/g2t/lib/python3.12/site-packages/nltk/translate/meteor_score.py:397\u001b[0m, in \u001b[0;36mmeteor_score\u001b[0;34m(references, hypothesis, preprocess, stemmer, wordnet, alpha, beta, gamma)\u001b[0m\n\u001b[1;32m    347\u001b[0m \u001b[38;5;28;01mdef\u001b[39;00m \u001b[38;5;21mmeteor_score\u001b[39m(\n\u001b[1;32m    348\u001b[0m     references: Iterable[Iterable[\u001b[38;5;28mstr\u001b[39m]],\n\u001b[1;32m    349\u001b[0m     hypothesis: Iterable[\u001b[38;5;28mstr\u001b[39m],\n\u001b[0;32m   (...)\u001b[0m\n\u001b[1;32m    355\u001b[0m     gamma: \u001b[38;5;28mfloat\u001b[39m \u001b[38;5;241m=\u001b[39m \u001b[38;5;241m0.5\u001b[39m,\n\u001b[1;32m    356\u001b[0m ) \u001b[38;5;241m-\u001b[39m\u001b[38;5;241m>\u001b[39m \u001b[38;5;28mfloat\u001b[39m:\n\u001b[1;32m    357\u001b[0m \u001b[38;5;250m    \u001b[39m\u001b[38;5;124;03m\"\"\"\u001b[39;00m\n\u001b[1;32m    358\u001b[0m \u001b[38;5;124;03m    Calculates METEOR score for hypothesis with multiple references as\u001b[39;00m\n\u001b[1;32m    359\u001b[0m \u001b[38;5;124;03m    described in \"Meteor: An Automatic Metric for MT Evaluation with\u001b[39;00m\n\u001b[0;32m   (...)\u001b[0m\n\u001b[1;32m    395\u001b[0m \u001b[38;5;124;03m    :return: The sentence-level METEOR score.\u001b[39;00m\n\u001b[1;32m    396\u001b[0m \u001b[38;5;124;03m    \"\"\"\u001b[39;00m\n\u001b[0;32m--> 397\u001b[0m     \u001b[38;5;28;01mreturn\u001b[39;00m \u001b[38;5;28;43mmax\u001b[39;49m\u001b[43m(\u001b[49m\n\u001b[1;32m    398\u001b[0m \u001b[43m        \u001b[49m\u001b[43msingle_meteor_score\u001b[49m\u001b[43m(\u001b[49m\n\u001b[1;32m    399\u001b[0m \u001b[43m            \u001b[49m\u001b[43mreference\u001b[49m\u001b[43m,\u001b[49m\n\u001b[1;32m    400\u001b[0m \u001b[43m            \u001b[49m\u001b[43mhypothesis\u001b[49m\u001b[43m,\u001b[49m\n\u001b[1;32m    401\u001b[0m \u001b[43m            \u001b[49m\u001b[43mpreprocess\u001b[49m\u001b[38;5;241;43m=\u001b[39;49m\u001b[43mpreprocess\u001b[49m\u001b[43m,\u001b[49m\n\u001b[1;32m    402\u001b[0m \u001b[43m            \u001b[49m\u001b[43mstemmer\u001b[49m\u001b[38;5;241;43m=\u001b[39;49m\u001b[43mstemmer\u001b[49m\u001b[43m,\u001b[49m\n\u001b[1;32m    403\u001b[0m \u001b[43m            \u001b[49m\u001b[43mwordnet\u001b[49m\u001b[38;5;241;43m=\u001b[39;49m\u001b[43mwordnet\u001b[49m\u001b[43m,\u001b[49m\n\u001b[1;32m    404\u001b[0m \u001b[43m            \u001b[49m\u001b[43malpha\u001b[49m\u001b[38;5;241;43m=\u001b[39;49m\u001b[43malpha\u001b[49m\u001b[43m,\u001b[49m\n\u001b[1;32m    405\u001b[0m \u001b[43m            \u001b[49m\u001b[43mbeta\u001b[49m\u001b[38;5;241;43m=\u001b[39;49m\u001b[43mbeta\u001b[49m\u001b[43m,\u001b[49m\n\u001b[1;32m    406\u001b[0m \u001b[43m            \u001b[49m\u001b[43mgamma\u001b[49m\u001b[38;5;241;43m=\u001b[39;49m\u001b[43mgamma\u001b[49m\u001b[43m,\u001b[49m\n\u001b[1;32m    407\u001b[0m \u001b[43m        \u001b[49m\u001b[43m)\u001b[49m\n\u001b[1;32m    408\u001b[0m \u001b[43m        \u001b[49m\u001b[38;5;28;43;01mfor\u001b[39;49;00m\u001b[43m \u001b[49m\u001b[43mreference\u001b[49m\u001b[43m \u001b[49m\u001b[38;5;129;43;01min\u001b[39;49;00m\u001b[43m \u001b[49m\u001b[43mreferences\u001b[49m\n\u001b[1;32m    409\u001b[0m \u001b[43m    \u001b[49m\u001b[43m)\u001b[49m\n",
            "File \u001b[0;32m~/anaconda3/envs/g2t/lib/python3.12/site-packages/nltk/translate/meteor_score.py:398\u001b[0m, in \u001b[0;36m<genexpr>\u001b[0;34m(.0)\u001b[0m\n\u001b[1;32m    347\u001b[0m \u001b[38;5;28;01mdef\u001b[39;00m \u001b[38;5;21mmeteor_score\u001b[39m(\n\u001b[1;32m    348\u001b[0m     references: Iterable[Iterable[\u001b[38;5;28mstr\u001b[39m]],\n\u001b[1;32m    349\u001b[0m     hypothesis: Iterable[\u001b[38;5;28mstr\u001b[39m],\n\u001b[0;32m   (...)\u001b[0m\n\u001b[1;32m    355\u001b[0m     gamma: \u001b[38;5;28mfloat\u001b[39m \u001b[38;5;241m=\u001b[39m \u001b[38;5;241m0.5\u001b[39m,\n\u001b[1;32m    356\u001b[0m ) \u001b[38;5;241m-\u001b[39m\u001b[38;5;241m>\u001b[39m \u001b[38;5;28mfloat\u001b[39m:\n\u001b[1;32m    357\u001b[0m \u001b[38;5;250m    \u001b[39m\u001b[38;5;124;03m\"\"\"\u001b[39;00m\n\u001b[1;32m    358\u001b[0m \u001b[38;5;124;03m    Calculates METEOR score for hypothesis with multiple references as\u001b[39;00m\n\u001b[1;32m    359\u001b[0m \u001b[38;5;124;03m    described in \"Meteor: An Automatic Metric for MT Evaluation with\u001b[39;00m\n\u001b[0;32m   (...)\u001b[0m\n\u001b[1;32m    395\u001b[0m \u001b[38;5;124;03m    :return: The sentence-level METEOR score.\u001b[39;00m\n\u001b[1;32m    396\u001b[0m \u001b[38;5;124;03m    \"\"\"\u001b[39;00m\n\u001b[1;32m    397\u001b[0m     \u001b[38;5;28;01mreturn\u001b[39;00m \u001b[38;5;28mmax\u001b[39m(\n\u001b[0;32m--> 398\u001b[0m         \u001b[43msingle_meteor_score\u001b[49m\u001b[43m(\u001b[49m\n\u001b[1;32m    399\u001b[0m \u001b[43m            \u001b[49m\u001b[43mreference\u001b[49m\u001b[43m,\u001b[49m\n\u001b[1;32m    400\u001b[0m \u001b[43m            \u001b[49m\u001b[43mhypothesis\u001b[49m\u001b[43m,\u001b[49m\n\u001b[1;32m    401\u001b[0m \u001b[43m            \u001b[49m\u001b[43mpreprocess\u001b[49m\u001b[38;5;241;43m=\u001b[39;49m\u001b[43mpreprocess\u001b[49m\u001b[43m,\u001b[49m\n\u001b[1;32m    402\u001b[0m \u001b[43m            \u001b[49m\u001b[43mstemmer\u001b[49m\u001b[38;5;241;43m=\u001b[39;49m\u001b[43mstemmer\u001b[49m\u001b[43m,\u001b[49m\n\u001b[1;32m    403\u001b[0m \u001b[43m            \u001b[49m\u001b[43mwordnet\u001b[49m\u001b[38;5;241;43m=\u001b[39;49m\u001b[43mwordnet\u001b[49m\u001b[43m,\u001b[49m\n\u001b[1;32m    404\u001b[0m \u001b[43m            \u001b[49m\u001b[43malpha\u001b[49m\u001b[38;5;241;43m=\u001b[39;49m\u001b[43malpha\u001b[49m\u001b[43m,\u001b[49m\n\u001b[1;32m    405\u001b[0m \u001b[43m            \u001b[49m\u001b[43mbeta\u001b[49m\u001b[38;5;241;43m=\u001b[39;49m\u001b[43mbeta\u001b[49m\u001b[43m,\u001b[49m\n\u001b[1;32m    406\u001b[0m \u001b[43m            \u001b[49m\u001b[43mgamma\u001b[49m\u001b[38;5;241;43m=\u001b[39;49m\u001b[43mgamma\u001b[49m\u001b[43m,\u001b[49m\n\u001b[1;32m    407\u001b[0m \u001b[43m        \u001b[49m\u001b[43m)\u001b[49m\n\u001b[1;32m    408\u001b[0m         \u001b[38;5;28;01mfor\u001b[39;00m reference \u001b[38;5;129;01min\u001b[39;00m references\n\u001b[1;32m    409\u001b[0m     )\n",
            "File \u001b[0;32m~/anaconda3/envs/g2t/lib/python3.12/site-packages/nltk/translate/meteor_score.py:331\u001b[0m, in \u001b[0;36msingle_meteor_score\u001b[0;34m(reference, hypothesis, preprocess, stemmer, wordnet, alpha, beta, gamma)\u001b[0m\n\u001b[1;32m    329\u001b[0m translation_length \u001b[38;5;241m=\u001b[39m \u001b[38;5;28mlen\u001b[39m(enum_hypothesis)\n\u001b[1;32m    330\u001b[0m reference_length \u001b[38;5;241m=\u001b[39m \u001b[38;5;28mlen\u001b[39m(enum_reference)\n\u001b[0;32m--> 331\u001b[0m matches, _, _ \u001b[38;5;241m=\u001b[39m \u001b[43m_enum_align_words\u001b[49m\u001b[43m(\u001b[49m\n\u001b[1;32m    332\u001b[0m \u001b[43m    \u001b[49m\u001b[43menum_hypothesis\u001b[49m\u001b[43m,\u001b[49m\u001b[43m \u001b[49m\u001b[43menum_reference\u001b[49m\u001b[43m,\u001b[49m\u001b[43m \u001b[49m\u001b[43mstemmer\u001b[49m\u001b[38;5;241;43m=\u001b[39;49m\u001b[43mstemmer\u001b[49m\u001b[43m,\u001b[49m\u001b[43m \u001b[49m\u001b[43mwordnet\u001b[49m\u001b[38;5;241;43m=\u001b[39;49m\u001b[43mwordnet\u001b[49m\n\u001b[1;32m    333\u001b[0m \u001b[43m\u001b[49m\u001b[43m)\u001b[49m\n\u001b[1;32m    334\u001b[0m matches_count \u001b[38;5;241m=\u001b[39m \u001b[38;5;28mlen\u001b[39m(matches)\n\u001b[1;32m    335\u001b[0m \u001b[38;5;28;01mtry\u001b[39;00m:\n",
            "File \u001b[0;32m~/anaconda3/envs/g2t/lib/python3.12/site-packages/nltk/translate/meteor_score.py:223\u001b[0m, in \u001b[0;36m_enum_align_words\u001b[0;34m(enum_hypothesis_list, enum_reference_list, stemmer, wordnet)\u001b[0m\n\u001b[1;32m    215\u001b[0m exact_matches, enum_hypothesis_list, enum_reference_list \u001b[38;5;241m=\u001b[39m _match_enums(\n\u001b[1;32m    216\u001b[0m     enum_hypothesis_list, enum_reference_list\n\u001b[1;32m    217\u001b[0m )\n\u001b[1;32m    219\u001b[0m stem_matches, enum_hypothesis_list, enum_reference_list \u001b[38;5;241m=\u001b[39m _enum_stem_match(\n\u001b[1;32m    220\u001b[0m     enum_hypothesis_list, enum_reference_list, stemmer\u001b[38;5;241m=\u001b[39mstemmer\n\u001b[1;32m    221\u001b[0m )\n\u001b[0;32m--> 223\u001b[0m wns_matches, enum_hypothesis_list, enum_reference_list \u001b[38;5;241m=\u001b[39m \u001b[43m_enum_wordnetsyn_match\u001b[49m\u001b[43m(\u001b[49m\n\u001b[1;32m    224\u001b[0m \u001b[43m    \u001b[49m\u001b[43menum_hypothesis_list\u001b[49m\u001b[43m,\u001b[49m\u001b[43m \u001b[49m\u001b[43menum_reference_list\u001b[49m\u001b[43m,\u001b[49m\u001b[43m \u001b[49m\u001b[43mwordnet\u001b[49m\u001b[38;5;241;43m=\u001b[39;49m\u001b[43mwordnet\u001b[49m\n\u001b[1;32m    225\u001b[0m \u001b[43m\u001b[49m\u001b[43m)\u001b[49m\n\u001b[1;32m    227\u001b[0m \u001b[38;5;28;01mreturn\u001b[39;00m (\n\u001b[1;32m    228\u001b[0m     \u001b[38;5;28msorted\u001b[39m(\n\u001b[1;32m    229\u001b[0m         exact_matches \u001b[38;5;241m+\u001b[39m stem_matches \u001b[38;5;241m+\u001b[39m wns_matches, key\u001b[38;5;241m=\u001b[39m\u001b[38;5;28;01mlambda\u001b[39;00m wordpair: wordpair[\u001b[38;5;241m0\u001b[39m]\n\u001b[0;32m   (...)\u001b[0m\n\u001b[1;32m    232\u001b[0m     enum_reference_list,\n\u001b[1;32m    233\u001b[0m )\n",
            "File \u001b[0;32m~/anaconda3/envs/g2t/lib/python3.12/site-packages/nltk/translate/meteor_score.py:161\u001b[0m, in \u001b[0;36m_enum_wordnetsyn_match\u001b[0;34m(enum_hypothesis_list, enum_reference_list, wordnet)\u001b[0m\n\u001b[1;32m    152\u001b[0m word_match \u001b[38;5;241m=\u001b[39m []\n\u001b[1;32m    153\u001b[0m \u001b[38;5;28;01mfor\u001b[39;00m i \u001b[38;5;129;01min\u001b[39;00m \u001b[38;5;28mrange\u001b[39m(\u001b[38;5;28mlen\u001b[39m(enum_hypothesis_list))[::\u001b[38;5;241m-\u001b[39m\u001b[38;5;241m1\u001b[39m]:\n\u001b[1;32m    154\u001b[0m     hypothesis_syns \u001b[38;5;241m=\u001b[39m \u001b[38;5;28mset\u001b[39m(\n\u001b[1;32m    155\u001b[0m         chain\u001b[38;5;241m.\u001b[39mfrom_iterable(\n\u001b[1;32m    156\u001b[0m             (\n\u001b[1;32m    157\u001b[0m                 lemma\u001b[38;5;241m.\u001b[39mname()\n\u001b[1;32m    158\u001b[0m                 \u001b[38;5;28;01mfor\u001b[39;00m lemma \u001b[38;5;129;01min\u001b[39;00m synset\u001b[38;5;241m.\u001b[39mlemmas()\n\u001b[1;32m    159\u001b[0m                 \u001b[38;5;28;01mif\u001b[39;00m lemma\u001b[38;5;241m.\u001b[39mname()\u001b[38;5;241m.\u001b[39mfind(\u001b[38;5;124m\"\u001b[39m\u001b[38;5;124m_\u001b[39m\u001b[38;5;124m\"\u001b[39m) \u001b[38;5;241m<\u001b[39m \u001b[38;5;241m0\u001b[39m\n\u001b[1;32m    160\u001b[0m             )\n\u001b[0;32m--> 161\u001b[0m             \u001b[38;5;28;01mfor\u001b[39;00m synset \u001b[38;5;129;01min\u001b[39;00m \u001b[43mwordnet\u001b[49m\u001b[38;5;241;43m.\u001b[39;49m\u001b[43msynsets\u001b[49m(enum_hypothesis_list[i][\u001b[38;5;241m1\u001b[39m])\n\u001b[1;32m    162\u001b[0m         )\n\u001b[1;32m    163\u001b[0m     )\u001b[38;5;241m.\u001b[39munion({enum_hypothesis_list[i][\u001b[38;5;241m1\u001b[39m]})\n\u001b[1;32m    164\u001b[0m     \u001b[38;5;28;01mfor\u001b[39;00m j \u001b[38;5;129;01min\u001b[39;00m \u001b[38;5;28mrange\u001b[39m(\u001b[38;5;28mlen\u001b[39m(enum_reference_list))[::\u001b[38;5;241m-\u001b[39m\u001b[38;5;241m1\u001b[39m]:\n\u001b[1;32m    165\u001b[0m         \u001b[38;5;28;01mif\u001b[39;00m enum_reference_list[j][\u001b[38;5;241m1\u001b[39m] \u001b[38;5;129;01min\u001b[39;00m hypothesis_syns:\n",
            "File \u001b[0;32m~/anaconda3/envs/g2t/lib/python3.12/site-packages/nltk/corpus/util.py:121\u001b[0m, in \u001b[0;36mLazyCorpusLoader.__getattr__\u001b[0;34m(self, attr)\u001b[0m\n\u001b[1;32m    118\u001b[0m \u001b[38;5;28;01mif\u001b[39;00m attr \u001b[38;5;241m==\u001b[39m \u001b[38;5;124m\"\u001b[39m\u001b[38;5;124m__bases__\u001b[39m\u001b[38;5;124m\"\u001b[39m:\n\u001b[1;32m    119\u001b[0m     \u001b[38;5;28;01mraise\u001b[39;00m \u001b[38;5;167;01mAttributeError\u001b[39;00m(\u001b[38;5;124m\"\u001b[39m\u001b[38;5;124mLazyCorpusLoader object has no attribute \u001b[39m\u001b[38;5;124m'\u001b[39m\u001b[38;5;124m__bases__\u001b[39m\u001b[38;5;124m'\u001b[39m\u001b[38;5;124m\"\u001b[39m)\n\u001b[0;32m--> 121\u001b[0m \u001b[38;5;28;43mself\u001b[39;49m\u001b[38;5;241;43m.\u001b[39;49m\u001b[43m__load\u001b[49m\u001b[43m(\u001b[49m\u001b[43m)\u001b[49m\n\u001b[1;32m    122\u001b[0m \u001b[38;5;66;03m# This looks circular, but its not, since __load() changes our\u001b[39;00m\n\u001b[1;32m    123\u001b[0m \u001b[38;5;66;03m# __class__ to something new:\u001b[39;00m\n\u001b[1;32m    124\u001b[0m \u001b[38;5;28;01mreturn\u001b[39;00m \u001b[38;5;28mgetattr\u001b[39m(\u001b[38;5;28mself\u001b[39m, attr)\n",
            "File \u001b[0;32m~/anaconda3/envs/g2t/lib/python3.12/site-packages/nltk/corpus/util.py:86\u001b[0m, in \u001b[0;36mLazyCorpusLoader.__load\u001b[0;34m(self)\u001b[0m\n\u001b[1;32m     84\u001b[0m             root \u001b[38;5;241m=\u001b[39m nltk\u001b[38;5;241m.\u001b[39mdata\u001b[38;5;241m.\u001b[39mfind(\u001b[38;5;124mf\u001b[39m\u001b[38;5;124m\"\u001b[39m\u001b[38;5;132;01m{\u001b[39;00m\u001b[38;5;28mself\u001b[39m\u001b[38;5;241m.\u001b[39msubdir\u001b[38;5;132;01m}\u001b[39;00m\u001b[38;5;124m/\u001b[39m\u001b[38;5;132;01m{\u001b[39;00mzip_name\u001b[38;5;132;01m}\u001b[39;00m\u001b[38;5;124m\"\u001b[39m)\n\u001b[1;32m     85\u001b[0m         \u001b[38;5;28;01mexcept\u001b[39;00m \u001b[38;5;167;01mLookupError\u001b[39;00m:\n\u001b[0;32m---> 86\u001b[0m             \u001b[38;5;28;01mraise\u001b[39;00m e\n\u001b[1;32m     88\u001b[0m \u001b[38;5;66;03m# Load the corpus.\u001b[39;00m\n\u001b[1;32m     89\u001b[0m corpus \u001b[38;5;241m=\u001b[39m \u001b[38;5;28mself\u001b[39m\u001b[38;5;241m.\u001b[39m__reader_cls(root, \u001b[38;5;241m*\u001b[39m\u001b[38;5;28mself\u001b[39m\u001b[38;5;241m.\u001b[39m__args, \u001b[38;5;241m*\u001b[39m\u001b[38;5;241m*\u001b[39m\u001b[38;5;28mself\u001b[39m\u001b[38;5;241m.\u001b[39m__kwargs)\n",
            "File \u001b[0;32m~/anaconda3/envs/g2t/lib/python3.12/site-packages/nltk/corpus/util.py:81\u001b[0m, in \u001b[0;36mLazyCorpusLoader.__load\u001b[0;34m(self)\u001b[0m\n\u001b[1;32m     79\u001b[0m \u001b[38;5;28;01melse\u001b[39;00m:\n\u001b[1;32m     80\u001b[0m     \u001b[38;5;28;01mtry\u001b[39;00m:\n\u001b[0;32m---> 81\u001b[0m         root \u001b[38;5;241m=\u001b[39m \u001b[43mnltk\u001b[49m\u001b[38;5;241;43m.\u001b[39;49m\u001b[43mdata\u001b[49m\u001b[38;5;241;43m.\u001b[39;49m\u001b[43mfind\u001b[49m\u001b[43m(\u001b[49m\u001b[38;5;124;43mf\u001b[39;49m\u001b[38;5;124;43m\"\u001b[39;49m\u001b[38;5;132;43;01m{\u001b[39;49;00m\u001b[38;5;28;43mself\u001b[39;49m\u001b[38;5;241;43m.\u001b[39;49m\u001b[43msubdir\u001b[49m\u001b[38;5;132;43;01m}\u001b[39;49;00m\u001b[38;5;124;43m/\u001b[39;49m\u001b[38;5;132;43;01m{\u001b[39;49;00m\u001b[38;5;28;43mself\u001b[39;49m\u001b[38;5;241;43m.\u001b[39;49m\u001b[43m__name\u001b[49m\u001b[38;5;132;43;01m}\u001b[39;49;00m\u001b[38;5;124;43m\"\u001b[39;49m\u001b[43m)\u001b[49m\n\u001b[1;32m     82\u001b[0m     \u001b[38;5;28;01mexcept\u001b[39;00m \u001b[38;5;167;01mLookupError\u001b[39;00m \u001b[38;5;28;01mas\u001b[39;00m e:\n\u001b[1;32m     83\u001b[0m         \u001b[38;5;28;01mtry\u001b[39;00m:\n",
            "File \u001b[0;32m~/anaconda3/envs/g2t/lib/python3.12/site-packages/nltk/data.py:583\u001b[0m, in \u001b[0;36mfind\u001b[0;34m(resource_name, paths)\u001b[0m\n\u001b[1;32m    581\u001b[0m sep \u001b[38;5;241m=\u001b[39m \u001b[38;5;124m\"\u001b[39m\u001b[38;5;124m*\u001b[39m\u001b[38;5;124m\"\u001b[39m \u001b[38;5;241m*\u001b[39m \u001b[38;5;241m70\u001b[39m\n\u001b[1;32m    582\u001b[0m resource_not_found \u001b[38;5;241m=\u001b[39m \u001b[38;5;124mf\u001b[39m\u001b[38;5;124m\"\u001b[39m\u001b[38;5;130;01m\\n\u001b[39;00m\u001b[38;5;132;01m{\u001b[39;00msep\u001b[38;5;132;01m}\u001b[39;00m\u001b[38;5;130;01m\\n\u001b[39;00m\u001b[38;5;132;01m{\u001b[39;00mmsg\u001b[38;5;132;01m}\u001b[39;00m\u001b[38;5;130;01m\\n\u001b[39;00m\u001b[38;5;132;01m{\u001b[39;00msep\u001b[38;5;132;01m}\u001b[39;00m\u001b[38;5;130;01m\\n\u001b[39;00m\u001b[38;5;124m\"\u001b[39m\n\u001b[0;32m--> 583\u001b[0m \u001b[38;5;28;01mraise\u001b[39;00m \u001b[38;5;167;01mLookupError\u001b[39;00m(resource_not_found)\n",
            "\u001b[0;31mLookupError\u001b[0m: \n**********************************************************************\n  Resource \u001b[93mwordnet\u001b[0m not found.\n  Please use the NLTK Downloader to obtain the resource:\n\n  \u001b[31m>>> import nltk\n  >>> nltk.download('wordnet')\n  \u001b[0m\n  For more information see: https://www.nltk.org/data.html\n\n  Attempted to load \u001b[93mcorpora/wordnet\u001b[0m\n\n  Searched in:\n    - '/home/stonemaeng/nltk_data'\n    - '/home/stonemaeng/anaconda3/envs/g2t/nltk_data'\n    - '/home/stonemaeng/anaconda3/envs/g2t/share/nltk_data'\n    - '/home/stonemaeng/anaconda3/envs/g2t/lib/nltk_data'\n    - '/usr/share/nltk_data'\n    - '/usr/local/share/nltk_data'\n    - '/usr/lib/nltk_data'\n    - '/usr/local/lib/nltk_data'\n**********************************************************************\n"
          ]
        }
      ],
      "source": [
        "import torch\n",
        "import sacrebleu\n",
        "from tqdm import tqdm\n",
        "import nltk\n",
        "from nltk.translate.meteor_score import meteor_score\n",
        "\n",
        "# 모델을 GPU로 이동\n",
        "model = model.to(device)\n",
        "\n",
        "# 모델을 평가 모드로 설정\n",
        "model.eval()\n",
        "\n",
        "# 예측 및 참조 번역 수집\n",
        "predictions = []\n",
        "references = []\n",
        "meteor_scores = []\n",
        "\n",
        "with torch.no_grad():\n",
        "    for batch in tqdm(test_dataloader, desc=\"Evaluating\"):\n",
        "        # 입력 데이터를 GPU로 이동\n",
        "        input_ids = batch['input_ids'].to(device)\n",
        "        attention_mask = batch['attention_mask'].to(device)\n",
        "        labels = batch['labels'].to(device)\n",
        "\n",
        "        # 모델에 데이터 전달\n",
        "        outputs = model.generate(\n",
        "            input_ids=input_ids,\n",
        "            attention_mask=attention_mask,\n",
        "            max_length=256,  # 적절한 max_length 설정\n",
        "            length_penalty=2.0,  # 번역 길이 조절\n",
        "            num_beams=4,  # 빔 서치의 수\n",
        "            early_stopping=True\n",
        "        )\n",
        "\n",
        "        # 예측 결과 디코딩\n",
        "        decoded_preds = tokenizer.batch_decode(outputs, skip_special_tokens=True)\n",
        "\n",
        "        # 실제 레이블 디코딩\n",
        "        decoded_labels = []\n",
        "        for label in labels:\n",
        "            label_ids = label[label != tokenizer.pad_token_id].tolist()\n",
        "            if label_ids:\n",
        "                try:\n",
        "                    decoded_label = tokenizer.decode(label_ids, skip_special_tokens=True)\n",
        "                except OverflowError:\n",
        "                    decoded_label = \"[UNK]\"  # Unknown token으로 처리\n",
        "                decoded_labels.append(decoded_label)\n",
        "            else:\n",
        "                decoded_labels.append('')  # 빈 문자열로 처리\n",
        "\n",
        "        # 예측 결과와 참조 번역 수집\n",
        "        predictions.extend(decoded_preds)\n",
        "        references.extend(decoded_labels)\n",
        "\n",
        "        # METEOR 점수 계산 (토큰화된 형태로 변환)\n",
        "        for pred, ref in zip(decoded_preds, decoded_labels):\n",
        "            meteor_scores.append(meteor_score([ref.split()], pred.split()))\n",
        "\n",
        "# BLEU 점수 계산\n",
        "bleu_score = sacrebleu.corpus_bleu(predictions, [references])\n",
        "\n",
        "# METEOR 점수 평균 계산\n",
        "avg_meteor_score = sum(meteor_scores) / len(meteor_scores)\n",
        "\n",
        "print(f'BLEU score: {bleu_score.score:.4f}')\n",
        "print(f'METEOR score: {avg_meteor_score:.4f}')\n"
      ]
    },
    {
      "cell_type": "code",
      "execution_count": 37,
      "metadata": {
        "id": "EJVZ8gJMM6Z4"
      },
      "outputs": [],
      "source": [
        "# 기본\n",
        "import torch\n",
        "\n",
        "def generate_translation(model, tokenizer, sentences, max_length=50):\n",
        "    model.eval()\n",
        "    translations = []\n",
        "    for sentence in sentences:\n",
        "        # 토큰화 및 텐서 변환\n",
        "        inputs = tokenizer(sentence, return_tensors='pt', truncation=True, padding='max_length', max_length=max_length)\n",
        "\n",
        "        # GPU가 사용 중이면 데이터를 GPU로 이동\n",
        "        input_ids = inputs['input_ids'].to(model.device)\n",
        "        attention_mask = inputs['attention_mask'].to(model.device)\n",
        "\n",
        "        # 모델에 데이터 전달\n",
        "        output_ids = model.generate(\n",
        "            input_ids=input_ids,\n",
        "            attention_mask=attention_mask,\n",
        "            max_length=max_length,\n",
        "            num_beams=5,  # Beam search 설정\n",
        "            early_stopping=True\n",
        "        )\n",
        "\n",
        "        # 디코딩\n",
        "        for output in output_ids:\n",
        "            translation = tokenizer.decode(output, skip_special_tokens=True)\n",
        "            translations.append(translation)\n",
        "\n",
        "    return translations"
      ]
    },
    {
      "cell_type": "code",
      "execution_count": 46,
      "metadata": {
        "colab": {
          "base_uri": "https://localhost:8080/"
        },
        "id": "CKavPhDpK6wI",
        "outputId": "f191f845-23ef-47bc-9648-3c00f83e3100"
      },
      "outputs": [
        {
          "name": "stdout",
          "output_type": "stream",
          "text": [
            "['날씨가 너무 더워서 화가 난다', '목이 마르다', '날씨가 너무 더워서 수영장에 갔다', '놀고 재미있어서 잠이 오지']\n"
          ]
        }
      ],
      "source": [
        "# 테스트 문장\n",
        "# test_sentences = [\"날씨 덥다 화 난다.\", \"지금 바쁘다 미래 연락.\"]\n",
        "test_sentences = [\"날씨 덥다 화 난다\", \"목 마르다 물 마시다\", '날씨 덥다 가다 수영장', '놀다 재미 피곤하다 잠']\n",
        "\n",
        "translations = generate_translation(model, tokenizer, test_sentences)\n",
        "print(translations)"
      ]
    },
    {
      "cell_type": "code",
      "execution_count": 51,
      "metadata": {
        "id": "pcajXpGYKVbl"
      },
      "outputs": [],
      "source": [
        "# 앞 문장과 합성해서 뒷 문장 내용 추출\n",
        "\n",
        "def generate_translation(model, tokenizer, sentences, max_length=50):\n",
        "    model.eval()\n",
        "    translations = []\n",
        "\n",
        "    for i, sentence in enumerate(sentences):\n",
        "        if i > 0:\n",
        "            # 이전 번역된 문장을 참조하지 않고 현재 문장만 입력으로 사용\n",
        "            combined_sentence = sentences[i-1] + \" \" + sentence\n",
        "        else:\n",
        "            combined_sentence = sentence\n",
        "\n",
        "        # 토큰화 및 텐서 변환\n",
        "        inputs = tokenizer(combined_sentence, return_tensors='pt', truncation=True, padding='max_length', max_length=max_length)\n",
        "\n",
        "        # GPU가 사용 중이면 데이터를 GPU로 이동\n",
        "        input_ids = inputs['input_ids'].to(model.device)\n",
        "        attention_mask = inputs['attention_mask'].to(model.device)\n",
        "\n",
        "        # 모델에 데이터 전달\n",
        "        output_ids = model.generate(\n",
        "            input_ids=input_ids,\n",
        "            attention_mask=attention_mask,\n",
        "            max_length=max_length,\n",
        "            num_beams=5,  # Beam search 설정\n",
        "            early_stopping=True\n",
        "        )\n",
        "\n",
        "        # 디코딩\n",
        "        translation = tokenizer.decode(output_ids[0], skip_special_tokens=True)\n",
        "        translations.append(translation)\n",
        "\n",
        "    return translations"
      ]
    },
    {
      "cell_type": "code",
      "execution_count": 52,
      "metadata": {
        "colab": {
          "base_uri": "https://localhost:8080/"
        },
        "id": "nKJt_oGtOmhx",
        "outputId": "6d018560-e953-453a-b36e-7ece6ee96b1c"
      },
      "outputs": [
        {
          "name": "stdout",
          "output_type": "stream",
          "text": [
            "['날씨가 너무 더워서 화가 난다', '너무 더워서 물 마시고 싶어']\n"
          ]
        }
      ],
      "source": [
        "# 테스트 문장\n",
        "test_sentences = [\"날씨 덥다 화 난다\", \"물 마시다 원하다\"]\n",
        "\n",
        "# 번역 결과 생성\n",
        "translations = generate_translation(model, tokenizer, test_sentences)\n",
        "print(translations)"
      ]
    },
    {
      "cell_type": "code",
      "execution_count": null,
      "metadata": {
        "id": "z9oNihfKNBsn"
      },
      "outputs": [],
      "source": []
    }
  ],
  "metadata": {
    "accelerator": "GPU",
    "colab": {
      "collapsed_sections": [
        "jHu_KhUYGnO2"
      ],
      "gpuType": "T4",
      "machine_shape": "hm",
      "provenance": []
    },
    "kernelspec": {
      "display_name": "Python 3",
      "name": "python3"
    },
    "language_info": {
      "codemirror_mode": {
        "name": "ipython",
        "version": 3
      },
      "file_extension": ".py",
      "mimetype": "text/x-python",
      "name": "python",
      "nbconvert_exporter": "python",
      "pygments_lexer": "ipython3",
      "version": "3.12.4"
    },
    "widgets": {
      "application/vnd.jupyter.widget-state+json": {
        "06aa5c90d2164b6f92d27f143900909f": {
          "model_module": "@jupyter-widgets/controls",
          "model_module_version": "1.5.0",
          "model_name": "FloatProgressModel",
          "state": {
            "_dom_classes": [],
            "_model_module": "@jupyter-widgets/controls",
            "_model_module_version": "1.5.0",
            "_model_name": "FloatProgressModel",
            "_view_count": null,
            "_view_module": "@jupyter-widgets/controls",
            "_view_module_version": "1.5.0",
            "_view_name": "ProgressView",
            "bar_style": "success",
            "description": "",
            "description_tooltip": null,
            "layout": "IPY_MODEL_6e22a6e479bc4ad5a2268876fd73115e",
            "max": 2900842,
            "min": 0,
            "orientation": "horizontal",
            "style": "IPY_MODEL_4c85793d9574486ea87525d5eaed52c2",
            "value": 2900842
          }
        },
        "072b4fd9c8984f2b8835da10d683f967": {
          "model_module": "@jupyter-widgets/controls",
          "model_module_version": "1.5.0",
          "model_name": "HBoxModel",
          "state": {
            "_dom_classes": [],
            "_model_module": "@jupyter-widgets/controls",
            "_model_module_version": "1.5.0",
            "_model_name": "HBoxModel",
            "_view_count": null,
            "_view_module": "@jupyter-widgets/controls",
            "_view_module_version": "1.5.0",
            "_view_name": "HBoxView",
            "box_style": "",
            "children": [
              "IPY_MODEL_ddb8e7d4b2944055a123c4992633da93",
              "IPY_MODEL_d95a8fec45d941a28f2ed3a864a7e747",
              "IPY_MODEL_86947b0ef9c14c5296d1dca5acf4e106"
            ],
            "layout": "IPY_MODEL_6206b5ce282f45b1bad6d6d5173ca894"
          }
        },
        "090c1cd0d7a146e0a1ff704deb8585fb": {
          "model_module": "@jupyter-widgets/controls",
          "model_module_version": "1.5.0",
          "model_name": "DescriptionStyleModel",
          "state": {
            "_model_module": "@jupyter-widgets/controls",
            "_model_module_version": "1.5.0",
            "_model_name": "DescriptionStyleModel",
            "_view_count": null,
            "_view_module": "@jupyter-widgets/base",
            "_view_module_version": "1.2.0",
            "_view_name": "StyleView",
            "description_width": ""
          }
        },
        "094d79d85fc0479b88a64e875974e5a4": {
          "model_module": "@jupyter-widgets/controls",
          "model_module_version": "1.5.0",
          "model_name": "HTMLModel",
          "state": {
            "_dom_classes": [],
            "_model_module": "@jupyter-widgets/controls",
            "_model_module_version": "1.5.0",
            "_model_name": "HTMLModel",
            "_view_count": null,
            "_view_module": "@jupyter-widgets/controls",
            "_view_module_version": "1.5.0",
            "_view_name": "HTMLView",
            "description": "",
            "description_tooltip": null,
            "layout": "IPY_MODEL_591a6287591145478f96c4ca1e58ccd6",
            "placeholder": "​",
            "style": "IPY_MODEL_4222ef32ca26439b90baaf44776ffb34",
            "value": " 1.10G/1.10G [00:48&lt;00:00, 23.5MB/s]"
          }
        },
        "0bc26163081a4369896c96394785a4b5": {
          "model_module": "@jupyter-widgets/controls",
          "model_module_version": "1.5.0",
          "model_name": "ProgressStyleModel",
          "state": {
            "_model_module": "@jupyter-widgets/controls",
            "_model_module_version": "1.5.0",
            "_model_name": "ProgressStyleModel",
            "_view_count": null,
            "_view_module": "@jupyter-widgets/base",
            "_view_module_version": "1.2.0",
            "_view_name": "StyleView",
            "bar_color": null,
            "description_width": ""
          }
        },
        "0c5d95907ad5475aa7b658f4bee8d6aa": {
          "model_module": "@jupyter-widgets/controls",
          "model_module_version": "1.5.0",
          "model_name": "HTMLModel",
          "state": {
            "_dom_classes": [],
            "_model_module": "@jupyter-widgets/controls",
            "_model_module_version": "1.5.0",
            "_model_name": "HTMLModel",
            "_view_count": null,
            "_view_module": "@jupyter-widgets/controls",
            "_view_module_version": "1.5.0",
            "_view_name": "HTMLView",
            "description": "",
            "description_tooltip": null,
            "layout": "IPY_MODEL_f9eb6ac474964a2fbaff34b49b85af2f",
            "placeholder": "​",
            "style": "IPY_MODEL_4763f891b4e54d10a15952cb6a1780ad",
            "value": "tokenizer.json: 100%"
          }
        },
        "0d873fce21914e0fbe0a35876fc8a363": {
          "model_module": "@jupyter-widgets/controls",
          "model_module_version": "1.5.0",
          "model_name": "FloatProgressModel",
          "state": {
            "_dom_classes": [],
            "_model_module": "@jupyter-widgets/controls",
            "_model_module_version": "1.5.0",
            "_model_name": "FloatProgressModel",
            "_view_count": null,
            "_view_module": "@jupyter-widgets/controls",
            "_view_module_version": "1.5.0",
            "_view_name": "ProgressView",
            "bar_style": "success",
            "description": "",
            "description_tooltip": null,
            "layout": "IPY_MODEL_f898c0248c534b9b8b43429e3ca9b3e2",
            "max": 728,
            "min": 0,
            "orientation": "horizontal",
            "style": "IPY_MODEL_4401a8e311934e85a65c1c010aa93af1",
            "value": 728
          }
        },
        "1d8d6ee43a71443cb821eb846228f277": {
          "model_module": "@jupyter-widgets/base",
          "model_module_version": "1.2.0",
          "model_name": "LayoutModel",
          "state": {
            "_model_module": "@jupyter-widgets/base",
            "_model_module_version": "1.2.0",
            "_model_name": "LayoutModel",
            "_view_count": null,
            "_view_module": "@jupyter-widgets/base",
            "_view_module_version": "1.2.0",
            "_view_name": "LayoutView",
            "align_content": null,
            "align_items": null,
            "align_self": null,
            "border": null,
            "bottom": null,
            "display": null,
            "flex": null,
            "flex_flow": null,
            "grid_area": null,
            "grid_auto_columns": null,
            "grid_auto_flow": null,
            "grid_auto_rows": null,
            "grid_column": null,
            "grid_gap": null,
            "grid_row": null,
            "grid_template_areas": null,
            "grid_template_columns": null,
            "grid_template_rows": null,
            "height": null,
            "justify_content": null,
            "justify_items": null,
            "left": null,
            "margin": null,
            "max_height": null,
            "max_width": null,
            "min_height": null,
            "min_width": null,
            "object_fit": null,
            "object_position": null,
            "order": null,
            "overflow": null,
            "overflow_x": null,
            "overflow_y": null,
            "padding": null,
            "right": null,
            "top": null,
            "visibility": null,
            "width": null
          }
        },
        "2582e3f3f3bc49a2bafea5af68ebf81c": {
          "model_module": "@jupyter-widgets/base",
          "model_module_version": "1.2.0",
          "model_name": "LayoutModel",
          "state": {
            "_model_module": "@jupyter-widgets/base",
            "_model_module_version": "1.2.0",
            "_model_name": "LayoutModel",
            "_view_count": null,
            "_view_module": "@jupyter-widgets/base",
            "_view_module_version": "1.2.0",
            "_view_name": "LayoutView",
            "align_content": null,
            "align_items": null,
            "align_self": null,
            "border": null,
            "bottom": null,
            "display": null,
            "flex": null,
            "flex_flow": null,
            "grid_area": null,
            "grid_auto_columns": null,
            "grid_auto_flow": null,
            "grid_auto_rows": null,
            "grid_column": null,
            "grid_gap": null,
            "grid_row": null,
            "grid_template_areas": null,
            "grid_template_columns": null,
            "grid_template_rows": null,
            "height": null,
            "justify_content": null,
            "justify_items": null,
            "left": null,
            "margin": null,
            "max_height": null,
            "max_width": null,
            "min_height": null,
            "min_width": null,
            "object_fit": null,
            "object_position": null,
            "order": null,
            "overflow": null,
            "overflow_x": null,
            "overflow_y": null,
            "padding": null,
            "right": null,
            "top": null,
            "visibility": null,
            "width": null
          }
        },
        "2a6c739714f246a7a547494df8b5115c": {
          "model_module": "@jupyter-widgets/base",
          "model_module_version": "1.2.0",
          "model_name": "LayoutModel",
          "state": {
            "_model_module": "@jupyter-widgets/base",
            "_model_module_version": "1.2.0",
            "_model_name": "LayoutModel",
            "_view_count": null,
            "_view_module": "@jupyter-widgets/base",
            "_view_module_version": "1.2.0",
            "_view_name": "LayoutView",
            "align_content": null,
            "align_items": null,
            "align_self": null,
            "border": null,
            "bottom": null,
            "display": null,
            "flex": null,
            "flex_flow": null,
            "grid_area": null,
            "grid_auto_columns": null,
            "grid_auto_flow": null,
            "grid_auto_rows": null,
            "grid_column": null,
            "grid_gap": null,
            "grid_row": null,
            "grid_template_areas": null,
            "grid_template_columns": null,
            "grid_template_rows": null,
            "height": null,
            "justify_content": null,
            "justify_items": null,
            "left": null,
            "margin": null,
            "max_height": null,
            "max_width": null,
            "min_height": null,
            "min_width": null,
            "object_fit": null,
            "object_position": null,
            "order": null,
            "overflow": null,
            "overflow_x": null,
            "overflow_y": null,
            "padding": null,
            "right": null,
            "top": null,
            "visibility": null,
            "width": null
          }
        },
        "2eddfc790fb04290858044a2c9c658b9": {
          "model_module": "@jupyter-widgets/base",
          "model_module_version": "1.2.0",
          "model_name": "LayoutModel",
          "state": {
            "_model_module": "@jupyter-widgets/base",
            "_model_module_version": "1.2.0",
            "_model_name": "LayoutModel",
            "_view_count": null,
            "_view_module": "@jupyter-widgets/base",
            "_view_module_version": "1.2.0",
            "_view_name": "LayoutView",
            "align_content": null,
            "align_items": null,
            "align_self": null,
            "border": null,
            "bottom": null,
            "display": null,
            "flex": null,
            "flex_flow": null,
            "grid_area": null,
            "grid_auto_columns": null,
            "grid_auto_flow": null,
            "grid_auto_rows": null,
            "grid_column": null,
            "grid_gap": null,
            "grid_row": null,
            "grid_template_areas": null,
            "grid_template_columns": null,
            "grid_template_rows": null,
            "height": null,
            "justify_content": null,
            "justify_items": null,
            "left": null,
            "margin": null,
            "max_height": null,
            "max_width": null,
            "min_height": null,
            "min_width": null,
            "object_fit": null,
            "object_position": null,
            "order": null,
            "overflow": null,
            "overflow_x": null,
            "overflow_y": null,
            "padding": null,
            "right": null,
            "top": null,
            "visibility": null,
            "width": null
          }
        },
        "3312fe08dfd140cab272d04d17cd7d80": {
          "model_module": "@jupyter-widgets/controls",
          "model_module_version": "1.5.0",
          "model_name": "DescriptionStyleModel",
          "state": {
            "_model_module": "@jupyter-widgets/controls",
            "_model_module_version": "1.5.0",
            "_model_name": "DescriptionStyleModel",
            "_view_count": null,
            "_view_module": "@jupyter-widgets/base",
            "_view_module_version": "1.2.0",
            "_view_name": "StyleView",
            "description_width": ""
          }
        },
        "349419dbb344484cbaa442d2d47c6f17": {
          "model_module": "@jupyter-widgets/controls",
          "model_module_version": "1.5.0",
          "model_name": "HBoxModel",
          "state": {
            "_dom_classes": [],
            "_model_module": "@jupyter-widgets/controls",
            "_model_module_version": "1.5.0",
            "_model_name": "HBoxModel",
            "_view_count": null,
            "_view_module": "@jupyter-widgets/controls",
            "_view_module_version": "1.5.0",
            "_view_name": "HBoxView",
            "box_style": "",
            "children": [
              "IPY_MODEL_75dceb963c574211b6651eb724912b16",
              "IPY_MODEL_97d427efb630486ab1d86857757824b1",
              "IPY_MODEL_094d79d85fc0479b88a64e875974e5a4"
            ],
            "layout": "IPY_MODEL_c9bf5fc6f5a642d7b68bea75ad6775a2"
          }
        },
        "34975276bfe34b4e9e6b381ce12a8654": {
          "model_module": "@jupyter-widgets/controls",
          "model_module_version": "1.5.0",
          "model_name": "HBoxModel",
          "state": {
            "_dom_classes": [],
            "_model_module": "@jupyter-widgets/controls",
            "_model_module_version": "1.5.0",
            "_model_name": "HBoxModel",
            "_view_count": null,
            "_view_module": "@jupyter-widgets/controls",
            "_view_module_version": "1.5.0",
            "_view_name": "HBoxView",
            "box_style": "",
            "children": [
              "IPY_MODEL_abb958f3b9eb48aaa474e9bce7c6dce9",
              "IPY_MODEL_bb7f4af21e0d4e85bd82651f9b7e1dbf",
              "IPY_MODEL_72d4773f25704617806d9a5a4e8d90a2"
            ],
            "layout": "IPY_MODEL_505c1cc538a349c0a72b9b965ef8c6bb"
          }
        },
        "3ffc13b075ff413186bb8d06c2135024": {
          "model_module": "@jupyter-widgets/controls",
          "model_module_version": "1.5.0",
          "model_name": "HBoxModel",
          "state": {
            "_dom_classes": [],
            "_model_module": "@jupyter-widgets/controls",
            "_model_module_version": "1.5.0",
            "_model_name": "HBoxModel",
            "_view_count": null,
            "_view_module": "@jupyter-widgets/controls",
            "_view_module_version": "1.5.0",
            "_view_name": "HBoxView",
            "box_style": "",
            "children": [
              "IPY_MODEL_0c5d95907ad5475aa7b658f4bee8d6aa",
              "IPY_MODEL_06aa5c90d2164b6f92d27f143900909f",
              "IPY_MODEL_9522096ee9ed49c0a687a4bb493d303f"
            ],
            "layout": "IPY_MODEL_dac7cec9b1e0468aa2cfb29427cc5f30"
          }
        },
        "4222ef32ca26439b90baaf44776ffb34": {
          "model_module": "@jupyter-widgets/controls",
          "model_module_version": "1.5.0",
          "model_name": "DescriptionStyleModel",
          "state": {
            "_model_module": "@jupyter-widgets/controls",
            "_model_module_version": "1.5.0",
            "_model_name": "DescriptionStyleModel",
            "_view_count": null,
            "_view_module": "@jupyter-widgets/base",
            "_view_module_version": "1.2.0",
            "_view_name": "StyleView",
            "description_width": ""
          }
        },
        "4401a8e311934e85a65c1c010aa93af1": {
          "model_module": "@jupyter-widgets/controls",
          "model_module_version": "1.5.0",
          "model_name": "ProgressStyleModel",
          "state": {
            "_model_module": "@jupyter-widgets/controls",
            "_model_module_version": "1.5.0",
            "_model_name": "ProgressStyleModel",
            "_view_count": null,
            "_view_module": "@jupyter-widgets/base",
            "_view_module_version": "1.2.0",
            "_view_name": "StyleView",
            "bar_color": null,
            "description_width": ""
          }
        },
        "4763f891b4e54d10a15952cb6a1780ad": {
          "model_module": "@jupyter-widgets/controls",
          "model_module_version": "1.5.0",
          "model_name": "DescriptionStyleModel",
          "state": {
            "_model_module": "@jupyter-widgets/controls",
            "_model_module_version": "1.5.0",
            "_model_name": "DescriptionStyleModel",
            "_view_count": null,
            "_view_module": "@jupyter-widgets/base",
            "_view_module_version": "1.2.0",
            "_view_name": "StyleView",
            "description_width": ""
          }
        },
        "47e644bbebc24d1daf1c1a2e5f71aa81": {
          "model_module": "@jupyter-widgets/base",
          "model_module_version": "1.2.0",
          "model_name": "LayoutModel",
          "state": {
            "_model_module": "@jupyter-widgets/base",
            "_model_module_version": "1.2.0",
            "_model_name": "LayoutModel",
            "_view_count": null,
            "_view_module": "@jupyter-widgets/base",
            "_view_module_version": "1.2.0",
            "_view_name": "LayoutView",
            "align_content": null,
            "align_items": null,
            "align_self": null,
            "border": null,
            "bottom": null,
            "display": null,
            "flex": null,
            "flex_flow": null,
            "grid_area": null,
            "grid_auto_columns": null,
            "grid_auto_flow": null,
            "grid_auto_rows": null,
            "grid_column": null,
            "grid_gap": null,
            "grid_row": null,
            "grid_template_areas": null,
            "grid_template_columns": null,
            "grid_template_rows": null,
            "height": null,
            "justify_content": null,
            "justify_items": null,
            "left": null,
            "margin": null,
            "max_height": null,
            "max_width": null,
            "min_height": null,
            "min_width": null,
            "object_fit": null,
            "object_position": null,
            "order": null,
            "overflow": null,
            "overflow_x": null,
            "overflow_y": null,
            "padding": null,
            "right": null,
            "top": null,
            "visibility": null,
            "width": null
          }
        },
        "4942d72f0e134a738bcbf85a03f96a5d": {
          "model_module": "@jupyter-widgets/base",
          "model_module_version": "1.2.0",
          "model_name": "LayoutModel",
          "state": {
            "_model_module": "@jupyter-widgets/base",
            "_model_module_version": "1.2.0",
            "_model_name": "LayoutModel",
            "_view_count": null,
            "_view_module": "@jupyter-widgets/base",
            "_view_module_version": "1.2.0",
            "_view_name": "LayoutView",
            "align_content": null,
            "align_items": null,
            "align_self": null,
            "border": null,
            "bottom": null,
            "display": null,
            "flex": null,
            "flex_flow": null,
            "grid_area": null,
            "grid_auto_columns": null,
            "grid_auto_flow": null,
            "grid_auto_rows": null,
            "grid_column": null,
            "grid_gap": null,
            "grid_row": null,
            "grid_template_areas": null,
            "grid_template_columns": null,
            "grid_template_rows": null,
            "height": null,
            "justify_content": null,
            "justify_items": null,
            "left": null,
            "margin": null,
            "max_height": null,
            "max_width": null,
            "min_height": null,
            "min_width": null,
            "object_fit": null,
            "object_position": null,
            "order": null,
            "overflow": null,
            "overflow_x": null,
            "overflow_y": null,
            "padding": null,
            "right": null,
            "top": null,
            "visibility": null,
            "width": null
          }
        },
        "4c85793d9574486ea87525d5eaed52c2": {
          "model_module": "@jupyter-widgets/controls",
          "model_module_version": "1.5.0",
          "model_name": "ProgressStyleModel",
          "state": {
            "_model_module": "@jupyter-widgets/controls",
            "_model_module_version": "1.5.0",
            "_model_name": "ProgressStyleModel",
            "_view_count": null,
            "_view_module": "@jupyter-widgets/base",
            "_view_module_version": "1.2.0",
            "_view_name": "StyleView",
            "bar_color": null,
            "description_width": ""
          }
        },
        "4d02e22bb37f420fbcad7c3829da17e0": {
          "model_module": "@jupyter-widgets/base",
          "model_module_version": "1.2.0",
          "model_name": "LayoutModel",
          "state": {
            "_model_module": "@jupyter-widgets/base",
            "_model_module_version": "1.2.0",
            "_model_name": "LayoutModel",
            "_view_count": null,
            "_view_module": "@jupyter-widgets/base",
            "_view_module_version": "1.2.0",
            "_view_name": "LayoutView",
            "align_content": null,
            "align_items": null,
            "align_self": null,
            "border": null,
            "bottom": null,
            "display": null,
            "flex": null,
            "flex_flow": null,
            "grid_area": null,
            "grid_auto_columns": null,
            "grid_auto_flow": null,
            "grid_auto_rows": null,
            "grid_column": null,
            "grid_gap": null,
            "grid_row": null,
            "grid_template_areas": null,
            "grid_template_columns": null,
            "grid_template_rows": null,
            "height": null,
            "justify_content": null,
            "justify_items": null,
            "left": null,
            "margin": null,
            "max_height": null,
            "max_width": null,
            "min_height": null,
            "min_width": null,
            "object_fit": null,
            "object_position": null,
            "order": null,
            "overflow": null,
            "overflow_x": null,
            "overflow_y": null,
            "padding": null,
            "right": null,
            "top": null,
            "visibility": null,
            "width": null
          }
        },
        "505c1cc538a349c0a72b9b965ef8c6bb": {
          "model_module": "@jupyter-widgets/base",
          "model_module_version": "1.2.0",
          "model_name": "LayoutModel",
          "state": {
            "_model_module": "@jupyter-widgets/base",
            "_model_module_version": "1.2.0",
            "_model_name": "LayoutModel",
            "_view_count": null,
            "_view_module": "@jupyter-widgets/base",
            "_view_module_version": "1.2.0",
            "_view_name": "LayoutView",
            "align_content": null,
            "align_items": null,
            "align_self": null,
            "border": null,
            "bottom": null,
            "display": null,
            "flex": null,
            "flex_flow": null,
            "grid_area": null,
            "grid_auto_columns": null,
            "grid_auto_flow": null,
            "grid_auto_rows": null,
            "grid_column": null,
            "grid_gap": null,
            "grid_row": null,
            "grid_template_areas": null,
            "grid_template_columns": null,
            "grid_template_rows": null,
            "height": null,
            "justify_content": null,
            "justify_items": null,
            "left": null,
            "margin": null,
            "max_height": null,
            "max_width": null,
            "min_height": null,
            "min_width": null,
            "object_fit": null,
            "object_position": null,
            "order": null,
            "overflow": null,
            "overflow_x": null,
            "overflow_y": null,
            "padding": null,
            "right": null,
            "top": null,
            "visibility": null,
            "width": null
          }
        },
        "580d97baecfd4c528d20a45d3ba9852e": {
          "model_module": "@jupyter-widgets/controls",
          "model_module_version": "1.5.0",
          "model_name": "HTMLModel",
          "state": {
            "_dom_classes": [],
            "_model_module": "@jupyter-widgets/controls",
            "_model_module_version": "1.5.0",
            "_model_name": "HTMLModel",
            "_view_count": null,
            "_view_module": "@jupyter-widgets/controls",
            "_view_module_version": "1.5.0",
            "_view_name": "HTMLView",
            "description": "",
            "description_tooltip": null,
            "layout": "IPY_MODEL_fddbfc997182457fbdbbce919408248c",
            "placeholder": "​",
            "style": "IPY_MODEL_b7dded3df8c541a6924c8fb4b0105964",
            "value": " 728/728 [00:00&lt;00:00, 55.5kB/s]"
          }
        },
        "580f32fbfc5d44f0995ff6a9db07ba32": {
          "model_module": "@jupyter-widgets/base",
          "model_module_version": "1.2.0",
          "model_name": "LayoutModel",
          "state": {
            "_model_module": "@jupyter-widgets/base",
            "_model_module_version": "1.2.0",
            "_model_name": "LayoutModel",
            "_view_count": null,
            "_view_module": "@jupyter-widgets/base",
            "_view_module_version": "1.2.0",
            "_view_name": "LayoutView",
            "align_content": null,
            "align_items": null,
            "align_self": null,
            "border": null,
            "bottom": null,
            "display": null,
            "flex": null,
            "flex_flow": null,
            "grid_area": null,
            "grid_auto_columns": null,
            "grid_auto_flow": null,
            "grid_auto_rows": null,
            "grid_column": null,
            "grid_gap": null,
            "grid_row": null,
            "grid_template_areas": null,
            "grid_template_columns": null,
            "grid_template_rows": null,
            "height": null,
            "justify_content": null,
            "justify_items": null,
            "left": null,
            "margin": null,
            "max_height": null,
            "max_width": null,
            "min_height": null,
            "min_width": null,
            "object_fit": null,
            "object_position": null,
            "order": null,
            "overflow": null,
            "overflow_x": null,
            "overflow_y": null,
            "padding": null,
            "right": null,
            "top": null,
            "visibility": null,
            "width": null
          }
        },
        "583f1f462f1b4fdd80fe7dfe18df8d94": {
          "model_module": "@jupyter-widgets/controls",
          "model_module_version": "1.5.0",
          "model_name": "DescriptionStyleModel",
          "state": {
            "_model_module": "@jupyter-widgets/controls",
            "_model_module_version": "1.5.0",
            "_model_name": "DescriptionStyleModel",
            "_view_count": null,
            "_view_module": "@jupyter-widgets/base",
            "_view_module_version": "1.2.0",
            "_view_name": "StyleView",
            "description_width": ""
          }
        },
        "591a6287591145478f96c4ca1e58ccd6": {
          "model_module": "@jupyter-widgets/base",
          "model_module_version": "1.2.0",
          "model_name": "LayoutModel",
          "state": {
            "_model_module": "@jupyter-widgets/base",
            "_model_module_version": "1.2.0",
            "_model_name": "LayoutModel",
            "_view_count": null,
            "_view_module": "@jupyter-widgets/base",
            "_view_module_version": "1.2.0",
            "_view_name": "LayoutView",
            "align_content": null,
            "align_items": null,
            "align_self": null,
            "border": null,
            "bottom": null,
            "display": null,
            "flex": null,
            "flex_flow": null,
            "grid_area": null,
            "grid_auto_columns": null,
            "grid_auto_flow": null,
            "grid_auto_rows": null,
            "grid_column": null,
            "grid_gap": null,
            "grid_row": null,
            "grid_template_areas": null,
            "grid_template_columns": null,
            "grid_template_rows": null,
            "height": null,
            "justify_content": null,
            "justify_items": null,
            "left": null,
            "margin": null,
            "max_height": null,
            "max_width": null,
            "min_height": null,
            "min_width": null,
            "object_fit": null,
            "object_position": null,
            "order": null,
            "overflow": null,
            "overflow_x": null,
            "overflow_y": null,
            "padding": null,
            "right": null,
            "top": null,
            "visibility": null,
            "width": null
          }
        },
        "6206b5ce282f45b1bad6d6d5173ca894": {
          "model_module": "@jupyter-widgets/base",
          "model_module_version": "1.2.0",
          "model_name": "LayoutModel",
          "state": {
            "_model_module": "@jupyter-widgets/base",
            "_model_module_version": "1.2.0",
            "_model_name": "LayoutModel",
            "_view_count": null,
            "_view_module": "@jupyter-widgets/base",
            "_view_module_version": "1.2.0",
            "_view_name": "LayoutView",
            "align_content": null,
            "align_items": null,
            "align_self": null,
            "border": null,
            "bottom": null,
            "display": null,
            "flex": null,
            "flex_flow": null,
            "grid_area": null,
            "grid_auto_columns": null,
            "grid_auto_flow": null,
            "grid_auto_rows": null,
            "grid_column": null,
            "grid_gap": null,
            "grid_row": null,
            "grid_template_areas": null,
            "grid_template_columns": null,
            "grid_template_rows": null,
            "height": null,
            "justify_content": null,
            "justify_items": null,
            "left": null,
            "margin": null,
            "max_height": null,
            "max_width": null,
            "min_height": null,
            "min_width": null,
            "object_fit": null,
            "object_position": null,
            "order": null,
            "overflow": null,
            "overflow_x": null,
            "overflow_y": null,
            "padding": null,
            "right": null,
            "top": null,
            "visibility": null,
            "width": null
          }
        },
        "6aff1070c33f4816809a2c084b5a4611": {
          "model_module": "@jupyter-widgets/controls",
          "model_module_version": "1.5.0",
          "model_name": "FloatProgressModel",
          "state": {
            "_dom_classes": [],
            "_model_module": "@jupyter-widgets/controls",
            "_model_module_version": "1.5.0",
            "_model_name": "FloatProgressModel",
            "_view_count": null,
            "_view_module": "@jupyter-widgets/controls",
            "_view_module_version": "1.5.0",
            "_view_name": "ProgressView",
            "bar_style": "success",
            "description": "",
            "description_tooltip": null,
            "layout": "IPY_MODEL_2eddfc790fb04290858044a2c9c658b9",
            "max": 209,
            "min": 0,
            "orientation": "horizontal",
            "style": "IPY_MODEL_cc1010ee239047019dc7e17d0ddcac5c",
            "value": 209
          }
        },
        "6e22a6e479bc4ad5a2268876fd73115e": {
          "model_module": "@jupyter-widgets/base",
          "model_module_version": "1.2.0",
          "model_name": "LayoutModel",
          "state": {
            "_model_module": "@jupyter-widgets/base",
            "_model_module_version": "1.2.0",
            "_model_name": "LayoutModel",
            "_view_count": null,
            "_view_module": "@jupyter-widgets/base",
            "_view_module_version": "1.2.0",
            "_view_name": "LayoutView",
            "align_content": null,
            "align_items": null,
            "align_self": null,
            "border": null,
            "bottom": null,
            "display": null,
            "flex": null,
            "flex_flow": null,
            "grid_area": null,
            "grid_auto_columns": null,
            "grid_auto_flow": null,
            "grid_auto_rows": null,
            "grid_column": null,
            "grid_gap": null,
            "grid_row": null,
            "grid_template_areas": null,
            "grid_template_columns": null,
            "grid_template_rows": null,
            "height": null,
            "justify_content": null,
            "justify_items": null,
            "left": null,
            "margin": null,
            "max_height": null,
            "max_width": null,
            "min_height": null,
            "min_width": null,
            "object_fit": null,
            "object_position": null,
            "order": null,
            "overflow": null,
            "overflow_x": null,
            "overflow_y": null,
            "padding": null,
            "right": null,
            "top": null,
            "visibility": null,
            "width": null
          }
        },
        "72d4773f25704617806d9a5a4e8d90a2": {
          "model_module": "@jupyter-widgets/controls",
          "model_module_version": "1.5.0",
          "model_name": "HTMLModel",
          "state": {
            "_dom_classes": [],
            "_model_module": "@jupyter-widgets/controls",
            "_model_module_version": "1.5.0",
            "_model_name": "HTMLModel",
            "_view_count": null,
            "_view_module": "@jupyter-widgets/controls",
            "_view_module_version": "1.5.0",
            "_view_name": "HTMLView",
            "description": "",
            "description_tooltip": null,
            "layout": "IPY_MODEL_b5b58f39035940259ea3dd8b0b87d4ad",
            "placeholder": "​",
            "style": "IPY_MODEL_583f1f462f1b4fdd80fe7dfe18df8d94",
            "value": " 67.0/67.0 [00:00&lt;00:00, 5.24kB/s]"
          }
        },
        "74e0f030c1134310a59e0fbdc4999602": {
          "model_module": "@jupyter-widgets/controls",
          "model_module_version": "1.5.0",
          "model_name": "DescriptionStyleModel",
          "state": {
            "_model_module": "@jupyter-widgets/controls",
            "_model_module_version": "1.5.0",
            "_model_name": "DescriptionStyleModel",
            "_view_count": null,
            "_view_module": "@jupyter-widgets/base",
            "_view_module_version": "1.2.0",
            "_view_name": "StyleView",
            "description_width": ""
          }
        },
        "75dceb963c574211b6651eb724912b16": {
          "model_module": "@jupyter-widgets/controls",
          "model_module_version": "1.5.0",
          "model_name": "HTMLModel",
          "state": {
            "_dom_classes": [],
            "_model_module": "@jupyter-widgets/controls",
            "_model_module_version": "1.5.0",
            "_model_name": "HTMLModel",
            "_view_count": null,
            "_view_module": "@jupyter-widgets/controls",
            "_view_module_version": "1.5.0",
            "_view_name": "HTMLView",
            "description": "",
            "description_tooltip": null,
            "layout": "IPY_MODEL_aa8af1d1710d46e184c52c75119e637f",
            "placeholder": "​",
            "style": "IPY_MODEL_74e0f030c1134310a59e0fbdc4999602",
            "value": "pytorch_model.bin: 100%"
          }
        },
        "7acb34ddf7354aa984698bc65c90ca3a": {
          "model_module": "@jupyter-widgets/controls",
          "model_module_version": "1.5.0",
          "model_name": "DescriptionStyleModel",
          "state": {
            "_model_module": "@jupyter-widgets/controls",
            "_model_module_version": "1.5.0",
            "_model_name": "DescriptionStyleModel",
            "_view_count": null,
            "_view_module": "@jupyter-widgets/base",
            "_view_module_version": "1.2.0",
            "_view_name": "StyleView",
            "description_width": ""
          }
        },
        "7ae9f61ef06d47b5ae51c989f3f89251": {
          "model_module": "@jupyter-widgets/base",
          "model_module_version": "1.2.0",
          "model_name": "LayoutModel",
          "state": {
            "_model_module": "@jupyter-widgets/base",
            "_model_module_version": "1.2.0",
            "_model_name": "LayoutModel",
            "_view_count": null,
            "_view_module": "@jupyter-widgets/base",
            "_view_module_version": "1.2.0",
            "_view_name": "LayoutView",
            "align_content": null,
            "align_items": null,
            "align_self": null,
            "border": null,
            "bottom": null,
            "display": null,
            "flex": null,
            "flex_flow": null,
            "grid_area": null,
            "grid_auto_columns": null,
            "grid_auto_flow": null,
            "grid_auto_rows": null,
            "grid_column": null,
            "grid_gap": null,
            "grid_row": null,
            "grid_template_areas": null,
            "grid_template_columns": null,
            "grid_template_rows": null,
            "height": null,
            "justify_content": null,
            "justify_items": null,
            "left": null,
            "margin": null,
            "max_height": null,
            "max_width": null,
            "min_height": null,
            "min_width": null,
            "object_fit": null,
            "object_position": null,
            "order": null,
            "overflow": null,
            "overflow_x": null,
            "overflow_y": null,
            "padding": null,
            "right": null,
            "top": null,
            "visibility": null,
            "width": null
          }
        },
        "82a48156c2fd40919be523de6d8595c8": {
          "model_module": "@jupyter-widgets/controls",
          "model_module_version": "1.5.0",
          "model_name": "DescriptionStyleModel",
          "state": {
            "_model_module": "@jupyter-widgets/controls",
            "_model_module_version": "1.5.0",
            "_model_name": "DescriptionStyleModel",
            "_view_count": null,
            "_view_module": "@jupyter-widgets/base",
            "_view_module_version": "1.2.0",
            "_view_name": "StyleView",
            "description_width": ""
          }
        },
        "83be7ac233d74d22b1498a1aa29bca44": {
          "model_module": "@jupyter-widgets/base",
          "model_module_version": "1.2.0",
          "model_name": "LayoutModel",
          "state": {
            "_model_module": "@jupyter-widgets/base",
            "_model_module_version": "1.2.0",
            "_model_name": "LayoutModel",
            "_view_count": null,
            "_view_module": "@jupyter-widgets/base",
            "_view_module_version": "1.2.0",
            "_view_name": "LayoutView",
            "align_content": null,
            "align_items": null,
            "align_self": null,
            "border": null,
            "bottom": null,
            "display": null,
            "flex": null,
            "flex_flow": null,
            "grid_area": null,
            "grid_auto_columns": null,
            "grid_auto_flow": null,
            "grid_auto_rows": null,
            "grid_column": null,
            "grid_gap": null,
            "grid_row": null,
            "grid_template_areas": null,
            "grid_template_columns": null,
            "grid_template_rows": null,
            "height": null,
            "justify_content": null,
            "justify_items": null,
            "left": null,
            "margin": null,
            "max_height": null,
            "max_width": null,
            "min_height": null,
            "min_width": null,
            "object_fit": null,
            "object_position": null,
            "order": null,
            "overflow": null,
            "overflow_x": null,
            "overflow_y": null,
            "padding": null,
            "right": null,
            "top": null,
            "visibility": null,
            "width": null
          }
        },
        "86947b0ef9c14c5296d1dca5acf4e106": {
          "model_module": "@jupyter-widgets/controls",
          "model_module_version": "1.5.0",
          "model_name": "HTMLModel",
          "state": {
            "_dom_classes": [],
            "_model_module": "@jupyter-widgets/controls",
            "_model_module_version": "1.5.0",
            "_model_name": "HTMLModel",
            "_view_count": null,
            "_view_module": "@jupyter-widgets/controls",
            "_view_module_version": "1.5.0",
            "_view_name": "HTMLView",
            "description": "",
            "description_tooltip": null,
            "layout": "IPY_MODEL_b92e0ed2d17745b9afc25b9b98fdf0e2",
            "placeholder": "​",
            "style": "IPY_MODEL_82a48156c2fd40919be523de6d8595c8",
            "value": " 209/209 [00:00&lt;00:00, 12.9kB/s]"
          }
        },
        "86e1d17b8459463c959c172dc11a9b12": {
          "model_module": "@jupyter-widgets/controls",
          "model_module_version": "1.5.0",
          "model_name": "ProgressStyleModel",
          "state": {
            "_model_module": "@jupyter-widgets/controls",
            "_model_module_version": "1.5.0",
            "_model_name": "ProgressStyleModel",
            "_view_count": null,
            "_view_module": "@jupyter-widgets/base",
            "_view_module_version": "1.2.0",
            "_view_name": "StyleView",
            "bar_color": null,
            "description_width": ""
          }
        },
        "87208424c82640b38b1b42ad2e752be2": {
          "model_module": "@jupyter-widgets/controls",
          "model_module_version": "1.5.0",
          "model_name": "DescriptionStyleModel",
          "state": {
            "_model_module": "@jupyter-widgets/controls",
            "_model_module_version": "1.5.0",
            "_model_name": "DescriptionStyleModel",
            "_view_count": null,
            "_view_module": "@jupyter-widgets/base",
            "_view_module_version": "1.2.0",
            "_view_name": "StyleView",
            "description_width": ""
          }
        },
        "882a4cf1356847d2b6ff50fbef243604": {
          "model_module": "@jupyter-widgets/controls",
          "model_module_version": "1.5.0",
          "model_name": "HBoxModel",
          "state": {
            "_dom_classes": [],
            "_model_module": "@jupyter-widgets/controls",
            "_model_module_version": "1.5.0",
            "_model_name": "HBoxModel",
            "_view_count": null,
            "_view_module": "@jupyter-widgets/controls",
            "_view_module_version": "1.5.0",
            "_view_name": "HBoxView",
            "box_style": "",
            "children": [
              "IPY_MODEL_cdea6c7699dd43c2bf87daa90fcc4728",
              "IPY_MODEL_6aff1070c33f4816809a2c084b5a4611",
              "IPY_MODEL_9c2ba9a442b34f5d89506aba2f12b4b8"
            ],
            "layout": "IPY_MODEL_2a6c739714f246a7a547494df8b5115c"
          }
        },
        "907465f8a3b44857bd454d23444c038e": {
          "model_module": "@jupyter-widgets/base",
          "model_module_version": "1.2.0",
          "model_name": "LayoutModel",
          "state": {
            "_model_module": "@jupyter-widgets/base",
            "_model_module_version": "1.2.0",
            "_model_name": "LayoutModel",
            "_view_count": null,
            "_view_module": "@jupyter-widgets/base",
            "_view_module_version": "1.2.0",
            "_view_name": "LayoutView",
            "align_content": null,
            "align_items": null,
            "align_self": null,
            "border": null,
            "bottom": null,
            "display": null,
            "flex": null,
            "flex_flow": null,
            "grid_area": null,
            "grid_auto_columns": null,
            "grid_auto_flow": null,
            "grid_auto_rows": null,
            "grid_column": null,
            "grid_gap": null,
            "grid_row": null,
            "grid_template_areas": null,
            "grid_template_columns": null,
            "grid_template_rows": null,
            "height": null,
            "justify_content": null,
            "justify_items": null,
            "left": null,
            "margin": null,
            "max_height": null,
            "max_width": null,
            "min_height": null,
            "min_width": null,
            "object_fit": null,
            "object_position": null,
            "order": null,
            "overflow": null,
            "overflow_x": null,
            "overflow_y": null,
            "padding": null,
            "right": null,
            "top": null,
            "visibility": null,
            "width": null
          }
        },
        "9522096ee9ed49c0a687a4bb493d303f": {
          "model_module": "@jupyter-widgets/controls",
          "model_module_version": "1.5.0",
          "model_name": "HTMLModel",
          "state": {
            "_dom_classes": [],
            "_model_module": "@jupyter-widgets/controls",
            "_model_module_version": "1.5.0",
            "_model_name": "HTMLModel",
            "_view_count": null,
            "_view_module": "@jupyter-widgets/controls",
            "_view_module_version": "1.5.0",
            "_view_name": "HTMLView",
            "description": "",
            "description_tooltip": null,
            "layout": "IPY_MODEL_47e644bbebc24d1daf1c1a2e5f71aa81",
            "placeholder": "​",
            "style": "IPY_MODEL_3312fe08dfd140cab272d04d17cd7d80",
            "value": " 2.90M/2.90M [00:00&lt;00:00, 3.38MB/s]"
          }
        },
        "97d427efb630486ab1d86857757824b1": {
          "model_module": "@jupyter-widgets/controls",
          "model_module_version": "1.5.0",
          "model_name": "FloatProgressModel",
          "state": {
            "_dom_classes": [],
            "_model_module": "@jupyter-widgets/controls",
            "_model_module_version": "1.5.0",
            "_model_name": "FloatProgressModel",
            "_view_count": null,
            "_view_module": "@jupyter-widgets/controls",
            "_view_module_version": "1.5.0",
            "_view_name": "ProgressView",
            "bar_style": "success",
            "description": "",
            "description_tooltip": null,
            "layout": "IPY_MODEL_7ae9f61ef06d47b5ae51c989f3f89251",
            "max": 1102407757,
            "min": 0,
            "orientation": "horizontal",
            "style": "IPY_MODEL_0bc26163081a4369896c96394785a4b5",
            "value": 1102407757
          }
        },
        "9a8ffd4a1e6947eb8f83ffb58e7bcd5e": {
          "model_module": "@jupyter-widgets/controls",
          "model_module_version": "1.5.0",
          "model_name": "HBoxModel",
          "state": {
            "_dom_classes": [],
            "_model_module": "@jupyter-widgets/controls",
            "_model_module_version": "1.5.0",
            "_model_name": "HBoxModel",
            "_view_count": null,
            "_view_module": "@jupyter-widgets/controls",
            "_view_module_version": "1.5.0",
            "_view_name": "HBoxView",
            "box_style": "",
            "children": [
              "IPY_MODEL_e2a3f75817a249969ec071f3515bdf45",
              "IPY_MODEL_0d873fce21914e0fbe0a35876fc8a363",
              "IPY_MODEL_580d97baecfd4c528d20a45d3ba9852e"
            ],
            "layout": "IPY_MODEL_1d8d6ee43a71443cb821eb846228f277"
          }
        },
        "9c2ba9a442b34f5d89506aba2f12b4b8": {
          "model_module": "@jupyter-widgets/controls",
          "model_module_version": "1.5.0",
          "model_name": "HTMLModel",
          "state": {
            "_dom_classes": [],
            "_model_module": "@jupyter-widgets/controls",
            "_model_module_version": "1.5.0",
            "_model_name": "HTMLModel",
            "_view_count": null,
            "_view_module": "@jupyter-widgets/controls",
            "_view_module_version": "1.5.0",
            "_view_name": "HTMLView",
            "description": "",
            "description_tooltip": null,
            "layout": "IPY_MODEL_907465f8a3b44857bd454d23444c038e",
            "placeholder": "​",
            "style": "IPY_MODEL_090c1cd0d7a146e0a1ff704deb8585fb",
            "value": " 209/209 [00:00&lt;00:00, 14.1kB/s]"
          }
        },
        "aa8af1d1710d46e184c52c75119e637f": {
          "model_module": "@jupyter-widgets/base",
          "model_module_version": "1.2.0",
          "model_name": "LayoutModel",
          "state": {
            "_model_module": "@jupyter-widgets/base",
            "_model_module_version": "1.2.0",
            "_model_name": "LayoutModel",
            "_view_count": null,
            "_view_module": "@jupyter-widgets/base",
            "_view_module_version": "1.2.0",
            "_view_name": "LayoutView",
            "align_content": null,
            "align_items": null,
            "align_self": null,
            "border": null,
            "bottom": null,
            "display": null,
            "flex": null,
            "flex_flow": null,
            "grid_area": null,
            "grid_auto_columns": null,
            "grid_auto_flow": null,
            "grid_auto_rows": null,
            "grid_column": null,
            "grid_gap": null,
            "grid_row": null,
            "grid_template_areas": null,
            "grid_template_columns": null,
            "grid_template_rows": null,
            "height": null,
            "justify_content": null,
            "justify_items": null,
            "left": null,
            "margin": null,
            "max_height": null,
            "max_width": null,
            "min_height": null,
            "min_width": null,
            "object_fit": null,
            "object_position": null,
            "order": null,
            "overflow": null,
            "overflow_x": null,
            "overflow_y": null,
            "padding": null,
            "right": null,
            "top": null,
            "visibility": null,
            "width": null
          }
        },
        "abb958f3b9eb48aaa474e9bce7c6dce9": {
          "model_module": "@jupyter-widgets/controls",
          "model_module_version": "1.5.0",
          "model_name": "HTMLModel",
          "state": {
            "_dom_classes": [],
            "_model_module": "@jupyter-widgets/controls",
            "_model_module_version": "1.5.0",
            "_model_name": "HTMLModel",
            "_view_count": null,
            "_view_module": "@jupyter-widgets/controls",
            "_view_module_version": "1.5.0",
            "_view_name": "HTMLView",
            "description": "",
            "description_tooltip": null,
            "layout": "IPY_MODEL_83be7ac233d74d22b1498a1aa29bca44",
            "placeholder": "​",
            "style": "IPY_MODEL_e55d42244e6243d592ac9483f42bcfa0",
            "value": "special_tokens_map.json: 100%"
          }
        },
        "b5b58f39035940259ea3dd8b0b87d4ad": {
          "model_module": "@jupyter-widgets/base",
          "model_module_version": "1.2.0",
          "model_name": "LayoutModel",
          "state": {
            "_model_module": "@jupyter-widgets/base",
            "_model_module_version": "1.2.0",
            "_model_name": "LayoutModel",
            "_view_count": null,
            "_view_module": "@jupyter-widgets/base",
            "_view_module_version": "1.2.0",
            "_view_name": "LayoutView",
            "align_content": null,
            "align_items": null,
            "align_self": null,
            "border": null,
            "bottom": null,
            "display": null,
            "flex": null,
            "flex_flow": null,
            "grid_area": null,
            "grid_auto_columns": null,
            "grid_auto_flow": null,
            "grid_auto_rows": null,
            "grid_column": null,
            "grid_gap": null,
            "grid_row": null,
            "grid_template_areas": null,
            "grid_template_columns": null,
            "grid_template_rows": null,
            "height": null,
            "justify_content": null,
            "justify_items": null,
            "left": null,
            "margin": null,
            "max_height": null,
            "max_width": null,
            "min_height": null,
            "min_width": null,
            "object_fit": null,
            "object_position": null,
            "order": null,
            "overflow": null,
            "overflow_x": null,
            "overflow_y": null,
            "padding": null,
            "right": null,
            "top": null,
            "visibility": null,
            "width": null
          }
        },
        "b7dded3df8c541a6924c8fb4b0105964": {
          "model_module": "@jupyter-widgets/controls",
          "model_module_version": "1.5.0",
          "model_name": "DescriptionStyleModel",
          "state": {
            "_model_module": "@jupyter-widgets/controls",
            "_model_module_version": "1.5.0",
            "_model_name": "DescriptionStyleModel",
            "_view_count": null,
            "_view_module": "@jupyter-widgets/base",
            "_view_module_version": "1.2.0",
            "_view_name": "StyleView",
            "description_width": ""
          }
        },
        "b92e0ed2d17745b9afc25b9b98fdf0e2": {
          "model_module": "@jupyter-widgets/base",
          "model_module_version": "1.2.0",
          "model_name": "LayoutModel",
          "state": {
            "_model_module": "@jupyter-widgets/base",
            "_model_module_version": "1.2.0",
            "_model_name": "LayoutModel",
            "_view_count": null,
            "_view_module": "@jupyter-widgets/base",
            "_view_module_version": "1.2.0",
            "_view_name": "LayoutView",
            "align_content": null,
            "align_items": null,
            "align_self": null,
            "border": null,
            "bottom": null,
            "display": null,
            "flex": null,
            "flex_flow": null,
            "grid_area": null,
            "grid_auto_columns": null,
            "grid_auto_flow": null,
            "grid_auto_rows": null,
            "grid_column": null,
            "grid_gap": null,
            "grid_row": null,
            "grid_template_areas": null,
            "grid_template_columns": null,
            "grid_template_rows": null,
            "height": null,
            "justify_content": null,
            "justify_items": null,
            "left": null,
            "margin": null,
            "max_height": null,
            "max_width": null,
            "min_height": null,
            "min_width": null,
            "object_fit": null,
            "object_position": null,
            "order": null,
            "overflow": null,
            "overflow_x": null,
            "overflow_y": null,
            "padding": null,
            "right": null,
            "top": null,
            "visibility": null,
            "width": null
          }
        },
        "bb7f4af21e0d4e85bd82651f9b7e1dbf": {
          "model_module": "@jupyter-widgets/controls",
          "model_module_version": "1.5.0",
          "model_name": "FloatProgressModel",
          "state": {
            "_dom_classes": [],
            "_model_module": "@jupyter-widgets/controls",
            "_model_module_version": "1.5.0",
            "_model_name": "FloatProgressModel",
            "_view_count": null,
            "_view_module": "@jupyter-widgets/controls",
            "_view_module_version": "1.5.0",
            "_view_name": "ProgressView",
            "bar_style": "success",
            "description": "",
            "description_tooltip": null,
            "layout": "IPY_MODEL_580f32fbfc5d44f0995ff6a9db07ba32",
            "max": 67,
            "min": 0,
            "orientation": "horizontal",
            "style": "IPY_MODEL_86e1d17b8459463c959c172dc11a9b12",
            "value": 67
          }
        },
        "c9bf5fc6f5a642d7b68bea75ad6775a2": {
          "model_module": "@jupyter-widgets/base",
          "model_module_version": "1.2.0",
          "model_name": "LayoutModel",
          "state": {
            "_model_module": "@jupyter-widgets/base",
            "_model_module_version": "1.2.0",
            "_model_name": "LayoutModel",
            "_view_count": null,
            "_view_module": "@jupyter-widgets/base",
            "_view_module_version": "1.2.0",
            "_view_name": "LayoutView",
            "align_content": null,
            "align_items": null,
            "align_self": null,
            "border": null,
            "bottom": null,
            "display": null,
            "flex": null,
            "flex_flow": null,
            "grid_area": null,
            "grid_auto_columns": null,
            "grid_auto_flow": null,
            "grid_auto_rows": null,
            "grid_column": null,
            "grid_gap": null,
            "grid_row": null,
            "grid_template_areas": null,
            "grid_template_columns": null,
            "grid_template_rows": null,
            "height": null,
            "justify_content": null,
            "justify_items": null,
            "left": null,
            "margin": null,
            "max_height": null,
            "max_width": null,
            "min_height": null,
            "min_width": null,
            "object_fit": null,
            "object_position": null,
            "order": null,
            "overflow": null,
            "overflow_x": null,
            "overflow_y": null,
            "padding": null,
            "right": null,
            "top": null,
            "visibility": null,
            "width": null
          }
        },
        "ca4a4879b3bf4f2bbed87cd5719ed2bd": {
          "model_module": "@jupyter-widgets/base",
          "model_module_version": "1.2.0",
          "model_name": "LayoutModel",
          "state": {
            "_model_module": "@jupyter-widgets/base",
            "_model_module_version": "1.2.0",
            "_model_name": "LayoutModel",
            "_view_count": null,
            "_view_module": "@jupyter-widgets/base",
            "_view_module_version": "1.2.0",
            "_view_name": "LayoutView",
            "align_content": null,
            "align_items": null,
            "align_self": null,
            "border": null,
            "bottom": null,
            "display": null,
            "flex": null,
            "flex_flow": null,
            "grid_area": null,
            "grid_auto_columns": null,
            "grid_auto_flow": null,
            "grid_auto_rows": null,
            "grid_column": null,
            "grid_gap": null,
            "grid_row": null,
            "grid_template_areas": null,
            "grid_template_columns": null,
            "grid_template_rows": null,
            "height": null,
            "justify_content": null,
            "justify_items": null,
            "left": null,
            "margin": null,
            "max_height": null,
            "max_width": null,
            "min_height": null,
            "min_width": null,
            "object_fit": null,
            "object_position": null,
            "order": null,
            "overflow": null,
            "overflow_x": null,
            "overflow_y": null,
            "padding": null,
            "right": null,
            "top": null,
            "visibility": null,
            "width": null
          }
        },
        "cc1010ee239047019dc7e17d0ddcac5c": {
          "model_module": "@jupyter-widgets/controls",
          "model_module_version": "1.5.0",
          "model_name": "ProgressStyleModel",
          "state": {
            "_model_module": "@jupyter-widgets/controls",
            "_model_module_version": "1.5.0",
            "_model_name": "ProgressStyleModel",
            "_view_count": null,
            "_view_module": "@jupyter-widgets/base",
            "_view_module_version": "1.2.0",
            "_view_name": "StyleView",
            "bar_color": null,
            "description_width": ""
          }
        },
        "cdea6c7699dd43c2bf87daa90fcc4728": {
          "model_module": "@jupyter-widgets/controls",
          "model_module_version": "1.5.0",
          "model_name": "HTMLModel",
          "state": {
            "_dom_classes": [],
            "_model_module": "@jupyter-widgets/controls",
            "_model_module_version": "1.5.0",
            "_model_name": "HTMLModel",
            "_view_count": null,
            "_view_module": "@jupyter-widgets/controls",
            "_view_module_version": "1.5.0",
            "_view_name": "HTMLView",
            "description": "",
            "description_tooltip": null,
            "layout": "IPY_MODEL_2582e3f3f3bc49a2bafea5af68ebf81c",
            "placeholder": "​",
            "style": "IPY_MODEL_fd6bd8edd5e946608955ef0900234dc3",
            "value": "tokenizer_config.json: 100%"
          }
        },
        "d95a8fec45d941a28f2ed3a864a7e747": {
          "model_module": "@jupyter-widgets/controls",
          "model_module_version": "1.5.0",
          "model_name": "FloatProgressModel",
          "state": {
            "_dom_classes": [],
            "_model_module": "@jupyter-widgets/controls",
            "_model_module_version": "1.5.0",
            "_model_name": "FloatProgressModel",
            "_view_count": null,
            "_view_module": "@jupyter-widgets/controls",
            "_view_module_version": "1.5.0",
            "_view_name": "ProgressView",
            "bar_style": "success",
            "description": "",
            "description_tooltip": null,
            "layout": "IPY_MODEL_4942d72f0e134a738bcbf85a03f96a5d",
            "max": 209,
            "min": 0,
            "orientation": "horizontal",
            "style": "IPY_MODEL_fe84f9e528744db79914f1bf86334df0",
            "value": 209
          }
        },
        "dac7cec9b1e0468aa2cfb29427cc5f30": {
          "model_module": "@jupyter-widgets/base",
          "model_module_version": "1.2.0",
          "model_name": "LayoutModel",
          "state": {
            "_model_module": "@jupyter-widgets/base",
            "_model_module_version": "1.2.0",
            "_model_name": "LayoutModel",
            "_view_count": null,
            "_view_module": "@jupyter-widgets/base",
            "_view_module_version": "1.2.0",
            "_view_name": "LayoutView",
            "align_content": null,
            "align_items": null,
            "align_self": null,
            "border": null,
            "bottom": null,
            "display": null,
            "flex": null,
            "flex_flow": null,
            "grid_area": null,
            "grid_auto_columns": null,
            "grid_auto_flow": null,
            "grid_auto_rows": null,
            "grid_column": null,
            "grid_gap": null,
            "grid_row": null,
            "grid_template_areas": null,
            "grid_template_columns": null,
            "grid_template_rows": null,
            "height": null,
            "justify_content": null,
            "justify_items": null,
            "left": null,
            "margin": null,
            "max_height": null,
            "max_width": null,
            "min_height": null,
            "min_width": null,
            "object_fit": null,
            "object_position": null,
            "order": null,
            "overflow": null,
            "overflow_x": null,
            "overflow_y": null,
            "padding": null,
            "right": null,
            "top": null,
            "visibility": null,
            "width": null
          }
        },
        "ddb8e7d4b2944055a123c4992633da93": {
          "model_module": "@jupyter-widgets/controls",
          "model_module_version": "1.5.0",
          "model_name": "HTMLModel",
          "state": {
            "_dom_classes": [],
            "_model_module": "@jupyter-widgets/controls",
            "_model_module_version": "1.5.0",
            "_model_name": "HTMLModel",
            "_view_count": null,
            "_view_module": "@jupyter-widgets/controls",
            "_view_module_version": "1.5.0",
            "_view_name": "HTMLView",
            "description": "",
            "description_tooltip": null,
            "layout": "IPY_MODEL_ca4a4879b3bf4f2bbed87cd5719ed2bd",
            "placeholder": "​",
            "style": "IPY_MODEL_87208424c82640b38b1b42ad2e752be2",
            "value": "tokenizer_config.json: 100%"
          }
        },
        "e2a3f75817a249969ec071f3515bdf45": {
          "model_module": "@jupyter-widgets/controls",
          "model_module_version": "1.5.0",
          "model_name": "HTMLModel",
          "state": {
            "_dom_classes": [],
            "_model_module": "@jupyter-widgets/controls",
            "_model_module_version": "1.5.0",
            "_model_name": "HTMLModel",
            "_view_count": null,
            "_view_module": "@jupyter-widgets/controls",
            "_view_module_version": "1.5.0",
            "_view_name": "HTMLView",
            "description": "",
            "description_tooltip": null,
            "layout": "IPY_MODEL_4d02e22bb37f420fbcad7c3829da17e0",
            "placeholder": "​",
            "style": "IPY_MODEL_7acb34ddf7354aa984698bc65c90ca3a",
            "value": "config.json: 100%"
          }
        },
        "e55d42244e6243d592ac9483f42bcfa0": {
          "model_module": "@jupyter-widgets/controls",
          "model_module_version": "1.5.0",
          "model_name": "DescriptionStyleModel",
          "state": {
            "_model_module": "@jupyter-widgets/controls",
            "_model_module_version": "1.5.0",
            "_model_name": "DescriptionStyleModel",
            "_view_count": null,
            "_view_module": "@jupyter-widgets/base",
            "_view_module_version": "1.2.0",
            "_view_name": "StyleView",
            "description_width": ""
          }
        },
        "f898c0248c534b9b8b43429e3ca9b3e2": {
          "model_module": "@jupyter-widgets/base",
          "model_module_version": "1.2.0",
          "model_name": "LayoutModel",
          "state": {
            "_model_module": "@jupyter-widgets/base",
            "_model_module_version": "1.2.0",
            "_model_name": "LayoutModel",
            "_view_count": null,
            "_view_module": "@jupyter-widgets/base",
            "_view_module_version": "1.2.0",
            "_view_name": "LayoutView",
            "align_content": null,
            "align_items": null,
            "align_self": null,
            "border": null,
            "bottom": null,
            "display": null,
            "flex": null,
            "flex_flow": null,
            "grid_area": null,
            "grid_auto_columns": null,
            "grid_auto_flow": null,
            "grid_auto_rows": null,
            "grid_column": null,
            "grid_gap": null,
            "grid_row": null,
            "grid_template_areas": null,
            "grid_template_columns": null,
            "grid_template_rows": null,
            "height": null,
            "justify_content": null,
            "justify_items": null,
            "left": null,
            "margin": null,
            "max_height": null,
            "max_width": null,
            "min_height": null,
            "min_width": null,
            "object_fit": null,
            "object_position": null,
            "order": null,
            "overflow": null,
            "overflow_x": null,
            "overflow_y": null,
            "padding": null,
            "right": null,
            "top": null,
            "visibility": null,
            "width": null
          }
        },
        "f9eb6ac474964a2fbaff34b49b85af2f": {
          "model_module": "@jupyter-widgets/base",
          "model_module_version": "1.2.0",
          "model_name": "LayoutModel",
          "state": {
            "_model_module": "@jupyter-widgets/base",
            "_model_module_version": "1.2.0",
            "_model_name": "LayoutModel",
            "_view_count": null,
            "_view_module": "@jupyter-widgets/base",
            "_view_module_version": "1.2.0",
            "_view_name": "LayoutView",
            "align_content": null,
            "align_items": null,
            "align_self": null,
            "border": null,
            "bottom": null,
            "display": null,
            "flex": null,
            "flex_flow": null,
            "grid_area": null,
            "grid_auto_columns": null,
            "grid_auto_flow": null,
            "grid_auto_rows": null,
            "grid_column": null,
            "grid_gap": null,
            "grid_row": null,
            "grid_template_areas": null,
            "grid_template_columns": null,
            "grid_template_rows": null,
            "height": null,
            "justify_content": null,
            "justify_items": null,
            "left": null,
            "margin": null,
            "max_height": null,
            "max_width": null,
            "min_height": null,
            "min_width": null,
            "object_fit": null,
            "object_position": null,
            "order": null,
            "overflow": null,
            "overflow_x": null,
            "overflow_y": null,
            "padding": null,
            "right": null,
            "top": null,
            "visibility": null,
            "width": null
          }
        },
        "fd6bd8edd5e946608955ef0900234dc3": {
          "model_module": "@jupyter-widgets/controls",
          "model_module_version": "1.5.0",
          "model_name": "DescriptionStyleModel",
          "state": {
            "_model_module": "@jupyter-widgets/controls",
            "_model_module_version": "1.5.0",
            "_model_name": "DescriptionStyleModel",
            "_view_count": null,
            "_view_module": "@jupyter-widgets/base",
            "_view_module_version": "1.2.0",
            "_view_name": "StyleView",
            "description_width": ""
          }
        },
        "fddbfc997182457fbdbbce919408248c": {
          "model_module": "@jupyter-widgets/base",
          "model_module_version": "1.2.0",
          "model_name": "LayoutModel",
          "state": {
            "_model_module": "@jupyter-widgets/base",
            "_model_module_version": "1.2.0",
            "_model_name": "LayoutModel",
            "_view_count": null,
            "_view_module": "@jupyter-widgets/base",
            "_view_module_version": "1.2.0",
            "_view_name": "LayoutView",
            "align_content": null,
            "align_items": null,
            "align_self": null,
            "border": null,
            "bottom": null,
            "display": null,
            "flex": null,
            "flex_flow": null,
            "grid_area": null,
            "grid_auto_columns": null,
            "grid_auto_flow": null,
            "grid_auto_rows": null,
            "grid_column": null,
            "grid_gap": null,
            "grid_row": null,
            "grid_template_areas": null,
            "grid_template_columns": null,
            "grid_template_rows": null,
            "height": null,
            "justify_content": null,
            "justify_items": null,
            "left": null,
            "margin": null,
            "max_height": null,
            "max_width": null,
            "min_height": null,
            "min_width": null,
            "object_fit": null,
            "object_position": null,
            "order": null,
            "overflow": null,
            "overflow_x": null,
            "overflow_y": null,
            "padding": null,
            "right": null,
            "top": null,
            "visibility": null,
            "width": null
          }
        },
        "fe84f9e528744db79914f1bf86334df0": {
          "model_module": "@jupyter-widgets/controls",
          "model_module_version": "1.5.0",
          "model_name": "ProgressStyleModel",
          "state": {
            "_model_module": "@jupyter-widgets/controls",
            "_model_module_version": "1.5.0",
            "_model_name": "ProgressStyleModel",
            "_view_count": null,
            "_view_module": "@jupyter-widgets/base",
            "_view_module_version": "1.2.0",
            "_view_name": "StyleView",
            "bar_color": null,
            "description_width": ""
          }
        }
      }
    }
  },
  "nbformat": 4,
  "nbformat_minor": 0
}
