{
  "nbformat": 4,
  "nbformat_minor": 0,
  "metadata": {
    "colab": {
      "provenance": [],
      "collapsed_sections": [
        "jHu_KhUYGnO2",
        "_53-BCoVHCJB",
        "XRuAcKP6HKZn"
      ],
      "machine_shape": "hm",
      "gpuType": "T4"
    },
    "kernelspec": {
      "name": "python3",
      "display_name": "Python 3"
    },
    "language_info": {
      "name": "python"
    },
    "accelerator": "GPU"
  },
  "cells": [
    {
      "cell_type": "markdown",
      "source": [
        "# KoBART Basline Train - 4K\n",
        "- GKSL 4K\n",
        "- 모듈에서 불러오는 모델 아니고 huggingface에서 불러와서 적용\n",
        "- 일반적 tokenizer말고 BART에 최적화된 토크나이저 불러옴\n",
        "\n",
        "https://huggingface.co/hyunwoongko/kobart"
      ],
      "metadata": {
        "id": "N5_Fu4UyoO-Y"
      }
    },
    {
      "cell_type": "markdown",
      "source": [
        "## 0. 라이브러리 및 데이터 불러오기"
      ],
      "metadata": {
        "id": "-ryfD3YEGjdb"
      }
    },
    {
      "cell_type": "code",
      "source": [
        "import numpy as np\n",
        "import pandas as pd\n",
        "from torch.utils.data import Dataset, DataLoader\n",
        "import torch\n",
        "import torch.optim as optim\n",
        "\n",
        "#from google.colab import drive\n",
        "#drive.mount('/content/drive')"
      ],
      "metadata": {
        "id": "Jy7Ha3i5msBr"
      },
      "execution_count": 31,
      "outputs": []
    },
    {
      "cell_type": "code",
      "source": [
        "from transformers import PreTrainedTokenizerFast, BartForConditionalGeneration\n",
        "\n",
        "tokenizer = PreTrainedTokenizerFast.from_pretrained('hyunwoongko/kobart')\n",
        "model = BartForConditionalGeneration.from_pretrained(\"hyunwoongko/kobart\")"
      ],
      "metadata": {
        "colab": {
          "base_uri": "https://localhost:8080/"
        },
        "id": "6yR7fX0aA3eD",
        "outputId": "c668947e-c04d-4b6d-8d26-e8eb3aaf0a8d"
      },
      "execution_count": 32,
      "outputs": [
        {
          "output_type": "stream",
          "name": "stderr",
          "text": [
            "You passed along `num_labels=3` with an incompatible id to label map: {'0': 'NEGATIVE', '1': 'POSITIVE'}. The number of labels wil be overwritten to 2.\n"
          ]
        }
      ]
    },
    {
      "cell_type": "code",
      "source": [
        "model.config"
      ],
      "metadata": {
        "colab": {
          "base_uri": "https://localhost:8080/"
        },
        "id": "iyzFaKwlVA2p",
        "outputId": "55e92843-b5d5-403a-8d44-b33e5ee1b228"
      },
      "execution_count": 33,
      "outputs": [
        {
          "output_type": "execute_result",
          "data": {
            "text/plain": [
              "BartConfig {\n",
              "  \"_name_or_path\": \"hyunwoongko/kobart\",\n",
              "  \"activation_dropout\": 0.0,\n",
              "  \"activation_function\": \"gelu\",\n",
              "  \"add_bias_logits\": false,\n",
              "  \"add_final_layer_norm\": false,\n",
              "  \"architectures\": [\n",
              "    \"BartForConditionalGeneration\"\n",
              "  ],\n",
              "  \"attention_dropout\": 0.0,\n",
              "  \"author\": \"Heewon Jeon(madjakarta@gmail.com)\",\n",
              "  \"bos_token_id\": 1,\n",
              "  \"classif_dropout\": 0.1,\n",
              "  \"classifier_dropout\": 0.1,\n",
              "  \"d_model\": 768,\n",
              "  \"decoder_attention_heads\": 16,\n",
              "  \"decoder_ffn_dim\": 3072,\n",
              "  \"decoder_layerdrop\": 0.0,\n",
              "  \"decoder_layers\": 6,\n",
              "  \"decoder_start_token_id\": 1,\n",
              "  \"do_blenderbot_90_layernorm\": false,\n",
              "  \"dropout\": 0.1,\n",
              "  \"encoder_attention_heads\": 16,\n",
              "  \"encoder_ffn_dim\": 3072,\n",
              "  \"encoder_layerdrop\": 0.0,\n",
              "  \"encoder_layers\": 6,\n",
              "  \"eos_token_id\": 1,\n",
              "  \"extra_pos_embeddings\": 2,\n",
              "  \"force_bos_token_to_be_generated\": false,\n",
              "  \"forced_eos_token_id\": 1,\n",
              "  \"gradient_checkpointing\": false,\n",
              "  \"id2label\": {\n",
              "    \"0\": \"NEGATIVE\",\n",
              "    \"1\": \"POSITIVE\"\n",
              "  },\n",
              "  \"init_std\": 0.02,\n",
              "  \"is_encoder_decoder\": true,\n",
              "  \"kobart_version\": 2.0,\n",
              "  \"label2id\": {\n",
              "    \"NEGATIVE\": 0,\n",
              "    \"POSITIVE\": 1\n",
              "  },\n",
              "  \"max_position_embeddings\": 1026,\n",
              "  \"model_type\": \"bart\",\n",
              "  \"normalize_before\": false,\n",
              "  \"normalize_embedding\": true,\n",
              "  \"num_hidden_layers\": 6,\n",
              "  \"pad_token_id\": 3,\n",
              "  \"scale_embedding\": false,\n",
              "  \"static_position_embeddings\": false,\n",
              "  \"tokenizer_class\": \"PreTrainedTokenizerFast\",\n",
              "  \"transformers_version\": \"4.42.4\",\n",
              "  \"use_cache\": true,\n",
              "  \"vocab_size\": 30000\n",
              "}"
            ]
          },
          "metadata": {},
          "execution_count": 33
        }
      ]
    },
    {
      "cell_type": "code",
      "source": [
        "model.generate()"
      ],
      "metadata": {
        "id": "cyP9ekXEVAzN",
        "colab": {
          "base_uri": "https://localhost:8080/"
        },
        "outputId": "17a920c1-15c1-4e42-9e4d-39921933f9d8"
      },
      "execution_count": 34,
      "outputs": [
        {
          "output_type": "stream",
          "name": "stderr",
          "text": [
            "/usr/local/lib/python3.10/dist-packages/transformers/generation/utils.py:1249: UserWarning: Using the model-agnostic default `max_length` (=20) to control the generation length. We recommend setting `max_new_tokens` to control the maximum length of the generation.\n",
            "  warnings.warn(\n"
          ]
        },
        {
          "output_type": "execute_result",
          "data": {
            "text/plain": [
              "tensor([[    1, 15309, 15309, 15309, 15309, 15309, 15309, 15309, 15309, 15309,\n",
              "         15309, 15309, 15309, 15309, 15309, 15309, 15309, 15309, 15309,     1]])"
            ]
          },
          "metadata": {},
          "execution_count": 34
        }
      ]
    },
    {
      "cell_type": "code",
      "source": [
        "model"
      ],
      "metadata": {
        "colab": {
          "base_uri": "https://localhost:8080/"
        },
        "id": "zZwhrqvaVAve",
        "outputId": "6cfb76a1-d0c3-4446-b62c-7bd45a5da395"
      },
      "execution_count": 35,
      "outputs": [
        {
          "output_type": "execute_result",
          "data": {
            "text/plain": [
              "BartForConditionalGeneration(\n",
              "  (model): BartModel(\n",
              "    (shared): Embedding(30000, 768, padding_idx=3)\n",
              "    (encoder): BartEncoder(\n",
              "      (embed_tokens): BartScaledWordEmbedding(30000, 768, padding_idx=3)\n",
              "      (embed_positions): BartLearnedPositionalEmbedding(1028, 768)\n",
              "      (layers): ModuleList(\n",
              "        (0-5): 6 x BartEncoderLayer(\n",
              "          (self_attn): BartSdpaAttention(\n",
              "            (k_proj): Linear(in_features=768, out_features=768, bias=True)\n",
              "            (v_proj): Linear(in_features=768, out_features=768, bias=True)\n",
              "            (q_proj): Linear(in_features=768, out_features=768, bias=True)\n",
              "            (out_proj): Linear(in_features=768, out_features=768, bias=True)\n",
              "          )\n",
              "          (self_attn_layer_norm): LayerNorm((768,), eps=1e-05, elementwise_affine=True)\n",
              "          (activation_fn): GELUActivation()\n",
              "          (fc1): Linear(in_features=768, out_features=3072, bias=True)\n",
              "          (fc2): Linear(in_features=3072, out_features=768, bias=True)\n",
              "          (final_layer_norm): LayerNorm((768,), eps=1e-05, elementwise_affine=True)\n",
              "        )\n",
              "      )\n",
              "      (layernorm_embedding): LayerNorm((768,), eps=1e-05, elementwise_affine=True)\n",
              "    )\n",
              "    (decoder): BartDecoder(\n",
              "      (embed_tokens): BartScaledWordEmbedding(30000, 768, padding_idx=3)\n",
              "      (embed_positions): BartLearnedPositionalEmbedding(1028, 768)\n",
              "      (layers): ModuleList(\n",
              "        (0-5): 6 x BartDecoderLayer(\n",
              "          (self_attn): BartSdpaAttention(\n",
              "            (k_proj): Linear(in_features=768, out_features=768, bias=True)\n",
              "            (v_proj): Linear(in_features=768, out_features=768, bias=True)\n",
              "            (q_proj): Linear(in_features=768, out_features=768, bias=True)\n",
              "            (out_proj): Linear(in_features=768, out_features=768, bias=True)\n",
              "          )\n",
              "          (activation_fn): GELUActivation()\n",
              "          (self_attn_layer_norm): LayerNorm((768,), eps=1e-05, elementwise_affine=True)\n",
              "          (encoder_attn): BartSdpaAttention(\n",
              "            (k_proj): Linear(in_features=768, out_features=768, bias=True)\n",
              "            (v_proj): Linear(in_features=768, out_features=768, bias=True)\n",
              "            (q_proj): Linear(in_features=768, out_features=768, bias=True)\n",
              "            (out_proj): Linear(in_features=768, out_features=768, bias=True)\n",
              "          )\n",
              "          (encoder_attn_layer_norm): LayerNorm((768,), eps=1e-05, elementwise_affine=True)\n",
              "          (fc1): Linear(in_features=768, out_features=3072, bias=True)\n",
              "          (fc2): Linear(in_features=3072, out_features=768, bias=True)\n",
              "          (final_layer_norm): LayerNorm((768,), eps=1e-05, elementwise_affine=True)\n",
              "        )\n",
              "      )\n",
              "      (layernorm_embedding): LayerNorm((768,), eps=1e-05, elementwise_affine=True)\n",
              "    )\n",
              "  )\n",
              "  (lm_head): Linear(in_features=768, out_features=30000, bias=False)\n",
              ")"
            ]
          },
          "metadata": {},
          "execution_count": 35
        }
      ]
    },
    {
      "cell_type": "markdown",
      "source": [
        "데이터 불러오기"
      ],
      "metadata": {
        "id": "QAEwynwH2X2H"
      }
    },
    {
      "cell_type": "code",
      "execution_count": 36,
      "metadata": {
        "colab": {
          "base_uri": "https://localhost:8080/",
          "height": 0
        },
        "id": "pVw5RoOvl3-j",
        "outputId": "34508817-8aae-418d-fbe8-d2722781104b"
      },
      "outputs": [
        {
          "output_type": "execute_result",
          "data": {
            "text/plain": [
              "   augmentation_method  idx                gloss                       text\n",
              "0                   SR    1                  집 불                 댁에 불이 났어요.\n",
              "1                   SR    2                  집 불                주택에 불이 났어요.\n",
              "2                   SR    3                  집 불                가옥에 불이 났어요.\n",
              "3                   SR    4                  집 불                세대에 불이 났어요.\n",
              "4                   SR    5             도착 10분 전              10분 내로 당도합니다.\n",
              "5                   SR    6               도착 10분              10분 뒤에 당도합니다.\n",
              "6                   SR    7             도착 1시간 전              1시간 내로 당도합니다.\n",
              "7                   SR    8                도착 1시                 1시에 당도합니다.\n",
              "8                   SR    9        1호 갈아타다 목적 곳곳        1호선 환승하는 위치는 어디인가요?\n",
              "9                   SR   10        1호 갈아타다 목적 곳곳        1호선 환승하는 장소는 어디인가요?\n",
              "10                  SR   11              1호 곳 무엇         1호선을 타는 위치는 어디인가요?\n",
              "11                  SR   12              1호 곳 무엇         1호선을 타는 장소은 어디인가요?\n",
              "12                  SR   13        2016 새롭다 날 시작            2016년, 새해가 출발한다\n",
              "13                  SR   14                도착 3시                 3시에 당도합니다.\n",
              "14                  SR   15                8호 곳곳        8호선 타는 위치는 어디에 있나요?\n",
              "15                  SR   16                8호 곳곳        8호선 타는 장소는 어디에 있나요?\n",
              "16                  SR   17                9호 곳곳        9호선 타는 위치는 어디에 있나요?\n",
              "17                  SR   18                9호 곳곳        9호선 타는 장소는 어디에 있나요?\n",
              "18                  SR   19        9호 갈아타다 목적 곳곳        9호선 환승하는 위치는 어디인가요?\n",
              "19                  SR   20        9호 갈아타다 목적 곳곳        9호선 환승하는 장소는 어디인가요?\n",
              "20                  SR   21    정보  묻다  곳  가다  부탁  가까운 인솔 데스크를 이용해 주시기 바랍니다.\n",
              "21                  SR   22  제일  가깝다  곳  찾다  드리다      가장 가까운 위치로 검색해드리겠습니다.\n",
              "22                  SR   23  제일  가깝다  곳  찾다  드리다      가장 가까운 장소로 검색해드리겠습니다.\n",
              "23                  SR   24  제일  가깝다  곳  찾다  드리다      가장 가까운 처소로 검색해드리겠습니다.\n",
              "24                  SR   25             가다 빨리 방법            가장 빠른 길은 어디일까요?\n",
              "25                  SR   26            갈아타다 곳 맞다             갈아타는 위치가 맞습니다.\n",
              "26                  SR   27            갈아타다 곳 맞다             갈아타는 장소가 맞습니다.\n",
              "27                  SR   28         개 집 지키다 유명하다    개는 주택을 잘 지키는 동물로 알려져 있다\n",
              "28                  SR   29         개 집 지키다 유명하다    개는 가옥을 잘 지키는 동물로 알려져 있다\n",
              "29                  SR   30               건강 돌보다                    기력을 돌보다"
            ],
            "text/html": [
              "\n",
              "  <div id=\"df-735ee428-f02f-4400-a869-0d97475ebbad\" class=\"colab-df-container\">\n",
              "    <div>\n",
              "<style scoped>\n",
              "    .dataframe tbody tr th:only-of-type {\n",
              "        vertical-align: middle;\n",
              "    }\n",
              "\n",
              "    .dataframe tbody tr th {\n",
              "        vertical-align: top;\n",
              "    }\n",
              "\n",
              "    .dataframe thead th {\n",
              "        text-align: right;\n",
              "    }\n",
              "</style>\n",
              "<table border=\"1\" class=\"dataframe\">\n",
              "  <thead>\n",
              "    <tr style=\"text-align: right;\">\n",
              "      <th></th>\n",
              "      <th>augmentation_method</th>\n",
              "      <th>idx</th>\n",
              "      <th>gloss</th>\n",
              "      <th>text</th>\n",
              "    </tr>\n",
              "  </thead>\n",
              "  <tbody>\n",
              "    <tr>\n",
              "      <th>0</th>\n",
              "      <td>SR</td>\n",
              "      <td>1</td>\n",
              "      <td>집 불</td>\n",
              "      <td>댁에 불이 났어요.</td>\n",
              "    </tr>\n",
              "    <tr>\n",
              "      <th>1</th>\n",
              "      <td>SR</td>\n",
              "      <td>2</td>\n",
              "      <td>집 불</td>\n",
              "      <td>주택에 불이 났어요.</td>\n",
              "    </tr>\n",
              "    <tr>\n",
              "      <th>2</th>\n",
              "      <td>SR</td>\n",
              "      <td>3</td>\n",
              "      <td>집 불</td>\n",
              "      <td>가옥에 불이 났어요.</td>\n",
              "    </tr>\n",
              "    <tr>\n",
              "      <th>3</th>\n",
              "      <td>SR</td>\n",
              "      <td>4</td>\n",
              "      <td>집 불</td>\n",
              "      <td>세대에 불이 났어요.</td>\n",
              "    </tr>\n",
              "    <tr>\n",
              "      <th>4</th>\n",
              "      <td>SR</td>\n",
              "      <td>5</td>\n",
              "      <td>도착 10분 전</td>\n",
              "      <td>10분 내로 당도합니다.</td>\n",
              "    </tr>\n",
              "    <tr>\n",
              "      <th>5</th>\n",
              "      <td>SR</td>\n",
              "      <td>6</td>\n",
              "      <td>도착 10분</td>\n",
              "      <td>10분 뒤에 당도합니다.</td>\n",
              "    </tr>\n",
              "    <tr>\n",
              "      <th>6</th>\n",
              "      <td>SR</td>\n",
              "      <td>7</td>\n",
              "      <td>도착 1시간 전</td>\n",
              "      <td>1시간 내로 당도합니다.</td>\n",
              "    </tr>\n",
              "    <tr>\n",
              "      <th>7</th>\n",
              "      <td>SR</td>\n",
              "      <td>8</td>\n",
              "      <td>도착 1시</td>\n",
              "      <td>1시에 당도합니다.</td>\n",
              "    </tr>\n",
              "    <tr>\n",
              "      <th>8</th>\n",
              "      <td>SR</td>\n",
              "      <td>9</td>\n",
              "      <td>1호 갈아타다 목적 곳곳</td>\n",
              "      <td>1호선 환승하는 위치는 어디인가요?</td>\n",
              "    </tr>\n",
              "    <tr>\n",
              "      <th>9</th>\n",
              "      <td>SR</td>\n",
              "      <td>10</td>\n",
              "      <td>1호 갈아타다 목적 곳곳</td>\n",
              "      <td>1호선 환승하는 장소는 어디인가요?</td>\n",
              "    </tr>\n",
              "    <tr>\n",
              "      <th>10</th>\n",
              "      <td>SR</td>\n",
              "      <td>11</td>\n",
              "      <td>1호 곳 무엇</td>\n",
              "      <td>1호선을 타는 위치는 어디인가요?</td>\n",
              "    </tr>\n",
              "    <tr>\n",
              "      <th>11</th>\n",
              "      <td>SR</td>\n",
              "      <td>12</td>\n",
              "      <td>1호 곳 무엇</td>\n",
              "      <td>1호선을 타는 장소은 어디인가요?</td>\n",
              "    </tr>\n",
              "    <tr>\n",
              "      <th>12</th>\n",
              "      <td>SR</td>\n",
              "      <td>13</td>\n",
              "      <td>2016 새롭다 날 시작</td>\n",
              "      <td>2016년, 새해가 출발한다</td>\n",
              "    </tr>\n",
              "    <tr>\n",
              "      <th>13</th>\n",
              "      <td>SR</td>\n",
              "      <td>14</td>\n",
              "      <td>도착 3시</td>\n",
              "      <td>3시에 당도합니다.</td>\n",
              "    </tr>\n",
              "    <tr>\n",
              "      <th>14</th>\n",
              "      <td>SR</td>\n",
              "      <td>15</td>\n",
              "      <td>8호 곳곳</td>\n",
              "      <td>8호선 타는 위치는 어디에 있나요?</td>\n",
              "    </tr>\n",
              "    <tr>\n",
              "      <th>15</th>\n",
              "      <td>SR</td>\n",
              "      <td>16</td>\n",
              "      <td>8호 곳곳</td>\n",
              "      <td>8호선 타는 장소는 어디에 있나요?</td>\n",
              "    </tr>\n",
              "    <tr>\n",
              "      <th>16</th>\n",
              "      <td>SR</td>\n",
              "      <td>17</td>\n",
              "      <td>9호 곳곳</td>\n",
              "      <td>9호선 타는 위치는 어디에 있나요?</td>\n",
              "    </tr>\n",
              "    <tr>\n",
              "      <th>17</th>\n",
              "      <td>SR</td>\n",
              "      <td>18</td>\n",
              "      <td>9호 곳곳</td>\n",
              "      <td>9호선 타는 장소는 어디에 있나요?</td>\n",
              "    </tr>\n",
              "    <tr>\n",
              "      <th>18</th>\n",
              "      <td>SR</td>\n",
              "      <td>19</td>\n",
              "      <td>9호 갈아타다 목적 곳곳</td>\n",
              "      <td>9호선 환승하는 위치는 어디인가요?</td>\n",
              "    </tr>\n",
              "    <tr>\n",
              "      <th>19</th>\n",
              "      <td>SR</td>\n",
              "      <td>20</td>\n",
              "      <td>9호 갈아타다 목적 곳곳</td>\n",
              "      <td>9호선 환승하는 장소는 어디인가요?</td>\n",
              "    </tr>\n",
              "    <tr>\n",
              "      <th>20</th>\n",
              "      <td>SR</td>\n",
              "      <td>21</td>\n",
              "      <td>정보  묻다  곳  가다  부탁</td>\n",
              "      <td>가까운 인솔 데스크를 이용해 주시기 바랍니다.</td>\n",
              "    </tr>\n",
              "    <tr>\n",
              "      <th>21</th>\n",
              "      <td>SR</td>\n",
              "      <td>22</td>\n",
              "      <td>제일  가깝다  곳  찾다  드리다</td>\n",
              "      <td>가장 가까운 위치로 검색해드리겠습니다.</td>\n",
              "    </tr>\n",
              "    <tr>\n",
              "      <th>22</th>\n",
              "      <td>SR</td>\n",
              "      <td>23</td>\n",
              "      <td>제일  가깝다  곳  찾다  드리다</td>\n",
              "      <td>가장 가까운 장소로 검색해드리겠습니다.</td>\n",
              "    </tr>\n",
              "    <tr>\n",
              "      <th>23</th>\n",
              "      <td>SR</td>\n",
              "      <td>24</td>\n",
              "      <td>제일  가깝다  곳  찾다  드리다</td>\n",
              "      <td>가장 가까운 처소로 검색해드리겠습니다.</td>\n",
              "    </tr>\n",
              "    <tr>\n",
              "      <th>24</th>\n",
              "      <td>SR</td>\n",
              "      <td>25</td>\n",
              "      <td>가다 빨리 방법</td>\n",
              "      <td>가장 빠른 길은 어디일까요?</td>\n",
              "    </tr>\n",
              "    <tr>\n",
              "      <th>25</th>\n",
              "      <td>SR</td>\n",
              "      <td>26</td>\n",
              "      <td>갈아타다 곳 맞다</td>\n",
              "      <td>갈아타는 위치가 맞습니다.</td>\n",
              "    </tr>\n",
              "    <tr>\n",
              "      <th>26</th>\n",
              "      <td>SR</td>\n",
              "      <td>27</td>\n",
              "      <td>갈아타다 곳 맞다</td>\n",
              "      <td>갈아타는 장소가 맞습니다.</td>\n",
              "    </tr>\n",
              "    <tr>\n",
              "      <th>27</th>\n",
              "      <td>SR</td>\n",
              "      <td>28</td>\n",
              "      <td>개 집 지키다 유명하다</td>\n",
              "      <td>개는 주택을 잘 지키는 동물로 알려져 있다</td>\n",
              "    </tr>\n",
              "    <tr>\n",
              "      <th>28</th>\n",
              "      <td>SR</td>\n",
              "      <td>29</td>\n",
              "      <td>개 집 지키다 유명하다</td>\n",
              "      <td>개는 가옥을 잘 지키는 동물로 알려져 있다</td>\n",
              "    </tr>\n",
              "    <tr>\n",
              "      <th>29</th>\n",
              "      <td>SR</td>\n",
              "      <td>30</td>\n",
              "      <td>건강 돌보다</td>\n",
              "      <td>기력을 돌보다</td>\n",
              "    </tr>\n",
              "  </tbody>\n",
              "</table>\n",
              "</div>\n",
              "    <div class=\"colab-df-buttons\">\n",
              "\n",
              "  <div class=\"colab-df-container\">\n",
              "    <button class=\"colab-df-convert\" onclick=\"convertToInteractive('df-735ee428-f02f-4400-a869-0d97475ebbad')\"\n",
              "            title=\"Convert this dataframe to an interactive table.\"\n",
              "            style=\"display:none;\">\n",
              "\n",
              "  <svg xmlns=\"http://www.w3.org/2000/svg\" height=\"24px\" viewBox=\"0 -960 960 960\">\n",
              "    <path d=\"M120-120v-720h720v720H120Zm60-500h600v-160H180v160Zm220 220h160v-160H400v160Zm0 220h160v-160H400v160ZM180-400h160v-160H180v160Zm440 0h160v-160H620v160ZM180-180h160v-160H180v160Zm440 0h160v-160H620v160Z\"/>\n",
              "  </svg>\n",
              "    </button>\n",
              "\n",
              "  <style>\n",
              "    .colab-df-container {\n",
              "      display:flex;\n",
              "      gap: 12px;\n",
              "    }\n",
              "\n",
              "    .colab-df-convert {\n",
              "      background-color: #E8F0FE;\n",
              "      border: none;\n",
              "      border-radius: 50%;\n",
              "      cursor: pointer;\n",
              "      display: none;\n",
              "      fill: #1967D2;\n",
              "      height: 32px;\n",
              "      padding: 0 0 0 0;\n",
              "      width: 32px;\n",
              "    }\n",
              "\n",
              "    .colab-df-convert:hover {\n",
              "      background-color: #E2EBFA;\n",
              "      box-shadow: 0px 1px 2px rgba(60, 64, 67, 0.3), 0px 1px 3px 1px rgba(60, 64, 67, 0.15);\n",
              "      fill: #174EA6;\n",
              "    }\n",
              "\n",
              "    .colab-df-buttons div {\n",
              "      margin-bottom: 4px;\n",
              "    }\n",
              "\n",
              "    [theme=dark] .colab-df-convert {\n",
              "      background-color: #3B4455;\n",
              "      fill: #D2E3FC;\n",
              "    }\n",
              "\n",
              "    [theme=dark] .colab-df-convert:hover {\n",
              "      background-color: #434B5C;\n",
              "      box-shadow: 0px 1px 3px 1px rgba(0, 0, 0, 0.15);\n",
              "      filter: drop-shadow(0px 1px 2px rgba(0, 0, 0, 0.3));\n",
              "      fill: #FFFFFF;\n",
              "    }\n",
              "  </style>\n",
              "\n",
              "    <script>\n",
              "      const buttonEl =\n",
              "        document.querySelector('#df-735ee428-f02f-4400-a869-0d97475ebbad button.colab-df-convert');\n",
              "      buttonEl.style.display =\n",
              "        google.colab.kernel.accessAllowed ? 'block' : 'none';\n",
              "\n",
              "      async function convertToInteractive(key) {\n",
              "        const element = document.querySelector('#df-735ee428-f02f-4400-a869-0d97475ebbad');\n",
              "        const dataTable =\n",
              "          await google.colab.kernel.invokeFunction('convertToInteractive',\n",
              "                                                    [key], {});\n",
              "        if (!dataTable) return;\n",
              "\n",
              "        const docLinkHtml = 'Like what you see? Visit the ' +\n",
              "          '<a target=\"_blank\" href=https://colab.research.google.com/notebooks/data_table.ipynb>data table notebook</a>'\n",
              "          + ' to learn more about interactive tables.';\n",
              "        element.innerHTML = '';\n",
              "        dataTable['output_type'] = 'display_data';\n",
              "        await google.colab.output.renderOutput(dataTable, element);\n",
              "        const docLink = document.createElement('div');\n",
              "        docLink.innerHTML = docLinkHtml;\n",
              "        element.appendChild(docLink);\n",
              "      }\n",
              "    </script>\n",
              "  </div>\n",
              "\n",
              "\n",
              "<div id=\"df-5d13f4e5-1bde-453c-afda-2f480fbdf15d\">\n",
              "  <button class=\"colab-df-quickchart\" onclick=\"quickchart('df-5d13f4e5-1bde-453c-afda-2f480fbdf15d')\"\n",
              "            title=\"Suggest charts\"\n",
              "            style=\"display:none;\">\n",
              "\n",
              "<svg xmlns=\"http://www.w3.org/2000/svg\" height=\"24px\"viewBox=\"0 0 24 24\"\n",
              "     width=\"24px\">\n",
              "    <g>\n",
              "        <path d=\"M19 3H5c-1.1 0-2 .9-2 2v14c0 1.1.9 2 2 2h14c1.1 0 2-.9 2-2V5c0-1.1-.9-2-2-2zM9 17H7v-7h2v7zm4 0h-2V7h2v10zm4 0h-2v-4h2v4z\"/>\n",
              "    </g>\n",
              "</svg>\n",
              "  </button>\n",
              "\n",
              "<style>\n",
              "  .colab-df-quickchart {\n",
              "      --bg-color: #E8F0FE;\n",
              "      --fill-color: #1967D2;\n",
              "      --hover-bg-color: #E2EBFA;\n",
              "      --hover-fill-color: #174EA6;\n",
              "      --disabled-fill-color: #AAA;\n",
              "      --disabled-bg-color: #DDD;\n",
              "  }\n",
              "\n",
              "  [theme=dark] .colab-df-quickchart {\n",
              "      --bg-color: #3B4455;\n",
              "      --fill-color: #D2E3FC;\n",
              "      --hover-bg-color: #434B5C;\n",
              "      --hover-fill-color: #FFFFFF;\n",
              "      --disabled-bg-color: #3B4455;\n",
              "      --disabled-fill-color: #666;\n",
              "  }\n",
              "\n",
              "  .colab-df-quickchart {\n",
              "    background-color: var(--bg-color);\n",
              "    border: none;\n",
              "    border-radius: 50%;\n",
              "    cursor: pointer;\n",
              "    display: none;\n",
              "    fill: var(--fill-color);\n",
              "    height: 32px;\n",
              "    padding: 0;\n",
              "    width: 32px;\n",
              "  }\n",
              "\n",
              "  .colab-df-quickchart:hover {\n",
              "    background-color: var(--hover-bg-color);\n",
              "    box-shadow: 0 1px 2px rgba(60, 64, 67, 0.3), 0 1px 3px 1px rgba(60, 64, 67, 0.15);\n",
              "    fill: var(--button-hover-fill-color);\n",
              "  }\n",
              "\n",
              "  .colab-df-quickchart-complete:disabled,\n",
              "  .colab-df-quickchart-complete:disabled:hover {\n",
              "    background-color: var(--disabled-bg-color);\n",
              "    fill: var(--disabled-fill-color);\n",
              "    box-shadow: none;\n",
              "  }\n",
              "\n",
              "  .colab-df-spinner {\n",
              "    border: 2px solid var(--fill-color);\n",
              "    border-color: transparent;\n",
              "    border-bottom-color: var(--fill-color);\n",
              "    animation:\n",
              "      spin 1s steps(1) infinite;\n",
              "  }\n",
              "\n",
              "  @keyframes spin {\n",
              "    0% {\n",
              "      border-color: transparent;\n",
              "      border-bottom-color: var(--fill-color);\n",
              "      border-left-color: var(--fill-color);\n",
              "    }\n",
              "    20% {\n",
              "      border-color: transparent;\n",
              "      border-left-color: var(--fill-color);\n",
              "      border-top-color: var(--fill-color);\n",
              "    }\n",
              "    30% {\n",
              "      border-color: transparent;\n",
              "      border-left-color: var(--fill-color);\n",
              "      border-top-color: var(--fill-color);\n",
              "      border-right-color: var(--fill-color);\n",
              "    }\n",
              "    40% {\n",
              "      border-color: transparent;\n",
              "      border-right-color: var(--fill-color);\n",
              "      border-top-color: var(--fill-color);\n",
              "    }\n",
              "    60% {\n",
              "      border-color: transparent;\n",
              "      border-right-color: var(--fill-color);\n",
              "    }\n",
              "    80% {\n",
              "      border-color: transparent;\n",
              "      border-right-color: var(--fill-color);\n",
              "      border-bottom-color: var(--fill-color);\n",
              "    }\n",
              "    90% {\n",
              "      border-color: transparent;\n",
              "      border-bottom-color: var(--fill-color);\n",
              "    }\n",
              "  }\n",
              "</style>\n",
              "\n",
              "  <script>\n",
              "    async function quickchart(key) {\n",
              "      const quickchartButtonEl =\n",
              "        document.querySelector('#' + key + ' button');\n",
              "      quickchartButtonEl.disabled = true;  // To prevent multiple clicks.\n",
              "      quickchartButtonEl.classList.add('colab-df-spinner');\n",
              "      try {\n",
              "        const charts = await google.colab.kernel.invokeFunction(\n",
              "            'suggestCharts', [key], {});\n",
              "      } catch (error) {\n",
              "        console.error('Error during call to suggestCharts:', error);\n",
              "      }\n",
              "      quickchartButtonEl.classList.remove('colab-df-spinner');\n",
              "      quickchartButtonEl.classList.add('colab-df-quickchart-complete');\n",
              "    }\n",
              "    (() => {\n",
              "      let quickchartButtonEl =\n",
              "        document.querySelector('#df-5d13f4e5-1bde-453c-afda-2f480fbdf15d button');\n",
              "      quickchartButtonEl.style.display =\n",
              "        google.colab.kernel.accessAllowed ? 'block' : 'none';\n",
              "    })();\n",
              "  </script>\n",
              "</div>\n",
              "\n",
              "    </div>\n",
              "  </div>\n"
            ],
            "application/vnd.google.colaboratory.intrinsic+json": {
              "type": "dataframe",
              "variable_name": "df",
              "summary": "{\n  \"name\": \"df\",\n  \"rows\": 13047,\n  \"fields\": [\n    {\n      \"column\": \"augmentation_method\",\n      \"properties\": {\n        \"dtype\": \"category\",\n        \"num_unique_values\": 3,\n        \"samples\": [\n          \"SR\",\n          \"SP\",\n          \"BR\"\n        ],\n        \"semantic_type\": \"\",\n        \"description\": \"\"\n      }\n    },\n    {\n      \"column\": \"idx\",\n      \"properties\": {\n        \"dtype\": \"number\",\n        \"std\": 3324,\n        \"min\": 1,\n        \"max\": 10654,\n        \"num_unique_values\": 10654,\n        \"samples\": [\n          1351,\n          2013,\n          1966\n        ],\n        \"semantic_type\": \"\",\n        \"description\": \"\"\n      }\n    },\n    {\n      \"column\": \"gloss\",\n      \"properties\": {\n        \"dtype\": \"string\",\n        \"num_unique_values\": 11345,\n        \"samples\": [\n          \"\\ucc29\\ud558\\ub2e4 \\uc0ac\\ub78c \\uc0c1\\ucc98 \\ub354 \\ubb34\\uc12d\\ub2e4\",\n          \"\\ud0dd\\uc2dc \\uae30\\ubcf8 \\ub9cc\\uc6d0\",\n          \"\\ucc45 \\ucc3e\\ub2e4 \\uc2e4\\uc885\"\n        ],\n        \"semantic_type\": \"\",\n        \"description\": \"\"\n      }\n    },\n    {\n      \"column\": \"text\",\n      \"properties\": {\n        \"dtype\": \"string\",\n        \"num_unique_values\": 8451,\n        \"samples\": [\n          \"50\\ubd84 \\uc740 \\uc18c\\uc694\\ub429\\ub2c8\\ub2e4.\",\n          \"\\uc624\\ub298\\uc740 \\ub124\\uac00 \\uc2ec\\uc7a5\\uc744 \\ub9e1\\uc544\",\n          \"10\\ubd84 \\ud6c4\\uc5d0 \\ub3c4\\ucc29\\ud560 \\uac83\\uc778\\uac00?\"\n        ],\n        \"semantic_type\": \"\",\n        \"description\": \"\"\n      }\n    }\n  ]\n}"
            }
          },
          "metadata": {},
          "execution_count": 36
        }
      ],
      "source": [
        "df = pd.read_csv('https://raw.githubusercontent.com/AIRC-KETI/GKSL-dataset/main/dataset/GKSL13k_augmented.csv')\n",
        "df.columns = ['augmentation_method', 'idx', 'gloss', 'text']\n",
        "df.head(30)"
      ]
    },
    {
      "cell_type": "markdown",
      "source": [
        "## 1. 데이터 파악"
      ],
      "metadata": {
        "id": "jHu_KhUYGnO2"
      }
    },
    {
      "cell_type": "code",
      "source": [
        "len(df), len(df.gloss.unique()), len(df.text.unique())"
      ],
      "metadata": {
        "id": "Dp9d8iid-_9c",
        "colab": {
          "base_uri": "https://localhost:8080/"
        },
        "outputId": "3135ee35-d0f3-468d-e387-8aba0667e739"
      },
      "execution_count": 37,
      "outputs": [
        {
          "output_type": "execute_result",
          "data": {
            "text/plain": [
              "(13047, 11345, 8451)"
            ]
          },
          "metadata": {},
          "execution_count": 37
        }
      ]
    },
    {
      "cell_type": "code",
      "source": [
        "for i in df.augmentation_method.unique():\n",
        "  print(i, ':', len(df[df.augmentation_method==i]))"
      ],
      "metadata": {
        "colab": {
          "base_uri": "https://localhost:8080/"
        },
        "id": "vIBr4w0SGOhM",
        "outputId": "245dc49c-9c8e-4310-e91e-09f7cc1d683d"
      },
      "execution_count": 38,
      "outputs": [
        {
          "output_type": "stream",
          "name": "stdout",
          "text": [
            "SR : 899\n",
            "SP : 1494\n",
            "BR : 10654\n"
          ]
        }
      ]
    },
    {
      "cell_type": "code",
      "source": [
        "# '?'가 포함된 행 제거\n",
        "print(len(df[~df['text'].str.contains('\\?')])/len(df)) # 절반 이상 날라감\n",
        "df[~df['text'].str.contains('\\?')].head(10)"
      ],
      "metadata": {
        "colab": {
          "base_uri": "https://localhost:8080/",
          "height": 0
        },
        "id": "4I4-O0U6Ykby",
        "outputId": "f96e4245-18c9-4efe-96e9-9d4e23c099bf"
      },
      "execution_count": 39,
      "outputs": [
        {
          "output_type": "stream",
          "name": "stdout",
          "text": [
            "0.6439028129071818\n"
          ]
        },
        {
          "output_type": "execute_result",
          "data": {
            "text/plain": [
              "   augmentation_method  idx          gloss             text\n",
              "0                   SR    1            집 불       댁에 불이 났어요.\n",
              "1                   SR    2            집 불      주택에 불이 났어요.\n",
              "2                   SR    3            집 불      가옥에 불이 났어요.\n",
              "3                   SR    4            집 불      세대에 불이 났어요.\n",
              "4                   SR    5       도착 10분 전    10분 내로 당도합니다.\n",
              "5                   SR    6         도착 10분    10분 뒤에 당도합니다.\n",
              "6                   SR    7       도착 1시간 전    1시간 내로 당도합니다.\n",
              "7                   SR    8          도착 1시       1시에 당도합니다.\n",
              "12                  SR   13  2016 새롭다 날 시작  2016년, 새해가 출발한다\n",
              "13                  SR   14          도착 3시       3시에 당도합니다."
            ],
            "text/html": [
              "\n",
              "  <div id=\"df-12337f7d-6e74-46aa-9029-6e9bcb249113\" class=\"colab-df-container\">\n",
              "    <div>\n",
              "<style scoped>\n",
              "    .dataframe tbody tr th:only-of-type {\n",
              "        vertical-align: middle;\n",
              "    }\n",
              "\n",
              "    .dataframe tbody tr th {\n",
              "        vertical-align: top;\n",
              "    }\n",
              "\n",
              "    .dataframe thead th {\n",
              "        text-align: right;\n",
              "    }\n",
              "</style>\n",
              "<table border=\"1\" class=\"dataframe\">\n",
              "  <thead>\n",
              "    <tr style=\"text-align: right;\">\n",
              "      <th></th>\n",
              "      <th>augmentation_method</th>\n",
              "      <th>idx</th>\n",
              "      <th>gloss</th>\n",
              "      <th>text</th>\n",
              "    </tr>\n",
              "  </thead>\n",
              "  <tbody>\n",
              "    <tr>\n",
              "      <th>0</th>\n",
              "      <td>SR</td>\n",
              "      <td>1</td>\n",
              "      <td>집 불</td>\n",
              "      <td>댁에 불이 났어요.</td>\n",
              "    </tr>\n",
              "    <tr>\n",
              "      <th>1</th>\n",
              "      <td>SR</td>\n",
              "      <td>2</td>\n",
              "      <td>집 불</td>\n",
              "      <td>주택에 불이 났어요.</td>\n",
              "    </tr>\n",
              "    <tr>\n",
              "      <th>2</th>\n",
              "      <td>SR</td>\n",
              "      <td>3</td>\n",
              "      <td>집 불</td>\n",
              "      <td>가옥에 불이 났어요.</td>\n",
              "    </tr>\n",
              "    <tr>\n",
              "      <th>3</th>\n",
              "      <td>SR</td>\n",
              "      <td>4</td>\n",
              "      <td>집 불</td>\n",
              "      <td>세대에 불이 났어요.</td>\n",
              "    </tr>\n",
              "    <tr>\n",
              "      <th>4</th>\n",
              "      <td>SR</td>\n",
              "      <td>5</td>\n",
              "      <td>도착 10분 전</td>\n",
              "      <td>10분 내로 당도합니다.</td>\n",
              "    </tr>\n",
              "    <tr>\n",
              "      <th>5</th>\n",
              "      <td>SR</td>\n",
              "      <td>6</td>\n",
              "      <td>도착 10분</td>\n",
              "      <td>10분 뒤에 당도합니다.</td>\n",
              "    </tr>\n",
              "    <tr>\n",
              "      <th>6</th>\n",
              "      <td>SR</td>\n",
              "      <td>7</td>\n",
              "      <td>도착 1시간 전</td>\n",
              "      <td>1시간 내로 당도합니다.</td>\n",
              "    </tr>\n",
              "    <tr>\n",
              "      <th>7</th>\n",
              "      <td>SR</td>\n",
              "      <td>8</td>\n",
              "      <td>도착 1시</td>\n",
              "      <td>1시에 당도합니다.</td>\n",
              "    </tr>\n",
              "    <tr>\n",
              "      <th>12</th>\n",
              "      <td>SR</td>\n",
              "      <td>13</td>\n",
              "      <td>2016 새롭다 날 시작</td>\n",
              "      <td>2016년, 새해가 출발한다</td>\n",
              "    </tr>\n",
              "    <tr>\n",
              "      <th>13</th>\n",
              "      <td>SR</td>\n",
              "      <td>14</td>\n",
              "      <td>도착 3시</td>\n",
              "      <td>3시에 당도합니다.</td>\n",
              "    </tr>\n",
              "  </tbody>\n",
              "</table>\n",
              "</div>\n",
              "    <div class=\"colab-df-buttons\">\n",
              "\n",
              "  <div class=\"colab-df-container\">\n",
              "    <button class=\"colab-df-convert\" onclick=\"convertToInteractive('df-12337f7d-6e74-46aa-9029-6e9bcb249113')\"\n",
              "            title=\"Convert this dataframe to an interactive table.\"\n",
              "            style=\"display:none;\">\n",
              "\n",
              "  <svg xmlns=\"http://www.w3.org/2000/svg\" height=\"24px\" viewBox=\"0 -960 960 960\">\n",
              "    <path d=\"M120-120v-720h720v720H120Zm60-500h600v-160H180v160Zm220 220h160v-160H400v160Zm0 220h160v-160H400v160ZM180-400h160v-160H180v160Zm440 0h160v-160H620v160ZM180-180h160v-160H180v160Zm440 0h160v-160H620v160Z\"/>\n",
              "  </svg>\n",
              "    </button>\n",
              "\n",
              "  <style>\n",
              "    .colab-df-container {\n",
              "      display:flex;\n",
              "      gap: 12px;\n",
              "    }\n",
              "\n",
              "    .colab-df-convert {\n",
              "      background-color: #E8F0FE;\n",
              "      border: none;\n",
              "      border-radius: 50%;\n",
              "      cursor: pointer;\n",
              "      display: none;\n",
              "      fill: #1967D2;\n",
              "      height: 32px;\n",
              "      padding: 0 0 0 0;\n",
              "      width: 32px;\n",
              "    }\n",
              "\n",
              "    .colab-df-convert:hover {\n",
              "      background-color: #E2EBFA;\n",
              "      box-shadow: 0px 1px 2px rgba(60, 64, 67, 0.3), 0px 1px 3px 1px rgba(60, 64, 67, 0.15);\n",
              "      fill: #174EA6;\n",
              "    }\n",
              "\n",
              "    .colab-df-buttons div {\n",
              "      margin-bottom: 4px;\n",
              "    }\n",
              "\n",
              "    [theme=dark] .colab-df-convert {\n",
              "      background-color: #3B4455;\n",
              "      fill: #D2E3FC;\n",
              "    }\n",
              "\n",
              "    [theme=dark] .colab-df-convert:hover {\n",
              "      background-color: #434B5C;\n",
              "      box-shadow: 0px 1px 3px 1px rgba(0, 0, 0, 0.15);\n",
              "      filter: drop-shadow(0px 1px 2px rgba(0, 0, 0, 0.3));\n",
              "      fill: #FFFFFF;\n",
              "    }\n",
              "  </style>\n",
              "\n",
              "    <script>\n",
              "      const buttonEl =\n",
              "        document.querySelector('#df-12337f7d-6e74-46aa-9029-6e9bcb249113 button.colab-df-convert');\n",
              "      buttonEl.style.display =\n",
              "        google.colab.kernel.accessAllowed ? 'block' : 'none';\n",
              "\n",
              "      async function convertToInteractive(key) {\n",
              "        const element = document.querySelector('#df-12337f7d-6e74-46aa-9029-6e9bcb249113');\n",
              "        const dataTable =\n",
              "          await google.colab.kernel.invokeFunction('convertToInteractive',\n",
              "                                                    [key], {});\n",
              "        if (!dataTable) return;\n",
              "\n",
              "        const docLinkHtml = 'Like what you see? Visit the ' +\n",
              "          '<a target=\"_blank\" href=https://colab.research.google.com/notebooks/data_table.ipynb>data table notebook</a>'\n",
              "          + ' to learn more about interactive tables.';\n",
              "        element.innerHTML = '';\n",
              "        dataTable['output_type'] = 'display_data';\n",
              "        await google.colab.output.renderOutput(dataTable, element);\n",
              "        const docLink = document.createElement('div');\n",
              "        docLink.innerHTML = docLinkHtml;\n",
              "        element.appendChild(docLink);\n",
              "      }\n",
              "    </script>\n",
              "  </div>\n",
              "\n",
              "\n",
              "<div id=\"df-04fe698f-3b21-4018-afd9-28ecb5c3f085\">\n",
              "  <button class=\"colab-df-quickchart\" onclick=\"quickchart('df-04fe698f-3b21-4018-afd9-28ecb5c3f085')\"\n",
              "            title=\"Suggest charts\"\n",
              "            style=\"display:none;\">\n",
              "\n",
              "<svg xmlns=\"http://www.w3.org/2000/svg\" height=\"24px\"viewBox=\"0 0 24 24\"\n",
              "     width=\"24px\">\n",
              "    <g>\n",
              "        <path d=\"M19 3H5c-1.1 0-2 .9-2 2v14c0 1.1.9 2 2 2h14c1.1 0 2-.9 2-2V5c0-1.1-.9-2-2-2zM9 17H7v-7h2v7zm4 0h-2V7h2v10zm4 0h-2v-4h2v4z\"/>\n",
              "    </g>\n",
              "</svg>\n",
              "  </button>\n",
              "\n",
              "<style>\n",
              "  .colab-df-quickchart {\n",
              "      --bg-color: #E8F0FE;\n",
              "      --fill-color: #1967D2;\n",
              "      --hover-bg-color: #E2EBFA;\n",
              "      --hover-fill-color: #174EA6;\n",
              "      --disabled-fill-color: #AAA;\n",
              "      --disabled-bg-color: #DDD;\n",
              "  }\n",
              "\n",
              "  [theme=dark] .colab-df-quickchart {\n",
              "      --bg-color: #3B4455;\n",
              "      --fill-color: #D2E3FC;\n",
              "      --hover-bg-color: #434B5C;\n",
              "      --hover-fill-color: #FFFFFF;\n",
              "      --disabled-bg-color: #3B4455;\n",
              "      --disabled-fill-color: #666;\n",
              "  }\n",
              "\n",
              "  .colab-df-quickchart {\n",
              "    background-color: var(--bg-color);\n",
              "    border: none;\n",
              "    border-radius: 50%;\n",
              "    cursor: pointer;\n",
              "    display: none;\n",
              "    fill: var(--fill-color);\n",
              "    height: 32px;\n",
              "    padding: 0;\n",
              "    width: 32px;\n",
              "  }\n",
              "\n",
              "  .colab-df-quickchart:hover {\n",
              "    background-color: var(--hover-bg-color);\n",
              "    box-shadow: 0 1px 2px rgba(60, 64, 67, 0.3), 0 1px 3px 1px rgba(60, 64, 67, 0.15);\n",
              "    fill: var(--button-hover-fill-color);\n",
              "  }\n",
              "\n",
              "  .colab-df-quickchart-complete:disabled,\n",
              "  .colab-df-quickchart-complete:disabled:hover {\n",
              "    background-color: var(--disabled-bg-color);\n",
              "    fill: var(--disabled-fill-color);\n",
              "    box-shadow: none;\n",
              "  }\n",
              "\n",
              "  .colab-df-spinner {\n",
              "    border: 2px solid var(--fill-color);\n",
              "    border-color: transparent;\n",
              "    border-bottom-color: var(--fill-color);\n",
              "    animation:\n",
              "      spin 1s steps(1) infinite;\n",
              "  }\n",
              "\n",
              "  @keyframes spin {\n",
              "    0% {\n",
              "      border-color: transparent;\n",
              "      border-bottom-color: var(--fill-color);\n",
              "      border-left-color: var(--fill-color);\n",
              "    }\n",
              "    20% {\n",
              "      border-color: transparent;\n",
              "      border-left-color: var(--fill-color);\n",
              "      border-top-color: var(--fill-color);\n",
              "    }\n",
              "    30% {\n",
              "      border-color: transparent;\n",
              "      border-left-color: var(--fill-color);\n",
              "      border-top-color: var(--fill-color);\n",
              "      border-right-color: var(--fill-color);\n",
              "    }\n",
              "    40% {\n",
              "      border-color: transparent;\n",
              "      border-right-color: var(--fill-color);\n",
              "      border-top-color: var(--fill-color);\n",
              "    }\n",
              "    60% {\n",
              "      border-color: transparent;\n",
              "      border-right-color: var(--fill-color);\n",
              "    }\n",
              "    80% {\n",
              "      border-color: transparent;\n",
              "      border-right-color: var(--fill-color);\n",
              "      border-bottom-color: var(--fill-color);\n",
              "    }\n",
              "    90% {\n",
              "      border-color: transparent;\n",
              "      border-bottom-color: var(--fill-color);\n",
              "    }\n",
              "  }\n",
              "</style>\n",
              "\n",
              "  <script>\n",
              "    async function quickchart(key) {\n",
              "      const quickchartButtonEl =\n",
              "        document.querySelector('#' + key + ' button');\n",
              "      quickchartButtonEl.disabled = true;  // To prevent multiple clicks.\n",
              "      quickchartButtonEl.classList.add('colab-df-spinner');\n",
              "      try {\n",
              "        const charts = await google.colab.kernel.invokeFunction(\n",
              "            'suggestCharts', [key], {});\n",
              "      } catch (error) {\n",
              "        console.error('Error during call to suggestCharts:', error);\n",
              "      }\n",
              "      quickchartButtonEl.classList.remove('colab-df-spinner');\n",
              "      quickchartButtonEl.classList.add('colab-df-quickchart-complete');\n",
              "    }\n",
              "    (() => {\n",
              "      let quickchartButtonEl =\n",
              "        document.querySelector('#df-04fe698f-3b21-4018-afd9-28ecb5c3f085 button');\n",
              "      quickchartButtonEl.style.display =\n",
              "        google.colab.kernel.accessAllowed ? 'block' : 'none';\n",
              "    })();\n",
              "  </script>\n",
              "</div>\n",
              "\n",
              "    </div>\n",
              "  </div>\n"
            ],
            "application/vnd.google.colaboratory.intrinsic+json": {
              "type": "dataframe",
              "summary": "{\n  \"name\": \"df[~df['text']\",\n  \"rows\": 10,\n  \"fields\": [\n    {\n      \"column\": \"augmentation_method\",\n      \"properties\": {\n        \"dtype\": \"category\",\n        \"num_unique_values\": 1,\n        \"samples\": [\n          \"SR\"\n        ],\n        \"semantic_type\": \"\",\n        \"description\": \"\"\n      }\n    },\n    {\n      \"column\": \"idx\",\n      \"properties\": {\n        \"dtype\": \"number\",\n        \"std\": 4,\n        \"min\": 1,\n        \"max\": 14,\n        \"num_unique_values\": 10,\n        \"samples\": [\n          13\n        ],\n        \"semantic_type\": \"\",\n        \"description\": \"\"\n      }\n    },\n    {\n      \"column\": \"gloss\",\n      \"properties\": {\n        \"dtype\": \"string\",\n        \"num_unique_values\": 7,\n        \"samples\": [\n          \"\\uc9d1 \\ubd88\"\n        ],\n        \"semantic_type\": \"\",\n        \"description\": \"\"\n      }\n    },\n    {\n      \"column\": \"text\",\n      \"properties\": {\n        \"dtype\": \"string\",\n        \"num_unique_values\": 10,\n        \"samples\": [\n          \"2016\\ub144, \\uc0c8\\ud574\\uac00 \\ucd9c\\ubc1c\\ud55c\\ub2e4\"\n        ],\n        \"semantic_type\": \"\",\n        \"description\": \"\"\n      }\n    }\n  ]\n}"
            }
          },
          "metadata": {},
          "execution_count": 39
        }
      ]
    },
    {
      "cell_type": "markdown",
      "source": [
        "### 데이터 전처리"
      ],
      "metadata": {
        "id": "1rpIcGTC5WhA"
      }
    },
    {
      "cell_type": "code",
      "source": [
        "df = df[~df['text'].str.contains('\\?')]\n",
        "df = df[['gloss', 'text']]\n",
        "df.head(30)"
      ],
      "metadata": {
        "colab": {
          "base_uri": "https://localhost:8080/",
          "height": 0
        },
        "id": "Gf5kwO2LG3r_",
        "outputId": "312ef315-2131-4c39-8fe1-c0e24f55accd"
      },
      "execution_count": 40,
      "outputs": [
        {
          "output_type": "execute_result",
          "data": {
            "text/plain": [
              "                  gloss                       text\n",
              "0                   집 불                 댁에 불이 났어요.\n",
              "1                   집 불                주택에 불이 났어요.\n",
              "2                   집 불                가옥에 불이 났어요.\n",
              "3                   집 불                세대에 불이 났어요.\n",
              "4              도착 10분 전              10분 내로 당도합니다.\n",
              "5                도착 10분              10분 뒤에 당도합니다.\n",
              "6              도착 1시간 전              1시간 내로 당도합니다.\n",
              "7                 도착 1시                 1시에 당도합니다.\n",
              "12        2016 새롭다 날 시작            2016년, 새해가 출발한다\n",
              "13                도착 3시                 3시에 당도합니다.\n",
              "20    정보  묻다  곳  가다  부탁  가까운 인솔 데스크를 이용해 주시기 바랍니다.\n",
              "21  제일  가깝다  곳  찾다  드리다      가장 가까운 위치로 검색해드리겠습니다.\n",
              "22  제일  가깝다  곳  찾다  드리다      가장 가까운 장소로 검색해드리겠습니다.\n",
              "23  제일  가깝다  곳  찾다  드리다      가장 가까운 처소로 검색해드리겠습니다.\n",
              "25            갈아타다 곳 맞다             갈아타는 위치가 맞습니다.\n",
              "26            갈아타다 곳 맞다             갈아타는 장소가 맞습니다.\n",
              "27         개 집 지키다 유명하다    개는 주택을 잘 지키는 동물로 알려져 있다\n",
              "28         개 집 지키다 유명하다    개는 가옥을 잘 지키는 동물로 알려져 있다\n",
              "29               건강 돌보다                    기력을 돌보다\n",
              "30         건강 위하다 운동 필요             기력을 위해 운동해야 한다\n",
              "31         건강 위하다 운동 필요            건강을 위해 스포츠해야 한다\n",
              "32         건강 위하다 운동 필요             건강을 위해 체육해야 한다\n",
              "33               걷다 빠르다                    보행이 빠르다\n",
              "34        결과 무엇 너무 궁금하다       끝끝내 어떻게 되었는지 정말 궁금하다\n",
              "35        결과 무엇 너무 궁금하다       최후가 어떻게 되었는지 정말 궁금하다\n",
              "36        결과 무엇 너무 궁금하다      막바지가 어떻게 되었는지 정말 궁금하다\n",
              "37        결과 무엇 너무 궁금하다       결국에 어떻게 되었는지 정말 궁금하다\n",
              "38        결과 무엇 너무 궁금하다      마지막에 어떻게 되었는지 정말 궁금하다\n",
              "39        결과 무엇 너무 궁금하다       결말이 어떻게 되었는지 정말 궁금하다\n",
              "40            돈 계산 잘못하다                셈을 잘못하였습니다."
            ],
            "text/html": [
              "\n",
              "  <div id=\"df-c7605b73-8203-4fa3-b891-977b90ee279c\" class=\"colab-df-container\">\n",
              "    <div>\n",
              "<style scoped>\n",
              "    .dataframe tbody tr th:only-of-type {\n",
              "        vertical-align: middle;\n",
              "    }\n",
              "\n",
              "    .dataframe tbody tr th {\n",
              "        vertical-align: top;\n",
              "    }\n",
              "\n",
              "    .dataframe thead th {\n",
              "        text-align: right;\n",
              "    }\n",
              "</style>\n",
              "<table border=\"1\" class=\"dataframe\">\n",
              "  <thead>\n",
              "    <tr style=\"text-align: right;\">\n",
              "      <th></th>\n",
              "      <th>gloss</th>\n",
              "      <th>text</th>\n",
              "    </tr>\n",
              "  </thead>\n",
              "  <tbody>\n",
              "    <tr>\n",
              "      <th>0</th>\n",
              "      <td>집 불</td>\n",
              "      <td>댁에 불이 났어요.</td>\n",
              "    </tr>\n",
              "    <tr>\n",
              "      <th>1</th>\n",
              "      <td>집 불</td>\n",
              "      <td>주택에 불이 났어요.</td>\n",
              "    </tr>\n",
              "    <tr>\n",
              "      <th>2</th>\n",
              "      <td>집 불</td>\n",
              "      <td>가옥에 불이 났어요.</td>\n",
              "    </tr>\n",
              "    <tr>\n",
              "      <th>3</th>\n",
              "      <td>집 불</td>\n",
              "      <td>세대에 불이 났어요.</td>\n",
              "    </tr>\n",
              "    <tr>\n",
              "      <th>4</th>\n",
              "      <td>도착 10분 전</td>\n",
              "      <td>10분 내로 당도합니다.</td>\n",
              "    </tr>\n",
              "    <tr>\n",
              "      <th>5</th>\n",
              "      <td>도착 10분</td>\n",
              "      <td>10분 뒤에 당도합니다.</td>\n",
              "    </tr>\n",
              "    <tr>\n",
              "      <th>6</th>\n",
              "      <td>도착 1시간 전</td>\n",
              "      <td>1시간 내로 당도합니다.</td>\n",
              "    </tr>\n",
              "    <tr>\n",
              "      <th>7</th>\n",
              "      <td>도착 1시</td>\n",
              "      <td>1시에 당도합니다.</td>\n",
              "    </tr>\n",
              "    <tr>\n",
              "      <th>12</th>\n",
              "      <td>2016 새롭다 날 시작</td>\n",
              "      <td>2016년, 새해가 출발한다</td>\n",
              "    </tr>\n",
              "    <tr>\n",
              "      <th>13</th>\n",
              "      <td>도착 3시</td>\n",
              "      <td>3시에 당도합니다.</td>\n",
              "    </tr>\n",
              "    <tr>\n",
              "      <th>20</th>\n",
              "      <td>정보  묻다  곳  가다  부탁</td>\n",
              "      <td>가까운 인솔 데스크를 이용해 주시기 바랍니다.</td>\n",
              "    </tr>\n",
              "    <tr>\n",
              "      <th>21</th>\n",
              "      <td>제일  가깝다  곳  찾다  드리다</td>\n",
              "      <td>가장 가까운 위치로 검색해드리겠습니다.</td>\n",
              "    </tr>\n",
              "    <tr>\n",
              "      <th>22</th>\n",
              "      <td>제일  가깝다  곳  찾다  드리다</td>\n",
              "      <td>가장 가까운 장소로 검색해드리겠습니다.</td>\n",
              "    </tr>\n",
              "    <tr>\n",
              "      <th>23</th>\n",
              "      <td>제일  가깝다  곳  찾다  드리다</td>\n",
              "      <td>가장 가까운 처소로 검색해드리겠습니다.</td>\n",
              "    </tr>\n",
              "    <tr>\n",
              "      <th>25</th>\n",
              "      <td>갈아타다 곳 맞다</td>\n",
              "      <td>갈아타는 위치가 맞습니다.</td>\n",
              "    </tr>\n",
              "    <tr>\n",
              "      <th>26</th>\n",
              "      <td>갈아타다 곳 맞다</td>\n",
              "      <td>갈아타는 장소가 맞습니다.</td>\n",
              "    </tr>\n",
              "    <tr>\n",
              "      <th>27</th>\n",
              "      <td>개 집 지키다 유명하다</td>\n",
              "      <td>개는 주택을 잘 지키는 동물로 알려져 있다</td>\n",
              "    </tr>\n",
              "    <tr>\n",
              "      <th>28</th>\n",
              "      <td>개 집 지키다 유명하다</td>\n",
              "      <td>개는 가옥을 잘 지키는 동물로 알려져 있다</td>\n",
              "    </tr>\n",
              "    <tr>\n",
              "      <th>29</th>\n",
              "      <td>건강 돌보다</td>\n",
              "      <td>기력을 돌보다</td>\n",
              "    </tr>\n",
              "    <tr>\n",
              "      <th>30</th>\n",
              "      <td>건강 위하다 운동 필요</td>\n",
              "      <td>기력을 위해 운동해야 한다</td>\n",
              "    </tr>\n",
              "    <tr>\n",
              "      <th>31</th>\n",
              "      <td>건강 위하다 운동 필요</td>\n",
              "      <td>건강을 위해 스포츠해야 한다</td>\n",
              "    </tr>\n",
              "    <tr>\n",
              "      <th>32</th>\n",
              "      <td>건강 위하다 운동 필요</td>\n",
              "      <td>건강을 위해 체육해야 한다</td>\n",
              "    </tr>\n",
              "    <tr>\n",
              "      <th>33</th>\n",
              "      <td>걷다 빠르다</td>\n",
              "      <td>보행이 빠르다</td>\n",
              "    </tr>\n",
              "    <tr>\n",
              "      <th>34</th>\n",
              "      <td>결과 무엇 너무 궁금하다</td>\n",
              "      <td>끝끝내 어떻게 되었는지 정말 궁금하다</td>\n",
              "    </tr>\n",
              "    <tr>\n",
              "      <th>35</th>\n",
              "      <td>결과 무엇 너무 궁금하다</td>\n",
              "      <td>최후가 어떻게 되었는지 정말 궁금하다</td>\n",
              "    </tr>\n",
              "    <tr>\n",
              "      <th>36</th>\n",
              "      <td>결과 무엇 너무 궁금하다</td>\n",
              "      <td>막바지가 어떻게 되었는지 정말 궁금하다</td>\n",
              "    </tr>\n",
              "    <tr>\n",
              "      <th>37</th>\n",
              "      <td>결과 무엇 너무 궁금하다</td>\n",
              "      <td>결국에 어떻게 되었는지 정말 궁금하다</td>\n",
              "    </tr>\n",
              "    <tr>\n",
              "      <th>38</th>\n",
              "      <td>결과 무엇 너무 궁금하다</td>\n",
              "      <td>마지막에 어떻게 되었는지 정말 궁금하다</td>\n",
              "    </tr>\n",
              "    <tr>\n",
              "      <th>39</th>\n",
              "      <td>결과 무엇 너무 궁금하다</td>\n",
              "      <td>결말이 어떻게 되었는지 정말 궁금하다</td>\n",
              "    </tr>\n",
              "    <tr>\n",
              "      <th>40</th>\n",
              "      <td>돈 계산 잘못하다</td>\n",
              "      <td>셈을 잘못하였습니다.</td>\n",
              "    </tr>\n",
              "  </tbody>\n",
              "</table>\n",
              "</div>\n",
              "    <div class=\"colab-df-buttons\">\n",
              "\n",
              "  <div class=\"colab-df-container\">\n",
              "    <button class=\"colab-df-convert\" onclick=\"convertToInteractive('df-c7605b73-8203-4fa3-b891-977b90ee279c')\"\n",
              "            title=\"Convert this dataframe to an interactive table.\"\n",
              "            style=\"display:none;\">\n",
              "\n",
              "  <svg xmlns=\"http://www.w3.org/2000/svg\" height=\"24px\" viewBox=\"0 -960 960 960\">\n",
              "    <path d=\"M120-120v-720h720v720H120Zm60-500h600v-160H180v160Zm220 220h160v-160H400v160Zm0 220h160v-160H400v160ZM180-400h160v-160H180v160Zm440 0h160v-160H620v160ZM180-180h160v-160H180v160Zm440 0h160v-160H620v160Z\"/>\n",
              "  </svg>\n",
              "    </button>\n",
              "\n",
              "  <style>\n",
              "    .colab-df-container {\n",
              "      display:flex;\n",
              "      gap: 12px;\n",
              "    }\n",
              "\n",
              "    .colab-df-convert {\n",
              "      background-color: #E8F0FE;\n",
              "      border: none;\n",
              "      border-radius: 50%;\n",
              "      cursor: pointer;\n",
              "      display: none;\n",
              "      fill: #1967D2;\n",
              "      height: 32px;\n",
              "      padding: 0 0 0 0;\n",
              "      width: 32px;\n",
              "    }\n",
              "\n",
              "    .colab-df-convert:hover {\n",
              "      background-color: #E2EBFA;\n",
              "      box-shadow: 0px 1px 2px rgba(60, 64, 67, 0.3), 0px 1px 3px 1px rgba(60, 64, 67, 0.15);\n",
              "      fill: #174EA6;\n",
              "    }\n",
              "\n",
              "    .colab-df-buttons div {\n",
              "      margin-bottom: 4px;\n",
              "    }\n",
              "\n",
              "    [theme=dark] .colab-df-convert {\n",
              "      background-color: #3B4455;\n",
              "      fill: #D2E3FC;\n",
              "    }\n",
              "\n",
              "    [theme=dark] .colab-df-convert:hover {\n",
              "      background-color: #434B5C;\n",
              "      box-shadow: 0px 1px 3px 1px rgba(0, 0, 0, 0.15);\n",
              "      filter: drop-shadow(0px 1px 2px rgba(0, 0, 0, 0.3));\n",
              "      fill: #FFFFFF;\n",
              "    }\n",
              "  </style>\n",
              "\n",
              "    <script>\n",
              "      const buttonEl =\n",
              "        document.querySelector('#df-c7605b73-8203-4fa3-b891-977b90ee279c button.colab-df-convert');\n",
              "      buttonEl.style.display =\n",
              "        google.colab.kernel.accessAllowed ? 'block' : 'none';\n",
              "\n",
              "      async function convertToInteractive(key) {\n",
              "        const element = document.querySelector('#df-c7605b73-8203-4fa3-b891-977b90ee279c');\n",
              "        const dataTable =\n",
              "          await google.colab.kernel.invokeFunction('convertToInteractive',\n",
              "                                                    [key], {});\n",
              "        if (!dataTable) return;\n",
              "\n",
              "        const docLinkHtml = 'Like what you see? Visit the ' +\n",
              "          '<a target=\"_blank\" href=https://colab.research.google.com/notebooks/data_table.ipynb>data table notebook</a>'\n",
              "          + ' to learn more about interactive tables.';\n",
              "        element.innerHTML = '';\n",
              "        dataTable['output_type'] = 'display_data';\n",
              "        await google.colab.output.renderOutput(dataTable, element);\n",
              "        const docLink = document.createElement('div');\n",
              "        docLink.innerHTML = docLinkHtml;\n",
              "        element.appendChild(docLink);\n",
              "      }\n",
              "    </script>\n",
              "  </div>\n",
              "\n",
              "\n",
              "<div id=\"df-2e6ac59e-2fb9-49d6-a74c-bf48bd96d3dc\">\n",
              "  <button class=\"colab-df-quickchart\" onclick=\"quickchart('df-2e6ac59e-2fb9-49d6-a74c-bf48bd96d3dc')\"\n",
              "            title=\"Suggest charts\"\n",
              "            style=\"display:none;\">\n",
              "\n",
              "<svg xmlns=\"http://www.w3.org/2000/svg\" height=\"24px\"viewBox=\"0 0 24 24\"\n",
              "     width=\"24px\">\n",
              "    <g>\n",
              "        <path d=\"M19 3H5c-1.1 0-2 .9-2 2v14c0 1.1.9 2 2 2h14c1.1 0 2-.9 2-2V5c0-1.1-.9-2-2-2zM9 17H7v-7h2v7zm4 0h-2V7h2v10zm4 0h-2v-4h2v4z\"/>\n",
              "    </g>\n",
              "</svg>\n",
              "  </button>\n",
              "\n",
              "<style>\n",
              "  .colab-df-quickchart {\n",
              "      --bg-color: #E8F0FE;\n",
              "      --fill-color: #1967D2;\n",
              "      --hover-bg-color: #E2EBFA;\n",
              "      --hover-fill-color: #174EA6;\n",
              "      --disabled-fill-color: #AAA;\n",
              "      --disabled-bg-color: #DDD;\n",
              "  }\n",
              "\n",
              "  [theme=dark] .colab-df-quickchart {\n",
              "      --bg-color: #3B4455;\n",
              "      --fill-color: #D2E3FC;\n",
              "      --hover-bg-color: #434B5C;\n",
              "      --hover-fill-color: #FFFFFF;\n",
              "      --disabled-bg-color: #3B4455;\n",
              "      --disabled-fill-color: #666;\n",
              "  }\n",
              "\n",
              "  .colab-df-quickchart {\n",
              "    background-color: var(--bg-color);\n",
              "    border: none;\n",
              "    border-radius: 50%;\n",
              "    cursor: pointer;\n",
              "    display: none;\n",
              "    fill: var(--fill-color);\n",
              "    height: 32px;\n",
              "    padding: 0;\n",
              "    width: 32px;\n",
              "  }\n",
              "\n",
              "  .colab-df-quickchart:hover {\n",
              "    background-color: var(--hover-bg-color);\n",
              "    box-shadow: 0 1px 2px rgba(60, 64, 67, 0.3), 0 1px 3px 1px rgba(60, 64, 67, 0.15);\n",
              "    fill: var(--button-hover-fill-color);\n",
              "  }\n",
              "\n",
              "  .colab-df-quickchart-complete:disabled,\n",
              "  .colab-df-quickchart-complete:disabled:hover {\n",
              "    background-color: var(--disabled-bg-color);\n",
              "    fill: var(--disabled-fill-color);\n",
              "    box-shadow: none;\n",
              "  }\n",
              "\n",
              "  .colab-df-spinner {\n",
              "    border: 2px solid var(--fill-color);\n",
              "    border-color: transparent;\n",
              "    border-bottom-color: var(--fill-color);\n",
              "    animation:\n",
              "      spin 1s steps(1) infinite;\n",
              "  }\n",
              "\n",
              "  @keyframes spin {\n",
              "    0% {\n",
              "      border-color: transparent;\n",
              "      border-bottom-color: var(--fill-color);\n",
              "      border-left-color: var(--fill-color);\n",
              "    }\n",
              "    20% {\n",
              "      border-color: transparent;\n",
              "      border-left-color: var(--fill-color);\n",
              "      border-top-color: var(--fill-color);\n",
              "    }\n",
              "    30% {\n",
              "      border-color: transparent;\n",
              "      border-left-color: var(--fill-color);\n",
              "      border-top-color: var(--fill-color);\n",
              "      border-right-color: var(--fill-color);\n",
              "    }\n",
              "    40% {\n",
              "      border-color: transparent;\n",
              "      border-right-color: var(--fill-color);\n",
              "      border-top-color: var(--fill-color);\n",
              "    }\n",
              "    60% {\n",
              "      border-color: transparent;\n",
              "      border-right-color: var(--fill-color);\n",
              "    }\n",
              "    80% {\n",
              "      border-color: transparent;\n",
              "      border-right-color: var(--fill-color);\n",
              "      border-bottom-color: var(--fill-color);\n",
              "    }\n",
              "    90% {\n",
              "      border-color: transparent;\n",
              "      border-bottom-color: var(--fill-color);\n",
              "    }\n",
              "  }\n",
              "</style>\n",
              "\n",
              "  <script>\n",
              "    async function quickchart(key) {\n",
              "      const quickchartButtonEl =\n",
              "        document.querySelector('#' + key + ' button');\n",
              "      quickchartButtonEl.disabled = true;  // To prevent multiple clicks.\n",
              "      quickchartButtonEl.classList.add('colab-df-spinner');\n",
              "      try {\n",
              "        const charts = await google.colab.kernel.invokeFunction(\n",
              "            'suggestCharts', [key], {});\n",
              "      } catch (error) {\n",
              "        console.error('Error during call to suggestCharts:', error);\n",
              "      }\n",
              "      quickchartButtonEl.classList.remove('colab-df-spinner');\n",
              "      quickchartButtonEl.classList.add('colab-df-quickchart-complete');\n",
              "    }\n",
              "    (() => {\n",
              "      let quickchartButtonEl =\n",
              "        document.querySelector('#df-2e6ac59e-2fb9-49d6-a74c-bf48bd96d3dc button');\n",
              "      quickchartButtonEl.style.display =\n",
              "        google.colab.kernel.accessAllowed ? 'block' : 'none';\n",
              "    })();\n",
              "  </script>\n",
              "</div>\n",
              "\n",
              "    </div>\n",
              "  </div>\n"
            ],
            "application/vnd.google.colaboratory.intrinsic+json": {
              "type": "dataframe",
              "variable_name": "df",
              "summary": "{\n  \"name\": \"df\",\n  \"rows\": 8401,\n  \"fields\": [\n    {\n      \"column\": \"gloss\",\n      \"properties\": {\n        \"dtype\": \"string\",\n        \"num_unique_values\": 7714,\n        \"samples\": [\n          \"\\ubc1c \\ub9c8\\uc74c \\ubc1c\\ubc14\\ub2e5\",\n          \"\\ubb34\\uc9c0\\uac1c \\uace0\\uc7a5 \\ud750\\ub974\\ub2e4\",\n          \"\\uc9c0\\ubb38 \\ubd88\\ub7c9 \\uc548\\ub418\\ub2e4\"\n        ],\n        \"semantic_type\": \"\",\n        \"description\": \"\"\n      }\n    },\n    {\n      \"column\": \"text\",\n      \"properties\": {\n        \"dtype\": \"string\",\n        \"num_unique_values\": 6729,\n        \"samples\": [\n          \"\\ub110 \\ub2ee\\uc744\\uac8c\",\n          \"\\ub098 \\uc790\\uc2e0\\uc774 \\ubd80\\uc871\\ud574\\uc11c \\ud55c\\uc2ec\\ud588\\ub2e4\",\n          \"\\ud734\\uc77c\\uc5d0 \\uc26c\\uace0 \\uc2f6\\uc5b4\"\n        ],\n        \"semantic_type\": \"\",\n        \"description\": \"\"\n      }\n    }\n  ]\n}"
            }
          },
          "metadata": {},
          "execution_count": 40
        }
      ]
    },
    {
      "cell_type": "markdown",
      "source": [
        "### 문장 길이 시각화\n",
        "max_len 설정을 위함"
      ],
      "metadata": {
        "id": "hHIQV8Ke5Y_4"
      }
    },
    {
      "cell_type": "code",
      "source": [
        "import matplotlib.pyplot as plt\n",
        "\n",
        "# 각 문장의 토큰 길이를 KoBART 토크나이저로 계산 -> 서브워드 단어로 더 잘게 쪼개줌\n",
        "df['source_len'] = df['gloss'].apply(lambda x: len(tokenizer.encode(x, add_special_tokens=False)))\n",
        "df['target_len'] = df['text'].apply(lambda x: len(tokenizer.encode(x, add_special_tokens=False)))\n",
        "\n",
        "# 히스토그램을 그려서 분포 확인\n",
        "plt.figure(figsize=(12, 6))\n",
        "\n",
        "plt.subplot(1, 2, 1)\n",
        "plt.hist(df['source_len'], bins=30, color='blue', alpha=0.7)\n",
        "plt.title('Source Sentence Length Distribution')\n",
        "plt.xlabel('Sentence Length (tokens)')\n",
        "plt.ylabel('Frequency')\n",
        "\n",
        "plt.subplot(1, 2, 2)\n",
        "plt.hist(df['target_len'], bins=30, color='green', alpha=0.7)\n",
        "plt.title('Target Sentence Length Distribution')\n",
        "plt.xlabel('Sentence Length (tokens)')\n",
        "plt.ylabel('Frequency')\n",
        "\n",
        "plt.tight_layout()\n",
        "plt.show()"
      ],
      "metadata": {
        "colab": {
          "base_uri": "https://localhost:8080/",
          "height": 0
        },
        "id": "9W_6FRnX5dw_",
        "outputId": "0755e8f1-1973-45aa-af00-9f266a7cb632"
      },
      "execution_count": 41,
      "outputs": [
        {
          "output_type": "display_data",
          "data": {
            "text/plain": [
              "<Figure size 1200x600 with 2 Axes>"
            ],
            "image/png": "[encoded data removed]"
          },
          "metadata": {}
        }
      ]
    },
    {
      "cell_type": "code",
      "source": [
        "# 문장 길이 통계\n",
        "source_stats = df['source_len'].describe(percentiles=[.25, .5, .75, .9, .95, .99])\n",
        "target_stats = df['target_len'].describe(percentiles=[.25, .5, .75, .9, .95, .99])\n",
        "\n",
        "print(\"Source Sentence Length Stats:\\n\", source_stats)\n",
        "print(\"\\nTarget Sentence Length Stats:\\n\", target_stats)"
      ],
      "metadata": {
        "colab": {
          "base_uri": "https://localhost:8080/"
        },
        "id": "-xJLp9NH6UxY",
        "outputId": "480853f8-f633-425e-99c8-d68ea219562b"
      },
      "execution_count": 42,
      "outputs": [
        {
          "output_type": "stream",
          "name": "stdout",
          "text": [
            "Source Sentence Length Stats:\n",
            " count    8401.000000\n",
            "mean        6.081776\n",
            "std         2.704424\n",
            "min         1.000000\n",
            "25%         4.000000\n",
            "50%         6.000000\n",
            "75%         8.000000\n",
            "90%         9.000000\n",
            "95%        10.000000\n",
            "99%        14.000000\n",
            "max        28.000000\n",
            "Name: source_len, dtype: float64\n",
            "\n",
            "Target Sentence Length Stats:\n",
            " count    8401.000000\n",
            "mean        6.805618\n",
            "std         2.523546\n",
            "min         1.000000\n",
            "25%         5.000000\n",
            "50%         6.000000\n",
            "75%         8.000000\n",
            "90%        10.000000\n",
            "95%        11.000000\n",
            "99%        13.000000\n",
            "max        19.000000\n",
            "Name: target_len, dtype: float64\n"
          ]
        }
      ]
    },
    {
      "cell_type": "markdown",
      "source": [
        "## 2. 데이터 로더 생성"
      ],
      "metadata": {
        "id": "_53-BCoVHCJB"
      }
    },
    {
      "cell_type": "code",
      "source": [
        "class GlossDataset(Dataset):\n",
        "    def __init__(self, glosses, texts, tokenizer, max_len=10):\n",
        "        self.glosses = glosses\n",
        "        self.texts = texts\n",
        "        self.tokenizer = tokenizer\n",
        "        self.max_len = max_len\n",
        "\n",
        "    # 데이터셋의 크기를 반환\n",
        "    def __len__(self):\n",
        "        return len(self.glosses)\n",
        "\n",
        "    def __getitem__(self, idx):\n",
        "        # 데이터 로드 및 전처리\n",
        "        gloss = str(self.glosses[idx])\n",
        "        text = str(self.texts[idx])\n",
        "\n",
        "        # 토큰화\n",
        "        inputs = self.tokenizer(\n",
        "            gloss,\n",
        "            max_length=self.max_len,\n",
        "            padding='max_length',\n",
        "            truncation=True,\n",
        "            return_tensors=\"pt\" # 토큰화된 결과를 PyTorch 텐서로 반환\n",
        "        )\n",
        "\n",
        "        outputs = self.tokenizer(\n",
        "            text,\n",
        "            max_length=self.max_len,\n",
        "            padding='max_length',\n",
        "            truncation=True,\n",
        "            return_tensors=\"pt\"\n",
        "        )\n",
        "\n",
        "        # 텐서 데이터 처리\n",
        "        input_ids = inputs.input_ids.squeeze() # 1차원 처리해 gloss 토큰 id 텐서\n",
        "        attention_mask = inputs.attention_mask.squeeze() # 마스킹 처리\n",
        "        labels = outputs.input_ids.squeeze() # 1차원 처리해 text 토큰 id 텐서\n",
        "        labels[labels == tokenizer.pad_token_id] = -100  # labels 텐서에서 패딩 토큰의 ID를 -100 변경 -> 학습 시 영향 안줌\n",
        "\n",
        "        return {\n",
        "            'input_ids': input_ids,\n",
        "            'attention_mask': attention_mask,\n",
        "            'labels': labels\n",
        "        } # 모델 학습에 사용될 데이터 로더에 의해 처리"
      ],
      "metadata": {
        "id": "g8PKY-9nHJ_1"
      },
      "execution_count": 43,
      "outputs": []
    },
    {
      "cell_type": "code",
      "source": [
        "from sklearn.model_selection import train_test_split\n",
        "\n",
        "# 데이터셋 분할\n",
        "train_glosses, val_glosses, train_texts, val_texts = train_test_split(df['gloss'].tolist(), df['text'].tolist(), test_size=0.2, random_state=42)\n",
        "val_glosses, test_glosses, val_texts, test_texts = train_test_split(val_glosses, val_texts, test_size=0.5, random_state=42)\n",
        "\n",
        "# 데이터셋 생성\n",
        "train_dataset = GlossDataset(glosses=train_glosses, texts=train_texts, tokenizer=tokenizer)\n",
        "val_dataset = GlossDataset(glosses=val_glosses, texts=val_texts, tokenizer=tokenizer)\n",
        "test_dataset = GlossDataset(glosses=test_glosses, texts=test_texts, tokenizer=tokenizer)\n",
        "\n",
        "# 데이터로더 생성\n",
        "train_dataloader = DataLoader(train_dataset, batch_size=16, shuffle=True)\n",
        "val_dataloader = DataLoader(val_dataset, batch_size=16, shuffle=False)\n",
        "test_dataloader = DataLoader(test_dataset, batch_size=16, shuffle=False)"
      ],
      "metadata": {
        "id": "CkQ7_nDlHrEi"
      },
      "execution_count": 44,
      "outputs": []
    },
    {
      "cell_type": "code",
      "source": [
        "train_dataset[0]"
      ],
      "metadata": {
        "colab": {
          "base_uri": "https://localhost:8080/"
        },
        "id": "5Ek080u-Itrp",
        "outputId": "69d1baa5-b232-4f3b-eb43-5f350b101f0b"
      },
      "execution_count": 45,
      "outputs": [
        {
          "output_type": "execute_result",
          "data": {
            "text/plain": [
              "{'input_ids': tensor([    0, 20438, 23304, 23929, 17992,     1,     3,     3,     3,     3]),\n",
              " 'attention_mask': tensor([1, 1, 1, 1, 1, 1, 0, 0, 0, 0]),\n",
              " 'labels': tensor([    0, 18388, 23304, 10325, 15170,     1,  -100,  -100,  -100,  -100])}"
            ]
          },
          "metadata": {},
          "execution_count": 45
        }
      ]
    },
    {
      "cell_type": "markdown",
      "source": [
        "## 3. 모델 준비"
      ],
      "metadata": {
        "id": "XRuAcKP6HKZn"
      }
    },
    {
      "cell_type": "code",
      "source": [
        "import torch\n",
        "from transformers import AdamW, get_linear_schedule_with_warmup\n",
        "\n",
        "# 옵티마이저와 손실 함수 설정\n",
        "optimizer = AdamW(model.parameters(), lr=3e-5)  # 학습률은 실험적으로 조정할 수 있음 1e-4, 1e-5\n",
        "loss_fn = torch.nn.CrossEntropyLoss()\n",
        "\n",
        "# 학습률 스케줄러 설정\n",
        "num_epochs = 50\n",
        "\n",
        "total_steps = len(train_dataloader) * num_epochs\n",
        "scheduler = get_linear_schedule_with_warmup(\n",
        "    optimizer,\n",
        "    num_warmup_steps=0,\n",
        "    num_training_steps=total_steps\n",
        ")"
      ],
      "metadata": {
        "id": "EoYAXvKVHMD1",
        "colab": {
          "base_uri": "https://localhost:8080/"
        },
        "outputId": "866eae7e-c806-4bfe-88db-c1d162485f5c"
      },
      "execution_count": 28,
      "outputs": [
        {
          "output_type": "stream",
          "name": "stderr",
          "text": [
            "/usr/local/lib/python3.10/dist-packages/transformers/optimization.py:591: FutureWarning: This implementation of AdamW is deprecated and will be removed in a future version. Use the PyTorch implementation torch.optim.AdamW instead, or set `no_deprecation_warning=True` to disable this warning\n",
            "  warnings.warn(\n"
          ]
        }
      ]
    },
    {
      "cell_type": "markdown",
      "source": [
        "## 4. KoBART 학습\n"
      ],
      "metadata": {
        "id": "ihTHBTUyHMYh"
      }
    },
    {
      "cell_type": "code",
      "source": [
        "# 체크포인트를 저장할 디렉토리 설정\n",
        "import os\n",
        "\n",
        "checkpoint_dir = './checkpoints'\n",
        "os.makedirs(checkpoint_dir, exist_ok=True)"
      ],
      "metadata": {
        "id": "RlWy5Pn3UnDn"
      },
      "execution_count": 29,
      "outputs": []
    },
    {
      "cell_type": "code",
      "source": [
        "import tqdm\n",
        "from tqdm import tqdm\n",
        "\n",
        "# 손실 값을 저장할 리스트 초기화\n",
        "train_losses = []\n",
        "val_losses = []\n",
        "\n",
        "# 조기 종료 변수 설정\n",
        "# early_stopping_patience = 5  # 손실 개선이 없을 때 기다리는 에포크 수\n",
        "best_val_loss = float('inf')\n",
        "epochs_since_improvement = 0\n",
        "\n",
        "for epoch in range(num_epochs):\n",
        "    model.train()  # 학습 모드로 전환\n",
        "    total_loss = 0\n",
        "\n",
        "    print(f'\\nStarting epoch {epoch+1}/{num_epochs}')\n",
        "\n",
        "    # tqdm을 사용하여 배치 진행 상태 표시\n",
        "    for batch in tqdm(train_dataloader, desc=f'Epoch {epoch+1}/{num_epochs}', unit='batch'):\n",
        "        optimizer.zero_grad()  # 기울기 초기화\n",
        "\n",
        "        # 모델에 데이터 전달\n",
        "        outputs = model(input_ids=batch['input_ids'], attention_mask=batch['attention_mask'], labels=batch['labels'])\n",
        "        loss = outputs.loss\n",
        "\n",
        "        loss.backward()  # 역전파\n",
        "        optimizer.step()  # 옵티마이저 스텝\n",
        "        scheduler.step()  # 학습률 스케줄러 스텝\n",
        "\n",
        "        total_loss += loss.item()\n",
        "\n",
        "    avg_loss = total_loss / len(train_dataloader)\n",
        "    train_losses.append(avg_loss)  # 훈련 손실 저장\n",
        "\n",
        "    # Epoch 종료 후 검증 데이터셋에서 성능 평가\n",
        "    model.eval()  # 평가 모드로 전환\n",
        "    total_val_loss = 0\n",
        "    with torch.no_grad():\n",
        "        # tqdm을 사용하여 검증 배치 진행 상태 표시\n",
        "        for batch in tqdm(val_dataloader, desc='Validation', unit='batch'):\n",
        "            outputs = model(input_ids=batch['input_ids'], attention_mask=batch['attention_mask'], labels=batch['labels'])\n",
        "            loss = outputs.loss\n",
        "            total_val_loss += loss.item()\n",
        "\n",
        "    avg_val_loss = total_val_loss / len(val_dataloader)\n",
        "    val_losses.append(avg_val_loss)  # 검증 손실 저장\n",
        "\n",
        "    print(f'Epoch {epoch+1}/{num_epochs}, Loss: {avg_loss}, Validation Loss: {avg_val_loss}')\n",
        "\n",
        "    # 체크포인트 저장\n",
        "    checkpoint_path = os.path.join(checkpoint_dir, f'checkpoint_epoch_{epoch+1}.pt')\n",
        "    torch.save({\n",
        "        'epoch': epoch + 1,\n",
        "        'model_state_dict': model.state_dict(),\n",
        "        'optimizer_state_dict': optimizer.state_dict(),\n",
        "        'scheduler_state_dict': scheduler.state_dict(),\n",
        "        'loss': avg_loss,\n",
        "        'val_loss': avg_val_loss,\n",
        "    }, checkpoint_path)\n",
        "\n",
        "    print(f'Checkpoint saved to {checkpoint_path}')\n",
        "\n",
        "    # 조기 종료 확인\n",
        "   # if avg_val_loss < best_val_loss:\n",
        "   #     best_val_loss = avg_val_loss\n",
        "   #     epochs_since_improvement = 0  # 손실 개선이 있으면 카운트 리셋\n",
        "   # else:\n",
        "   #     epochs_since_improvement += 1\n",
        "   #     if epochs_since_improvement >= early_stopping_patience:\n",
        "   #         print(f\"Early stopping triggered. No improvement for {early_stopping_patience} epochs.\")\n",
        "   #         break"
      ],
      "metadata": {
        "id": "fQUmP_HNHR7l",
        "colab": {
          "base_uri": "https://localhost:8080/"
        },
        "outputId": "9b2850fb-9020-455f-f05b-7671348a61a4"
      },
      "execution_count": 30,
      "outputs": [
        {
          "metadata": {
            "tags": null
          },
          "name": "stdout",
          "output_type": "stream",
          "text": [
            "\n",
            "Starting epoch 1/30\n"
          ]
        },
        {
          "metadata": {
            "tags": null
          },
          "name": "stderr",
          "output_type": "stream",
          "text": [
            "Epoch 1/30: 100%|██████████| 420/420 [05:39<00:00,  1.24batch/s]\n",
            "Validation: 100%|██████████| 53/53 [00:10<00:00,  5.01batch/s]\n"
          ]
        },
        {
          "metadata": {
            "tags": null
          },
          "name": "stdout",
          "output_type": "stream",
          "text": [
            "Epoch 1/30, Loss: 2.0497562225375856, Validation Loss: 1.1544767055871352\n",
            "Checkpoint saved to ./checkpoints/checkpoint_epoch_1.pt\n",
            "\n",
            "Starting epoch 2/30\n"
          ]
        },
        {
          "metadata": {
            "tags": null
          },
          "name": "stderr",
          "output_type": "stream",
          "text": [
            "Epoch 2/30: 100%|██████████| 420/420 [05:40<00:00,  1.23batch/s]\n",
            "Validation: 100%|██████████| 53/53 [00:09<00:00,  5.36batch/s]\n"
          ]
        },
        {
          "metadata": {
            "tags": null
          },
          "name": "stdout",
          "output_type": "stream",
          "text": [
            "Epoch 2/30, Loss: 0.8811083383503414, Validation Loss: 0.7800636550165573\n",
            "Checkpoint saved to ./checkpoints/checkpoint_epoch_2.pt\n",
            "\n",
            "Starting epoch 3/30\n"
          ]
        },
        {
          "metadata": {
            "tags": null
          },
          "name": "stderr",
          "output_type": "stream",
          "text": [
            "Epoch 3/30: 100%|██████████| 420/420 [05:37<00:00,  1.25batch/s]\n",
            "Validation: 100%|██████████| 53/53 [00:10<00:00,  5.11batch/s]\n"
          ]
        },
        {
          "metadata": {
            "tags": null
          },
          "name": "stdout",
          "output_type": "stream",
          "text": [
            "Epoch 3/30, Loss: 0.5239013344049454, Validation Loss: 0.6697397732509757\n",
            "Checkpoint saved to ./checkpoints/checkpoint_epoch_3.pt\n",
            "\n",
            "Starting epoch 4/30\n"
          ]
        },
        {
          "metadata": {
            "tags": null
          },
          "name": "stderr",
          "output_type": "stream",
          "text": [
            "Epoch 4/30: 100%|██████████| 420/420 [05:38<00:00,  1.24batch/s]\n",
            "Validation: 100%|██████████| 53/53 [00:10<00:00,  5.01batch/s]\n"
          ]
        },
        {
          "metadata": {
            "tags": null
          },
          "name": "stdout",
          "output_type": "stream",
          "text": [
            "Epoch 4/30, Loss: 0.3583421323271025, Validation Loss: 0.6249694135391487\n",
            "Checkpoint saved to ./checkpoints/checkpoint_epoch_4.pt\n",
            "\n",
            "Starting epoch 5/30\n"
          ]
        },
        {
          "metadata": {
            "tags": null
          },
          "name": "stderr",
          "output_type": "stream",
          "text": [
            "Epoch 5/30: 100%|██████████| 420/420 [05:37<00:00,  1.25batch/s]\n",
            "Validation: 100%|██████████| 53/53 [00:10<00:00,  4.95batch/s]\n"
          ]
        },
        {
          "metadata": {
            "tags": null
          },
          "name": "stdout",
          "output_type": "stream",
          "text": [
            "Epoch 5/30, Loss: 0.2631731305271387, Validation Loss: 0.6216067230364062\n",
            "Checkpoint saved to ./checkpoints/checkpoint_epoch_5.pt\n",
            "\n",
            "Starting epoch 6/30\n"
          ]
        },
        {
          "metadata": {
            "tags": null
          },
          "name": "stderr",
          "output_type": "stream",
          "text": [
            "Epoch 6/30: 100%|██████████| 420/420 [05:38<00:00,  1.24batch/s]\n",
            "Validation: 100%|██████████| 53/53 [00:10<00:00,  5.10batch/s]\n"
          ]
        },
        {
          "metadata": {
            "tags": null
          },
          "name": "stdout",
          "output_type": "stream",
          "text": [
            "Epoch 6/30, Loss: 0.19912065235631807, Validation Loss: 0.6064272371103179\n",
            "Checkpoint saved to ./checkpoints/checkpoint_epoch_6.pt\n",
            "\n",
            "Starting epoch 7/30\n"
          ]
        },
        {
          "metadata": {
            "tags": null
          },
          "name": "stderr",
          "output_type": "stream",
          "text": [
            "Epoch 7/30: 100%|██████████| 420/420 [05:40<00:00,  1.23batch/s]\n",
            "Validation: 100%|██████████| 53/53 [00:10<00:00,  4.93batch/s]\n"
          ]
        },
        {
          "metadata": {
            "tags": null
          },
          "name": "stdout",
          "output_type": "stream",
          "text": [
            "Epoch 7/30, Loss: 0.15799840678505245, Validation Loss: 0.6080417686475897\n",
            "Checkpoint saved to ./checkpoints/checkpoint_epoch_7.pt\n",
            "\n",
            "Starting epoch 8/30\n"
          ]
        },
        {
          "metadata": {
            "tags": null
          },
          "name": "stderr",
          "output_type": "stream",
          "text": [
            "Epoch 8/30: 100%|██████████| 420/420 [05:40<00:00,  1.23batch/s]\n",
            "Validation: 100%|██████████| 53/53 [00:10<00:00,  5.03batch/s]\n"
          ]
        },
        {
          "metadata": {
            "tags": null
          },
          "name": "stdout",
          "output_type": "stream",
          "text": [
            "Epoch 8/30, Loss: 0.13281801163795448, Validation Loss: 0.6146039341418248\n",
            "Checkpoint saved to ./checkpoints/checkpoint_epoch_8.pt\n",
            "\n",
            "Starting epoch 9/30\n"
          ]
        },
        {
          "metadata": {
            "tags": null
          },
          "name": "stderr",
          "output_type": "stream",
          "text": [
            "Epoch 9/30: 100%|██████████| 420/420 [05:40<00:00,  1.23batch/s]\n",
            "Validation: 100%|██████████| 53/53 [00:10<00:00,  5.04batch/s]\n"
          ]
        },
        {
          "metadata": {
            "tags": null
          },
          "name": "stdout",
          "output_type": "stream",
          "text": [
            "Epoch 9/30, Loss: 0.12563336192231092, Validation Loss: 0.614838218632734\n",
            "Checkpoint saved to ./checkpoints/checkpoint_epoch_9.pt\n",
            "\n",
            "Starting epoch 10/30\n"
          ]
        },
        {
          "metadata": {
            "tags": null
          },
          "name": "stderr",
          "output_type": "stream",
          "text": [
            "Epoch 10/30: 100%|██████████| 420/420 [05:41<00:00,  1.23batch/s]\n",
            "Validation: 100%|██████████| 53/53 [00:10<00:00,  5.08batch/s]\n"
          ]
        },
        {
          "metadata": {
            "tags": null
          },
          "name": "stdout",
          "output_type": "stream",
          "text": [
            "Epoch 10/30, Loss: 0.10322120875741045, Validation Loss: 0.6196151783443847\n",
            "Checkpoint saved to ./checkpoints/checkpoint_epoch_10.pt\n",
            "\n",
            "Starting epoch 11/30\n"
          ]
        },
        {
          "metadata": {
            "tags": null
          },
          "name": "stderr",
          "output_type": "stream",
          "text": [
            "Epoch 11/30: 100%|██████████| 420/420 [05:40<00:00,  1.23batch/s]\n",
            "Validation: 100%|██████████| 53/53 [00:10<00:00,  5.12batch/s]\n"
          ]
        },
        {
          "metadata": {
            "tags": null
          },
          "name": "stdout",
          "output_type": "stream",
          "text": [
            "Epoch 11/30, Loss: 0.09811233602065061, Validation Loss: 0.6351565918270147\n",
            "Checkpoint saved to ./checkpoints/checkpoint_epoch_11.pt\n",
            "\n",
            "Starting epoch 12/30\n"
          ]
        },
        {
          "metadata": {
            "tags": null
          },
          "name": "stderr",
          "output_type": "stream",
          "text": [
            "Epoch 12/30: 100%|██████████| 420/420 [05:36<00:00,  1.25batch/s]\n",
            "Validation: 100%|██████████| 53/53 [00:10<00:00,  5.01batch/s]\n"
          ]
        },
        {
          "metadata": {
            "tags": null
          },
          "name": "stdout",
          "output_type": "stream",
          "text": [
            "Epoch 12/30, Loss: 0.08708995711945353, Validation Loss: 0.6358681641659647\n",
            "Checkpoint saved to ./checkpoints/checkpoint_epoch_12.pt\n",
            "\n",
            "Starting epoch 13/30\n"
          ]
        },
        {
          "metadata": {
            "tags": null
          },
          "name": "stderr",
          "output_type": "stream",
          "text": [
            "Epoch 13/30: 100%|██████████| 420/420 [05:40<00:00,  1.23batch/s]\n",
            "Validation: 100%|██████████| 53/53 [00:10<00:00,  5.17batch/s]\n"
          ]
        },
        {
          "metadata": {
            "tags": null
          },
          "name": "stdout",
          "output_type": "stream",
          "text": [
            "Epoch 13/30, Loss: 0.08157616909482472, Validation Loss: 0.63221542087366\n",
            "Checkpoint saved to ./checkpoints/checkpoint_epoch_13.pt\n",
            "\n",
            "Starting epoch 14/30\n"
          ]
        },
        {
          "metadata": {
            "tags": null
          },
          "name": "stderr",
          "output_type": "stream",
          "text": [
            "Epoch 14/30: 100%|██████████| 420/420 [05:37<00:00,  1.24batch/s]\n",
            "Validation: 100%|██████████| 53/53 [00:10<00:00,  4.97batch/s]\n"
          ]
        },
        {
          "metadata": {
            "tags": null
          },
          "name": "stdout",
          "output_type": "stream",
          "text": [
            "Epoch 14/30, Loss: 0.07790151245537258, Validation Loss: 0.6379031134101579\n",
            "Checkpoint saved to ./checkpoints/checkpoint_epoch_14.pt\n",
            "\n",
            "Starting epoch 15/30\n"
          ]
        },
        {
          "metadata": {
            "tags": null
          },
          "name": "stderr",
          "output_type": "stream",
          "text": [
            "Epoch 15/30: 100%|██████████| 420/420 [05:39<00:00,  1.24batch/s]\n",
            "Validation: 100%|██████████| 53/53 [00:10<00:00,  5.09batch/s]\n"
          ]
        },
        {
          "metadata": {
            "tags": null
          },
          "name": "stdout",
          "output_type": "stream",
          "text": [
            "Epoch 15/30, Loss: 0.07199335055580984, Validation Loss: 0.6497814284180695\n",
            "Checkpoint saved to ./checkpoints/checkpoint_epoch_15.pt\n",
            "\n",
            "Starting epoch 16/30\n"
          ]
        },
        {
          "metadata": {
            "tags": null
          },
          "name": "stderr",
          "output_type": "stream",
          "text": [
            "Epoch 16/30: 100%|██████████| 420/420 [05:37<00:00,  1.25batch/s]\n",
            "Validation: 100%|██████████| 53/53 [00:10<00:00,  5.14batch/s]\n"
          ]
        },
        {
          "metadata": {
            "tags": null
          },
          "name": "stdout",
          "output_type": "stream",
          "text": [
            "Epoch 16/30, Loss: 0.08206839777107927, Validation Loss: 0.651125801059435\n",
            "Checkpoint saved to ./checkpoints/checkpoint_epoch_16.pt\n",
            "\n",
            "Starting epoch 17/30\n"
          ]
        },
        {
          "output_type": "stream",
          "name": "stderr",
          "text": [
            "Epoch 17/30: 100%|██████████| 420/420 [05:34<00:00,  1.25batch/s]\n",
            "Validation: 100%|██████████| 53/53 [00:10<00:00,  5.00batch/s]\n"
          ]
        },
        {
          "output_type": "stream",
          "name": "stdout",
          "text": [
            "Epoch 17/30, Loss: 0.06311392419572387, Validation Loss: 0.6477099434947068\n",
            "Checkpoint saved to ./checkpoints/checkpoint_epoch_17.pt\n",
            "\n",
            "Starting epoch 18/30\n"
          ]
        },
        {
          "output_type": "stream",
          "name": "stderr",
          "text": [
            "Epoch 18/30: 100%|██████████| 420/420 [05:39<00:00,  1.24batch/s]\n",
            "Validation: 100%|██████████| 53/53 [00:10<00:00,  4.93batch/s]\n"
          ]
        },
        {
          "output_type": "stream",
          "name": "stdout",
          "text": [
            "Epoch 18/30, Loss: 0.0593360904182884, Validation Loss: 0.6524485701097632\n",
            "Checkpoint saved to ./checkpoints/checkpoint_epoch_18.pt\n",
            "\n",
            "Starting epoch 19/30\n"
          ]
        },
        {
          "output_type": "stream",
          "name": "stderr",
          "text": [
            "Epoch 19/30: 100%|██████████| 420/420 [05:39<00:00,  1.24batch/s]\n",
            "Validation: 100%|██████████| 53/53 [00:10<00:00,  4.99batch/s]\n"
          ]
        },
        {
          "output_type": "stream",
          "name": "stdout",
          "text": [
            "Epoch 19/30, Loss: 0.05733920245963548, Validation Loss: 0.6524757675404819\n",
            "Checkpoint saved to ./checkpoints/checkpoint_epoch_19.pt\n",
            "\n",
            "Starting epoch 20/30\n"
          ]
        },
        {
          "output_type": "stream",
          "name": "stderr",
          "text": [
            "Epoch 20/30: 100%|██████████| 420/420 [05:39<00:00,  1.24batch/s]\n",
            "Validation: 100%|██████████| 53/53 [00:10<00:00,  5.09batch/s]\n"
          ]
        },
        {
          "output_type": "stream",
          "name": "stdout",
          "text": [
            "Epoch 20/30, Loss: 0.05358353332461168, Validation Loss: 0.6684089691009162\n",
            "Checkpoint saved to ./checkpoints/checkpoint_epoch_20.pt\n",
            "\n",
            "Starting epoch 21/30\n"
          ]
        },
        {
          "output_type": "stream",
          "name": "stderr",
          "text": [
            "Epoch 21/30: 100%|██████████| 420/420 [05:38<00:00,  1.24batch/s]\n",
            "Validation: 100%|██████████| 53/53 [00:10<00:00,  4.96batch/s]\n"
          ]
        },
        {
          "output_type": "stream",
          "name": "stdout",
          "text": [
            "Epoch 21/30, Loss: 0.05251232598730851, Validation Loss: 0.6623903940308769\n",
            "Checkpoint saved to ./checkpoints/checkpoint_epoch_21.pt\n",
            "\n",
            "Starting epoch 22/30\n"
          ]
        },
        {
          "output_type": "stream",
          "name": "stderr",
          "text": [
            "Epoch 22/30: 100%|██████████| 420/420 [05:35<00:00,  1.25batch/s]\n",
            "Validation: 100%|██████████| 53/53 [00:10<00:00,  5.08batch/s]\n"
          ]
        },
        {
          "output_type": "stream",
          "name": "stdout",
          "text": [
            "Epoch 22/30, Loss: 0.050012929505845974, Validation Loss: 0.659849187956666\n",
            "Checkpoint saved to ./checkpoints/checkpoint_epoch_22.pt\n",
            "\n",
            "Starting epoch 23/30\n"
          ]
        },
        {
          "output_type": "stream",
          "name": "stderr",
          "text": [
            "Epoch 23/30: 100%|██████████| 420/420 [05:38<00:00,  1.24batch/s]\n",
            "Validation: 100%|██████████| 53/53 [00:10<00:00,  4.89batch/s]\n"
          ]
        },
        {
          "output_type": "stream",
          "name": "stdout",
          "text": [
            "Epoch 23/30, Loss: 0.048585584441510336, Validation Loss: 0.6649165547118997\n",
            "Checkpoint saved to ./checkpoints/checkpoint_epoch_23.pt\n",
            "\n",
            "Starting epoch 24/30\n"
          ]
        },
        {
          "output_type": "stream",
          "name": "stderr",
          "text": [
            "Epoch 24/30: 100%|██████████| 420/420 [05:41<00:00,  1.23batch/s]\n",
            "Validation: 100%|██████████| 53/53 [00:10<00:00,  4.94batch/s]\n"
          ]
        },
        {
          "output_type": "stream",
          "name": "stdout",
          "text": [
            "Epoch 24/30, Loss: 0.04598025127114462, Validation Loss: 0.6669404360483278\n",
            "Checkpoint saved to ./checkpoints/checkpoint_epoch_24.pt\n",
            "\n",
            "Starting epoch 25/30\n"
          ]
        },
        {
          "output_type": "stream",
          "name": "stderr",
          "text": [
            "Epoch 25/30: 100%|██████████| 420/420 [05:39<00:00,  1.24batch/s]\n",
            "Validation: 100%|██████████| 53/53 [00:10<00:00,  5.14batch/s]\n"
          ]
        },
        {
          "output_type": "stream",
          "name": "stdout",
          "text": [
            "Epoch 25/30, Loss: 0.044286733401739706, Validation Loss: 0.6738402174328858\n",
            "Checkpoint saved to ./checkpoints/checkpoint_epoch_25.pt\n",
            "\n",
            "Starting epoch 26/30\n"
          ]
        },
        {
          "output_type": "stream",
          "name": "stderr",
          "text": [
            "Epoch 26/30: 100%|██████████| 420/420 [05:43<00:00,  1.22batch/s]\n",
            "Validation: 100%|██████████| 53/53 [00:10<00:00,  5.03batch/s]\n"
          ]
        },
        {
          "output_type": "stream",
          "name": "stdout",
          "text": [
            "Epoch 26/30, Loss: 0.04194522646167094, Validation Loss: 0.6772914607569857\n",
            "Checkpoint saved to ./checkpoints/checkpoint_epoch_26.pt\n",
            "\n",
            "Starting epoch 27/30\n"
          ]
        },
        {
          "output_type": "stream",
          "name": "stderr",
          "text": [
            "Epoch 27/30: 100%|██████████| 420/420 [05:42<00:00,  1.23batch/s]\n",
            "Validation: 100%|██████████| 53/53 [00:10<00:00,  4.89batch/s]\n"
          ]
        },
        {
          "output_type": "stream",
          "name": "stdout",
          "text": [
            "Epoch 27/30, Loss: 0.040757536976265586, Validation Loss: 0.6795012239577636\n",
            "Checkpoint saved to ./checkpoints/checkpoint_epoch_27.pt\n",
            "\n",
            "Starting epoch 28/30\n"
          ]
        },
        {
          "output_type": "stream",
          "name": "stderr",
          "text": [
            "Epoch 28/30: 100%|██████████| 420/420 [05:40<00:00,  1.23batch/s]\n",
            "Validation: 100%|██████████| 53/53 [00:10<00:00,  5.02batch/s]\n"
          ]
        },
        {
          "output_type": "stream",
          "name": "stdout",
          "text": [
            "Epoch 28/30, Loss: 0.039041267340958474, Validation Loss: 0.6801753100359215\n",
            "Checkpoint saved to ./checkpoints/checkpoint_epoch_28.pt\n",
            "\n",
            "Starting epoch 29/30\n"
          ]
        },
        {
          "output_type": "stream",
          "name": "stderr",
          "text": [
            "Epoch 29/30: 100%|██████████| 420/420 [05:40<00:00,  1.23batch/s]\n",
            "Validation: 100%|██████████| 53/53 [00:10<00:00,  4.83batch/s]\n"
          ]
        },
        {
          "output_type": "stream",
          "name": "stdout",
          "text": [
            "Epoch 29/30, Loss: 0.037333104569586884, Validation Loss: 0.6814545929994223\n",
            "Checkpoint saved to ./checkpoints/checkpoint_epoch_29.pt\n",
            "\n",
            "Starting epoch 30/30\n"
          ]
        },
        {
          "output_type": "stream",
          "name": "stderr",
          "text": [
            "Epoch 30/30: 100%|██████████| 420/420 [05:40<00:00,  1.23batch/s]\n",
            "Validation: 100%|██████████| 53/53 [00:10<00:00,  4.99batch/s]\n"
          ]
        },
        {
          "output_type": "stream",
          "name": "stdout",
          "text": [
            "Epoch 30/30, Loss: 0.035481428595015865, Validation Loss: 0.6819489598274231\n",
            "Checkpoint saved to ./checkpoints/checkpoint_epoch_30.pt\n"
          ]
        }
      ]
    },
    {
      "cell_type": "code",
      "source": [
        "# 손실 값 시각화\n",
        "plt.figure(figsize=(12, 6))\n",
        "plt.plot(range(1, len(train_losses) + 1), train_losses, label='Training Loss', marker='o')\n",
        "plt.plot(range(1, len(val_losses) + 1), val_losses, label='Validation Loss', marker='o')\n",
        "plt.xlabel('Epoch')\n",
        "plt.ylabel('Loss')\n",
        "plt.title('Training and Validation Loss')\n",
        "plt.legend()\n",
        "plt.grid(True)\n",
        "plt.show()"
      ],
      "metadata": {
        "colab": {
          "base_uri": "https://localhost:8080/",
          "height": 564
        },
        "id": "TgSCHh7ytJwE",
        "outputId": "b6f4508f-677d-47a5-d5c2-ea2a178b7de8"
      },
      "execution_count": 46,
      "outputs": [
        {
          "output_type": "display_data",
          "data": {
            "text/plain": [
              "<Figure size 1200x600 with 1 Axes>"
            ],
            "image/png": "[encoded data removed]"
          },
          "metadata": {}
        }
      ]
    },
    {
      "cell_type": "markdown",
      "source": [
        "## 5. test"
      ],
      "metadata": {
        "id": "FlokjiyXEZDu"
      }
    },
    {
      "cell_type": "code",
      "source": [
        "# 체크포인트 로드\n",
        "checkpoint_path = './checkpoints/checkpoint_epoch_7.pt'\n",
        "checkpoint = torch.load(checkpoint_path)\n",
        "model.load_state_dict(checkpoint['model_state_dict'])\n",
        "optimizer.load_state_dict(checkpoint['optimizer_state_dict'])\n",
        "scheduler.load_state_dict(checkpoint['scheduler_state_dict'])"
      ],
      "metadata": {
        "id": "cFL0DW6IaInR"
      },
      "execution_count": 47,
      "outputs": []
    },
    {
      "cell_type": "code",
      "source": [
        "!pip install sacrebleu"
      ],
      "metadata": {
        "colab": {
          "base_uri": "https://localhost:8080/"
        },
        "id": "RyhdE8nPMadp",
        "outputId": "2462e617-501c-46b7-d5e9-f8b0d36b73f3"
      },
      "execution_count": 48,
      "outputs": [
        {
          "output_type": "stream",
          "name": "stdout",
          "text": [
            "Collecting sacrebleu\n",
            "  Downloading sacrebleu-2.4.2-py3-none-any.whl.metadata (58 kB)\n",
            "\u001b[?25l     \u001b[90m━━━━━━━━━━━━━━━━━━━━━━━━━━━━━━━━━━━━━━━━\u001b[0m \u001b[32m0.0/58.0 kB\u001b[0m \u001b[31m?\u001b[0m eta \u001b[36m-:--:--\u001b[0m\r\u001b[2K     \u001b[90m━━━━━━━━━━━━━━━━━━━━━━━━━━━━━━━━━━━━━━━━\u001b[0m \u001b[32m58.0/58.0 kB\u001b[0m \u001b[31m4.3 MB/s\u001b[0m eta \u001b[36m0:00:00\u001b[0m\n",
            "\u001b[?25hCollecting portalocker (from sacrebleu)\n",
            "  Downloading portalocker-2.10.1-py3-none-any.whl.metadata (8.5 kB)\n",
            "Requirement already satisfied: regex in /usr/local/lib/python3.10/dist-packages (from sacrebleu) (2024.5.15)\n",
            "Requirement already satisfied: tabulate>=0.8.9 in /usr/local/lib/python3.10/dist-packages (from sacrebleu) (0.9.0)\n",
            "Requirement already satisfied: numpy>=1.17 in /usr/local/lib/python3.10/dist-packages (from sacrebleu) (1.26.4)\n",
            "Collecting colorama (from sacrebleu)\n",
            "  Downloading colorama-0.4.6-py2.py3-none-any.whl.metadata (17 kB)\n",
            "Requirement already satisfied: lxml in /usr/local/lib/python3.10/dist-packages (from sacrebleu) (4.9.4)\n",
            "Downloading sacrebleu-2.4.2-py3-none-any.whl (106 kB)\n",
            "\u001b[2K   \u001b[90m━━━━━━━━━━━━━━━━━━━━━━━━━━━━━━━━━━━━━━━━\u001b[0m \u001b[32m106.7/106.7 kB\u001b[0m \u001b[31m9.0 MB/s\u001b[0m eta \u001b[36m0:00:00\u001b[0m\n",
            "\u001b[?25hDownloading colorama-0.4.6-py2.py3-none-any.whl (25 kB)\n",
            "Downloading portalocker-2.10.1-py3-none-any.whl (18 kB)\n",
            "Installing collected packages: portalocker, colorama, sacrebleu\n",
            "Successfully installed colorama-0.4.6 portalocker-2.10.1 sacrebleu-2.4.2\n"
          ]
        }
      ]
    },
    {
      "cell_type": "code",
      "source": [
        "import sacrebleu\n",
        "\n",
        "# 모델을 평가 모드로 설정\n",
        "model.eval()\n",
        "\n",
        "# 예측 및 참조 번역 수집\n",
        "predictions = []\n",
        "references = []\n",
        "\n",
        "with torch.no_grad():\n",
        "    for batch in tqdm(test_dataloader, desc=\"Evaluating\"):\n",
        "        # 모델에 데이터 전달\n",
        "        outputs = model.generate(\n",
        "            input_ids=batch['input_ids'],\n",
        "            attention_mask=batch['attention_mask'],\n",
        "            max_length=256,  # 적절한 max_length 설정\n",
        "            length_penalty=2.0,  # 번역 길이 조절\n",
        "            num_beams=4,  # 빔 서치의 수\n",
        "            early_stopping=True\n",
        "        )\n",
        "\n",
        "        # 예측 결과 디코딩\n",
        "        decoded_preds = tokenizer.batch_decode(outputs, skip_special_tokens=True)\n",
        "\n",
        "        # 실제 레이블 디코딩\n",
        "        decoded_labels = []\n",
        "        for label in batch['labels']:\n",
        "            # 패딩 토큰 ID 제외\n",
        "            label_ids = label[label != tokenizer.pad_token_id].tolist()\n",
        "            if label_ids:\n",
        "                try:\n",
        "                    decoded_label = tokenizer.decode(label_ids, skip_special_tokens=True)\n",
        "                except OverflowError:\n",
        "                    decoded_label = \"[UNK]\"  # Unknown token으로 처리\n",
        "                decoded_labels.append(decoded_label)\n",
        "            else:\n",
        "                decoded_labels.append('')  # 빈 문자열로 처리\n",
        "\n",
        "        # 예측 결과와 참조 번역 수집\n",
        "        predictions.extend(decoded_preds)\n",
        "        references.extend(decoded_labels)\n",
        "\n",
        "# BLEU 점수 계산\n",
        "bleu_score = sacrebleu.corpus_bleu(predictions, [references])\n",
        "print(f'BLEU score: {bleu_score.score:.4f}')\n"
      ],
      "metadata": {
        "id": "R96j_doRHR3G",
        "colab": {
          "base_uri": "https://localhost:8080/"
        },
        "outputId": "075cff32-2990-49a9-99fa-c522df4e7ae9"
      },
      "execution_count": 49,
      "outputs": [
        {
          "output_type": "stream",
          "name": "stderr",
          "text": [
            "Evaluating: 100%|██████████| 53/53 [00:53<00:00,  1.01s/it]"
          ]
        },
        {
          "output_type": "stream",
          "name": "stdout",
          "text": [
            "BLEU score: 30.8891\n"
          ]
        },
        {
          "output_type": "stream",
          "name": "stderr",
          "text": [
            "\n"
          ]
        }
      ]
    },
    {
      "cell_type": "code",
      "source": [
        "# 기본\n",
        "import torch\n",
        "\n",
        "def generate_translation(model, tokenizer, sentences, max_length=50):\n",
        "    model.eval()\n",
        "    translations = []\n",
        "    for sentence in sentences:\n",
        "        # 토큰화 및 텐서 변환\n",
        "        inputs = tokenizer(sentence, return_tensors='pt', truncation=True, padding='max_length', max_length=max_length)\n",
        "\n",
        "        # GPU가 사용 중이면 데이터를 GPU로 이동\n",
        "        input_ids = inputs['input_ids'].to(model.device)\n",
        "        attention_mask = inputs['attention_mask'].to(model.device)\n",
        "\n",
        "        # 모델에 데이터 전달\n",
        "        output_ids = model.generate(\n",
        "            input_ids=input_ids,\n",
        "            attention_mask=attention_mask,\n",
        "            max_length=max_length,\n",
        "            num_beams=5,  # Beam search 설정\n",
        "            early_stopping=True\n",
        "        )\n",
        "\n",
        "        # 디코딩\n",
        "        for output in output_ids:\n",
        "            translation = tokenizer.decode(output, skip_special_tokens=True)\n",
        "            translations.append(translation)\n",
        "\n",
        "    return translations"
      ],
      "metadata": {
        "id": "EJVZ8gJMM6Z4"
      },
      "execution_count": null,
      "outputs": []
    },
    {
      "cell_type": "code",
      "source": [
        "# 테스트 문장\n",
        "# test_sentences = [\"날씨 덥다 화 난다.\", \"지금 바쁘다 미래 연락.\"]\n",
        "test_sentences = [\"날씨 덥다 화 난다\", \"목 마르다 물 원하다\"]\n",
        "\n",
        "translations = generate_translation(model, tokenizer, test_sentences)\n",
        "print(translations)"
      ],
      "metadata": {
        "colab": {
          "base_uri": "https://localhost:8080/"
        },
        "id": "CKavPhDpK6wI",
        "outputId": "f191f845-23ef-47bc-9648-3c00f83e3100"
      },
      "execution_count": null,
      "outputs": [
        {
          "output_type": "stream",
          "name": "stdout",
          "text": [
            "['날씨가 더워서 화났다', '목 자주 마시고 싶어']\n"
          ]
        }
      ]
    },
    {
      "cell_type": "code",
      "source": [
        "# 앞 문장과 합성해서 뒷 문장 내용 추출\n",
        "\n",
        "def generate_translation(model, tokenizer, sentences, max_length=50):\n",
        "    model.eval()\n",
        "    translations = []\n",
        "\n",
        "    for i, sentence in enumerate(sentences):\n",
        "        if i > 0:\n",
        "            # 이전 번역된 문장을 참조하지 않고 현재 문장만 입력으로 사용\n",
        "            combined_sentence = sentences[i-1] + \" \" + sentence\n",
        "        else:\n",
        "            combined_sentence = sentence\n",
        "\n",
        "        # 토큰화 및 텐서 변환\n",
        "        inputs = tokenizer(combined_sentence, return_tensors='pt', truncation=True, padding='max_length', max_length=max_length)\n",
        "\n",
        "        # GPU가 사용 중이면 데이터를 GPU로 이동\n",
        "        input_ids = inputs['input_ids'].to(model.device)\n",
        "        attention_mask = inputs['attention_mask'].to(model.device)\n",
        "\n",
        "        # 모델에 데이터 전달\n",
        "        output_ids = model.generate(\n",
        "            input_ids=input_ids,\n",
        "            attention_mask=attention_mask,\n",
        "            max_length=max_length,\n",
        "            num_beams=5,  # Beam search 설정\n",
        "            early_stopping=True\n",
        "        )\n",
        "\n",
        "        # 디코딩\n",
        "        translation = tokenizer.decode(output_ids[0], skip_special_tokens=True)\n",
        "        translations.append(translation)\n",
        "\n",
        "    return translations"
      ],
      "metadata": {
        "id": "pcajXpGYKVbl"
      },
      "execution_count": null,
      "outputs": []
    },
    {
      "cell_type": "code",
      "source": [
        "# 테스트 문장\n",
        "test_sentences = [\"날씨 덥다 화 난다\", \"목 마르다 물 원하다\"]\n",
        "\n",
        "# 번역 결과 생성\n",
        "translations = generate_translation(model, tokenizer, test_sentences)\n",
        "print(translations)"
      ],
      "metadata": {
        "colab": {
          "base_uri": "https://localhost:8080/"
        },
        "id": "nKJt_oGtOmhx",
        "outputId": "6d018560-e953-453a-b36e-7ece6ee96b1c"
      },
      "execution_count": null,
      "outputs": [
        {
          "output_type": "stream",
          "name": "stdout",
          "text": [
            "['날씨가 더워서 화났다', '날씨가 더워서 목이 마르고 싶다']\n"
          ]
        }
      ]
    },
    {
      "cell_type": "code",
      "source": [
        "# context vector 고려해 문장 생성.. -> 해결 미 완료\n",
        "def generate_translation(model, tokenizer, sentences, max_length=50):\n",
        "    model.eval()\n",
        "    translations = []\n",
        "    context_vector = None\n",
        "\n",
        "    for sentence in sentences:\n",
        "        # 현재 문장만을 토큰화 및 텐서 변환\n",
        "        inputs = tokenizer(sentence, return_tensors='pt', truncation=True, padding='max_length', max_length=max_length)\n",
        "\n",
        "        # GPU가 사용 중이면 데이터를 GPU로 이동하고 Long 타입으로 변환\n",
        "        input_ids = inputs['input_ids'].to(model.device).long()\n",
        "        attention_mask = inputs['attention_mask'].to(model.device).long()\n",
        "\n",
        "        # 문맥 벡터가 있는 경우 이를 입력에 반영\n",
        "        if context_vector is not None:\n",
        "            # 문맥 벡터를 추가할 때, 크기를 맞추기 위해 적절히 변환\n",
        "            context_vector = context_vector.unsqueeze(1)  # [batch_size, 1, hidden_size]\n",
        "\n",
        "            # 문맥 벡터를 다음 문장의 시작으로 사용 (단일 벡터로 시작 부분을 교체)\n",
        "            input_ids = torch.cat([context_vector.squeeze(2).long(), input_ids[:, 1:]], dim=1)\n",
        "            attention_mask = torch.cat([torch.ones_like(context_vector.squeeze(2)), attention_mask[:, 1:]], dim=1)\n",
        "\n",
        "        # 모델에 데이터 전달\n",
        "        outputs = model(input_ids=input_ids, attention_mask=attention_mask)\n",
        "        context_vector = outputs.encoder_last_hidden_state[:, -1, :]  # 인코더의 마지막 히든 상태를 문맥 벡터로 사용\n",
        "\n",
        "        # 텍스트 생성\n",
        "        output_ids = model.generate(\n",
        "            input_ids=input_ids,\n",
        "            attention_mask=attention_mask,\n",
        "            max_length=max_length,\n",
        "            num_beams=5,  # Beam search 설정\n",
        "            early_stopping=True\n",
        "        )\n",
        "\n",
        "        # 디코딩\n",
        "        translation = tokenizer.decode(output_ids[0], skip_special_tokens=True)\n",
        "        translations.append(translation)\n",
        "\n",
        "    return translations"
      ],
      "metadata": {
        "id": "s7dNPSYTJ09V"
      },
      "execution_count": null,
      "outputs": []
    },
    {
      "cell_type": "code",
      "source": [
        "# 테스트 문장\n",
        "test_sentences = [\"날씨 덥다 화 난다\", \"목 마르다 물 원하다\"]\n",
        "\n",
        "# 번역 결과 생성\n",
        "translations = generate_translation(model, tokenizer, test_sentences)\n",
        "print(translations)"
      ],
      "metadata": {
        "colab": {
          "base_uri": "https://localhost:8080/",
          "height": 325
        },
        "id": "t5ki5SKjLxh8",
        "outputId": "67b41909-8aad-447c-9880-8d298715c870"
      },
      "execution_count": null,
      "outputs": [
        {
          "output_type": "error",
          "ename": "RuntimeError",
          "evalue": "Tensors must have same number of dimensions: got 3 and 2",
          "traceback": [
            "\u001b[0;31m---------------------------------------------------------------------------\u001b[0m",
            "\u001b[0;31mRuntimeError\u001b[0m                              Traceback (most recent call last)",
            "\u001b[0;32m<ipython-input-48-fa6ffdfcc867>\u001b[0m in \u001b[0;36m<cell line: 5>\u001b[0;34m()\u001b[0m\n\u001b[1;32m      3\u001b[0m \u001b[0;34m\u001b[0m\u001b[0m\n\u001b[1;32m      4\u001b[0m \u001b[0;31m# 번역 결과 생성\u001b[0m\u001b[0;34m\u001b[0m\u001b[0;34m\u001b[0m\u001b[0m\n\u001b[0;32m----> 5\u001b[0;31m \u001b[0mtranslations\u001b[0m \u001b[0;34m=\u001b[0m \u001b[0mgenerate_translation\u001b[0m\u001b[0;34m(\u001b[0m\u001b[0mmodel\u001b[0m\u001b[0;34m,\u001b[0m \u001b[0mtokenizer\u001b[0m\u001b[0;34m,\u001b[0m \u001b[0mtest_sentences\u001b[0m\u001b[0;34m)\u001b[0m\u001b[0;34m\u001b[0m\u001b[0;34m\u001b[0m\u001b[0m\n\u001b[0m\u001b[1;32m      6\u001b[0m \u001b[0mprint\u001b[0m\u001b[0;34m(\u001b[0m\u001b[0mtranslations\u001b[0m\u001b[0;34m)\u001b[0m\u001b[0;34m\u001b[0m\u001b[0;34m\u001b[0m\u001b[0m\n",
            "\u001b[0;32m<ipython-input-47-ba1d8c2cc71e>\u001b[0m in \u001b[0;36mgenerate_translation\u001b[0;34m(model, tokenizer, sentences, max_length)\u001b[0m\n\u001b[1;32m     18\u001b[0m \u001b[0;34m\u001b[0m\u001b[0m\n\u001b[1;32m     19\u001b[0m             \u001b[0;31m# 문맥 벡터를 다음 문장의 시작으로 사용 (단일 벡터로 시작 부분을 교체)\u001b[0m\u001b[0;34m\u001b[0m\u001b[0;34m\u001b[0m\u001b[0m\n\u001b[0;32m---> 20\u001b[0;31m             \u001b[0minput_ids\u001b[0m \u001b[0;34m=\u001b[0m \u001b[0mtorch\u001b[0m\u001b[0;34m.\u001b[0m\u001b[0mcat\u001b[0m\u001b[0;34m(\u001b[0m\u001b[0;34m[\u001b[0m\u001b[0mcontext_vector\u001b[0m\u001b[0;34m.\u001b[0m\u001b[0msqueeze\u001b[0m\u001b[0;34m(\u001b[0m\u001b[0;36m2\u001b[0m\u001b[0;34m)\u001b[0m\u001b[0;34m.\u001b[0m\u001b[0mlong\u001b[0m\u001b[0;34m(\u001b[0m\u001b[0;34m)\u001b[0m\u001b[0;34m,\u001b[0m \u001b[0minput_ids\u001b[0m\u001b[0;34m[\u001b[0m\u001b[0;34m:\u001b[0m\u001b[0;34m,\u001b[0m \u001b[0;36m1\u001b[0m\u001b[0;34m:\u001b[0m\u001b[0;34m]\u001b[0m\u001b[0;34m]\u001b[0m\u001b[0;34m,\u001b[0m \u001b[0mdim\u001b[0m\u001b[0;34m=\u001b[0m\u001b[0;36m1\u001b[0m\u001b[0;34m)\u001b[0m\u001b[0;34m\u001b[0m\u001b[0;34m\u001b[0m\u001b[0m\n\u001b[0m\u001b[1;32m     21\u001b[0m             \u001b[0mattention_mask\u001b[0m \u001b[0;34m=\u001b[0m \u001b[0mtorch\u001b[0m\u001b[0;34m.\u001b[0m\u001b[0mcat\u001b[0m\u001b[0;34m(\u001b[0m\u001b[0;34m[\u001b[0m\u001b[0mtorch\u001b[0m\u001b[0;34m.\u001b[0m\u001b[0mones_like\u001b[0m\u001b[0;34m(\u001b[0m\u001b[0mcontext_vector\u001b[0m\u001b[0;34m.\u001b[0m\u001b[0msqueeze\u001b[0m\u001b[0;34m(\u001b[0m\u001b[0;36m2\u001b[0m\u001b[0;34m)\u001b[0m\u001b[0;34m)\u001b[0m\u001b[0;34m,\u001b[0m \u001b[0mattention_mask\u001b[0m\u001b[0;34m[\u001b[0m\u001b[0;34m:\u001b[0m\u001b[0;34m,\u001b[0m \u001b[0;36m1\u001b[0m\u001b[0;34m:\u001b[0m\u001b[0;34m]\u001b[0m\u001b[0;34m]\u001b[0m\u001b[0;34m,\u001b[0m \u001b[0mdim\u001b[0m\u001b[0;34m=\u001b[0m\u001b[0;36m1\u001b[0m\u001b[0;34m)\u001b[0m\u001b[0;34m\u001b[0m\u001b[0;34m\u001b[0m\u001b[0m\n\u001b[1;32m     22\u001b[0m \u001b[0;34m\u001b[0m\u001b[0m\n",
            "\u001b[0;31mRuntimeError\u001b[0m: Tensors must have same number of dimensions: got 3 and 2"
          ]
        }
      ]
    },
    {
      "cell_type": "code",
      "source": [],
      "metadata": {
        "id": "z9oNihfKNBsn"
      },
      "execution_count": null,
      "outputs": []
    }
  ]
}