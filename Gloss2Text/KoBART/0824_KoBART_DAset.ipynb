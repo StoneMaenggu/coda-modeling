{
  "cells": [
    {
      "cell_type": "markdown",
      "metadata": {
        "id": "N5_Fu4UyoO-Y"
      },
      "source": [
        "# KoBART Basline Train - 8K\n",
        "- GKSL 8K\n",
        "- 모듈에서 불러오는 모델 아니고 huggingface에서 불러와서 적용\n",
        "- 일반적 tokenizer말고 BART에 최적화된 토크나이저 불러옴\n",
        "\n",
        "https://huggingface.co/hyunwoongko/kobart"
      ]
    },
    {
      "cell_type": "markdown",
      "metadata": {
        "id": "-ryfD3YEGjdb"
      },
      "source": [
        "## 0. 라이브러리 및 데이터 불러오기"
      ]
    },
    {
      "cell_type": "code",
      "execution_count": 1,
      "metadata": {},
      "outputs": [
        {
          "name": "stdout",
          "output_type": "stream",
          "text": [
            "Requirement already satisfied: sacrebleu in /home/stonemaeng/anaconda3/envs/g2t/lib/python3.12/site-packages (2.4.2)\n",
            "Requirement already satisfied: portalocker in /home/stonemaeng/anaconda3/envs/g2t/lib/python3.12/site-packages (from sacrebleu) (2.10.1)\n",
            "Requirement already satisfied: regex in /home/stonemaeng/anaconda3/envs/g2t/lib/python3.12/site-packages (from sacrebleu) (2024.7.24)\n",
            "Requirement already satisfied: tabulate>=0.8.9 in /home/stonemaeng/anaconda3/envs/g2t/lib/python3.12/site-packages (from sacrebleu) (0.9.0)\n",
            "Requirement already satisfied: numpy>=1.17 in /home/stonemaeng/anaconda3/envs/g2t/lib/python3.12/site-packages (from sacrebleu) (1.26.4)\n",
            "Requirement already satisfied: colorama in /home/stonemaeng/anaconda3/envs/g2t/lib/python3.12/site-packages (from sacrebleu) (0.4.6)\n",
            "Requirement already satisfied: lxml in /home/stonemaeng/anaconda3/envs/g2t/lib/python3.12/site-packages (from sacrebleu) (5.3.0)\n"
          ]
        }
      ],
      "source": [
        "!pip install sacrebleu"
      ]
    },
    {
      "cell_type": "code",
      "execution_count": 2,
      "metadata": {
        "id": "Jy7Ha3i5msBr"
      },
      "outputs": [],
      "source": [
        "import numpy as np\n",
        "import pandas as pd\n",
        "from torch.utils.data import Dataset, DataLoader\n",
        "import torch\n",
        "import torch.optim as optim\n",
        "\n",
        "#from google.colab import drive\n",
        "#drive.mount('/content/drive')"
      ]
    },
    {
      "cell_type": "code",
      "execution_count": 3,
      "metadata": {},
      "outputs": [],
      "source": [
        "if torch.cuda.is_available():\n",
        "    device = torch.device(\"cuda:0\")\n",
        "else:\n",
        "    device = torch.device('cpu')"
      ]
    },
    {
      "cell_type": "code",
      "execution_count": 4,
      "metadata": {
        "colab": {
          "base_uri": "https://localhost:8080/"
        },
        "id": "6yR7fX0aA3eD",
        "outputId": "c668947e-c04d-4b6d-8d26-e8eb3aaf0a8d"
      },
      "outputs": [
        {
          "name": "stderr",
          "output_type": "stream",
          "text": [
            "/home/stonemaeng/anaconda3/envs/g2t/lib/python3.12/site-packages/transformers/tokenization_utils_base.py:1601: FutureWarning: `clean_up_tokenization_spaces` was not set. It will be set to `True` by default. This behavior will be depracted in transformers v4.45, and will be then set to `False` by default. For more details check this issue: https://github.com/huggingface/transformers/issues/31884\n",
            "  warnings.warn(\n",
            "You passed along `num_labels=3` with an incompatible id to label map: {'0': 'NEGATIVE', '1': 'POSITIVE'}. The number of labels wil be overwritten to 2.\n"
          ]
        }
      ],
      "source": [
        "from transformers import PreTrainedTokenizerFast, BartForConditionalGeneration\n",
        "\n",
        "tokenizer = PreTrainedTokenizerFast.from_pretrained('hyunwoongko/kobart')\n",
        "model = BartForConditionalGeneration.from_pretrained(\"hyunwoongko/kobart\").to(device)"
      ]
    },
    {
      "cell_type": "code",
      "execution_count": 5,
      "metadata": {
        "colab": {
          "base_uri": "https://localhost:8080/"
        },
        "id": "iyzFaKwlVA2p",
        "outputId": "55e92843-b5d5-403a-8d44-b33e5ee1b228"
      },
      "outputs": [
        {
          "data": {
            "text/plain": [
              "BartConfig {\n",
              "  \"_name_or_path\": \"hyunwoongko/kobart\",\n",
              "  \"activation_dropout\": 0.0,\n",
              "  \"activation_function\": \"gelu\",\n",
              "  \"add_bias_logits\": false,\n",
              "  \"add_final_layer_norm\": false,\n",
              "  \"architectures\": [\n",
              "    \"BartForConditionalGeneration\"\n",
              "  ],\n",
              "  \"attention_dropout\": 0.0,\n",
              "  \"author\": \"Heewon Jeon(madjakarta@gmail.com)\",\n",
              "  \"bos_token_id\": 1,\n",
              "  \"classif_dropout\": 0.1,\n",
              "  \"classifier_dropout\": 0.1,\n",
              "  \"d_model\": 768,\n",
              "  \"decoder_attention_heads\": 16,\n",
              "  \"decoder_ffn_dim\": 3072,\n",
              "  \"decoder_layerdrop\": 0.0,\n",
              "  \"decoder_layers\": 6,\n",
              "  \"decoder_start_token_id\": 1,\n",
              "  \"do_blenderbot_90_layernorm\": false,\n",
              "  \"dropout\": 0.1,\n",
              "  \"encoder_attention_heads\": 16,\n",
              "  \"encoder_ffn_dim\": 3072,\n",
              "  \"encoder_layerdrop\": 0.0,\n",
              "  \"encoder_layers\": 6,\n",
              "  \"eos_token_id\": 1,\n",
              "  \"extra_pos_embeddings\": 2,\n",
              "  \"force_bos_token_to_be_generated\": false,\n",
              "  \"forced_eos_token_id\": 1,\n",
              "  \"gradient_checkpointing\": false,\n",
              "  \"id2label\": {\n",
              "    \"0\": \"NEGATIVE\",\n",
              "    \"1\": \"POSITIVE\"\n",
              "  },\n",
              "  \"init_std\": 0.02,\n",
              "  \"is_encoder_decoder\": true,\n",
              "  \"kobart_version\": 2.0,\n",
              "  \"label2id\": {\n",
              "    \"NEGATIVE\": 0,\n",
              "    \"POSITIVE\": 1\n",
              "  },\n",
              "  \"max_position_embeddings\": 1026,\n",
              "  \"model_type\": \"bart\",\n",
              "  \"normalize_before\": false,\n",
              "  \"normalize_embedding\": true,\n",
              "  \"num_hidden_layers\": 6,\n",
              "  \"pad_token_id\": 3,\n",
              "  \"scale_embedding\": false,\n",
              "  \"static_position_embeddings\": false,\n",
              "  \"tokenizer_class\": \"PreTrainedTokenizerFast\",\n",
              "  \"transformers_version\": \"4.44.1\",\n",
              "  \"use_cache\": true,\n",
              "  \"vocab_size\": 30000\n",
              "}"
            ]
          },
          "execution_count": 5,
          "metadata": {},
          "output_type": "execute_result"
        }
      ],
      "source": [
        "model.config"
      ]
    },
    {
      "cell_type": "code",
      "execution_count": 6,
      "metadata": {
        "colab": {
          "base_uri": "https://localhost:8080/"
        },
        "id": "cyP9ekXEVAzN",
        "outputId": "17a920c1-15c1-4e42-9e4d-39921933f9d8"
      },
      "outputs": [
        {
          "name": "stderr",
          "output_type": "stream",
          "text": [
            "/home/stonemaeng/anaconda3/envs/g2t/lib/python3.12/site-packages/transformers/generation/utils.py:1258: UserWarning: Using the model-agnostic default `max_length` (=20) to control the generation length. We recommend setting `max_new_tokens` to control the maximum length of the generation.\n",
            "  warnings.warn(\n"
          ]
        },
        {
          "data": {
            "text/plain": [
              "tensor([[    1, 15309, 15309, 15309, 15309, 15309, 15309, 15309, 15309, 15309,\n",
              "         15309, 15309, 15309, 15309, 15309, 15309, 15309, 15309, 15309,     1]],\n",
              "       device='cuda:0')"
            ]
          },
          "execution_count": 6,
          "metadata": {},
          "output_type": "execute_result"
        }
      ],
      "source": [
        "model.generate()"
      ]
    },
    {
      "cell_type": "code",
      "execution_count": 7,
      "metadata": {
        "colab": {
          "base_uri": "https://localhost:8080/"
        },
        "id": "zZwhrqvaVAve",
        "outputId": "6cfb76a1-d0c3-4446-b62c-7bd45a5da395"
      },
      "outputs": [
        {
          "data": {
            "text/plain": [
              "BartForConditionalGeneration(\n",
              "  (model): BartModel(\n",
              "    (shared): BartScaledWordEmbedding(30000, 768, padding_idx=3)\n",
              "    (encoder): BartEncoder(\n",
              "      (embed_tokens): BartScaledWordEmbedding(30000, 768, padding_idx=3)\n",
              "      (embed_positions): BartLearnedPositionalEmbedding(1028, 768)\n",
              "      (layers): ModuleList(\n",
              "        (0-5): 6 x BartEncoderLayer(\n",
              "          (self_attn): BartSdpaAttention(\n",
              "            (k_proj): Linear(in_features=768, out_features=768, bias=True)\n",
              "            (v_proj): Linear(in_features=768, out_features=768, bias=True)\n",
              "            (q_proj): Linear(in_features=768, out_features=768, bias=True)\n",
              "            (out_proj): Linear(in_features=768, out_features=768, bias=True)\n",
              "          )\n",
              "          (self_attn_layer_norm): LayerNorm((768,), eps=1e-05, elementwise_affine=True)\n",
              "          (activation_fn): GELUActivation()\n",
              "          (fc1): Linear(in_features=768, out_features=3072, bias=True)\n",
              "          (fc2): Linear(in_features=3072, out_features=768, bias=True)\n",
              "          (final_layer_norm): LayerNorm((768,), eps=1e-05, elementwise_affine=True)\n",
              "        )\n",
              "      )\n",
              "      (layernorm_embedding): LayerNorm((768,), eps=1e-05, elementwise_affine=True)\n",
              "    )\n",
              "    (decoder): BartDecoder(\n",
              "      (embed_tokens): BartScaledWordEmbedding(30000, 768, padding_idx=3)\n",
              "      (embed_positions): BartLearnedPositionalEmbedding(1028, 768)\n",
              "      (layers): ModuleList(\n",
              "        (0-5): 6 x BartDecoderLayer(\n",
              "          (self_attn): BartSdpaAttention(\n",
              "            (k_proj): Linear(in_features=768, out_features=768, bias=True)\n",
              "            (v_proj): Linear(in_features=768, out_features=768, bias=True)\n",
              "            (q_proj): Linear(in_features=768, out_features=768, bias=True)\n",
              "            (out_proj): Linear(in_features=768, out_features=768, bias=True)\n",
              "          )\n",
              "          (activation_fn): GELUActivation()\n",
              "          (self_attn_layer_norm): LayerNorm((768,), eps=1e-05, elementwise_affine=True)\n",
              "          (encoder_attn): BartSdpaAttention(\n",
              "            (k_proj): Linear(in_features=768, out_features=768, bias=True)\n",
              "            (v_proj): Linear(in_features=768, out_features=768, bias=True)\n",
              "            (q_proj): Linear(in_features=768, out_features=768, bias=True)\n",
              "            (out_proj): Linear(in_features=768, out_features=768, bias=True)\n",
              "          )\n",
              "          (encoder_attn_layer_norm): LayerNorm((768,), eps=1e-05, elementwise_affine=True)\n",
              "          (fc1): Linear(in_features=768, out_features=3072, bias=True)\n",
              "          (fc2): Linear(in_features=3072, out_features=768, bias=True)\n",
              "          (final_layer_norm): LayerNorm((768,), eps=1e-05, elementwise_affine=True)\n",
              "        )\n",
              "      )\n",
              "      (layernorm_embedding): LayerNorm((768,), eps=1e-05, elementwise_affine=True)\n",
              "    )\n",
              "  )\n",
              "  (lm_head): Linear(in_features=768, out_features=30000, bias=False)\n",
              ")"
            ]
          },
          "execution_count": 7,
          "metadata": {},
          "output_type": "execute_result"
        }
      ],
      "source": [
        "model"
      ]
    },
    {
      "cell_type": "markdown",
      "metadata": {
        "id": "QAEwynwH2X2H"
      },
      "source": [
        "### 데이터 불러오기"
      ]
    },
    {
      "cell_type": "code",
      "execution_count": 8,
      "metadata": {
        "colab": {
          "base_uri": "https://localhost:8080/",
          "height": 0
        },
        "id": "pVw5RoOvl3-j",
        "outputId": "34508817-8aae-418d-fbe8-d2722781104b"
      },
      "outputs": [
        {
          "data": {
            "text/html": [
              "<div>\n",
              "<style scoped>\n",
              "    .dataframe tbody tr th:only-of-type {\n",
              "        vertical-align: middle;\n",
              "    }\n",
              "\n",
              "    .dataframe tbody tr th {\n",
              "        vertical-align: top;\n",
              "    }\n",
              "\n",
              "    .dataframe thead th {\n",
              "        text-align: right;\n",
              "    }\n",
              "</style>\n",
              "<table border=\"1\" class=\"dataframe\">\n",
              "  <thead>\n",
              "    <tr style=\"text-align: right;\">\n",
              "      <th></th>\n",
              "      <th>augmentation_method</th>\n",
              "      <th>idx</th>\n",
              "      <th>gloss</th>\n",
              "      <th>text</th>\n",
              "    </tr>\n",
              "  </thead>\n",
              "  <tbody>\n",
              "    <tr>\n",
              "      <th>0</th>\n",
              "      <td>SR</td>\n",
              "      <td>1</td>\n",
              "      <td>집 불</td>\n",
              "      <td>댁에 불이 났어요.</td>\n",
              "    </tr>\n",
              "    <tr>\n",
              "      <th>1</th>\n",
              "      <td>SR</td>\n",
              "      <td>2</td>\n",
              "      <td>집 불</td>\n",
              "      <td>주택에 불이 났어요.</td>\n",
              "    </tr>\n",
              "    <tr>\n",
              "      <th>2</th>\n",
              "      <td>SR</td>\n",
              "      <td>3</td>\n",
              "      <td>집 불</td>\n",
              "      <td>가옥에 불이 났어요.</td>\n",
              "    </tr>\n",
              "    <tr>\n",
              "      <th>3</th>\n",
              "      <td>SR</td>\n",
              "      <td>4</td>\n",
              "      <td>집 불</td>\n",
              "      <td>세대에 불이 났어요.</td>\n",
              "    </tr>\n",
              "    <tr>\n",
              "      <th>4</th>\n",
              "      <td>SR</td>\n",
              "      <td>5</td>\n",
              "      <td>도착 10분 전</td>\n",
              "      <td>10분 내로 당도합니다.</td>\n",
              "    </tr>\n",
              "    <tr>\n",
              "      <th>5</th>\n",
              "      <td>SR</td>\n",
              "      <td>6</td>\n",
              "      <td>도착 10분</td>\n",
              "      <td>10분 뒤에 당도합니다.</td>\n",
              "    </tr>\n",
              "    <tr>\n",
              "      <th>6</th>\n",
              "      <td>SR</td>\n",
              "      <td>7</td>\n",
              "      <td>도착 1시간 전</td>\n",
              "      <td>1시간 내로 당도합니다.</td>\n",
              "    </tr>\n",
              "    <tr>\n",
              "      <th>7</th>\n",
              "      <td>SR</td>\n",
              "      <td>8</td>\n",
              "      <td>도착 1시</td>\n",
              "      <td>1시에 당도합니다.</td>\n",
              "    </tr>\n",
              "    <tr>\n",
              "      <th>8</th>\n",
              "      <td>SR</td>\n",
              "      <td>9</td>\n",
              "      <td>1호 갈아타다 목적 곳곳</td>\n",
              "      <td>1호선 환승하는 위치는 어디인가요?</td>\n",
              "    </tr>\n",
              "    <tr>\n",
              "      <th>9</th>\n",
              "      <td>SR</td>\n",
              "      <td>10</td>\n",
              "      <td>1호 갈아타다 목적 곳곳</td>\n",
              "      <td>1호선 환승하는 장소는 어디인가요?</td>\n",
              "    </tr>\n",
              "    <tr>\n",
              "      <th>10</th>\n",
              "      <td>SR</td>\n",
              "      <td>11</td>\n",
              "      <td>1호 곳 무엇</td>\n",
              "      <td>1호선을 타는 위치는 어디인가요?</td>\n",
              "    </tr>\n",
              "    <tr>\n",
              "      <th>11</th>\n",
              "      <td>SR</td>\n",
              "      <td>12</td>\n",
              "      <td>1호 곳 무엇</td>\n",
              "      <td>1호선을 타는 장소은 어디인가요?</td>\n",
              "    </tr>\n",
              "    <tr>\n",
              "      <th>12</th>\n",
              "      <td>SR</td>\n",
              "      <td>13</td>\n",
              "      <td>2016 새롭다 날 시작</td>\n",
              "      <td>2016년, 새해가 출발한다</td>\n",
              "    </tr>\n",
              "    <tr>\n",
              "      <th>13</th>\n",
              "      <td>SR</td>\n",
              "      <td>14</td>\n",
              "      <td>도착 3시</td>\n",
              "      <td>3시에 당도합니다.</td>\n",
              "    </tr>\n",
              "    <tr>\n",
              "      <th>14</th>\n",
              "      <td>SR</td>\n",
              "      <td>15</td>\n",
              "      <td>8호 곳곳</td>\n",
              "      <td>8호선 타는 위치는 어디에 있나요?</td>\n",
              "    </tr>\n",
              "    <tr>\n",
              "      <th>15</th>\n",
              "      <td>SR</td>\n",
              "      <td>16</td>\n",
              "      <td>8호 곳곳</td>\n",
              "      <td>8호선 타는 장소는 어디에 있나요?</td>\n",
              "    </tr>\n",
              "    <tr>\n",
              "      <th>16</th>\n",
              "      <td>SR</td>\n",
              "      <td>17</td>\n",
              "      <td>9호 곳곳</td>\n",
              "      <td>9호선 타는 위치는 어디에 있나요?</td>\n",
              "    </tr>\n",
              "    <tr>\n",
              "      <th>17</th>\n",
              "      <td>SR</td>\n",
              "      <td>18</td>\n",
              "      <td>9호 곳곳</td>\n",
              "      <td>9호선 타는 장소는 어디에 있나요?</td>\n",
              "    </tr>\n",
              "    <tr>\n",
              "      <th>18</th>\n",
              "      <td>SR</td>\n",
              "      <td>19</td>\n",
              "      <td>9호 갈아타다 목적 곳곳</td>\n",
              "      <td>9호선 환승하는 위치는 어디인가요?</td>\n",
              "    </tr>\n",
              "    <tr>\n",
              "      <th>19</th>\n",
              "      <td>SR</td>\n",
              "      <td>20</td>\n",
              "      <td>9호 갈아타다 목적 곳곳</td>\n",
              "      <td>9호선 환승하는 장소는 어디인가요?</td>\n",
              "    </tr>\n",
              "    <tr>\n",
              "      <th>20</th>\n",
              "      <td>SR</td>\n",
              "      <td>21</td>\n",
              "      <td>정보  묻다  곳  가다  부탁</td>\n",
              "      <td>가까운 인솔 데스크를 이용해 주시기 바랍니다.</td>\n",
              "    </tr>\n",
              "    <tr>\n",
              "      <th>21</th>\n",
              "      <td>SR</td>\n",
              "      <td>22</td>\n",
              "      <td>제일  가깝다  곳  찾다  드리다</td>\n",
              "      <td>가장 가까운 위치로 검색해드리겠습니다.</td>\n",
              "    </tr>\n",
              "    <tr>\n",
              "      <th>22</th>\n",
              "      <td>SR</td>\n",
              "      <td>23</td>\n",
              "      <td>제일  가깝다  곳  찾다  드리다</td>\n",
              "      <td>가장 가까운 장소로 검색해드리겠습니다.</td>\n",
              "    </tr>\n",
              "    <tr>\n",
              "      <th>23</th>\n",
              "      <td>SR</td>\n",
              "      <td>24</td>\n",
              "      <td>제일  가깝다  곳  찾다  드리다</td>\n",
              "      <td>가장 가까운 처소로 검색해드리겠습니다.</td>\n",
              "    </tr>\n",
              "    <tr>\n",
              "      <th>24</th>\n",
              "      <td>SR</td>\n",
              "      <td>25</td>\n",
              "      <td>가다 빨리 방법</td>\n",
              "      <td>가장 빠른 길은 어디일까요?</td>\n",
              "    </tr>\n",
              "    <tr>\n",
              "      <th>25</th>\n",
              "      <td>SR</td>\n",
              "      <td>26</td>\n",
              "      <td>갈아타다 곳 맞다</td>\n",
              "      <td>갈아타는 위치가 맞습니다.</td>\n",
              "    </tr>\n",
              "    <tr>\n",
              "      <th>26</th>\n",
              "      <td>SR</td>\n",
              "      <td>27</td>\n",
              "      <td>갈아타다 곳 맞다</td>\n",
              "      <td>갈아타는 장소가 맞습니다.</td>\n",
              "    </tr>\n",
              "    <tr>\n",
              "      <th>27</th>\n",
              "      <td>SR</td>\n",
              "      <td>28</td>\n",
              "      <td>개 집 지키다 유명하다</td>\n",
              "      <td>개는 주택을 잘 지키는 동물로 알려져 있다</td>\n",
              "    </tr>\n",
              "    <tr>\n",
              "      <th>28</th>\n",
              "      <td>SR</td>\n",
              "      <td>29</td>\n",
              "      <td>개 집 지키다 유명하다</td>\n",
              "      <td>개는 가옥을 잘 지키는 동물로 알려져 있다</td>\n",
              "    </tr>\n",
              "    <tr>\n",
              "      <th>29</th>\n",
              "      <td>SR</td>\n",
              "      <td>30</td>\n",
              "      <td>건강 돌보다</td>\n",
              "      <td>기력을 돌보다</td>\n",
              "    </tr>\n",
              "  </tbody>\n",
              "</table>\n",
              "</div>"
            ],
            "text/plain": [
              "   augmentation_method  idx                gloss                       text\n",
              "0                   SR    1                  집 불                 댁에 불이 났어요.\n",
              "1                   SR    2                  집 불                주택에 불이 났어요.\n",
              "2                   SR    3                  집 불                가옥에 불이 났어요.\n",
              "3                   SR    4                  집 불                세대에 불이 났어요.\n",
              "4                   SR    5             도착 10분 전              10분 내로 당도합니다.\n",
              "5                   SR    6               도착 10분              10분 뒤에 당도합니다.\n",
              "6                   SR    7             도착 1시간 전              1시간 내로 당도합니다.\n",
              "7                   SR    8                도착 1시                 1시에 당도합니다.\n",
              "8                   SR    9        1호 갈아타다 목적 곳곳        1호선 환승하는 위치는 어디인가요?\n",
              "9                   SR   10        1호 갈아타다 목적 곳곳        1호선 환승하는 장소는 어디인가요?\n",
              "10                  SR   11              1호 곳 무엇         1호선을 타는 위치는 어디인가요?\n",
              "11                  SR   12              1호 곳 무엇         1호선을 타는 장소은 어디인가요?\n",
              "12                  SR   13        2016 새롭다 날 시작            2016년, 새해가 출발한다\n",
              "13                  SR   14                도착 3시                 3시에 당도합니다.\n",
              "14                  SR   15                8호 곳곳        8호선 타는 위치는 어디에 있나요?\n",
              "15                  SR   16                8호 곳곳        8호선 타는 장소는 어디에 있나요?\n",
              "16                  SR   17                9호 곳곳        9호선 타는 위치는 어디에 있나요?\n",
              "17                  SR   18                9호 곳곳        9호선 타는 장소는 어디에 있나요?\n",
              "18                  SR   19        9호 갈아타다 목적 곳곳        9호선 환승하는 위치는 어디인가요?\n",
              "19                  SR   20        9호 갈아타다 목적 곳곳        9호선 환승하는 장소는 어디인가요?\n",
              "20                  SR   21    정보  묻다  곳  가다  부탁  가까운 인솔 데스크를 이용해 주시기 바랍니다.\n",
              "21                  SR   22  제일  가깝다  곳  찾다  드리다      가장 가까운 위치로 검색해드리겠습니다.\n",
              "22                  SR   23  제일  가깝다  곳  찾다  드리다      가장 가까운 장소로 검색해드리겠습니다.\n",
              "23                  SR   24  제일  가깝다  곳  찾다  드리다      가장 가까운 처소로 검색해드리겠습니다.\n",
              "24                  SR   25             가다 빨리 방법            가장 빠른 길은 어디일까요?\n",
              "25                  SR   26            갈아타다 곳 맞다             갈아타는 위치가 맞습니다.\n",
              "26                  SR   27            갈아타다 곳 맞다             갈아타는 장소가 맞습니다.\n",
              "27                  SR   28         개 집 지키다 유명하다    개는 주택을 잘 지키는 동물로 알려져 있다\n",
              "28                  SR   29         개 집 지키다 유명하다    개는 가옥을 잘 지키는 동물로 알려져 있다\n",
              "29                  SR   30               건강 돌보다                    기력을 돌보다"
            ]
          },
          "execution_count": 8,
          "metadata": {},
          "output_type": "execute_result"
        }
      ],
      "source": [
        "df = pd.read_csv('https://raw.githubusercontent.com/AIRC-KETI/GKSL-dataset/main/dataset/GKSL13k_augmented.csv')\n",
        "df.columns = ['augmentation_method', 'idx', 'gloss', 'text']\n",
        "df.head(30)"
      ]
    },
    {
      "cell_type": "markdown",
      "metadata": {
        "id": "jHu_KhUYGnO2"
      },
      "source": [
        "## 1. 데이터 파악"
      ]
    },
    {
      "cell_type": "code",
      "execution_count": 9,
      "metadata": {
        "colab": {
          "base_uri": "https://localhost:8080/"
        },
        "id": "Dp9d8iid-_9c",
        "outputId": "3135ee35-d0f3-468d-e387-8aba0667e739"
      },
      "outputs": [
        {
          "data": {
            "text/plain": [
              "(13047, 11345, 8451)"
            ]
          },
          "execution_count": 9,
          "metadata": {},
          "output_type": "execute_result"
        }
      ],
      "source": [
        "len(df), len(df.gloss.unique()), len(df.text.unique())"
      ]
    },
    {
      "cell_type": "code",
      "execution_count": 10,
      "metadata": {
        "colab": {
          "base_uri": "https://localhost:8080/"
        },
        "id": "vIBr4w0SGOhM",
        "outputId": "245dc49c-9c8e-4310-e91e-09f7cc1d683d"
      },
      "outputs": [
        {
          "name": "stdout",
          "output_type": "stream",
          "text": [
            "SR : 899\n",
            "SP : 1494\n",
            "BR : 10654\n"
          ]
        }
      ],
      "source": [
        "for i in df.augmentation_method.unique():\n",
        "  print(i, ':', len(df[df.augmentation_method==i]))"
      ]
    },
    {
      "cell_type": "code",
      "execution_count": 11,
      "metadata": {
        "colab": {
          "base_uri": "https://localhost:8080/",
          "height": 0
        },
        "id": "4I4-O0U6Ykby",
        "outputId": "f96e4245-18c9-4efe-96e9-9d4e23c099bf"
      },
      "outputs": [
        {
          "name": "stdout",
          "output_type": "stream",
          "text": [
            "0.6439028129071818\n"
          ]
        },
        {
          "name": "stderr",
          "output_type": "stream",
          "text": [
            "<>:2: SyntaxWarning: invalid escape sequence '\\?'\n",
            "<>:3: SyntaxWarning: invalid escape sequence '\\?'\n",
            "<>:2: SyntaxWarning: invalid escape sequence '\\?'\n",
            "<>:3: SyntaxWarning: invalid escape sequence '\\?'\n",
            "/tmp/ipykernel_9940/1118718847.py:2: SyntaxWarning: invalid escape sequence '\\?'\n",
            "  print(len(df[~df['text'].str.contains('\\?')])/len(df)) # 절반 이상 날라감\n",
            "/tmp/ipykernel_9940/1118718847.py:3: SyntaxWarning: invalid escape sequence '\\?'\n",
            "  df[~df['text'].str.contains('\\?')].head(10)\n"
          ]
        },
        {
          "data": {
            "text/html": [
              "<div>\n",
              "<style scoped>\n",
              "    .dataframe tbody tr th:only-of-type {\n",
              "        vertical-align: middle;\n",
              "    }\n",
              "\n",
              "    .dataframe tbody tr th {\n",
              "        vertical-align: top;\n",
              "    }\n",
              "\n",
              "    .dataframe thead th {\n",
              "        text-align: right;\n",
              "    }\n",
              "</style>\n",
              "<table border=\"1\" class=\"dataframe\">\n",
              "  <thead>\n",
              "    <tr style=\"text-align: right;\">\n",
              "      <th></th>\n",
              "      <th>augmentation_method</th>\n",
              "      <th>idx</th>\n",
              "      <th>gloss</th>\n",
              "      <th>text</th>\n",
              "    </tr>\n",
              "  </thead>\n",
              "  <tbody>\n",
              "    <tr>\n",
              "      <th>0</th>\n",
              "      <td>SR</td>\n",
              "      <td>1</td>\n",
              "      <td>집 불</td>\n",
              "      <td>댁에 불이 났어요.</td>\n",
              "    </tr>\n",
              "    <tr>\n",
              "      <th>1</th>\n",
              "      <td>SR</td>\n",
              "      <td>2</td>\n",
              "      <td>집 불</td>\n",
              "      <td>주택에 불이 났어요.</td>\n",
              "    </tr>\n",
              "    <tr>\n",
              "      <th>2</th>\n",
              "      <td>SR</td>\n",
              "      <td>3</td>\n",
              "      <td>집 불</td>\n",
              "      <td>가옥에 불이 났어요.</td>\n",
              "    </tr>\n",
              "    <tr>\n",
              "      <th>3</th>\n",
              "      <td>SR</td>\n",
              "      <td>4</td>\n",
              "      <td>집 불</td>\n",
              "      <td>세대에 불이 났어요.</td>\n",
              "    </tr>\n",
              "    <tr>\n",
              "      <th>4</th>\n",
              "      <td>SR</td>\n",
              "      <td>5</td>\n",
              "      <td>도착 10분 전</td>\n",
              "      <td>10분 내로 당도합니다.</td>\n",
              "    </tr>\n",
              "    <tr>\n",
              "      <th>5</th>\n",
              "      <td>SR</td>\n",
              "      <td>6</td>\n",
              "      <td>도착 10분</td>\n",
              "      <td>10분 뒤에 당도합니다.</td>\n",
              "    </tr>\n",
              "    <tr>\n",
              "      <th>6</th>\n",
              "      <td>SR</td>\n",
              "      <td>7</td>\n",
              "      <td>도착 1시간 전</td>\n",
              "      <td>1시간 내로 당도합니다.</td>\n",
              "    </tr>\n",
              "    <tr>\n",
              "      <th>7</th>\n",
              "      <td>SR</td>\n",
              "      <td>8</td>\n",
              "      <td>도착 1시</td>\n",
              "      <td>1시에 당도합니다.</td>\n",
              "    </tr>\n",
              "    <tr>\n",
              "      <th>12</th>\n",
              "      <td>SR</td>\n",
              "      <td>13</td>\n",
              "      <td>2016 새롭다 날 시작</td>\n",
              "      <td>2016년, 새해가 출발한다</td>\n",
              "    </tr>\n",
              "    <tr>\n",
              "      <th>13</th>\n",
              "      <td>SR</td>\n",
              "      <td>14</td>\n",
              "      <td>도착 3시</td>\n",
              "      <td>3시에 당도합니다.</td>\n",
              "    </tr>\n",
              "  </tbody>\n",
              "</table>\n",
              "</div>"
            ],
            "text/plain": [
              "   augmentation_method  idx          gloss             text\n",
              "0                   SR    1            집 불       댁에 불이 났어요.\n",
              "1                   SR    2            집 불      주택에 불이 났어요.\n",
              "2                   SR    3            집 불      가옥에 불이 났어요.\n",
              "3                   SR    4            집 불      세대에 불이 났어요.\n",
              "4                   SR    5       도착 10분 전    10분 내로 당도합니다.\n",
              "5                   SR    6         도착 10분    10분 뒤에 당도합니다.\n",
              "6                   SR    7       도착 1시간 전    1시간 내로 당도합니다.\n",
              "7                   SR    8          도착 1시       1시에 당도합니다.\n",
              "12                  SR   13  2016 새롭다 날 시작  2016년, 새해가 출발한다\n",
              "13                  SR   14          도착 3시       3시에 당도합니다."
            ]
          },
          "execution_count": 11,
          "metadata": {},
          "output_type": "execute_result"
        }
      ],
      "source": [
        "# '?'가 포함된 행 제거\n",
        "print(len(df[~df['text'].str.contains('\\?')])/len(df)) # 절반 이상 날라감\n",
        "df[~df['text'].str.contains('\\?')].head(10)"
      ]
    },
    {
      "cell_type": "markdown",
      "metadata": {
        "id": "1rpIcGTC5WhA"
      },
      "source": [
        "### 데이터 전처리"
      ]
    },
    {
      "cell_type": "code",
      "execution_count": 12,
      "metadata": {
        "colab": {
          "base_uri": "https://localhost:8080/",
          "height": 0
        },
        "id": "Gf5kwO2LG3r_",
        "outputId": "312ef315-2131-4c39-8fe1-c0e24f55accd"
      },
      "outputs": [
        {
          "name": "stderr",
          "output_type": "stream",
          "text": [
            "<>:1: SyntaxWarning: invalid escape sequence '\\?'\n",
            "<>:1: SyntaxWarning: invalid escape sequence '\\?'\n",
            "/tmp/ipykernel_9940/123297376.py:1: SyntaxWarning: invalid escape sequence '\\?'\n",
            "  df = df[~df['text'].str.contains('\\?')]\n"
          ]
        },
        {
          "data": {
            "text/html": [
              "<div>\n",
              "<style scoped>\n",
              "    .dataframe tbody tr th:only-of-type {\n",
              "        vertical-align: middle;\n",
              "    }\n",
              "\n",
              "    .dataframe tbody tr th {\n",
              "        vertical-align: top;\n",
              "    }\n",
              "\n",
              "    .dataframe thead th {\n",
              "        text-align: right;\n",
              "    }\n",
              "</style>\n",
              "<table border=\"1\" class=\"dataframe\">\n",
              "  <thead>\n",
              "    <tr style=\"text-align: right;\">\n",
              "      <th></th>\n",
              "      <th>gloss</th>\n",
              "      <th>text</th>\n",
              "    </tr>\n",
              "  </thead>\n",
              "  <tbody>\n",
              "    <tr>\n",
              "      <th>0</th>\n",
              "      <td>집 불</td>\n",
              "      <td>댁에 불이 났어요.</td>\n",
              "    </tr>\n",
              "    <tr>\n",
              "      <th>1</th>\n",
              "      <td>집 불</td>\n",
              "      <td>주택에 불이 났어요.</td>\n",
              "    </tr>\n",
              "    <tr>\n",
              "      <th>2</th>\n",
              "      <td>집 불</td>\n",
              "      <td>가옥에 불이 났어요.</td>\n",
              "    </tr>\n",
              "    <tr>\n",
              "      <th>3</th>\n",
              "      <td>집 불</td>\n",
              "      <td>세대에 불이 났어요.</td>\n",
              "    </tr>\n",
              "    <tr>\n",
              "      <th>4</th>\n",
              "      <td>도착 10분 전</td>\n",
              "      <td>10분 내로 당도합니다.</td>\n",
              "    </tr>\n",
              "    <tr>\n",
              "      <th>5</th>\n",
              "      <td>도착 10분</td>\n",
              "      <td>10분 뒤에 당도합니다.</td>\n",
              "    </tr>\n",
              "    <tr>\n",
              "      <th>6</th>\n",
              "      <td>도착 1시간 전</td>\n",
              "      <td>1시간 내로 당도합니다.</td>\n",
              "    </tr>\n",
              "    <tr>\n",
              "      <th>7</th>\n",
              "      <td>도착 1시</td>\n",
              "      <td>1시에 당도합니다.</td>\n",
              "    </tr>\n",
              "    <tr>\n",
              "      <th>12</th>\n",
              "      <td>2016 새롭다 날 시작</td>\n",
              "      <td>2016년, 새해가 출발한다</td>\n",
              "    </tr>\n",
              "    <tr>\n",
              "      <th>13</th>\n",
              "      <td>도착 3시</td>\n",
              "      <td>3시에 당도합니다.</td>\n",
              "    </tr>\n",
              "    <tr>\n",
              "      <th>20</th>\n",
              "      <td>정보  묻다  곳  가다  부탁</td>\n",
              "      <td>가까운 인솔 데스크를 이용해 주시기 바랍니다.</td>\n",
              "    </tr>\n",
              "    <tr>\n",
              "      <th>21</th>\n",
              "      <td>제일  가깝다  곳  찾다  드리다</td>\n",
              "      <td>가장 가까운 위치로 검색해드리겠습니다.</td>\n",
              "    </tr>\n",
              "    <tr>\n",
              "      <th>22</th>\n",
              "      <td>제일  가깝다  곳  찾다  드리다</td>\n",
              "      <td>가장 가까운 장소로 검색해드리겠습니다.</td>\n",
              "    </tr>\n",
              "    <tr>\n",
              "      <th>23</th>\n",
              "      <td>제일  가깝다  곳  찾다  드리다</td>\n",
              "      <td>가장 가까운 처소로 검색해드리겠습니다.</td>\n",
              "    </tr>\n",
              "    <tr>\n",
              "      <th>25</th>\n",
              "      <td>갈아타다 곳 맞다</td>\n",
              "      <td>갈아타는 위치가 맞습니다.</td>\n",
              "    </tr>\n",
              "    <tr>\n",
              "      <th>26</th>\n",
              "      <td>갈아타다 곳 맞다</td>\n",
              "      <td>갈아타는 장소가 맞습니다.</td>\n",
              "    </tr>\n",
              "    <tr>\n",
              "      <th>27</th>\n",
              "      <td>개 집 지키다 유명하다</td>\n",
              "      <td>개는 주택을 잘 지키는 동물로 알려져 있다</td>\n",
              "    </tr>\n",
              "    <tr>\n",
              "      <th>28</th>\n",
              "      <td>개 집 지키다 유명하다</td>\n",
              "      <td>개는 가옥을 잘 지키는 동물로 알려져 있다</td>\n",
              "    </tr>\n",
              "    <tr>\n",
              "      <th>29</th>\n",
              "      <td>건강 돌보다</td>\n",
              "      <td>기력을 돌보다</td>\n",
              "    </tr>\n",
              "    <tr>\n",
              "      <th>30</th>\n",
              "      <td>건강 위하다 운동 필요</td>\n",
              "      <td>기력을 위해 운동해야 한다</td>\n",
              "    </tr>\n",
              "    <tr>\n",
              "      <th>31</th>\n",
              "      <td>건강 위하다 운동 필요</td>\n",
              "      <td>건강을 위해 스포츠해야 한다</td>\n",
              "    </tr>\n",
              "    <tr>\n",
              "      <th>32</th>\n",
              "      <td>건강 위하다 운동 필요</td>\n",
              "      <td>건강을 위해 체육해야 한다</td>\n",
              "    </tr>\n",
              "    <tr>\n",
              "      <th>33</th>\n",
              "      <td>걷다 빠르다</td>\n",
              "      <td>보행이 빠르다</td>\n",
              "    </tr>\n",
              "    <tr>\n",
              "      <th>34</th>\n",
              "      <td>결과 무엇 너무 궁금하다</td>\n",
              "      <td>끝끝내 어떻게 되었는지 정말 궁금하다</td>\n",
              "    </tr>\n",
              "    <tr>\n",
              "      <th>35</th>\n",
              "      <td>결과 무엇 너무 궁금하다</td>\n",
              "      <td>최후가 어떻게 되었는지 정말 궁금하다</td>\n",
              "    </tr>\n",
              "    <tr>\n",
              "      <th>36</th>\n",
              "      <td>결과 무엇 너무 궁금하다</td>\n",
              "      <td>막바지가 어떻게 되었는지 정말 궁금하다</td>\n",
              "    </tr>\n",
              "    <tr>\n",
              "      <th>37</th>\n",
              "      <td>결과 무엇 너무 궁금하다</td>\n",
              "      <td>결국에 어떻게 되었는지 정말 궁금하다</td>\n",
              "    </tr>\n",
              "    <tr>\n",
              "      <th>38</th>\n",
              "      <td>결과 무엇 너무 궁금하다</td>\n",
              "      <td>마지막에 어떻게 되었는지 정말 궁금하다</td>\n",
              "    </tr>\n",
              "    <tr>\n",
              "      <th>39</th>\n",
              "      <td>결과 무엇 너무 궁금하다</td>\n",
              "      <td>결말이 어떻게 되었는지 정말 궁금하다</td>\n",
              "    </tr>\n",
              "    <tr>\n",
              "      <th>40</th>\n",
              "      <td>돈 계산 잘못하다</td>\n",
              "      <td>셈을 잘못하였습니다.</td>\n",
              "    </tr>\n",
              "  </tbody>\n",
              "</table>\n",
              "</div>"
            ],
            "text/plain": [
              "                  gloss                       text\n",
              "0                   집 불                 댁에 불이 났어요.\n",
              "1                   집 불                주택에 불이 났어요.\n",
              "2                   집 불                가옥에 불이 났어요.\n",
              "3                   집 불                세대에 불이 났어요.\n",
              "4              도착 10분 전              10분 내로 당도합니다.\n",
              "5                도착 10분              10분 뒤에 당도합니다.\n",
              "6              도착 1시간 전              1시간 내로 당도합니다.\n",
              "7                 도착 1시                 1시에 당도합니다.\n",
              "12        2016 새롭다 날 시작            2016년, 새해가 출발한다\n",
              "13                도착 3시                 3시에 당도합니다.\n",
              "20    정보  묻다  곳  가다  부탁  가까운 인솔 데스크를 이용해 주시기 바랍니다.\n",
              "21  제일  가깝다  곳  찾다  드리다      가장 가까운 위치로 검색해드리겠습니다.\n",
              "22  제일  가깝다  곳  찾다  드리다      가장 가까운 장소로 검색해드리겠습니다.\n",
              "23  제일  가깝다  곳  찾다  드리다      가장 가까운 처소로 검색해드리겠습니다.\n",
              "25            갈아타다 곳 맞다             갈아타는 위치가 맞습니다.\n",
              "26            갈아타다 곳 맞다             갈아타는 장소가 맞습니다.\n",
              "27         개 집 지키다 유명하다    개는 주택을 잘 지키는 동물로 알려져 있다\n",
              "28         개 집 지키다 유명하다    개는 가옥을 잘 지키는 동물로 알려져 있다\n",
              "29               건강 돌보다                    기력을 돌보다\n",
              "30         건강 위하다 운동 필요             기력을 위해 운동해야 한다\n",
              "31         건강 위하다 운동 필요            건강을 위해 스포츠해야 한다\n",
              "32         건강 위하다 운동 필요             건강을 위해 체육해야 한다\n",
              "33               걷다 빠르다                    보행이 빠르다\n",
              "34        결과 무엇 너무 궁금하다       끝끝내 어떻게 되었는지 정말 궁금하다\n",
              "35        결과 무엇 너무 궁금하다       최후가 어떻게 되었는지 정말 궁금하다\n",
              "36        결과 무엇 너무 궁금하다      막바지가 어떻게 되었는지 정말 궁금하다\n",
              "37        결과 무엇 너무 궁금하다       결국에 어떻게 되었는지 정말 궁금하다\n",
              "38        결과 무엇 너무 궁금하다      마지막에 어떻게 되었는지 정말 궁금하다\n",
              "39        결과 무엇 너무 궁금하다       결말이 어떻게 되었는지 정말 궁금하다\n",
              "40            돈 계산 잘못하다                셈을 잘못하였습니다."
            ]
          },
          "execution_count": 12,
          "metadata": {},
          "output_type": "execute_result"
        }
      ],
      "source": [
        "df = df[~df['text'].str.contains('\\?')]\n",
        "df = df[['gloss', 'text']]\n",
        "df.head(30)"
      ]
    },
    {
      "cell_type": "markdown",
      "metadata": {
        "id": "hHIQV8Ke5Y_4"
      },
      "source": [
        "### 문장 길이 시각화\n",
        "max_len 설정을 위함"
      ]
    },
    {
      "cell_type": "code",
      "execution_count": 13,
      "metadata": {
        "colab": {
          "base_uri": "https://localhost:8080/",
          "height": 0
        },
        "id": "9W_6FRnX5dw_",
        "outputId": "0755e8f1-1973-45aa-af00-9f266a7cb632"
      },
      "outputs": [
        {
          "data": {
            "image/png": "[encoded data removed]",
            "text/plain": [
              "<Figure size 1200x600 with 2 Axes>"
            ]
          },
          "metadata": {},
          "output_type": "display_data"
        }
      ],
      "source": [
        "import matplotlib.pyplot as plt\n",
        "\n",
        "# 각 문장의 토큰 길이를 KoBART 토크나이저로 계산 -> 서브워드 단어로 더 잘게 쪼개줌\n",
        "df['source_len'] = df['gloss'].apply(lambda x: len(tokenizer.encode(x, add_special_tokens=False)))\n",
        "df['target_len'] = df['text'].apply(lambda x: len(tokenizer.encode(x, add_special_tokens=False)))\n",
        "\n",
        "# 히스토그램을 그려서 분포 확인\n",
        "plt.figure(figsize=(12, 6))\n",
        "\n",
        "plt.subplot(1, 2, 1)\n",
        "plt.hist(df['source_len'], bins=30, color='blue', alpha=0.7)\n",
        "plt.title('Source Sentence Length Distribution')\n",
        "plt.xlabel('Sentence Length (tokens)')\n",
        "plt.ylabel('Frequency')\n",
        "\n",
        "plt.subplot(1, 2, 2)\n",
        "plt.hist(df['target_len'], bins=30, color='green', alpha=0.7)\n",
        "plt.title('Target Sentence Length Distribution')\n",
        "plt.xlabel('Sentence Length (tokens)')\n",
        "plt.ylabel('Frequency')\n",
        "\n",
        "plt.tight_layout()\n",
        "plt.show()"
      ]
    },
    {
      "cell_type": "code",
      "execution_count": 14,
      "metadata": {
        "colab": {
          "base_uri": "https://localhost:8080/"
        },
        "id": "-xJLp9NH6UxY",
        "outputId": "480853f8-f633-425e-99c8-d68ea219562b"
      },
      "outputs": [
        {
          "name": "stdout",
          "output_type": "stream",
          "text": [
            "Source Sentence Length Stats:\n",
            " count    8401.000000\n",
            "mean        6.081776\n",
            "std         2.704424\n",
            "min         1.000000\n",
            "25%         4.000000\n",
            "50%         6.000000\n",
            "75%         8.000000\n",
            "90%         9.000000\n",
            "95%        10.000000\n",
            "99%        14.000000\n",
            "max        28.000000\n",
            "Name: source_len, dtype: float64\n",
            "\n",
            "Target Sentence Length Stats:\n",
            " count    8401.000000\n",
            "mean        6.805618\n",
            "std         2.523546\n",
            "min         1.000000\n",
            "25%         5.000000\n",
            "50%         6.000000\n",
            "75%         8.000000\n",
            "90%        10.000000\n",
            "95%        11.000000\n",
            "99%        13.000000\n",
            "max        19.000000\n",
            "Name: target_len, dtype: float64\n"
          ]
        }
      ],
      "source": [
        "# 문장 길이 통계\n",
        "source_stats = df['source_len'].describe(percentiles=[.25, .5, .75, .9, .95, .99])\n",
        "target_stats = df['target_len'].describe(percentiles=[.25, .5, .75, .9, .95, .99])\n",
        "\n",
        "print(\"Source Sentence Length Stats:\\n\", source_stats)\n",
        "print(\"\\nTarget Sentence Length Stats:\\n\", target_stats)"
      ]
    },
    {
      "cell_type": "markdown",
      "metadata": {
        "id": "_53-BCoVHCJB"
      },
      "source": [
        "## 2. 데이터 로더 생성"
      ]
    },
    {
      "cell_type": "code",
      "execution_count": 15,
      "metadata": {
        "id": "g8PKY-9nHJ_1"
      },
      "outputs": [],
      "source": [
        "class GlossDataset(Dataset):\n",
        "    def __init__(self, glosses, texts, tokenizer, max_len=10):\n",
        "        self.glosses = glosses\n",
        "        self.texts = texts\n",
        "        self.tokenizer = tokenizer\n",
        "        self.max_len = max_len\n",
        "\n",
        "    # 데이터셋의 크기를 반환\n",
        "    def __len__(self):\n",
        "        return len(self.glosses)\n",
        "\n",
        "    def __getitem__(self, idx):\n",
        "        # 데이터 로드 및 전처리\n",
        "        gloss = str(self.glosses[idx])\n",
        "        text = str(self.texts[idx])\n",
        "\n",
        "        # 토큰화\n",
        "        inputs = self.tokenizer(\n",
        "            gloss,\n",
        "            max_length=self.max_len,\n",
        "            padding='max_length',\n",
        "            truncation=True,\n",
        "            return_tensors=\"pt\" # 토큰화된 결과를 PyTorch 텐서로 반환\n",
        "        )\n",
        "\n",
        "        outputs = self.tokenizer(\n",
        "            text,\n",
        "            max_length=self.max_len,\n",
        "            padding='max_length',\n",
        "            truncation=True,\n",
        "            return_tensors=\"pt\"\n",
        "        )\n",
        "\n",
        "        # 텐서 데이터 처리\n",
        "        input_ids = inputs.input_ids.squeeze() # 1차원 처리해 gloss 토큰 id 텐서\n",
        "        attention_mask = inputs.attention_mask.squeeze() # 마스킹 처리\n",
        "        labels = outputs.input_ids.squeeze() # 1차원 처리해 text 토큰 id 텐서\n",
        "        labels[labels == tokenizer.pad_token_id] = -100  # labels 텐서에서 패딩 토큰의 ID를 -100 변경 -> 학습 시 영향 안줌\n",
        "\n",
        "        return {\n",
        "            'input_ids': input_ids,\n",
        "            'attention_mask': attention_mask,\n",
        "            'labels': labels\n",
        "        } # 모델 학습에 사용될 데이터 로더에 의해 처리"
      ]
    },
    {
      "cell_type": "code",
      "execution_count": 16,
      "metadata": {
        "id": "CkQ7_nDlHrEi"
      },
      "outputs": [],
      "source": [
        "from sklearn.model_selection import train_test_split\n",
        "\n",
        "# 데이터셋 분할\n",
        "train_glosses, val_glosses, train_texts, val_texts = train_test_split(df['gloss'].tolist(), df['text'].tolist(), test_size=0.2, random_state=42)\n",
        "val_glosses, test_glosses, val_texts, test_texts = train_test_split(val_glosses, val_texts, test_size=0.5, random_state=42)\n",
        "\n",
        "# 데이터셋 생성\n",
        "train_dataset = GlossDataset(glosses=train_glosses, texts=train_texts, tokenizer=tokenizer)\n",
        "val_dataset = GlossDataset(glosses=val_glosses, texts=val_texts, tokenizer=tokenizer)\n",
        "test_dataset = GlossDataset(glosses=test_glosses, texts=test_texts, tokenizer=tokenizer)\n",
        "\n",
        "# 데이터로더 생성\n",
        "train_dataloader = DataLoader(train_dataset, batch_size=16, shuffle=True)\n",
        "val_dataloader = DataLoader(val_dataset, batch_size=16, shuffle=False)\n",
        "test_dataloader = DataLoader(test_dataset, batch_size=16, shuffle=False)"
      ]
    },
    {
      "cell_type": "code",
      "execution_count": 17,
      "metadata": {
        "colab": {
          "base_uri": "https://localhost:8080/"
        },
        "id": "5Ek080u-Itrp",
        "outputId": "69d1baa5-b232-4f3b-eb43-5f350b101f0b"
      },
      "outputs": [
        {
          "data": {
            "text/plain": [
              "{'input_ids': tensor([    0, 20438, 23304, 23929, 17992,     1,     3,     3,     3,     3]),\n",
              " 'attention_mask': tensor([1, 1, 1, 1, 1, 1, 0, 0, 0, 0]),\n",
              " 'labels': tensor([    0, 18388, 23304, 10325, 15170,     1,  -100,  -100,  -100,  -100])}"
            ]
          },
          "execution_count": 17,
          "metadata": {},
          "output_type": "execute_result"
        }
      ],
      "source": [
        "train_dataset[0]"
      ]
    },
    {
      "cell_type": "markdown",
      "metadata": {
        "id": "XRuAcKP6HKZn"
      },
      "source": [
        "## 3. 모델 준비"
      ]
    },
    {
      "cell_type": "code",
      "execution_count": 18,
      "metadata": {
        "colab": {
          "base_uri": "https://localhost:8080/"
        },
        "id": "EoYAXvKVHMD1",
        "outputId": "866eae7e-c806-4bfe-88db-c1d162485f5c"
      },
      "outputs": [
        {
          "name": "stderr",
          "output_type": "stream",
          "text": [
            "/home/stonemaeng/anaconda3/envs/g2t/lib/python3.12/site-packages/transformers/optimization.py:591: FutureWarning: This implementation of AdamW is deprecated and will be removed in a future version. Use the PyTorch implementation torch.optim.AdamW instead, or set `no_deprecation_warning=True` to disable this warning\n",
            "  warnings.warn(\n"
          ]
        }
      ],
      "source": [
        "import torch\n",
        "from transformers import AdamW, get_linear_schedule_with_warmup\n",
        "\n",
        "# 옵티마이저와 손실 함수 설정\n",
        "optimizer = AdamW(model.parameters(), lr=2e-5)  # 학습률은 실험적으로 조정할 수 있음 1e-4, 1e-5\n",
        "loss_fn = torch.nn.CrossEntropyLoss()\n",
        "\n",
        "# 학습률 스케줄러 설정\n",
        "num_epochs = 100\n",
        "\n",
        "total_steps = len(train_dataloader) * num_epochs\n",
        "scheduler = get_linear_schedule_with_warmup(\n",
        "    optimizer,\n",
        "    num_warmup_steps=0,\n",
        "    num_training_steps=total_steps\n",
        ")"
      ]
    },
    {
      "cell_type": "markdown",
      "metadata": {
        "id": "ihTHBTUyHMYh"
      },
      "source": [
        "## 4. KoBART 학습\n"
      ]
    },
    {
      "cell_type": "code",
      "execution_count": 19,
      "metadata": {
        "id": "RlWy5Pn3UnDn"
      },
      "outputs": [],
      "source": [
        "# 체크포인트를 저장할 디렉토리 설정\n",
        "import os\n",
        "\n",
        "checkpoint_dir = './checkpoints'\n",
        "os.makedirs(checkpoint_dir, exist_ok=True)"
      ]
    },
    {
      "cell_type": "code",
      "execution_count": 20,
      "metadata": {},
      "outputs": [
        {
          "name": "stdout",
          "output_type": "stream",
          "text": [
            "\n",
            "Starting epoch 1/100\n"
          ]
        },
        {
          "name": "stderr",
          "output_type": "stream",
          "text": [
            "Epoch 1/100: 100%|██████████| 420/420 [00:16<00:00, 25.02batch/s]\n",
            "Validation: 100%|██████████| 53/53 [00:00<00:00, 82.35batch/s]\n"
          ]
        },
        {
          "name": "stdout",
          "output_type": "stream",
          "text": [
            "Epoch 1/100, Loss: 2.1869, Validation Loss: 1.2582, BLEU: 19.7021, METEOR: 0.3678\n",
            "Checkpoint saved to ./checkpoints/checkpoint_epoch32_1.pt\n",
            "\n",
            "Starting epoch 2/100\n"
          ]
        },
        {
          "name": "stderr",
          "output_type": "stream",
          "text": [
            "Epoch 2/100: 100%|██████████| 420/420 [00:16<00:00, 25.13batch/s]\n",
            "Validation: 100%|██████████| 53/53 [00:00<00:00, 94.95batch/s]\n"
          ]
        },
        {
          "name": "stdout",
          "output_type": "stream",
          "text": [
            "Epoch 2/100, Loss: 0.9936, Validation Loss: 0.8800, BLEU: 33.5051, METEOR: 0.5349\n",
            "Checkpoint saved to ./checkpoints/checkpoint_epoch32_2.pt\n",
            "\n",
            "Starting epoch 3/100\n"
          ]
        },
        {
          "name": "stderr",
          "output_type": "stream",
          "text": [
            "Epoch 3/100: 100%|██████████| 420/420 [00:16<00:00, 25.16batch/s]\n",
            "Validation: 100%|██████████| 53/53 [00:00<00:00, 96.98batch/s]\n"
          ]
        },
        {
          "name": "stdout",
          "output_type": "stream",
          "text": [
            "Epoch 3/100, Loss: 0.6198, Validation Loss: 0.7211, BLEU: 42.2919, METEOR: 0.6124\n",
            "Checkpoint saved to ./checkpoints/checkpoint_epoch32_3.pt\n",
            "\n",
            "Starting epoch 4/100\n"
          ]
        },
        {
          "name": "stderr",
          "output_type": "stream",
          "text": [
            "Epoch 4/100: 100%|██████████| 420/420 [00:17<00:00, 24.63batch/s]\n",
            "Validation: 100%|██████████| 53/53 [00:00<00:00, 94.24batch/s]\n"
          ]
        },
        {
          "name": "stdout",
          "output_type": "stream",
          "text": [
            "Epoch 4/100, Loss: 0.4232, Validation Loss: 0.6489, BLEU: 46.0612, METEOR: 0.6451\n",
            "Checkpoint saved to ./checkpoints/checkpoint_epoch32_4.pt\n",
            "\n",
            "Starting epoch 5/100\n"
          ]
        },
        {
          "name": "stderr",
          "output_type": "stream",
          "text": [
            "Epoch 5/100: 100%|██████████| 420/420 [00:16<00:00, 24.87batch/s]\n",
            "Validation: 100%|██████████| 53/53 [00:00<00:00, 103.05batch/s]\n"
          ]
        },
        {
          "name": "stdout",
          "output_type": "stream",
          "text": [
            "Epoch 5/100, Loss: 0.3132, Validation Loss: 0.6227, BLEU: 47.9381, METEOR: 0.6813\n",
            "Checkpoint saved to ./checkpoints/checkpoint_epoch32_5.pt\n",
            "\n",
            "Starting epoch 6/100\n"
          ]
        },
        {
          "name": "stderr",
          "output_type": "stream",
          "text": [
            "Epoch 6/100: 100%|██████████| 420/420 [00:16<00:00, 25.45batch/s]\n",
            "Validation: 100%|██████████| 53/53 [00:00<00:00, 103.11batch/s]\n"
          ]
        },
        {
          "name": "stdout",
          "output_type": "stream",
          "text": [
            "Epoch 6/100, Loss: 0.2403, Validation Loss: 0.6007, BLEU: 47.4464, METEOR: 0.6769\n",
            "Checkpoint saved to ./checkpoints/checkpoint_epoch32_6.pt\n",
            "\n",
            "Starting epoch 7/100\n"
          ]
        },
        {
          "name": "stderr",
          "output_type": "stream",
          "text": [
            "Epoch 7/100: 100%|██████████| 420/420 [00:16<00:00, 25.46batch/s]\n",
            "Validation: 100%|██████████| 53/53 [00:00<00:00, 103.21batch/s]\n"
          ]
        },
        {
          "name": "stdout",
          "output_type": "stream",
          "text": [
            "Epoch 7/100, Loss: 0.1911, Validation Loss: 0.5970, BLEU: 47.3400, METEOR: 0.6883\n",
            "Checkpoint saved to ./checkpoints/checkpoint_epoch32_7.pt\n",
            "\n",
            "Starting epoch 8/100\n"
          ]
        },
        {
          "name": "stderr",
          "output_type": "stream",
          "text": [
            "Epoch 8/100: 100%|██████████| 420/420 [00:17<00:00, 24.47batch/s]\n",
            "Validation: 100%|██████████| 53/53 [00:00<00:00, 99.44batch/s] \n"
          ]
        },
        {
          "name": "stdout",
          "output_type": "stream",
          "text": [
            "Epoch 8/100, Loss: 0.1573, Validation Loss: 0.6076, BLEU: 46.4682, METEOR: 0.6804\n",
            "Checkpoint saved to ./checkpoints/checkpoint_epoch32_8.pt\n",
            "\n",
            "Starting epoch 9/100\n"
          ]
        },
        {
          "name": "stderr",
          "output_type": "stream",
          "text": [
            "Epoch 9/100: 100%|██████████| 420/420 [00:16<00:00, 25.21batch/s]\n",
            "Validation: 100%|██████████| 53/53 [00:00<00:00, 102.49batch/s]\n"
          ]
        },
        {
          "name": "stdout",
          "output_type": "stream",
          "text": [
            "Epoch 9/100, Loss: 0.1353, Validation Loss: 0.6039, BLEU: 47.6371, METEOR: 0.6941\n",
            "Checkpoint saved to ./checkpoints/checkpoint_epoch32_9.pt\n",
            "\n",
            "Starting epoch 10/100\n"
          ]
        },
        {
          "name": "stderr",
          "output_type": "stream",
          "text": [
            "Epoch 10/100: 100%|██████████| 420/420 [00:16<00:00, 25.35batch/s]\n",
            "Validation: 100%|██████████| 53/53 [00:00<00:00, 102.34batch/s]\n"
          ]
        },
        {
          "name": "stdout",
          "output_type": "stream",
          "text": [
            "Epoch 10/100, Loss: 0.1174, Validation Loss: 0.6162, BLEU: 46.1387, METEOR: 0.6841\n",
            "Checkpoint saved to ./checkpoints/checkpoint_epoch32_10.pt\n",
            "\n",
            "Starting epoch 11/100\n"
          ]
        },
        {
          "name": "stderr",
          "output_type": "stream",
          "text": [
            "Epoch 11/100: 100%|██████████| 420/420 [00:16<00:00, 25.27batch/s]\n",
            "Validation: 100%|██████████| 53/53 [00:00<00:00, 102.97batch/s]\n"
          ]
        },
        {
          "name": "stdout",
          "output_type": "stream",
          "text": [
            "Epoch 11/100, Loss: 0.1104, Validation Loss: 0.6246, BLEU: 47.0238, METEOR: 0.6873\n",
            "Checkpoint saved to ./checkpoints/checkpoint_epoch32_11.pt\n",
            "\n",
            "Starting epoch 12/100\n"
          ]
        },
        {
          "name": "stderr",
          "output_type": "stream",
          "text": [
            "Epoch 12/100: 100%|██████████| 420/420 [00:16<00:00, 25.29batch/s]\n",
            "Validation: 100%|██████████| 53/53 [00:00<00:00, 102.18batch/s]\n"
          ]
        },
        {
          "name": "stdout",
          "output_type": "stream",
          "text": [
            "Epoch 12/100, Loss: 0.0982, Validation Loss: 0.6212, BLEU: 46.7690, METEOR: 0.6902\n",
            "Checkpoint saved to ./checkpoints/checkpoint_epoch32_12.pt\n",
            "\n",
            "Starting epoch 13/100\n"
          ]
        },
        {
          "name": "stderr",
          "output_type": "stream",
          "text": [
            "Epoch 13/100: 100%|██████████| 420/420 [00:16<00:00, 25.13batch/s]\n",
            "Validation: 100%|██████████| 53/53 [00:00<00:00, 88.59batch/s]\n"
          ]
        },
        {
          "name": "stdout",
          "output_type": "stream",
          "text": [
            "Epoch 13/100, Loss: 0.0915, Validation Loss: 0.6301, BLEU: 45.8289, METEOR: 0.6842\n",
            "Checkpoint saved to ./checkpoints/checkpoint_epoch32_13.pt\n",
            "\n",
            "Starting epoch 14/100\n"
          ]
        },
        {
          "name": "stderr",
          "output_type": "stream",
          "text": [
            "Epoch 14/100: 100%|██████████| 420/420 [00:16<00:00, 24.89batch/s]\n",
            "Validation: 100%|██████████| 53/53 [00:00<00:00, 102.17batch/s]\n"
          ]
        },
        {
          "name": "stdout",
          "output_type": "stream",
          "text": [
            "Epoch 14/100, Loss: 0.0846, Validation Loss: 0.6322, BLEU: 46.5622, METEOR: 0.6934\n",
            "Checkpoint saved to ./checkpoints/checkpoint_epoch32_14.pt\n",
            "\n",
            "Starting epoch 15/100\n"
          ]
        },
        {
          "name": "stderr",
          "output_type": "stream",
          "text": [
            "Epoch 15/100: 100%|██████████| 420/420 [00:16<00:00, 25.06batch/s]\n",
            "Validation: 100%|██████████| 53/53 [00:00<00:00, 101.59batch/s]\n"
          ]
        },
        {
          "name": "stdout",
          "output_type": "stream",
          "text": [
            "Epoch 15/100, Loss: 0.0815, Validation Loss: 0.6331, BLEU: 44.8051, METEOR: 0.6845\n",
            "Checkpoint saved to ./checkpoints/checkpoint_epoch32_15.pt\n",
            "\n",
            "Starting epoch 16/100\n"
          ]
        },
        {
          "name": "stderr",
          "output_type": "stream",
          "text": [
            "Epoch 16/100: 100%|██████████| 420/420 [00:16<00:00, 25.04batch/s]\n",
            "Validation: 100%|██████████| 53/53 [00:00<00:00, 101.00batch/s]\n"
          ]
        },
        {
          "name": "stdout",
          "output_type": "stream",
          "text": [
            "Epoch 16/100, Loss: 0.0785, Validation Loss: 0.6370, BLEU: 42.5506, METEOR: 0.6741\n",
            "Checkpoint saved to ./checkpoints/checkpoint_epoch32_16.pt\n",
            "\n",
            "Starting epoch 17/100\n"
          ]
        },
        {
          "name": "stderr",
          "output_type": "stream",
          "text": [
            "Epoch 17/100: 100%|██████████| 420/420 [00:16<00:00, 25.00batch/s]\n",
            "Validation: 100%|██████████| 53/53 [00:00<00:00, 102.01batch/s]\n"
          ]
        },
        {
          "name": "stdout",
          "output_type": "stream",
          "text": [
            "Epoch 17/100, Loss: 0.0741, Validation Loss: 0.6461, BLEU: 44.5088, METEOR: 0.6888\n",
            "Checkpoint saved to ./checkpoints/checkpoint_epoch32_17.pt\n",
            "\n",
            "Starting epoch 18/100\n"
          ]
        },
        {
          "name": "stderr",
          "output_type": "stream",
          "text": [
            "Epoch 18/100: 100%|██████████| 420/420 [00:16<00:00, 25.00batch/s]\n",
            "Validation: 100%|██████████| 53/53 [00:00<00:00, 99.10batch/s] \n"
          ]
        },
        {
          "name": "stdout",
          "output_type": "stream",
          "text": [
            "Epoch 18/100, Loss: 0.0708, Validation Loss: 0.6488, BLEU: 46.0825, METEOR: 0.6836\n",
            "Checkpoint saved to ./checkpoints/checkpoint_epoch32_18.pt\n",
            "\n",
            "Starting epoch 19/100\n"
          ]
        },
        {
          "name": "stderr",
          "output_type": "stream",
          "text": [
            "Epoch 19/100: 100%|██████████| 420/420 [00:16<00:00, 24.86batch/s]\n",
            "Validation: 100%|██████████| 53/53 [00:00<00:00, 100.14batch/s]\n"
          ]
        },
        {
          "name": "stdout",
          "output_type": "stream",
          "text": [
            "Epoch 19/100, Loss: 0.0694, Validation Loss: 0.6521, BLEU: 43.9015, METEOR: 0.6797\n",
            "Checkpoint saved to ./checkpoints/checkpoint_epoch32_19.pt\n",
            "\n",
            "Starting epoch 20/100\n"
          ]
        },
        {
          "name": "stderr",
          "output_type": "stream",
          "text": [
            "Epoch 20/100: 100%|██████████| 420/420 [00:16<00:00, 24.96batch/s]\n",
            "Validation: 100%|██████████| 53/53 [00:00<00:00, 101.98batch/s]\n"
          ]
        },
        {
          "name": "stdout",
          "output_type": "stream",
          "text": [
            "Epoch 20/100, Loss: 0.0654, Validation Loss: 0.6547, BLEU: 43.9960, METEOR: 0.6822\n",
            "Checkpoint saved to ./checkpoints/checkpoint_epoch32_20.pt\n",
            "\n",
            "Starting epoch 21/100\n"
          ]
        },
        {
          "name": "stderr",
          "output_type": "stream",
          "text": [
            "Epoch 21/100: 100%|██████████| 420/420 [00:16<00:00, 25.02batch/s]\n",
            "Validation: 100%|██████████| 53/53 [00:00<00:00, 101.45batch/s]\n"
          ]
        },
        {
          "name": "stdout",
          "output_type": "stream",
          "text": [
            "Epoch 21/100, Loss: 0.0634, Validation Loss: 0.6585, BLEU: 43.5255, METEOR: 0.6806\n",
            "Checkpoint saved to ./checkpoints/checkpoint_epoch32_21.pt\n",
            "\n",
            "Starting epoch 22/100\n"
          ]
        },
        {
          "name": "stderr",
          "output_type": "stream",
          "text": [
            "Epoch 22/100: 100%|██████████| 420/420 [00:16<00:00, 25.04batch/s]\n",
            "Validation: 100%|██████████| 53/53 [00:00<00:00, 102.55batch/s]\n"
          ]
        },
        {
          "name": "stdout",
          "output_type": "stream",
          "text": [
            "Epoch 22/100, Loss: 0.0625, Validation Loss: 0.6491, BLEU: 39.8835, METEOR: 0.6635\n",
            "Checkpoint saved to ./checkpoints/checkpoint_epoch32_22.pt\n",
            "\n",
            "Starting epoch 23/100\n"
          ]
        },
        {
          "name": "stderr",
          "output_type": "stream",
          "text": [
            "Epoch 23/100: 100%|██████████| 420/420 [00:17<00:00, 24.68batch/s]\n",
            "Validation: 100%|██████████| 53/53 [00:00<00:00, 89.29batch/s]\n"
          ]
        },
        {
          "name": "stdout",
          "output_type": "stream",
          "text": [
            "Epoch 23/100, Loss: 0.0610, Validation Loss: 0.6513, BLEU: 40.9482, METEOR: 0.6636\n",
            "Checkpoint saved to ./checkpoints/checkpoint_epoch32_23.pt\n",
            "\n",
            "Starting epoch 24/100\n"
          ]
        },
        {
          "name": "stderr",
          "output_type": "stream",
          "text": [
            "Epoch 24/100: 100%|██████████| 420/420 [00:17<00:00, 24.48batch/s]\n",
            "Validation: 100%|██████████| 53/53 [00:00<00:00, 72.46batch/s]\n"
          ]
        },
        {
          "name": "stdout",
          "output_type": "stream",
          "text": [
            "Epoch 24/100, Loss: 0.0577, Validation Loss: 0.6591, BLEU: 39.8842, METEOR: 0.6646\n",
            "Checkpoint saved to ./checkpoints/checkpoint_epoch32_24.pt\n",
            "\n",
            "Starting epoch 25/100\n"
          ]
        },
        {
          "name": "stderr",
          "output_type": "stream",
          "text": [
            "Epoch 25/100: 100%|██████████| 420/420 [00:17<00:00, 24.70batch/s]\n",
            "Validation: 100%|██████████| 53/53 [00:00<00:00, 88.80batch/s]\n"
          ]
        },
        {
          "name": "stdout",
          "output_type": "stream",
          "text": [
            "Epoch 25/100, Loss: 0.0551, Validation Loss: 0.6699, BLEU: 39.7498, METEOR: 0.6639\n",
            "Checkpoint saved to ./checkpoints/checkpoint_epoch32_25.pt\n",
            "\n",
            "Starting epoch 26/100\n"
          ]
        },
        {
          "name": "stderr",
          "output_type": "stream",
          "text": [
            "Epoch 26/100: 100%|██████████| 420/420 [00:16<00:00, 24.74batch/s]\n",
            "Validation: 100%|██████████| 53/53 [00:00<00:00, 96.04batch/s]\n"
          ]
        },
        {
          "name": "stdout",
          "output_type": "stream",
          "text": [
            "Epoch 26/100, Loss: 0.0543, Validation Loss: 0.6661, BLEU: 39.7034, METEOR: 0.6646\n",
            "Checkpoint saved to ./checkpoints/checkpoint_epoch32_26.pt\n",
            "\n",
            "Starting epoch 27/100\n"
          ]
        },
        {
          "name": "stderr",
          "output_type": "stream",
          "text": [
            "Epoch 27/100: 100%|██████████| 420/420 [00:17<00:00, 24.68batch/s]\n",
            "Validation: 100%|██████████| 53/53 [00:00<00:00, 88.52batch/s]\n"
          ]
        },
        {
          "name": "stdout",
          "output_type": "stream",
          "text": [
            "Epoch 27/100, Loss: 0.0537, Validation Loss: 0.6757, BLEU: 40.7208, METEOR: 0.6666\n",
            "Checkpoint saved to ./checkpoints/checkpoint_epoch32_27.pt\n",
            "\n",
            "Starting epoch 28/100\n"
          ]
        },
        {
          "name": "stderr",
          "output_type": "stream",
          "text": [
            "Epoch 28/100: 100%|██████████| 420/420 [00:17<00:00, 24.03batch/s]\n",
            "Validation: 100%|██████████| 53/53 [00:00<00:00, 74.05batch/s]\n"
          ]
        },
        {
          "name": "stdout",
          "output_type": "stream",
          "text": [
            "Epoch 28/100, Loss: 0.0524, Validation Loss: 0.6715, BLEU: 40.4698, METEOR: 0.6670\n",
            "Checkpoint saved to ./checkpoints/checkpoint_epoch32_28.pt\n",
            "\n",
            "Starting epoch 29/100\n"
          ]
        },
        {
          "name": "stderr",
          "output_type": "stream",
          "text": [
            "Epoch 29/100: 100%|██████████| 420/420 [00:16<00:00, 24.75batch/s]\n",
            "Validation: 100%|██████████| 53/53 [00:00<00:00, 89.23batch/s]\n"
          ]
        },
        {
          "name": "stdout",
          "output_type": "stream",
          "text": [
            "Epoch 29/100, Loss: 0.0519, Validation Loss: 0.6850, BLEU: 43.3500, METEOR: 0.6801\n",
            "Checkpoint saved to ./checkpoints/checkpoint_epoch32_29.pt\n",
            "\n",
            "Starting epoch 30/100\n"
          ]
        },
        {
          "name": "stderr",
          "output_type": "stream",
          "text": [
            "Epoch 30/100: 100%|██████████| 420/420 [00:16<00:00, 24.74batch/s]\n",
            "Validation: 100%|██████████| 53/53 [00:00<00:00, 90.04batch/s]\n"
          ]
        },
        {
          "name": "stdout",
          "output_type": "stream",
          "text": [
            "Epoch 30/100, Loss: 0.0497, Validation Loss: 0.6759, BLEU: 39.9628, METEOR: 0.6672\n",
            "Checkpoint saved to ./checkpoints/checkpoint_epoch32_30.pt\n",
            "\n",
            "Starting epoch 31/100\n"
          ]
        },
        {
          "name": "stderr",
          "output_type": "stream",
          "text": [
            "Epoch 31/100: 100%|██████████| 420/420 [00:16<00:00, 24.95batch/s]\n",
            "Validation: 100%|██████████| 53/53 [00:00<00:00, 89.18batch/s]\n"
          ]
        },
        {
          "name": "stdout",
          "output_type": "stream",
          "text": [
            "Epoch 31/100, Loss: 0.0478, Validation Loss: 0.6826, BLEU: 40.1474, METEOR: 0.6676\n",
            "Checkpoint saved to ./checkpoints/checkpoint_epoch32_31.pt\n",
            "\n",
            "Starting epoch 32/100\n"
          ]
        },
        {
          "name": "stderr",
          "output_type": "stream",
          "text": [
            "Epoch 32/100: 100%|██████████| 420/420 [00:16<00:00, 24.80batch/s]\n",
            "Validation: 100%|██████████| 53/53 [00:00<00:00, 88.61batch/s]\n"
          ]
        },
        {
          "name": "stdout",
          "output_type": "stream",
          "text": [
            "Epoch 32/100, Loss: 0.0467, Validation Loss: 0.6933, BLEU: 38.9931, METEOR: 0.6648\n",
            "Checkpoint saved to ./checkpoints/checkpoint_epoch32_32.pt\n",
            "\n",
            "Starting epoch 33/100\n"
          ]
        },
        {
          "name": "stderr",
          "output_type": "stream",
          "text": [
            "Epoch 33/100: 100%|██████████| 420/420 [00:16<00:00, 24.73batch/s]\n",
            "Validation: 100%|██████████| 53/53 [00:00<00:00, 95.37batch/s]\n"
          ]
        },
        {
          "name": "stdout",
          "output_type": "stream",
          "text": [
            "Epoch 33/100, Loss: 0.0465, Validation Loss: 0.6656, BLEU: 42.0141, METEOR: 0.6734\n",
            "Checkpoint saved to ./checkpoints/checkpoint_epoch32_33.pt\n",
            "\n",
            "Starting epoch 34/100\n"
          ]
        },
        {
          "name": "stderr",
          "output_type": "stream",
          "text": [
            "Epoch 34/100: 100%|██████████| 420/420 [00:17<00:00, 24.64batch/s]\n",
            "Validation: 100%|██████████| 53/53 [00:00<00:00, 95.39batch/s]\n"
          ]
        },
        {
          "name": "stdout",
          "output_type": "stream",
          "text": [
            "Epoch 34/100, Loss: 0.0470, Validation Loss: 0.6839, BLEU: 40.1943, METEOR: 0.6644\n",
            "Checkpoint saved to ./checkpoints/checkpoint_epoch32_34.pt\n",
            "\n",
            "Starting epoch 35/100\n"
          ]
        },
        {
          "name": "stderr",
          "output_type": "stream",
          "text": [
            "Epoch 35/100: 100%|██████████| 420/420 [00:16<00:00, 24.77batch/s]\n",
            "Validation: 100%|██████████| 53/53 [00:00<00:00, 92.94batch/s]\n"
          ]
        },
        {
          "name": "stdout",
          "output_type": "stream",
          "text": [
            "Epoch 35/100, Loss: 0.0453, Validation Loss: 0.7021, BLEU: 46.0792, METEOR: 0.6862\n",
            "Checkpoint saved to ./checkpoints/checkpoint_epoch32_35.pt\n",
            "\n",
            "Starting epoch 36/100\n"
          ]
        },
        {
          "name": "stderr",
          "output_type": "stream",
          "text": [
            "Epoch 36/100: 100%|██████████| 420/420 [00:17<00:00, 23.81batch/s]\n",
            "Validation: 100%|██████████| 53/53 [00:00<00:00, 89.86batch/s]\n"
          ]
        },
        {
          "name": "stdout",
          "output_type": "stream",
          "text": [
            "Epoch 36/100, Loss: 0.0441, Validation Loss: 0.6927, BLEU: 41.9040, METEOR: 0.6711\n",
            "Checkpoint saved to ./checkpoints/checkpoint_epoch32_36.pt\n",
            "\n",
            "Starting epoch 37/100\n"
          ]
        },
        {
          "name": "stderr",
          "output_type": "stream",
          "text": [
            "Epoch 37/100: 100%|██████████| 420/420 [00:16<00:00, 24.77batch/s]\n",
            "Validation: 100%|██████████| 53/53 [00:00<00:00, 88.24batch/s]\n"
          ]
        },
        {
          "name": "stdout",
          "output_type": "stream",
          "text": [
            "Epoch 37/100, Loss: 0.0425, Validation Loss: 0.6933, BLEU: 41.0007, METEOR: 0.6666\n",
            "Checkpoint saved to ./checkpoints/checkpoint_epoch32_37.pt\n",
            "\n",
            "Starting epoch 38/100\n"
          ]
        },
        {
          "name": "stderr",
          "output_type": "stream",
          "text": [
            "Epoch 38/100: 100%|██████████| 420/420 [00:16<00:00, 24.85batch/s]\n",
            "Validation: 100%|██████████| 53/53 [00:00<00:00, 86.92batch/s]\n"
          ]
        },
        {
          "name": "stdout",
          "output_type": "stream",
          "text": [
            "Epoch 38/100, Loss: 0.0419, Validation Loss: 0.6982, BLEU: 41.4696, METEOR: 0.6706\n",
            "Checkpoint saved to ./checkpoints/checkpoint_epoch32_38.pt\n",
            "\n",
            "Starting epoch 39/100\n"
          ]
        },
        {
          "name": "stderr",
          "output_type": "stream",
          "text": [
            "Epoch 39/100: 100%|██████████| 420/420 [00:17<00:00, 24.66batch/s]\n",
            "Validation: 100%|██████████| 53/53 [00:00<00:00, 96.20batch/s]\n"
          ]
        },
        {
          "name": "stdout",
          "output_type": "stream",
          "text": [
            "Epoch 39/100, Loss: 0.0415, Validation Loss: 0.7021, BLEU: 42.5551, METEOR: 0.6728\n",
            "Checkpoint saved to ./checkpoints/checkpoint_epoch32_39.pt\n",
            "\n",
            "Starting epoch 40/100\n"
          ]
        },
        {
          "name": "stderr",
          "output_type": "stream",
          "text": [
            "Epoch 40/100: 100%|██████████| 420/420 [00:17<00:00, 24.66batch/s]\n",
            "Validation: 100%|██████████| 53/53 [00:00<00:00, 92.30batch/s]\n"
          ]
        },
        {
          "name": "stdout",
          "output_type": "stream",
          "text": [
            "Epoch 40/100, Loss: 0.0415, Validation Loss: 0.6997, BLEU: 39.5246, METEOR: 0.6613\n",
            "Checkpoint saved to ./checkpoints/checkpoint_epoch32_40.pt\n",
            "\n",
            "Starting epoch 41/100\n"
          ]
        },
        {
          "name": "stderr",
          "output_type": "stream",
          "text": [
            "Epoch 41/100: 100%|██████████| 420/420 [00:17<00:00, 24.49batch/s]\n",
            "Validation: 100%|██████████| 53/53 [00:00<00:00, 91.25batch/s]\n"
          ]
        },
        {
          "name": "stdout",
          "output_type": "stream",
          "text": [
            "Epoch 41/100, Loss: 0.0410, Validation Loss: 0.6751, BLEU: 43.7411, METEOR: 0.6822\n",
            "Checkpoint saved to ./checkpoints/checkpoint_epoch32_41.pt\n",
            "\n",
            "Starting epoch 42/100\n"
          ]
        },
        {
          "name": "stderr",
          "output_type": "stream",
          "text": [
            "Epoch 42/100: 100%|██████████| 420/420 [00:17<00:00, 23.68batch/s]\n",
            "Validation: 100%|██████████| 53/53 [00:00<00:00, 75.24batch/s]\n"
          ]
        },
        {
          "name": "stdout",
          "output_type": "stream",
          "text": [
            "Epoch 42/100, Loss: 0.0410, Validation Loss: 0.7028, BLEU: 41.8218, METEOR: 0.6755\n",
            "Checkpoint saved to ./checkpoints/checkpoint_epoch32_42.pt\n",
            "\n",
            "Starting epoch 43/100\n"
          ]
        },
        {
          "name": "stderr",
          "output_type": "stream",
          "text": [
            "Epoch 43/100: 100%|██████████| 420/420 [00:18<00:00, 22.68batch/s]\n",
            "Validation: 100%|██████████| 53/53 [00:00<00:00, 81.05batch/s]\n"
          ]
        },
        {
          "name": "stdout",
          "output_type": "stream",
          "text": [
            "Epoch 43/100, Loss: 0.0410, Validation Loss: 0.7036, BLEU: 42.8617, METEOR: 0.6769\n",
            "Checkpoint saved to ./checkpoints/checkpoint_epoch32_43.pt\n",
            "\n",
            "Starting epoch 44/100\n"
          ]
        },
        {
          "name": "stderr",
          "output_type": "stream",
          "text": [
            "Epoch 44/100: 100%|██████████| 420/420 [00:18<00:00, 23.19batch/s]\n",
            "Validation: 100%|██████████| 53/53 [00:00<00:00, 80.92batch/s]\n"
          ]
        },
        {
          "name": "stdout",
          "output_type": "stream",
          "text": [
            "Epoch 44/100, Loss: 0.0390, Validation Loss: 0.7009, BLEU: 42.5421, METEOR: 0.6759\n",
            "Checkpoint saved to ./checkpoints/checkpoint_epoch32_44.pt\n",
            "\n",
            "Starting epoch 45/100\n"
          ]
        },
        {
          "name": "stderr",
          "output_type": "stream",
          "text": [
            "Epoch 45/100: 100%|██████████| 420/420 [00:18<00:00, 22.56batch/s]\n",
            "Validation: 100%|██████████| 53/53 [00:00<00:00, 80.55batch/s]\n"
          ]
        },
        {
          "name": "stdout",
          "output_type": "stream",
          "text": [
            "Epoch 45/100, Loss: 0.0393, Validation Loss: 0.7095, BLEU: 42.5823, METEOR: 0.6793\n",
            "Checkpoint saved to ./checkpoints/checkpoint_epoch32_45.pt\n",
            "\n",
            "Starting epoch 46/100\n"
          ]
        },
        {
          "name": "stderr",
          "output_type": "stream",
          "text": [
            "Epoch 46/100: 100%|██████████| 420/420 [00:18<00:00, 22.95batch/s]\n",
            "Validation: 100%|██████████| 53/53 [00:00<00:00, 79.16batch/s]\n"
          ]
        },
        {
          "name": "stdout",
          "output_type": "stream",
          "text": [
            "Epoch 46/100, Loss: 0.0385, Validation Loss: 0.7090, BLEU: 44.1271, METEOR: 0.6833\n",
            "Checkpoint saved to ./checkpoints/checkpoint_epoch32_46.pt\n",
            "\n",
            "Starting epoch 47/100\n"
          ]
        },
        {
          "name": "stderr",
          "output_type": "stream",
          "text": [
            "Epoch 47/100: 100%|██████████| 420/420 [00:18<00:00, 22.32batch/s]\n",
            "Validation: 100%|██████████| 53/53 [00:00<00:00, 76.03batch/s]\n"
          ]
        },
        {
          "name": "stdout",
          "output_type": "stream",
          "text": [
            "Epoch 47/100, Loss: 0.0383, Validation Loss: 0.7129, BLEU: 41.8392, METEOR: 0.6783\n",
            "Checkpoint saved to ./checkpoints/checkpoint_epoch32_47.pt\n",
            "\n",
            "Starting epoch 48/100\n"
          ]
        },
        {
          "name": "stderr",
          "output_type": "stream",
          "text": [
            "Epoch 48/100: 100%|██████████| 420/420 [00:18<00:00, 22.55batch/s]\n",
            "Validation: 100%|██████████| 53/53 [00:00<00:00, 76.45batch/s]\n"
          ]
        },
        {
          "name": "stdout",
          "output_type": "stream",
          "text": [
            "Epoch 48/100, Loss: 0.0381, Validation Loss: 0.7113, BLEU: 41.4810, METEOR: 0.6726\n",
            "Checkpoint saved to ./checkpoints/checkpoint_epoch32_48.pt\n",
            "\n",
            "Starting epoch 49/100\n"
          ]
        },
        {
          "name": "stderr",
          "output_type": "stream",
          "text": [
            "Epoch 49/100: 100%|██████████| 420/420 [00:18<00:00, 22.45batch/s]\n",
            "Validation: 100%|██████████| 53/53 [00:00<00:00, 80.47batch/s]\n"
          ]
        },
        {
          "name": "stdout",
          "output_type": "stream",
          "text": [
            "Epoch 49/100, Loss: 0.0376, Validation Loss: 0.7239, BLEU: 41.0503, METEOR: 0.6713\n",
            "Checkpoint saved to ./checkpoints/checkpoint_epoch32_49.pt\n",
            "\n",
            "Starting epoch 50/100\n"
          ]
        },
        {
          "name": "stderr",
          "output_type": "stream",
          "text": [
            "Epoch 50/100: 100%|██████████| 420/420 [00:18<00:00, 22.55batch/s]\n",
            "Validation: 100%|██████████| 53/53 [00:00<00:00, 78.81batch/s]\n"
          ]
        },
        {
          "name": "stdout",
          "output_type": "stream",
          "text": [
            "Epoch 50/100, Loss: 0.0363, Validation Loss: 0.7162, BLEU: 40.7955, METEOR: 0.6712\n",
            "Checkpoint saved to ./checkpoints/checkpoint_epoch32_50.pt\n",
            "\n",
            "Starting epoch 51/100\n"
          ]
        },
        {
          "name": "stderr",
          "output_type": "stream",
          "text": [
            "Epoch 51/100: 100%|██████████| 420/420 [00:18<00:00, 22.82batch/s]\n",
            "Validation: 100%|██████████| 53/53 [00:00<00:00, 76.75batch/s]\n"
          ]
        },
        {
          "name": "stdout",
          "output_type": "stream",
          "text": [
            "Epoch 51/100, Loss: 0.0363, Validation Loss: 0.7215, BLEU: 42.8502, METEOR: 0.6810\n",
            "Checkpoint saved to ./checkpoints/checkpoint_epoch32_51.pt\n",
            "\n",
            "Starting epoch 52/100\n"
          ]
        },
        {
          "name": "stderr",
          "output_type": "stream",
          "text": [
            "Epoch 52/100: 100%|██████████| 420/420 [00:18<00:00, 22.69batch/s]\n",
            "Validation: 100%|██████████| 53/53 [00:00<00:00, 93.19batch/s]\n"
          ]
        },
        {
          "name": "stdout",
          "output_type": "stream",
          "text": [
            "Epoch 52/100, Loss: 0.0365, Validation Loss: 0.7172, BLEU: 41.3159, METEOR: 0.6761\n",
            "Checkpoint saved to ./checkpoints/checkpoint_epoch32_52.pt\n",
            "\n",
            "Starting epoch 53/100\n"
          ]
        },
        {
          "name": "stderr",
          "output_type": "stream",
          "text": [
            "Epoch 53/100: 100%|██████████| 420/420 [00:17<00:00, 24.20batch/s]\n",
            "Validation: 100%|██████████| 53/53 [00:00<00:00, 99.50batch/s] \n"
          ]
        },
        {
          "name": "stdout",
          "output_type": "stream",
          "text": [
            "Epoch 53/100, Loss: 0.0356, Validation Loss: 0.7354, BLEU: 41.9514, METEOR: 0.6771\n",
            "Checkpoint saved to ./checkpoints/checkpoint_epoch32_53.pt\n",
            "\n",
            "Starting epoch 54/100\n"
          ]
        },
        {
          "name": "stderr",
          "output_type": "stream",
          "text": [
            "Epoch 54/100: 100%|██████████| 420/420 [00:17<00:00, 24.44batch/s]\n",
            "Validation: 100%|██████████| 53/53 [00:00<00:00, 99.93batch/s] \n"
          ]
        },
        {
          "name": "stdout",
          "output_type": "stream",
          "text": [
            "Epoch 54/100, Loss: 0.0364, Validation Loss: 0.7205, BLEU: 41.0235, METEOR: 0.6719\n",
            "Checkpoint saved to ./checkpoints/checkpoint_epoch32_54.pt\n",
            "\n",
            "Starting epoch 55/100\n"
          ]
        },
        {
          "name": "stderr",
          "output_type": "stream",
          "text": [
            "Epoch 55/100: 100%|██████████| 420/420 [00:17<00:00, 24.54batch/s]\n",
            "Validation: 100%|██████████| 53/53 [00:00<00:00, 97.07batch/s]\n"
          ]
        },
        {
          "name": "stdout",
          "output_type": "stream",
          "text": [
            "Epoch 55/100, Loss: 0.0347, Validation Loss: 0.7259, BLEU: 42.0283, METEOR: 0.6786\n",
            "Checkpoint saved to ./checkpoints/checkpoint_epoch32_55.pt\n",
            "\n",
            "Starting epoch 56/100\n"
          ]
        },
        {
          "name": "stderr",
          "output_type": "stream",
          "text": [
            "Epoch 56/100: 100%|██████████| 420/420 [00:17<00:00, 24.42batch/s]\n",
            "Validation: 100%|██████████| 53/53 [00:00<00:00, 94.20batch/s]\n"
          ]
        },
        {
          "name": "stdout",
          "output_type": "stream",
          "text": [
            "Epoch 56/100, Loss: 0.0353, Validation Loss: 0.7304, BLEU: 42.2543, METEOR: 0.6747\n",
            "Checkpoint saved to ./checkpoints/checkpoint_epoch32_56.pt\n",
            "\n",
            "Starting epoch 57/100\n"
          ]
        },
        {
          "name": "stderr",
          "output_type": "stream",
          "text": [
            "Epoch 57/100: 100%|██████████| 420/420 [00:16<00:00, 25.04batch/s]\n",
            "Validation: 100%|██████████| 53/53 [00:00<00:00, 101.37batch/s]\n"
          ]
        },
        {
          "name": "stdout",
          "output_type": "stream",
          "text": [
            "Epoch 57/100, Loss: 0.0344, Validation Loss: 0.7260, BLEU: 41.1880, METEOR: 0.6687\n",
            "Checkpoint saved to ./checkpoints/checkpoint_epoch32_57.pt\n",
            "\n",
            "Starting epoch 58/100\n"
          ]
        },
        {
          "name": "stderr",
          "output_type": "stream",
          "text": [
            "Epoch 58/100: 100%|██████████| 420/420 [00:16<00:00, 25.03batch/s]\n",
            "Validation: 100%|██████████| 53/53 [00:00<00:00, 101.86batch/s]\n"
          ]
        },
        {
          "name": "stdout",
          "output_type": "stream",
          "text": [
            "Epoch 58/100, Loss: 0.0341, Validation Loss: 0.7394, BLEU: 40.4246, METEOR: 0.6634\n",
            "Checkpoint saved to ./checkpoints/checkpoint_epoch32_58.pt\n",
            "\n",
            "Starting epoch 59/100\n"
          ]
        },
        {
          "name": "stderr",
          "output_type": "stream",
          "text": [
            "Epoch 59/100: 100%|██████████| 420/420 [00:16<00:00, 25.02batch/s]\n",
            "Validation: 100%|██████████| 53/53 [00:00<00:00, 100.67batch/s]\n"
          ]
        },
        {
          "name": "stdout",
          "output_type": "stream",
          "text": [
            "Epoch 59/100, Loss: 0.0339, Validation Loss: 0.7413, BLEU: 41.2382, METEOR: 0.6699\n",
            "Checkpoint saved to ./checkpoints/checkpoint_epoch32_59.pt\n",
            "\n",
            "Starting epoch 60/100\n"
          ]
        },
        {
          "name": "stderr",
          "output_type": "stream",
          "text": [
            "Epoch 60/100: 100%|██████████| 420/420 [00:16<00:00, 25.07batch/s]\n",
            "Validation: 100%|██████████| 53/53 [00:00<00:00, 102.68batch/s]\n"
          ]
        },
        {
          "name": "stdout",
          "output_type": "stream",
          "text": [
            "Epoch 60/100, Loss: 0.0341, Validation Loss: 0.7412, BLEU: 39.8971, METEOR: 0.6670\n",
            "Checkpoint saved to ./checkpoints/checkpoint_epoch32_60.pt\n",
            "\n",
            "Starting epoch 61/100\n"
          ]
        },
        {
          "name": "stderr",
          "output_type": "stream",
          "text": [
            "Epoch 61/100: 100%|██████████| 420/420 [00:16<00:00, 25.09batch/s]\n",
            "Validation: 100%|██████████| 53/53 [00:00<00:00, 98.51batch/s] \n"
          ]
        },
        {
          "name": "stdout",
          "output_type": "stream",
          "text": [
            "Epoch 61/100, Loss: 0.0337, Validation Loss: 0.7337, BLEU: 41.5446, METEOR: 0.6745\n",
            "Checkpoint saved to ./checkpoints/checkpoint_epoch32_61.pt\n",
            "\n",
            "Starting epoch 62/100\n"
          ]
        },
        {
          "name": "stderr",
          "output_type": "stream",
          "text": [
            "Epoch 62/100: 100%|██████████| 420/420 [00:16<00:00, 25.03batch/s]\n",
            "Validation: 100%|██████████| 53/53 [00:00<00:00, 98.93batch/s] \n"
          ]
        },
        {
          "name": "stdout",
          "output_type": "stream",
          "text": [
            "Epoch 62/100, Loss: 0.0327, Validation Loss: 0.7437, BLEU: 40.5273, METEOR: 0.6729\n",
            "Checkpoint saved to ./checkpoints/checkpoint_epoch32_62.pt\n",
            "\n",
            "Starting epoch 63/100\n"
          ]
        },
        {
          "name": "stderr",
          "output_type": "stream",
          "text": [
            "Epoch 63/100: 100%|██████████| 420/420 [00:16<00:00, 25.02batch/s]\n",
            "Validation: 100%|██████████| 53/53 [00:00<00:00, 101.58batch/s]\n"
          ]
        },
        {
          "name": "stdout",
          "output_type": "stream",
          "text": [
            "Epoch 63/100, Loss: 0.0333, Validation Loss: 0.7433, BLEU: 41.3208, METEOR: 0.6738\n",
            "Checkpoint saved to ./checkpoints/checkpoint_epoch32_63.pt\n",
            "\n",
            "Starting epoch 64/100\n"
          ]
        },
        {
          "name": "stderr",
          "output_type": "stream",
          "text": [
            "Epoch 64/100: 100%|██████████| 420/420 [00:16<00:00, 25.05batch/s]\n",
            "Validation: 100%|██████████| 53/53 [00:00<00:00, 99.65batch/s] \n"
          ]
        },
        {
          "name": "stdout",
          "output_type": "stream",
          "text": [
            "Epoch 64/100, Loss: 0.0326, Validation Loss: 0.7429, BLEU: 40.7548, METEOR: 0.6682\n",
            "Checkpoint saved to ./checkpoints/checkpoint_epoch32_64.pt\n",
            "\n",
            "Starting epoch 65/100\n"
          ]
        },
        {
          "name": "stderr",
          "output_type": "stream",
          "text": [
            "Epoch 65/100: 100%|██████████| 420/420 [00:16<00:00, 24.98batch/s]\n",
            "Validation: 100%|██████████| 53/53 [00:00<00:00, 85.97batch/s]\n"
          ]
        },
        {
          "name": "stdout",
          "output_type": "stream",
          "text": [
            "Epoch 65/100, Loss: 0.0326, Validation Loss: 0.7575, BLEU: 40.7262, METEOR: 0.6712\n",
            "Checkpoint saved to ./checkpoints/checkpoint_epoch32_65.pt\n",
            "\n",
            "Starting epoch 66/100\n"
          ]
        },
        {
          "name": "stderr",
          "output_type": "stream",
          "text": [
            "Epoch 66/100: 100%|██████████| 420/420 [00:16<00:00, 24.93batch/s]\n",
            "Validation: 100%|██████████| 53/53 [00:00<00:00, 98.58batch/s] \n"
          ]
        },
        {
          "name": "stdout",
          "output_type": "stream",
          "text": [
            "Epoch 66/100, Loss: 0.0323, Validation Loss: 0.7528, BLEU: 40.9957, METEOR: 0.6730\n",
            "Checkpoint saved to ./checkpoints/checkpoint_epoch32_66.pt\n",
            "\n",
            "Starting epoch 67/100\n"
          ]
        },
        {
          "name": "stderr",
          "output_type": "stream",
          "text": [
            "Epoch 67/100: 100%|██████████| 420/420 [00:17<00:00, 24.30batch/s]\n",
            "Validation: 100%|██████████| 53/53 [00:00<00:00, 86.56batch/s]\n"
          ]
        },
        {
          "name": "stdout",
          "output_type": "stream",
          "text": [
            "Epoch 67/100, Loss: 0.0325, Validation Loss: 0.7510, BLEU: 40.7022, METEOR: 0.6711\n",
            "Checkpoint saved to ./checkpoints/checkpoint_epoch32_67.pt\n",
            "\n",
            "Starting epoch 68/100\n"
          ]
        },
        {
          "name": "stderr",
          "output_type": "stream",
          "text": [
            "Epoch 68/100: 100%|██████████| 420/420 [00:16<00:00, 24.88batch/s]\n",
            "Validation: 100%|██████████| 53/53 [00:00<00:00, 96.55batch/s]\n"
          ]
        },
        {
          "name": "stdout",
          "output_type": "stream",
          "text": [
            "Epoch 68/100, Loss: 0.0313, Validation Loss: 0.7609, BLEU: 41.1313, METEOR: 0.6722\n",
            "Checkpoint saved to ./checkpoints/checkpoint_epoch32_68.pt\n",
            "\n",
            "Starting epoch 69/100\n"
          ]
        },
        {
          "name": "stderr",
          "output_type": "stream",
          "text": [
            "Epoch 69/100: 100%|██████████| 420/420 [00:16<00:00, 24.82batch/s]\n",
            "Validation: 100%|██████████| 53/53 [00:00<00:00, 95.73batch/s]\n"
          ]
        },
        {
          "name": "stdout",
          "output_type": "stream",
          "text": [
            "Epoch 69/100, Loss: 0.0322, Validation Loss: 0.7568, BLEU: 40.9654, METEOR: 0.6732\n",
            "Checkpoint saved to ./checkpoints/checkpoint_epoch32_69.pt\n",
            "\n",
            "Starting epoch 70/100\n"
          ]
        },
        {
          "name": "stderr",
          "output_type": "stream",
          "text": [
            "Epoch 70/100: 100%|██████████| 420/420 [00:16<00:00, 24.82batch/s]\n",
            "Validation: 100%|██████████| 53/53 [00:00<00:00, 94.57batch/s]\n"
          ]
        },
        {
          "name": "stdout",
          "output_type": "stream",
          "text": [
            "Epoch 70/100, Loss: 0.0317, Validation Loss: 0.7592, BLEU: 41.2413, METEOR: 0.6709\n",
            "Checkpoint saved to ./checkpoints/checkpoint_epoch32_70.pt\n",
            "\n",
            "Starting epoch 71/100\n"
          ]
        },
        {
          "name": "stderr",
          "output_type": "stream",
          "text": [
            "Epoch 71/100: 100%|██████████| 420/420 [00:17<00:00, 24.40batch/s]\n",
            "Validation: 100%|██████████| 53/53 [00:00<00:00, 93.37batch/s]\n"
          ]
        },
        {
          "name": "stdout",
          "output_type": "stream",
          "text": [
            "Epoch 71/100, Loss: 0.0316, Validation Loss: 0.7640, BLEU: 40.3483, METEOR: 0.6693\n",
            "Checkpoint saved to ./checkpoints/checkpoint_epoch32_71.pt\n",
            "\n",
            "Starting epoch 72/100\n"
          ]
        },
        {
          "name": "stderr",
          "output_type": "stream",
          "text": [
            "Epoch 72/100: 100%|██████████| 420/420 [00:17<00:00, 24.58batch/s]\n",
            "Validation: 100%|██████████| 53/53 [00:00<00:00, 94.54batch/s]\n"
          ]
        },
        {
          "name": "stdout",
          "output_type": "stream",
          "text": [
            "Epoch 72/100, Loss: 0.0309, Validation Loss: 0.7670, BLEU: 40.6234, METEOR: 0.6717\n",
            "Checkpoint saved to ./checkpoints/checkpoint_epoch32_72.pt\n",
            "\n",
            "Starting epoch 73/100\n"
          ]
        },
        {
          "name": "stderr",
          "output_type": "stream",
          "text": [
            "Epoch 73/100: 100%|██████████| 420/420 [00:16<00:00, 24.79batch/s]\n",
            "Validation: 100%|██████████| 53/53 [00:00<00:00, 91.60batch/s]\n"
          ]
        },
        {
          "name": "stdout",
          "output_type": "stream",
          "text": [
            "Epoch 73/100, Loss: 0.0306, Validation Loss: 0.7736, BLEU: 40.8695, METEOR: 0.6714\n",
            "Checkpoint saved to ./checkpoints/checkpoint_epoch32_73.pt\n",
            "\n",
            "Starting epoch 74/100\n"
          ]
        },
        {
          "name": "stderr",
          "output_type": "stream",
          "text": [
            "Epoch 74/100: 100%|██████████| 420/420 [00:16<00:00, 24.89batch/s]\n",
            "Validation: 100%|██████████| 53/53 [00:00<00:00, 92.95batch/s]\n"
          ]
        },
        {
          "name": "stdout",
          "output_type": "stream",
          "text": [
            "Epoch 74/100, Loss: 0.0308, Validation Loss: 0.7728, BLEU: 40.8569, METEOR: 0.6714\n",
            "Checkpoint saved to ./checkpoints/checkpoint_epoch32_74.pt\n",
            "\n",
            "Starting epoch 75/100\n"
          ]
        },
        {
          "name": "stderr",
          "output_type": "stream",
          "text": [
            "Epoch 75/100: 100%|██████████| 420/420 [00:16<00:00, 24.78batch/s]\n",
            "Validation: 100%|██████████| 53/53 [00:00<00:00, 85.86batch/s]\n"
          ]
        },
        {
          "name": "stdout",
          "output_type": "stream",
          "text": [
            "Epoch 75/100, Loss: 0.0298, Validation Loss: 0.7753, BLEU: 41.0809, METEOR: 0.6709\n",
            "Checkpoint saved to ./checkpoints/checkpoint_epoch32_75.pt\n",
            "\n",
            "Starting epoch 76/100\n"
          ]
        },
        {
          "name": "stderr",
          "output_type": "stream",
          "text": [
            "Epoch 76/100: 100%|██████████| 420/420 [00:17<00:00, 24.66batch/s]\n",
            "Validation: 100%|██████████| 53/53 [00:00<00:00, 91.72batch/s]\n"
          ]
        },
        {
          "name": "stdout",
          "output_type": "stream",
          "text": [
            "Epoch 76/100, Loss: 0.0301, Validation Loss: 0.7775, BLEU: 41.5258, METEOR: 0.6768\n",
            "Checkpoint saved to ./checkpoints/checkpoint_epoch32_76.pt\n",
            "\n",
            "Starting epoch 77/100\n"
          ]
        },
        {
          "name": "stderr",
          "output_type": "stream",
          "text": [
            "Epoch 77/100: 100%|██████████| 420/420 [00:17<00:00, 24.45batch/s]\n",
            "Validation: 100%|██████████| 53/53 [00:00<00:00, 93.22batch/s]\n"
          ]
        },
        {
          "name": "stdout",
          "output_type": "stream",
          "text": [
            "Epoch 77/100, Loss: 0.0298, Validation Loss: 0.7813, BLEU: 40.5904, METEOR: 0.6722\n",
            "Checkpoint saved to ./checkpoints/checkpoint_epoch32_77.pt\n",
            "\n",
            "Starting epoch 78/100\n"
          ]
        },
        {
          "name": "stderr",
          "output_type": "stream",
          "text": [
            "Epoch 78/100: 100%|██████████| 420/420 [00:17<00:00, 24.55batch/s]\n",
            "Validation: 100%|██████████| 53/53 [00:00<00:00, 95.33batch/s] \n"
          ]
        },
        {
          "name": "stdout",
          "output_type": "stream",
          "text": [
            "Epoch 78/100, Loss: 0.0296, Validation Loss: 0.7770, BLEU: 40.8173, METEOR: 0.6730\n",
            "Checkpoint saved to ./checkpoints/checkpoint_epoch32_78.pt\n",
            "\n",
            "Starting epoch 79/100\n"
          ]
        },
        {
          "name": "stderr",
          "output_type": "stream",
          "text": [
            "Epoch 79/100: 100%|██████████| 420/420 [00:16<00:00, 25.09batch/s]\n",
            "Validation: 100%|██████████| 53/53 [00:00<00:00, 101.75batch/s]\n"
          ]
        },
        {
          "name": "stdout",
          "output_type": "stream",
          "text": [
            "Epoch 79/100, Loss: 0.0296, Validation Loss: 0.7765, BLEU: 40.4522, METEOR: 0.6712\n",
            "Checkpoint saved to ./checkpoints/checkpoint_epoch32_79.pt\n",
            "\n",
            "Starting epoch 80/100\n"
          ]
        },
        {
          "name": "stderr",
          "output_type": "stream",
          "text": [
            "Epoch 80/100: 100%|██████████| 420/420 [00:16<00:00, 24.83batch/s]\n",
            "Validation: 100%|██████████| 53/53 [00:00<00:00, 93.79batch/s]\n"
          ]
        },
        {
          "name": "stdout",
          "output_type": "stream",
          "text": [
            "Epoch 80/100, Loss: 0.0294, Validation Loss: 0.7758, BLEU: 41.4105, METEOR: 0.6745\n",
            "Checkpoint saved to ./checkpoints/checkpoint_epoch32_80.pt\n",
            "\n",
            "Starting epoch 81/100\n"
          ]
        },
        {
          "name": "stderr",
          "output_type": "stream",
          "text": [
            "Epoch 81/100: 100%|██████████| 420/420 [00:17<00:00, 24.53batch/s]\n",
            "Validation: 100%|██████████| 53/53 [00:00<00:00, 87.41batch/s]\n"
          ]
        },
        {
          "name": "stdout",
          "output_type": "stream",
          "text": [
            "Epoch 81/100, Loss: 0.0289, Validation Loss: 0.7839, BLEU: 41.1834, METEOR: 0.6740\n",
            "Checkpoint saved to ./checkpoints/checkpoint_epoch32_81.pt\n",
            "\n",
            "Starting epoch 82/100\n"
          ]
        },
        {
          "name": "stderr",
          "output_type": "stream",
          "text": [
            "Epoch 82/100: 100%|██████████| 420/420 [00:17<00:00, 24.61batch/s]\n",
            "Validation: 100%|██████████| 53/53 [00:00<00:00, 101.82batch/s]\n"
          ]
        },
        {
          "name": "stdout",
          "output_type": "stream",
          "text": [
            "Epoch 82/100, Loss: 0.0291, Validation Loss: 0.7844, BLEU: 41.7582, METEOR: 0.6761\n",
            "Checkpoint saved to ./checkpoints/checkpoint_epoch32_82.pt\n",
            "\n",
            "Starting epoch 83/100\n"
          ]
        },
        {
          "name": "stderr",
          "output_type": "stream",
          "text": [
            "Epoch 83/100: 100%|██████████| 420/420 [00:17<00:00, 23.94batch/s]\n",
            "Validation: 100%|██████████| 53/53 [00:00<00:00, 80.44batch/s]\n"
          ]
        },
        {
          "name": "stdout",
          "output_type": "stream",
          "text": [
            "Epoch 83/100, Loss: 0.0288, Validation Loss: 0.7908, BLEU: 41.5114, METEOR: 0.6762\n",
            "Checkpoint saved to ./checkpoints/checkpoint_epoch32_83.pt\n",
            "\n",
            "Starting epoch 84/100\n"
          ]
        },
        {
          "name": "stderr",
          "output_type": "stream",
          "text": [
            "Epoch 84/100: 100%|██████████| 420/420 [00:16<00:00, 24.74batch/s]\n",
            "Validation: 100%|██████████| 53/53 [00:00<00:00, 87.93batch/s]\n"
          ]
        },
        {
          "name": "stdout",
          "output_type": "stream",
          "text": [
            "Epoch 84/100, Loss: 0.0285, Validation Loss: 0.7913, BLEU: 41.8147, METEOR: 0.6768\n",
            "Checkpoint saved to ./checkpoints/checkpoint_epoch32_84.pt\n",
            "\n",
            "Starting epoch 85/100\n"
          ]
        },
        {
          "name": "stderr",
          "output_type": "stream",
          "text": [
            "Epoch 85/100: 100%|██████████| 420/420 [00:17<00:00, 24.46batch/s]\n",
            "Validation: 100%|██████████| 53/53 [00:00<00:00, 89.92batch/s]\n"
          ]
        },
        {
          "name": "stdout",
          "output_type": "stream",
          "text": [
            "Epoch 85/100, Loss: 0.0284, Validation Loss: 0.7841, BLEU: 41.5173, METEOR: 0.6766\n",
            "Checkpoint saved to ./checkpoints/checkpoint_epoch32_85.pt\n",
            "\n",
            "Starting epoch 86/100\n"
          ]
        },
        {
          "name": "stderr",
          "output_type": "stream",
          "text": [
            "Epoch 86/100: 100%|██████████| 420/420 [00:17<00:00, 24.69batch/s]\n",
            "Validation: 100%|██████████| 53/53 [00:00<00:00, 102.28batch/s]\n"
          ]
        },
        {
          "name": "stdout",
          "output_type": "stream",
          "text": [
            "Epoch 86/100, Loss: 0.0281, Validation Loss: 0.7923, BLEU: 41.3057, METEOR: 0.6748\n",
            "Checkpoint saved to ./checkpoints/checkpoint_epoch32_86.pt\n",
            "\n",
            "Starting epoch 87/100\n"
          ]
        },
        {
          "name": "stderr",
          "output_type": "stream",
          "text": [
            "Epoch 87/100: 100%|██████████| 420/420 [00:16<00:00, 25.20batch/s]\n",
            "Validation: 100%|██████████| 53/53 [00:00<00:00, 97.65batch/s] \n"
          ]
        },
        {
          "name": "stdout",
          "output_type": "stream",
          "text": [
            "Epoch 87/100, Loss: 0.0282, Validation Loss: 0.7963, BLEU: 41.6103, METEOR: 0.6776\n",
            "Checkpoint saved to ./checkpoints/checkpoint_epoch32_87.pt\n",
            "\n",
            "Starting epoch 88/100\n"
          ]
        },
        {
          "name": "stderr",
          "output_type": "stream",
          "text": [
            "Epoch 88/100: 100%|██████████| 420/420 [00:16<00:00, 24.95batch/s]\n",
            "Validation: 100%|██████████| 53/53 [00:00<00:00, 101.46batch/s]\n"
          ]
        },
        {
          "name": "stdout",
          "output_type": "stream",
          "text": [
            "Epoch 88/100, Loss: 0.0278, Validation Loss: 0.7920, BLEU: 40.8441, METEOR: 0.6738\n",
            "Checkpoint saved to ./checkpoints/checkpoint_epoch32_88.pt\n",
            "\n",
            "Starting epoch 89/100\n"
          ]
        },
        {
          "name": "stderr",
          "output_type": "stream",
          "text": [
            "Epoch 89/100: 100%|██████████| 420/420 [00:16<00:00, 24.84batch/s]\n",
            "Validation: 100%|██████████| 53/53 [00:00<00:00, 99.54batch/s]\n"
          ]
        },
        {
          "name": "stdout",
          "output_type": "stream",
          "text": [
            "Epoch 89/100, Loss: 0.0276, Validation Loss: 0.7977, BLEU: 41.9952, METEOR: 0.6777\n",
            "Checkpoint saved to ./checkpoints/checkpoint_epoch32_89.pt\n",
            "\n",
            "Starting epoch 90/100\n"
          ]
        },
        {
          "name": "stderr",
          "output_type": "stream",
          "text": [
            "Epoch 90/100: 100%|██████████| 420/420 [00:16<00:00, 24.95batch/s]\n",
            "Validation: 100%|██████████| 53/53 [00:00<00:00, 102.48batch/s]\n"
          ]
        },
        {
          "name": "stdout",
          "output_type": "stream",
          "text": [
            "Epoch 90/100, Loss: 0.0273, Validation Loss: 0.7970, BLEU: 41.2869, METEOR: 0.6757\n",
            "Checkpoint saved to ./checkpoints/checkpoint_epoch32_90.pt\n",
            "\n",
            "Starting epoch 91/100\n"
          ]
        },
        {
          "name": "stderr",
          "output_type": "stream",
          "text": [
            "Epoch 91/100: 100%|██████████| 420/420 [00:16<00:00, 25.03batch/s]\n",
            "Validation: 100%|██████████| 53/53 [00:00<00:00, 101.99batch/s]\n"
          ]
        },
        {
          "name": "stdout",
          "output_type": "stream",
          "text": [
            "Epoch 91/100, Loss: 0.0273, Validation Loss: 0.7965, BLEU: 41.3548, METEOR: 0.6753\n",
            "Checkpoint saved to ./checkpoints/checkpoint_epoch32_91.pt\n",
            "\n",
            "Starting epoch 92/100\n"
          ]
        },
        {
          "name": "stderr",
          "output_type": "stream",
          "text": [
            "Epoch 92/100: 100%|██████████| 420/420 [00:16<00:00, 24.77batch/s]\n",
            "Validation: 100%|██████████| 53/53 [00:00<00:00, 94.63batch/s] \n"
          ]
        },
        {
          "name": "stdout",
          "output_type": "stream",
          "text": [
            "Epoch 92/100, Loss: 0.0273, Validation Loss: 0.7967, BLEU: 41.8265, METEOR: 0.6787\n",
            "Checkpoint saved to ./checkpoints/checkpoint_epoch32_92.pt\n",
            "\n",
            "Starting epoch 93/100\n"
          ]
        },
        {
          "name": "stderr",
          "output_type": "stream",
          "text": [
            "Epoch 93/100: 100%|██████████| 420/420 [00:17<00:00, 24.65batch/s]\n",
            "Validation: 100%|██████████| 53/53 [00:00<00:00, 98.48batch/s]\n"
          ]
        },
        {
          "name": "stdout",
          "output_type": "stream",
          "text": [
            "Epoch 93/100, Loss: 0.0271, Validation Loss: 0.7957, BLEU: 41.6542, METEOR: 0.6761\n",
            "Checkpoint saved to ./checkpoints/checkpoint_epoch32_93.pt\n",
            "\n",
            "Starting epoch 94/100\n"
          ]
        },
        {
          "name": "stderr",
          "output_type": "stream",
          "text": [
            "Epoch 94/100: 100%|██████████| 420/420 [00:17<00:00, 24.58batch/s]\n",
            "Validation: 100%|██████████| 53/53 [00:00<00:00, 104.71batch/s]\n"
          ]
        },
        {
          "name": "stdout",
          "output_type": "stream",
          "text": [
            "Epoch 94/100, Loss: 0.0267, Validation Loss: 0.8009, BLEU: 41.7836, METEOR: 0.6771\n",
            "Checkpoint saved to ./checkpoints/checkpoint_epoch32_94.pt\n",
            "\n",
            "Starting epoch 95/100\n"
          ]
        },
        {
          "name": "stderr",
          "output_type": "stream",
          "text": [
            "Epoch 95/100: 100%|██████████| 420/420 [00:16<00:00, 25.18batch/s]\n",
            "Validation: 100%|██████████| 53/53 [00:00<00:00, 95.53batch/s]\n"
          ]
        },
        {
          "name": "stdout",
          "output_type": "stream",
          "text": [
            "Epoch 95/100, Loss: 0.0264, Validation Loss: 0.8017, BLEU: 41.6112, METEOR: 0.6772\n",
            "Checkpoint saved to ./checkpoints/checkpoint_epoch32_95.pt\n",
            "\n",
            "Starting epoch 96/100\n"
          ]
        },
        {
          "name": "stderr",
          "output_type": "stream",
          "text": [
            "Epoch 96/100: 100%|██████████| 420/420 [00:17<00:00, 24.32batch/s]\n",
            "Validation: 100%|██████████| 53/53 [00:00<00:00, 103.63batch/s]\n"
          ]
        },
        {
          "name": "stdout",
          "output_type": "stream",
          "text": [
            "Epoch 96/100, Loss: 0.0265, Validation Loss: 0.8040, BLEU: 41.4766, METEOR: 0.6767\n",
            "Checkpoint saved to ./checkpoints/checkpoint_epoch32_96.pt\n",
            "\n",
            "Starting epoch 97/100\n"
          ]
        },
        {
          "name": "stderr",
          "output_type": "stream",
          "text": [
            "Epoch 97/100: 100%|██████████| 420/420 [00:16<00:00, 25.14batch/s]\n",
            "Validation: 100%|██████████| 53/53 [00:00<00:00, 103.30batch/s]\n"
          ]
        },
        {
          "name": "stdout",
          "output_type": "stream",
          "text": [
            "Epoch 97/100, Loss: 0.0257, Validation Loss: 0.8065, BLEU: 41.5380, METEOR: 0.6769\n",
            "Checkpoint saved to ./checkpoints/checkpoint_epoch32_97.pt\n",
            "\n",
            "Starting epoch 98/100\n"
          ]
        },
        {
          "name": "stderr",
          "output_type": "stream",
          "text": [
            "Epoch 98/100: 100%|██████████| 420/420 [00:16<00:00, 24.95batch/s]\n",
            "Validation: 100%|██████████| 53/53 [00:00<00:00, 102.40batch/s]\n"
          ]
        },
        {
          "name": "stdout",
          "output_type": "stream",
          "text": [
            "Epoch 98/100, Loss: 0.0257, Validation Loss: 0.8073, BLEU: 41.5179, METEOR: 0.6767\n",
            "Checkpoint saved to ./checkpoints/checkpoint_epoch32_98.pt\n",
            "\n",
            "Starting epoch 99/100\n"
          ]
        },
        {
          "name": "stderr",
          "output_type": "stream",
          "text": [
            "Epoch 99/100: 100%|██████████| 420/420 [00:16<00:00, 25.13batch/s]\n",
            "Validation: 100%|██████████| 53/53 [00:00<00:00, 101.87batch/s]\n"
          ]
        },
        {
          "name": "stdout",
          "output_type": "stream",
          "text": [
            "Epoch 99/100, Loss: 0.0260, Validation Loss: 0.8079, BLEU: 41.5178, METEOR: 0.6769\n",
            "Checkpoint saved to ./checkpoints/checkpoint_epoch32_99.pt\n",
            "\n",
            "Starting epoch 100/100\n"
          ]
        },
        {
          "name": "stderr",
          "output_type": "stream",
          "text": [
            "Epoch 100/100: 100%|██████████| 420/420 [00:16<00:00, 24.94batch/s]\n",
            "Validation: 100%|██████████| 53/53 [00:00<00:00, 102.54batch/s]\n"
          ]
        },
        {
          "name": "stdout",
          "output_type": "stream",
          "text": [
            "Epoch 100/100, Loss: 0.0259, Validation Loss: 0.8078, BLEU: 41.5082, METEOR: 0.6768\n",
            "Checkpoint saved to ./checkpoints/checkpoint_epoch32_100.pt\n"
          ]
        }
      ],
      "source": [
        "import numpy as np\n",
        "import sacrebleu\n",
        "from nltk.translate.meteor_score import meteor_score\n",
        "from tqdm import tqdm\n",
        "import torch\n",
        "\n",
        "# 손실 값과 성능 지표를 저장할 리스트 초기화\n",
        "train_losses = []\n",
        "val_losses = []\n",
        "bleu_scores = []\n",
        "meteor_scores = []\n",
        "\n",
        "device = torch.device(\"cuda\" if torch.cuda.is_available() else \"cpu\")  # GPU 사용 설정\n",
        "model.to(device)  # 모델을 GPU로 이동\n",
        "\n",
        "for epoch in range(num_epochs):\n",
        "    model.train()  # 학습 모드로 전환\n",
        "    total_loss = 0\n",
        "\n",
        "    print(f'\\nStarting epoch {epoch+1}/{num_epochs}')\n",
        "\n",
        "    # tqdm을 사용하여 배치 진행 상태 표시\n",
        "    for batch in tqdm(train_dataloader, desc=f'Epoch {epoch+1}/{num_epochs}', unit='batch'):\n",
        "        optimizer.zero_grad()  # 기울기 초기화\n",
        "\n",
        "        # 입력 데이터를 GPU로 이동\n",
        "        input_ids = batch['input_ids'].to(device)\n",
        "        attention_mask = batch['attention_mask'].to(device)\n",
        "        labels = batch['labels'].to(device)\n",
        "\n",
        "        # 모델에 데이터 전달\n",
        "        outputs = model(input_ids=input_ids, attention_mask=attention_mask, labels=labels)\n",
        "        loss = outputs.loss\n",
        "\n",
        "        loss.backward()  # 역전파\n",
        "        optimizer.step()  # 옵티마이저 스텝\n",
        "        scheduler.step()  # 학습률 스케줄러 스텝\n",
        "\n",
        "        total_loss += loss.item()\n",
        "\n",
        "    avg_loss = total_loss / len(train_dataloader)\n",
        "    train_losses.append(avg_loss)  # 훈련 손실 저장\n",
        "\n",
        "    # Epoch 종료 후 검증 데이터셋에서 성능 평가\n",
        "    model.eval()  # 평가 모드로 전환\n",
        "    total_val_loss = 0\n",
        "    predictions = []\n",
        "    references = []\n",
        "\n",
        "    with torch.no_grad():\n",
        "        # tqdm을 사용하여 검증 배치 진행 상태 표시\n",
        "        for batch in tqdm(val_dataloader, desc='Validation', unit='batch'):\n",
        "            # 입력 데이터를 GPU로 이동\n",
        "            input_ids = batch['input_ids'].to(device)\n",
        "            attention_mask = batch['attention_mask'].to(device)\n",
        "            labels = batch['labels'].to(device)\n",
        "\n",
        "            outputs = model(input_ids=input_ids, attention_mask=attention_mask, labels=labels)\n",
        "            loss = outputs.loss\n",
        "            total_val_loss += loss.item()\n",
        "\n",
        "            # 예측 결과 디코딩\n",
        "            decoded_preds = tokenizer.batch_decode(outputs.logits.argmax(dim=-1).tolist(), skip_special_tokens=True)\n",
        "\n",
        "            # 실제 레이블 디코딩\n",
        "            decoded_labels = []\n",
        "            for label in labels:\n",
        "                label_ids = label[label != tokenizer.pad_token_id].tolist()\n",
        "                # 유효한 토큰 ID 범위 내에서만 필터링\n",
        "                valid_label_ids = [token_id for token_id in label_ids if 0 <= token_id < tokenizer.vocab_size]\n",
        "                decoded_label = tokenizer.decode(valid_label_ids, skip_special_tokens=True)\n",
        "                decoded_labels.append(decoded_label)\n",
        "\n",
        "            # 예측 결과와 참조 번역 수집\n",
        "            predictions.extend(decoded_preds)\n",
        "            references.extend(decoded_labels)\n",
        "\n",
        "    avg_val_loss = total_val_loss / len(val_dataloader)\n",
        "    val_losses.append(avg_val_loss)  # 검증 손실 저장\n",
        "\n",
        "    # BLEU 점수 계산\n",
        "    bleu_score_value = sacrebleu.corpus_bleu(predictions, [references])\n",
        "    bleu_scores.append(bleu_score_value.score)\n",
        "\n",
        "    # METEOR 점수 계산 (참조 및 예측을 토큰화하여 전달)\n",
        "    meteor_score_value = np.mean([meteor_score([ref.split()], pred.split()) for ref, pred in zip(references, predictions)])\n",
        "    meteor_scores.append(meteor_score_value)\n",
        "\n",
        "    print(f'Epoch {epoch+1}/{num_epochs}, Loss: {avg_loss:.4f}, Validation Loss: {avg_val_loss:.4f}, BLEU: {bleu_score_value.score:.4f}, METEOR: {meteor_score_value:.4f}')\n",
        "\n",
        "    # 체크포인트 저장\n",
        "    checkpoint_path = os.path.join(checkpoint_dir, f'checkpoint_epoch32_{epoch+1}.pt')\n",
        "    torch.save({\n",
        "        'epoch': epoch + 1,\n",
        "        'model_state_dict': model.state_dict(),\n",
        "        'optimizer_state_dict': optimizer.state_dict(),\n",
        "        'scheduler_state_dict': scheduler.state_dict(),\n",
        "        'loss': avg_loss,\n",
        "        'val_loss': avg_val_loss,\n",
        "        'bleu_score': bleu_score_value.score,\n",
        "        'meteor_score': meteor_score_value\n",
        "    }, checkpoint_path)\n",
        "\n",
        "    print(f'Checkpoint saved to {checkpoint_path}')"
      ]
    },
    {
      "cell_type": "code",
      "execution_count": 21,
      "metadata": {
        "colab": {
          "base_uri": "https://localhost:8080/",
          "height": 564
        },
        "id": "TgSCHh7ytJwE",
        "outputId": "b6f4508f-677d-47a5-d5c2-ea2a178b7de8"
      },
      "outputs": [
        {
          "data": {
            "image/png": "[encoded data removed]",
            "text/plain": [
              "<Figure size 1200x600 with 1 Axes>"
            ]
          },
          "metadata": {},
          "output_type": "display_data"
        }
      ],
      "source": [
        "# 손실 값 시각화\n",
        "import matplotlib.pyplot as plt\n",
        "\n",
        "# 손실 값 시각화\n",
        "plt.figure(figsize=(12, 6))\n",
        "plt.plot(range(1, len(train_losses) + 1), train_losses, label='Training Loss', marker='o')\n",
        "plt.plot(range(1, len(val_losses) + 1), val_losses, label='Validation Loss', marker='o')\n",
        "plt.xlabel('Epoch')\n",
        "plt.ylabel('Loss')\n",
        "plt.title('Training and Validation Loss')\n",
        "plt.legend()\n",
        "plt.ylim([0, 1])\n",
        "plt.grid(True)\n",
        "plt.show()"
      ]
    },
    {
      "cell_type": "code",
      "execution_count": 22,
      "metadata": {},
      "outputs": [
        {
          "data": {
            "image/png": "[encoded data removed]",
            "text/plain": [
              "<Figure size 1200x600 with 1 Axes>"
            ]
          },
          "metadata": {},
          "output_type": "display_data"
        }
      ],
      "source": [
        "# BLEU 점수 시각화\n",
        "plt.figure(figsize=(12, 6))\n",
        "plt.plot(range(1, len(bleu_scores) + 1), bleu_scores, label='BLEU Score', marker='o', color='orange')\n",
        "plt.xlabel('Epoch')\n",
        "plt.ylabel('BLEU Score')\n",
        "plt.title('BLEU Score by Epoch')\n",
        "plt.legend()\n",
        "plt.grid(True)\n",
        "\n",
        "# 전체 시각화 출력\n",
        "plt.tight_layout()\n",
        "plt.show()"
      ]
    },
    {
      "cell_type": "code",
      "execution_count": 23,
      "metadata": {},
      "outputs": [
        {
          "data": {
            "image/png": "[encoded data removed]",
            "text/plain": [
              "<Figure size 1200x600 with 1 Axes>"
            ]
          },
          "metadata": {},
          "output_type": "display_data"
        }
      ],
      "source": [
        "# BLEU 점수 시각화\n",
        "plt.figure(figsize=(12, 6))\n",
        "plt.plot(range(1, len(meteor_scores) + 1), meteor_scores, label='METEOR Score', marker='o', color='BLUE')\n",
        "plt.xlabel('Epoch')\n",
        "plt.ylabel('METEOR Score')\n",
        "plt.title('METEOR Score by Epoch')\n",
        "plt.legend()\n",
        "plt.grid(True)\n",
        "\n",
        "# 전체 시각화 출력\n",
        "plt.tight_layout()\n",
        "plt.show()"
      ]
    },
    {
      "cell_type": "markdown",
      "metadata": {
        "id": "FlokjiyXEZDu"
      },
      "source": [
        "## 5. test"
      ]
    },
    {
      "cell_type": "code",
      "execution_count": 24,
      "metadata": {},
      "outputs": [
        {
          "data": {
            "text/plain": [
              "(7, 5, 9)"
            ]
          },
          "execution_count": 24,
          "metadata": {},
          "output_type": "execute_result"
        }
      ],
      "source": [
        "#train_losses\n",
        "(np.argmin(val_losses)+1, np.argmax(bleu_scores)+1, np.argmax(meteor_scores)+1)"
      ]
    },
    {
      "cell_type": "code",
      "execution_count": 27,
      "metadata": {},
      "outputs": [
        {
          "name": "stderr",
          "output_type": "stream",
          "text": [
            "/tmp/ipykernel_9940/959324368.py:3: FutureWarning: You are using `torch.load` with `weights_only=False` (the current default value), which uses the default pickle module implicitly. It is possible to construct malicious pickle data which will execute arbitrary code during unpickling (See https://github.com/pytorch/pytorch/blob/main/SECURITY.md#untrusted-models for more details). In a future release, the default value for `weights_only` will be flipped to `True`. This limits the functions that could be executed during unpickling. Arbitrary objects will no longer be allowed to be loaded via this mode unless they are explicitly allowlisted by the user via `torch.serialization.add_safe_globals`. We recommend you start setting `weights_only=True` for any use case where you don't have full control of the loaded file. Please open an issue on GitHub for any issues related to this experimental feature.\n",
            "  checkpoint = torch.load(checkpoint_path)\n"
          ]
        }
      ],
      "source": [
        "# 체크포인트 로드\n",
        "checkpoint_path = './checkpoints/checkpoint_epoch_30.pt'\n",
        "checkpoint = torch.load(checkpoint_path)\n",
        "model.load_state_dict(checkpoint['model_state_dict'])\n",
        "optimizer.load_state_dict(checkpoint['optimizer_state_dict'])\n",
        "scheduler.load_state_dict(checkpoint['scheduler_state_dict'])"
      ]
    },
    {
      "cell_type": "code",
      "execution_count": 29,
      "metadata": {},
      "outputs": [
        {
          "name": "stderr",
          "output_type": "stream",
          "text": [
            "Evaluating: 100%|██████████| 53/53 [00:04<00:00, 10.88it/s]"
          ]
        },
        {
          "name": "stdout",
          "output_type": "stream",
          "text": [
            "BLEU score: 33.2993\n",
            "METEOR score: 0.2736\n"
          ]
        },
        {
          "name": "stderr",
          "output_type": "stream",
          "text": [
            "\n"
          ]
        }
      ],
      "source": [
        "import torch\n",
        "import sacrebleu\n",
        "from tqdm import tqdm\n",
        "import nltk\n",
        "from nltk.translate.meteor_score import meteor_score\n",
        "\n",
        "# 모델을 GPU로 이동\n",
        "model = model.to(device)\n",
        "\n",
        "# 모델을 평가 모드로 설정\n",
        "model.eval()\n",
        "\n",
        "# 예측 및 참조 번역 수집\n",
        "predictions = []\n",
        "references = []\n",
        "meteor_scores = []\n",
        "\n",
        "with torch.no_grad():\n",
        "    for batch in tqdm(test_dataloader, desc=\"Evaluating\"):\n",
        "        # 입력 데이터를 GPU로 이동\n",
        "        input_ids = batch['input_ids'].to(device)\n",
        "        attention_mask = batch['attention_mask'].to(device)\n",
        "        labels = batch['labels'].to(device)\n",
        "\n",
        "        # 모델에 데이터 전달\n",
        "        outputs = model.generate(\n",
        "            input_ids=input_ids,\n",
        "            attention_mask=attention_mask,\n",
        "            max_length=256,  # 적절한 max_length 설정\n",
        "            length_penalty=2.0,  # 번역 길이 조절\n",
        "            num_beams=4,  # 빔 서치의 수\n",
        "            early_stopping=True\n",
        "        )\n",
        "\n",
        "        # 예측 결과 디코딩\n",
        "        decoded_preds = tokenizer.batch_decode(outputs, skip_special_tokens=True)\n",
        "\n",
        "        # 실제 레이블 디코딩\n",
        "        decoded_labels = []\n",
        "        for label in labels:\n",
        "            label_ids = label[label != tokenizer.pad_token_id].tolist()\n",
        "            if label_ids:\n",
        "                try:\n",
        "                    decoded_label = tokenizer.decode(label_ids, skip_special_tokens=True)\n",
        "                except OverflowError:\n",
        "                    decoded_label = \"[UNK]\"  # Unknown token으로 처리\n",
        "                decoded_labels.append(decoded_label)\n",
        "            else:\n",
        "                decoded_labels.append('')  # 빈 문자열로 처리\n",
        "\n",
        "        # 예측 결과와 참조 번역 수집\n",
        "        predictions.extend(decoded_preds)\n",
        "        references.extend(decoded_labels)\n",
        "\n",
        "        # METEOR 점수 계산 (토큰화된 형태로 변환)\n",
        "        for pred, ref in zip(decoded_preds, decoded_labels):\n",
        "            meteor_scores.append(meteor_score([ref.split()], pred.split()))\n",
        "\n",
        "# BLEU 점수 계산\n",
        "bleu_score = sacrebleu.corpus_bleu(predictions, [references])\n",
        "\n",
        "# METEOR 점수 평균 계산\n",
        "avg_meteor_score = sum(meteor_scores) / len(meteor_scores)\n",
        "\n",
        "print(f'BLEU score: {bleu_score.score:.4f}')\n",
        "print(f'METEOR score: {avg_meteor_score:.4f}')\n"
      ]
    },
    {
      "cell_type": "code",
      "execution_count": null,
      "metadata": {
        "id": "EJVZ8gJMM6Z4"
      },
      "outputs": [],
      "source": [
        "# 기본\n",
        "import torch\n",
        "\n",
        "def generate_translation(model, tokenizer, sentences, max_length=50):\n",
        "    model.eval()\n",
        "    translations = []\n",
        "    for sentence in sentences:\n",
        "        # 토큰화 및 텐서 변환\n",
        "        inputs = tokenizer(sentence, return_tensors='pt', truncation=True, padding='max_length', max_length=max_length)\n",
        "\n",
        "        # GPU가 사용 중이면 데이터를 GPU로 이동\n",
        "        input_ids = inputs['input_ids'].to(model.device)\n",
        "        attention_mask = inputs['attention_mask'].to(model.device)\n",
        "\n",
        "        # 모델에 데이터 전달\n",
        "        output_ids = model.generate(\n",
        "            input_ids=input_ids,\n",
        "            attention_mask=attention_mask,\n",
        "            max_length=max_length,\n",
        "            num_beams=5,  # Beam search 설정\n",
        "            early_stopping=True\n",
        "        )\n",
        "\n",
        "        # 디코딩\n",
        "        for output in output_ids:\n",
        "            translation = tokenizer.decode(output, skip_special_tokens=True)\n",
        "            translations.append(translation)\n",
        "\n",
        "    return translations"
      ]
    },
    {
      "cell_type": "code",
      "execution_count": null,
      "metadata": {
        "colab": {
          "base_uri": "https://localhost:8080/"
        },
        "id": "CKavPhDpK6wI",
        "outputId": "f191f845-23ef-47bc-9648-3c00f83e3100"
      },
      "outputs": [
        {
          "name": "stdout",
          "output_type": "stream",
          "text": [
            "['날씨가 더워서 화났다', '목 자주 마시고 싶어']\n"
          ]
        }
      ],
      "source": [
        "# 테스트 문장\n",
        "# test_sentences = [\"날씨 덥다 화 난다.\", \"지금 바쁘다 미래 연락.\"]\n",
        "test_sentences = [\"날씨 덥다 화 난다\", \"목 마르다 물 원하다\"]\n",
        "\n",
        "translations = generate_translation(model, tokenizer, test_sentences)\n",
        "print(translations)"
      ]
    },
    {
      "cell_type": "code",
      "execution_count": null,
      "metadata": {
        "id": "pcajXpGYKVbl"
      },
      "outputs": [],
      "source": [
        "# 앞 문장과 합성해서 뒷 문장 내용 추출\n",
        "\n",
        "def generate_translation(model, tokenizer, sentences, max_length=50):\n",
        "    model.eval()\n",
        "    translations = []\n",
        "\n",
        "    for i, sentence in enumerate(sentences):\n",
        "        if i > 0:\n",
        "            # 이전 번역된 문장을 참조하지 않고 현재 문장만 입력으로 사용\n",
        "            combined_sentence = sentences[i-1] + \" \" + sentence\n",
        "        else:\n",
        "            combined_sentence = sentence\n",
        "\n",
        "        # 토큰화 및 텐서 변환\n",
        "        inputs = tokenizer(combined_sentence, return_tensors='pt', truncation=True, padding='max_length', max_length=max_length)\n",
        "\n",
        "        # GPU가 사용 중이면 데이터를 GPU로 이동\n",
        "        input_ids = inputs['input_ids'].to(model.device)\n",
        "        attention_mask = inputs['attention_mask'].to(model.device)\n",
        "\n",
        "        # 모델에 데이터 전달\n",
        "        output_ids = model.generate(\n",
        "            input_ids=input_ids,\n",
        "            attention_mask=attention_mask,\n",
        "            max_length=max_length,\n",
        "            num_beams=5,  # Beam search 설정\n",
        "            early_stopping=True\n",
        "        )\n",
        "\n",
        "        # 디코딩\n",
        "        translation = tokenizer.decode(output_ids[0], skip_special_tokens=True)\n",
        "        translations.append(translation)\n",
        "\n",
        "    return translations"
      ]
    },
    {
      "cell_type": "code",
      "execution_count": null,
      "metadata": {
        "colab": {
          "base_uri": "https://localhost:8080/"
        },
        "id": "nKJt_oGtOmhx",
        "outputId": "6d018560-e953-453a-b36e-7ece6ee96b1c"
      },
      "outputs": [
        {
          "name": "stdout",
          "output_type": "stream",
          "text": [
            "['날씨가 더워서 화났다', '날씨가 더워서 목이 마르고 싶다']\n"
          ]
        }
      ],
      "source": [
        "# 테스트 문장\n",
        "test_sentences = [\"날씨 덥다 화 난다\", \"목 마르다 물 원하다\"]\n",
        "\n",
        "# 번역 결과 생성\n",
        "translations = generate_translation(model, tokenizer, test_sentences)\n",
        "print(translations)"
      ]
    },
    {
      "cell_type": "code",
      "execution_count": null,
      "metadata": {
        "id": "s7dNPSYTJ09V"
      },
      "outputs": [],
      "source": [
        "# context vector 고려해 문장 생성.. -> 해결 미 완료\n",
        "def generate_translation(model, tokenizer, sentences, max_length=50):\n",
        "    model.eval()\n",
        "    translations = []\n",
        "    context_vector = None\n",
        "\n",
        "    for sentence in sentences:\n",
        "        # 현재 문장만을 토큰화 및 텐서 변환\n",
        "        inputs = tokenizer(sentence, return_tensors='pt', truncation=True, padding='max_length', max_length=max_length)\n",
        "\n",
        "        # GPU가 사용 중이면 데이터를 GPU로 이동하고 Long 타입으로 변환\n",
        "        input_ids = inputs['input_ids'].to(model.device).long()\n",
        "        attention_mask = inputs['attention_mask'].to(model.device).long()\n",
        "\n",
        "        # 문맥 벡터가 있는 경우 이를 입력에 반영\n",
        "        if context_vector is not None:\n",
        "            # 문맥 벡터를 추가할 때, 크기를 맞추기 위해 적절히 변환\n",
        "            context_vector = context_vector.unsqueeze(1)  # [batch_size, 1, hidden_size]\n",
        "\n",
        "            # 문맥 벡터를 다음 문장의 시작으로 사용 (단일 벡터로 시작 부분을 교체)\n",
        "            input_ids = torch.cat([context_vector.squeeze(2).long(), input_ids[:, 1:]], dim=1)\n",
        "            attention_mask = torch.cat([torch.ones_like(context_vector.squeeze(2)), attention_mask[:, 1:]], dim=1)\n",
        "\n",
        "        # 모델에 데이터 전달\n",
        "        outputs = model(input_ids=input_ids, attention_mask=attention_mask)\n",
        "        context_vector = outputs.encoder_last_hidden_state[:, -1, :]  # 인코더의 마지막 히든 상태를 문맥 벡터로 사용\n",
        "\n",
        "        # 텍스트 생성\n",
        "        output_ids = model.generate(\n",
        "            input_ids=input_ids,\n",
        "            attention_mask=attention_mask,\n",
        "            max_length=max_length,\n",
        "            num_beams=5,  # Beam search 설정\n",
        "            early_stopping=True\n",
        "        )\n",
        "\n",
        "        # 디코딩\n",
        "        translation = tokenizer.decode(output_ids[0], skip_special_tokens=True)\n",
        "        translations.append(translation)\n",
        "\n",
        "    return translations"
      ]
    },
    {
      "cell_type": "code",
      "execution_count": null,
      "metadata": {
        "colab": {
          "base_uri": "https://localhost:8080/",
          "height": 325
        },
        "id": "t5ki5SKjLxh8",
        "outputId": "67b41909-8aad-447c-9880-8d298715c870"
      },
      "outputs": [
        {
          "ename": "RuntimeError",
          "evalue": "Tensors must have same number of dimensions: got 3 and 2",
          "output_type": "error",
          "traceback": [
            "\u001b[0;31m---------------------------------------------------------------------------\u001b[0m",
            "\u001b[0;31mRuntimeError\u001b[0m                              Traceback (most recent call last)",
            "\u001b[0;32m<ipython-input-48-fa6ffdfcc867>\u001b[0m in \u001b[0;36m<cell line: 5>\u001b[0;34m()\u001b[0m\n\u001b[1;32m      3\u001b[0m \u001b[0;34m\u001b[0m\u001b[0m\n\u001b[1;32m      4\u001b[0m \u001b[0;31m# 번역 결과 생성\u001b[0m\u001b[0;34m\u001b[0m\u001b[0;34m\u001b[0m\u001b[0m\n\u001b[0;32m----> 5\u001b[0;31m \u001b[0mtranslations\u001b[0m \u001b[0;34m=\u001b[0m \u001b[0mgenerate_translation\u001b[0m\u001b[0;34m(\u001b[0m\u001b[0mmodel\u001b[0m\u001b[0;34m,\u001b[0m \u001b[0mtokenizer\u001b[0m\u001b[0;34m,\u001b[0m \u001b[0mtest_sentences\u001b[0m\u001b[0;34m)\u001b[0m\u001b[0;34m\u001b[0m\u001b[0;34m\u001b[0m\u001b[0m\n\u001b[0m\u001b[1;32m      6\u001b[0m \u001b[0mprint\u001b[0m\u001b[0;34m(\u001b[0m\u001b[0mtranslations\u001b[0m\u001b[0;34m)\u001b[0m\u001b[0;34m\u001b[0m\u001b[0;34m\u001b[0m\u001b[0m\n",
            "\u001b[0;32m<ipython-input-47-ba1d8c2cc71e>\u001b[0m in \u001b[0;36mgenerate_translation\u001b[0;34m(model, tokenizer, sentences, max_length)\u001b[0m\n\u001b[1;32m     18\u001b[0m \u001b[0;34m\u001b[0m\u001b[0m\n\u001b[1;32m     19\u001b[0m             \u001b[0;31m# 문맥 벡터를 다음 문장의 시작으로 사용 (단일 벡터로 시작 부분을 교체)\u001b[0m\u001b[0;34m\u001b[0m\u001b[0;34m\u001b[0m\u001b[0m\n\u001b[0;32m---> 20\u001b[0;31m             \u001b[0minput_ids\u001b[0m \u001b[0;34m=\u001b[0m \u001b[0mtorch\u001b[0m\u001b[0;34m.\u001b[0m\u001b[0mcat\u001b[0m\u001b[0;34m(\u001b[0m\u001b[0;34m[\u001b[0m\u001b[0mcontext_vector\u001b[0m\u001b[0;34m.\u001b[0m\u001b[0msqueeze\u001b[0m\u001b[0;34m(\u001b[0m\u001b[0;36m2\u001b[0m\u001b[0;34m)\u001b[0m\u001b[0;34m.\u001b[0m\u001b[0mlong\u001b[0m\u001b[0;34m(\u001b[0m\u001b[0;34m)\u001b[0m\u001b[0;34m,\u001b[0m \u001b[0minput_ids\u001b[0m\u001b[0;34m[\u001b[0m\u001b[0;34m:\u001b[0m\u001b[0;34m,\u001b[0m \u001b[0;36m1\u001b[0m\u001b[0;34m:\u001b[0m\u001b[0;34m]\u001b[0m\u001b[0;34m]\u001b[0m\u001b[0;34m,\u001b[0m \u001b[0mdim\u001b[0m\u001b[0;34m=\u001b[0m\u001b[0;36m1\u001b[0m\u001b[0;34m)\u001b[0m\u001b[0;34m\u001b[0m\u001b[0;34m\u001b[0m\u001b[0m\n\u001b[0m\u001b[1;32m     21\u001b[0m             \u001b[0mattention_mask\u001b[0m \u001b[0;34m=\u001b[0m \u001b[0mtorch\u001b[0m\u001b[0;34m.\u001b[0m\u001b[0mcat\u001b[0m\u001b[0;34m(\u001b[0m\u001b[0;34m[\u001b[0m\u001b[0mtorch\u001b[0m\u001b[0;34m.\u001b[0m\u001b[0mones_like\u001b[0m\u001b[0;34m(\u001b[0m\u001b[0mcontext_vector\u001b[0m\u001b[0;34m.\u001b[0m\u001b[0msqueeze\u001b[0m\u001b[0;34m(\u001b[0m\u001b[0;36m2\u001b[0m\u001b[0;34m)\u001b[0m\u001b[0;34m)\u001b[0m\u001b[0;34m,\u001b[0m \u001b[0mattention_mask\u001b[0m\u001b[0;34m[\u001b[0m\u001b[0;34m:\u001b[0m\u001b[0;34m,\u001b[0m \u001b[0;36m1\u001b[0m\u001b[0;34m:\u001b[0m\u001b[0;34m]\u001b[0m\u001b[0;34m]\u001b[0m\u001b[0;34m,\u001b[0m \u001b[0mdim\u001b[0m\u001b[0;34m=\u001b[0m\u001b[0;36m1\u001b[0m\u001b[0;34m)\u001b[0m\u001b[0;34m\u001b[0m\u001b[0;34m\u001b[0m\u001b[0m\n\u001b[1;32m     22\u001b[0m \u001b[0;34m\u001b[0m\u001b[0m\n",
            "\u001b[0;31mRuntimeError\u001b[0m: Tensors must have same number of dimensions: got 3 and 2"
          ]
        }
      ],
      "source": [
        "# 테스트 문장\n",
        "test_sentences = [\"날씨 덥다 화 난다\", \"목 마르다 물 원하다\"]\n",
        "\n",
        "# 번역 결과 생성\n",
        "translations = generate_translation(model, tokenizer, test_sentences)\n",
        "print(translations)"
      ]
    },
    {
      "cell_type": "code",
      "execution_count": null,
      "metadata": {
        "id": "z9oNihfKNBsn"
      },
      "outputs": [],
      "source": []
    }
  ],
  "metadata": {
    "accelerator": "GPU",
    "colab": {
      "collapsed_sections": [
        "jHu_KhUYGnO2",
        "_53-BCoVHCJB",
        "XRuAcKP6HKZn"
      ],
      "gpuType": "T4",
      "machine_shape": "hm",
      "provenance": []
    },
    "kernelspec": {
      "display_name": "Python 3",
      "name": "python3"
    },
    "language_info": {
      "codemirror_mode": {
        "name": "ipython",
        "version": 3
      },
      "file_extension": ".py",
      "mimetype": "text/x-python",
      "name": "python",
      "nbconvert_exporter": "python",
      "pygments_lexer": "ipython3",
      "version": "3.12.4"
    }
  },
  "nbformat": 4,
  "nbformat_minor": 0
}
